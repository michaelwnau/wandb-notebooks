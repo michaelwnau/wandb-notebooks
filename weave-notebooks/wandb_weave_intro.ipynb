{
  "nbformat": 4,
  "nbformat_minor": 0,
  "metadata": {
    "colab": {
      "private_outputs": true,
      "provenance": []
    },
    "kernelspec": {
      "name": "python3",
      "display_name": "Python 3"
    },
    "language_info": {
      "name": "python"
    }
  },
  "cells": [
    {
      "cell_type": "code",
      "execution_count": null,
      "metadata": {
        "id": "BOFjxu1GykxN"
      },
      "outputs": [],
      "source": [
        "!pip install weave"
      ]
    },
    {
      "cell_type": "code",
      "source": [
        "from google.colab import userdata\n",
        "\n",
        "# Get each user data value individually\n",
        "oai_token = userdata.get('OAI_Token')\n",
        "wandb_username = userdata.get('WANDB_USERNAME')\n",
        "wandb_token = userdata.get('WANDB_TOKEN')\n",
        "\n",
        "# Print the values or use them as needed\n",
        "print(f\"OAI_Token: {oai_token}\")\n",
        "print(f\"WANDB_USERNAME: {wandb_username}\")\n",
        "print(f\"WANDB_TOKEN: {wandb_token}\")"
      ],
      "metadata": {
        "id": "UBHxRvBG0XGF"
      },
      "execution_count": null,
      "outputs": []
    },
    {
      "source": [
        "import os\n",
        "import weave\n",
        "import json\n",
        "from openai import OpenAI\n",
        "from google.colab import userdata\n",
        "\n",
        "# Get the OpenAI API token from user data outside the function\n",
        "oai_token = userdata.get('OAI_Token')\n",
        "\n",
        "# Set the environment variable using the retrieved token\n",
        "os.environ['OPENAI_API_KEY'] = oai_token  # Use the correct environment variable name 'OPENAI_API_KEY'\n",
        "\n",
        "@weave.op() # 🐝 Decorator to track requests\n",
        "def extract_fruit(sentence: str) -> dict:\n",
        "    # Access the client object directly using the stored token.\n",
        "    # Using `OpenAI(api_key=oai_token)` ensures it's explicitly passed.\n",
        "    client = OpenAI(api_key=oai_token)\n",
        "    system_prompt = \"Parse sentences into a JSON dict with keys: fruit, color and flavor.\"\n",
        "    response = client.chat.completions.create(\n",
        "      model=\"gpt-4o\",\n",
        "      messages=[\n",
        "        {\"role\": \"system\", \"content\": system_prompt},\n",
        "        {\"role\": \"user\", \"content\": sentence}\n",
        "      ],\n",
        "      temperature=0.7,\n",
        "      response_format={\"type\": \"json_object\"}\n",
        "    )\n",
        "    extracted = response.choices[0].message.content\n",
        "    return json.loads(extracted)\n",
        "\n",
        "weave.init('intro-example') # 🐝\n",
        "sentence = \"There are many fruits that were found on the recently discovered planet Goocrux. There are neoskizzles that grow there, which are purple and taste like candy.\"\n",
        "extract_fruit(sentence)"
      ],
      "cell_type": "code",
      "metadata": {
        "id": "We1e9dT82aQl"
      },
      "execution_count": null,
      "outputs": []
    },
    {
      "cell_type": "code",
      "source": [],
      "metadata": {
        "id": "TVv3Zjjxz7om"
      },
      "execution_count": null,
      "outputs": []
    }
  ]
}