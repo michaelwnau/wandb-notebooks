{
  "cells": [
    {
      "cell_type": "code",
      "execution_count": null,
      "metadata": {
        "id": "bQj3PZi-t_jS"
      },
      "outputs": [],
      "source": [
        "%%capture\n",
        "!pip install wandb"
      ]
    },
    {
      "cell_type": "code",
      "execution_count": null,
      "metadata": {
        "id": "fzVNRH-zreGC"
      },
      "outputs": [],
      "source": [
        "import sys\n",
        "import os\n",
        "import copy\n",
        "import matplotlib.pyplot as plt\n",
        "import numpy as np\n",
        "import time\n",
        "import pandas as pd\n",
        "import random\n",
        "\n",
        "import torch\n",
        "import torch.nn as nn\n",
        "import torch.optim as optim\n",
        "import torchvision.datasets as datasets\n",
        "import torchvision.transforms as transforms\n",
        "import torchvision.models as models\n",
        "import torch.nn.functional as F\n",
        "import torchvision.io as io\n",
        "\n",
        "import seaborn as sns\n",
        "\n",
        "from PIL import Image\n",
        "\n",
        "from torch.utils.data import DataLoader\n",
        "from torch.utils.data import sampler\n",
        "from torch.utils.data import random_split\n",
        "from torchsummary import summary\n",
        "from torchvision.transforms.transforms import CenterCrop\n",
        "\n",
        "from sklearn.manifold import TSNE\n",
        "from sklearn.metrics import confusion_matrix\n",
        "\n",
        "import wandb"
      ]
    },
    {
      "cell_type": "code",
      "execution_count": null,
      "metadata": {
        "colab": {
          "base_uri": "https://localhost:8080/"
        },
        "id": "jNsOUOz1rp-m",
        "outputId": "eb6a80b3-37a7-47d0-8471-c70b1fb073d7"
      },
      "outputs": [
        {
          "output_type": "stream",
          "name": "stdout",
          "text": [
            "using device: cuda\n"
          ]
        }
      ],
      "source": [
        "os.environ['WANDB_MODE'] = 'online'\n",
        "USE_GPU = True\n",
        "dtype = torch.float32\n",
        "\n",
        "if USE_GPU and torch.cuda.is_available():\n",
        "    device = torch.device('cuda')\n",
        "else:\n",
        "    device = torch.device('cpu')\n",
        "\n",
        "print('using device:', device)\n",
        "\n",
        "### Insert file path HERE ###\n",
        "PATHNAME = \"/content/drive/MyDrive/Accounts/DIU/Seabed_Objects_Demo\"\n",
        "assert PATHNAME is not None, \"[!] Enter the foldername.\""
      ]
    },
    {
      "cell_type": "code",
      "execution_count": null,
      "metadata": {
        "colab": {
          "base_uri": "https://localhost:8080/"
        },
        "id": "P6up5hP18-AW",
        "outputId": "4ad8b4e1-a258-4320-a228-4a31b6b4982a"
      },
      "outputs": [
        {
          "output_type": "stream",
          "name": "stdout",
          "text": [
            "Mounted at /content/drive\n"
          ]
        }
      ],
      "source": [
        "from google.colab import drive\n",
        "drive.mount('/content/drive')"
      ]
    },
    {
      "cell_type": "code",
      "execution_count": null,
      "metadata": {
        "id": "wt8MO0P8r1CL"
      },
      "outputs": [],
      "source": [
        "### INSERT User Inputs HERE ###\n",
        "\n",
        "# Location of images\n",
        "full_data_directory = PATHNAME + '/unbalanced_training_validation_set'\n",
        "balanced_data_directory = PATHNAME + '/balanced_training_validation_set'\n",
        "test_data_directory = PATHNAME + '/test_set'"
      ]
    },
    {
      "cell_type": "code",
      "execution_count": null,
      "metadata": {
        "colab": {
          "base_uri": "https://localhost:8080/",
          "height": 225,
          "referenced_widgets": [
            "8440a6dcdbe94b29849aa35b8e1b42d2",
            "194bd0dc43fd4b53b906635ecb609585",
            "d8b3fc1d0c67402e8fcc17626bf094e6",
            "fc5f73ac17304170a72eae6596629228",
            "39eb1c3955d34313821ad64d1ce21899",
            "a07984b6b69748e69403c2aa998bea73",
            "d564813264344f83bca5dbc1d748c1ea",
            "6d57c8760cec4895befc6b51fdc648d2"
          ]
        },
        "id": "dJuiuQOer752",
        "outputId": "32d0deae-2375-42cd-f278-ed0ef9c2a89f"
      },
      "outputs": [
        {
          "output_type": "display_data",
          "data": {
            "text/plain": [
              "<IPython.core.display.Javascript object>"
            ],
            "application/javascript": [
              "\n",
              "        window._wandbApiKey = new Promise((resolve, reject) => {\n",
              "            function loadScript(url) {\n",
              "            return new Promise(function(resolve, reject) {\n",
              "                let newScript = document.createElement(\"script\");\n",
              "                newScript.onerror = reject;\n",
              "                newScript.onload = resolve;\n",
              "                document.body.appendChild(newScript);\n",
              "                newScript.src = url;\n",
              "            });\n",
              "            }\n",
              "            loadScript(\"https://cdn.jsdelivr.net/npm/postmate/build/postmate.min.js\").then(() => {\n",
              "            const iframe = document.createElement('iframe')\n",
              "            iframe.style.cssText = \"width:0;height:0;border:none\"\n",
              "            document.body.appendChild(iframe)\n",
              "            const handshake = new Postmate({\n",
              "                container: iframe,\n",
              "                url: 'https://wandb.ai/authorize'\n",
              "            });\n",
              "            const timeout = setTimeout(() => reject(\"Couldn't auto authenticate\"), 5000)\n",
              "            handshake.then(function(child) {\n",
              "                child.on('authorize', data => {\n",
              "                    clearTimeout(timeout)\n",
              "                    resolve(data)\n",
              "                });\n",
              "            });\n",
              "            })\n",
              "        });\n",
              "    "
            ]
          },
          "metadata": {}
        },
        {
          "output_type": "stream",
          "name": "stderr",
          "text": [
            "\u001b[34m\u001b[1mwandb\u001b[0m: Appending key for api.wandb.ai to your netrc file: /root/.netrc\n"
          ]
        },
        {
          "output_type": "display_data",
          "data": {
            "text/plain": [
              "<IPython.core.display.HTML object>"
            ],
            "text/html": [
              "Tracking run with wandb version 0.13.2"
            ]
          },
          "metadata": {}
        },
        {
          "output_type": "display_data",
          "data": {
            "text/plain": [
              "<IPython.core.display.HTML object>"
            ],
            "text/html": [
              "Run data is saved locally in <code>/content/wandb/run-20220829_140541-6sdyheaw</code>"
            ]
          },
          "metadata": {}
        },
        {
          "output_type": "display_data",
          "data": {
            "text/plain": [
              "<IPython.core.display.HTML object>"
            ],
            "text/html": [
              "Syncing run <strong><a href=\"https://wandb.ai/awesome-team/diu-phase2-demo/runs/6sdyheaw\" target=\"_blank\">astral-night-331</a></strong> to <a href=\"https://wandb.ai/awesome-team/diu-phase2-demo\" target=\"_blank\">Weights & Biases</a> (<a href=\"https://wandb.me/run\" target=\"_blank\">docs</a>)<br/>"
            ]
          },
          "metadata": {}
        },
        {
          "output_type": "stream",
          "name": "stderr",
          "text": [
            "\u001b[34m\u001b[1mwandb\u001b[0m: Adding directory to artifact (/content/drive/MyDrive/Accounts/DIU/Seabed_Objects_Demo/unbalanced_training_validation_set)... Done. 38.7s\n",
            "\u001b[34m\u001b[1mwandb\u001b[0m: Adding directory to artifact (/content/drive/MyDrive/Accounts/DIU/Seabed_Objects_Demo/balanced_training_validation_set)... Done. 7.0s\n",
            "\u001b[34m\u001b[1mwandb\u001b[0m: Adding directory to artifact (/content/drive/MyDrive/Accounts/DIU/Seabed_Objects_Demo/test_set)... Done. 19.3s\n"
          ]
        },
        {
          "output_type": "display_data",
          "data": {
            "text/plain": [
              "<IPython.core.display.HTML object>"
            ],
            "text/html": [
              "Waiting for W&B process to finish... <strong style=\"color:green\">(success).</strong>"
            ]
          },
          "metadata": {}
        },
        {
          "output_type": "display_data",
          "data": {
            "text/plain": [
              "VBox(children=(Label(value='0.029 MB of 0.029 MB uploaded (0.000 MB deduped)\\r'), FloatProgress(value=1.0, max…"
            ],
            "application/vnd.jupyter.widget-view+json": {
              "version_major": 2,
              "version_minor": 0,
              "model_id": "8440a6dcdbe94b29849aa35b8e1b42d2"
            }
          },
          "metadata": {}
        },
        {
          "output_type": "display_data",
          "data": {
            "text/plain": [
              "<IPython.core.display.HTML object>"
            ],
            "text/html": [
              "Synced <strong style=\"color:#cdcd00\">astral-night-331</strong>: <a href=\"https://wandb.ai/awesome-team/diu-phase2-demo/runs/6sdyheaw\" target=\"_blank\">https://wandb.ai/awesome-team/diu-phase2-demo/runs/6sdyheaw</a><br/>Synced 5 W&B file(s), 0 media file(s), 2 artifact file(s) and 1 other file(s)"
            ]
          },
          "metadata": {}
        },
        {
          "output_type": "display_data",
          "data": {
            "text/plain": [
              "<IPython.core.display.HTML object>"
            ],
            "text/html": [
              "Find logs at: <code>./wandb/run-20220829_140541-6sdyheaw/logs</code>"
            ]
          },
          "metadata": {}
        }
      ],
      "source": [
        "with wandb.init(entity=\"awesome-team\", project=\"diu-phase2-demo\", job_type=\"load-data\") as run:\n",
        "    raw_unbalanced = wandb.Artifact('raw-unbalanced', type='dataset')\n",
        "    raw_unbalanced.add_dir(full_data_directory)\n",
        "    raw_balanced = wandb.Artifact('raw-balanced', type='dataset')\n",
        "    raw_balanced.add_dir(balanced_data_directory)\n",
        "    raw_test = wandb.Artifact('raw-test', type='dataset')\n",
        "    raw_test.add_dir(test_data_directory)\n",
        "\n",
        "    run.log_artifact(raw_unbalanced)\n",
        "    run.log_artifact(raw_balanced)\n",
        "    run.log_artifact(raw_test)"
      ]
    },
    {
      "cell_type": "code",
      "execution_count": null,
      "metadata": {
        "id": "QQM96hj_5la5",
        "colab": {
          "base_uri": "https://localhost:8080/",
          "height": 156,
          "referenced_widgets": [
            "ea510a9e54ff42028daad6bc59a884c0",
            "5fb86766978f4e98aa70239748b45b92",
            "ee1c812a13ef4dab9b9394b35e522a46",
            "816a28eaff2f4a21b499fdbd6c2ad947",
            "a1e912426e1a4289ae765f33f45145e1",
            "87b2787a816b432398348be6e74d2074",
            "93ac8d025cc94268b84124f77ddce404",
            "adad6bebaf1248de978c2234f3084448"
          ]
        },
        "outputId": "c65d2d03-5614-49a0-dcf2-8e2ee3981a30"
      },
      "outputs": [
        {
          "output_type": "stream",
          "name": "stderr",
          "text": [
            "\u001b[34m\u001b[1mwandb\u001b[0m: Currently logged in as: \u001b[33mkevin-stofan\u001b[0m (\u001b[33mawesome-team\u001b[0m). Use \u001b[1m`wandb login --relogin`\u001b[0m to force relogin\n"
          ]
        },
        {
          "output_type": "display_data",
          "data": {
            "text/plain": [
              "<IPython.core.display.HTML object>"
            ],
            "text/html": [
              "Tracking run with wandb version 0.13.2"
            ]
          },
          "metadata": {}
        },
        {
          "output_type": "display_data",
          "data": {
            "text/plain": [
              "<IPython.core.display.HTML object>"
            ],
            "text/html": [
              "Run data is saved locally in <code>/content/wandb/run-20220829_140652-260mc12q</code>"
            ]
          },
          "metadata": {}
        },
        {
          "output_type": "display_data",
          "data": {
            "text/plain": [
              "<IPython.core.display.HTML object>"
            ],
            "text/html": [
              "Syncing run <strong><a href=\"https://wandb.ai/awesome-team/diu-phase2-demo/runs/260mc12q\" target=\"_blank\">vocal-forest-332</a></strong> to <a href=\"https://wandb.ai/awesome-team/diu-phase2-demo\" target=\"_blank\">Weights & Biases</a> (<a href=\"https://wandb.me/run\" target=\"_blank\">docs</a>)<br/>"
            ]
          },
          "metadata": {}
        },
        {
          "output_type": "display_data",
          "data": {
            "text/plain": [
              "<IPython.core.display.HTML object>"
            ],
            "text/html": [
              "Waiting for W&B process to finish... <strong style=\"color:green\">(success).</strong>"
            ]
          },
          "metadata": {}
        },
        {
          "output_type": "display_data",
          "data": {
            "text/plain": [
              "VBox(children=(Label(value='57.558 MB of 57.558 MB uploaded (0.000 MB deduped)\\r'), FloatProgress(value=1.0, m…"
            ],
            "application/vnd.jupyter.widget-view+json": {
              "version_major": 2,
              "version_minor": 0,
              "model_id": "ea510a9e54ff42028daad6bc59a884c0"
            }
          },
          "metadata": {}
        },
        {
          "output_type": "display_data",
          "data": {
            "text/plain": [
              "<IPython.core.display.HTML object>"
            ],
            "text/html": [
              "Synced <strong style=\"color:#cdcd00\">vocal-forest-332</strong>: <a href=\"https://wandb.ai/awesome-team/diu-phase2-demo/runs/260mc12q\" target=\"_blank\">https://wandb.ai/awesome-team/diu-phase2-demo/runs/260mc12q</a><br/>Synced 4 W&B file(s), 3 media file(s), 1021 artifact file(s) and 1 other file(s)"
            ]
          },
          "metadata": {}
        },
        {
          "output_type": "display_data",
          "data": {
            "text/plain": [
              "<IPython.core.display.HTML object>"
            ],
            "text/html": [
              "Find logs at: <code>./wandb/run-20220829_140652-260mc12q/logs</code>"
            ]
          },
          "metadata": {}
        }
      ],
      "source": [
        "# Log raw unbalanced and balanced data for exploration (do this once for demo)\n",
        "with wandb.init(entity=\"awesome-team\", project=\"diu-phase2-demo\", job_type=\"raw-data-table\") as run:\n",
        "  balanced_table = wandb.Table(columns=[\"filename\", \"image\", \"label\"])\n",
        "  unbalanced_table = wandb.Table(columns=[\"filename\", \"image\", \"label\"])\n",
        "  test_table = wandb.Table(columns=[\"filename\", \"image\", \"label\"])\n",
        "\n",
        "  for label in os.listdir(full_data_directory):\n",
        "    for image in os.listdir(full_data_directory + \"/\" + label):\n",
        "        unbalanced_table.add_data(image,\n",
        "                            wandb.Image(full_data_directory + \"/\" + label + \"/\" + image),\n",
        "                            label)\n",
        "\n",
        "  for label in os.listdir(balanced_data_directory):\n",
        "    for image in os.listdir(balanced_data_directory + \"/\" + label):\n",
        "        balanced_table.add_data(image,\n",
        "                            wandb.Image(balanced_data_directory + \"/\" + label + \"/\" + image),\n",
        "                            label)\n",
        "\n",
        "  for label in os.listdir(test_data_directory):\n",
        "    for image in os.listdir(test_data_directory + \"/\" + label):\n",
        "        test_table.add_data(image,\n",
        "                            wandb.Image(test_data_directory + \"/\" + label + \"/\" + image),\n",
        "                            label)\n",
        "\n",
        "  wandb.log({\"full_dataset\": unbalanced_table})\n",
        "  wandb.log({\"balanced_dataset\": balanced_table})\n",
        "  wandb.log({\"test_dataset\": test_table})"
      ]
    },
    {
      "cell_type": "code",
      "execution_count": null,
      "metadata": {
        "id": "zZ9VRSGosBhw"
      },
      "outputs": [],
      "source": [
        "config = {\n",
        "    'method': 'random',\n",
        "    # 'metric': {\n",
        "    #     'name': train_loss,\n",
        "    #     'goal': minimize\n",
        "    # },\n",
        "    'parameters': {\n",
        "        'pxls': {\n",
        "            'value': 150\n",
        "        },\n",
        "        'bs': {\n",
        "            'values': [50, 100, 150, 200, 250, 300, 350, 400]\n",
        "        },\n",
        "        'num_epochs': {\n",
        "            'distribution': 'int_uniform',\n",
        "            'min': 20,\n",
        "            'max': 40\n",
        "        },\n",
        "        'rate': {\n",
        "            'distribution': 'uniform',\n",
        "            'min': .0001,\n",
        "            'max': .1\n",
        "        },\n",
        "        'balanced': {\n",
        "            'values': [0, 1]\n",
        "        }\n",
        "    }\n",
        "}"
      ]
    },
    {
      "cell_type": "code",
      "execution_count": null,
      "metadata": {
        "colab": {
          "base_uri": "https://localhost:8080/"
        },
        "id": "E7D8lxlOsHu9",
        "outputId": "65285576-3e5a-45f9-b788-4babb2e8bfc1"
      },
      "outputs": [
        {
          "output_type": "stream",
          "name": "stdout",
          "text": [
            "Create sweep with ID: hc69lhb2\n",
            "Sweep URL: https://wandb.ai/awesome-team/diu-phase2-demo/sweeps/hc69lhb2\n"
          ]
        }
      ],
      "source": [
        "sweep_id = wandb.sweep(config, entity=\"awesome-team\", project=\"diu-phase2-demo\")"
      ]
    },
    {
      "cell_type": "code",
      "execution_count": null,
      "metadata": {
        "id": "4_oRfGCpsMPX"
      },
      "outputs": [],
      "source": [
        "classes = {\n",
        "    0: \"Plane\",\n",
        "    1: \"Seafloor\",\n",
        "    2: \"Ship\"\n",
        "}"
      ]
    },
    {
      "cell_type": "code",
      "execution_count": null,
      "metadata": {
        "id": "z6rfJ9kgsvEX"
      },
      "outputs": [],
      "source": [
        "def build_transforms(pxls):\n",
        "    # Additional transforms to consider for the training set:\n",
        "    # RandomRotation, RandomHorizontalFlip, CenterCrop\n",
        "\n",
        "    image_transforms = transforms.Compose([\n",
        "        transforms.Resize(size=(pxls, pxls)),\n",
        "        transforms.ToTensor(),\n",
        "        transforms.Normalize([0.485, 0.456, 0.406],\n",
        "                             [0.229, 0.224, 0.225])\n",
        "    ])\n",
        "\n",
        "    return image_transforms"
      ]
    },
    {
      "cell_type": "code",
      "execution_count": null,
      "metadata": {
        "id": "0h7CLy-WtLi4"
      },
      "outputs": [],
      "source": [
        "def log_split_dataset(train, val):\n",
        "    train_split = wandb.Artifact('train_split', type='dataset')\n",
        "    val_split = wandb.Artifact('val_split', type='dataset')\n",
        "\n",
        "    for train_image in train.dataset.samples:\n",
        "        train_split.add_file(train_image[0])\n",
        "\n",
        "    for val_image in val.dataset.samples:\n",
        "        train_split.add_file(val_image[0])\n",
        "\n",
        "    wandb.log_artifact(train_split)\n",
        "    wandb.log_artifact(val_split)"
      ]
    },
    {
      "cell_type": "code",
      "execution_count": null,
      "metadata": {
        "id": "_CsdUIRvtRTS"
      },
      "outputs": [],
      "source": [
        "def build_dataset(pxls, bs, balanced):\n",
        "    if balanced == False:\n",
        "      images = datasets.ImageFolder(root=full_data_directory, transform=build_transforms(pxls))\n",
        "      # Random split of training, validation sets (80/20)\n",
        "      num_items = len(images)\n",
        "      num_train = round(num_items * 0.8)\n",
        "      num_val = num_items - num_train\n",
        "      train_ds, val_ds = random_split(images, [num_train, num_val])\n",
        "    else:\n",
        "      images = datasets.ImageFolder(root=balanced_data_directory, transform=build_transforms(pxls))\n",
        "      # Random split of training, validation sets (80/20)\n",
        "      num_items = len(images)\n",
        "      num_train = round(num_items * 0.8)\n",
        "      num_val = num_items - num_train\n",
        "      train_ds, val_ds = random_split(images, [num_train, num_val])\n",
        "\n",
        "    test_ds = datasets.ImageFolder(root=test_data_directory, transform=build_transforms(pxls))\n",
        "\n",
        "    log_split_dataset(train_ds, val_ds)\n",
        "\n",
        "    return train_ds, val_ds, test_ds"
      ]
    },
    {
      "cell_type": "code",
      "execution_count": null,
      "metadata": {
        "id": "An7eCFQKtVb8"
      },
      "outputs": [],
      "source": [
        "def build_data_loaders(pxls, bs, balanced):\n",
        "    train_ds, val_ds, test_ds = build_dataset(pxls, bs, balanced)\n",
        "    # Create training, validation, and test data loaders\n",
        "    train_data = torch.utils.data.DataLoader(train_ds, batch_size=bs, shuffle=True)\n",
        "    valid_data = torch.utils.data.DataLoader(val_ds, batch_size=bs, shuffle=False)\n",
        "    test_data = torch.utils.data.DataLoader(test_ds, batch_size=bs, shuffle=False)\n",
        "\n",
        "    # # Size of data, to be used for calculating average Loss and accuracy\n",
        "    # train_data_size = len(train_ds)\n",
        "    # valid_data_size = len(val_ds)\n",
        "    # test_data_size = len(test_ds)\n",
        "\n",
        "    # Print the training, validation, and test set data sizes\n",
        "    # train_data_size, valid_data_size, test_data_size\n",
        "    return train_data, valid_data, test_data"
      ]
    },
    {
      "cell_type": "code",
      "execution_count": null,
      "metadata": {
        "id": "MUAYSs05taTD"
      },
      "outputs": [],
      "source": [
        "def build_model():\n",
        "    config = wandb.config\n",
        "    # Load pretrained ResNet50 Model\n",
        "    resnet50 = models.resnet50(pretrained=True)\n",
        "\n",
        "    # Freeze model parameters\n",
        "    for param in resnet50.parameters():\n",
        "        param.requires_grad = False\n",
        "\n",
        "    # Modify the final layer\n",
        "    fc_inputs = resnet50.fc.in_features\n",
        "    resnet50.fc = nn.Sequential(\n",
        "        nn.Linear(fc_inputs, 256),\n",
        "        nn.ReLU(),\n",
        "        nn.Linear(256, 3)\n",
        "    )\n",
        "\n",
        "    model_CE = copy.deepcopy(resnet50)\n",
        "    model_artifact = wandb.Artifact(\n",
        "        \"pretrained_resnet50\", type=\"model\",\n",
        "        description=\"Pre-trained resnet with modified final layer\",\n",
        "        metadata=dict(config)\n",
        "    )\n",
        "\n",
        "    torch.save(model_CE.state_dict(), \"initialized_model.pth\")\n",
        "    model_artifact.add_file(\"initialized_model.pth\")\n",
        "    wandb.log_artifact(model_artifact)\n",
        "    return model_CE"
      ]
    },
    {
      "cell_type": "code",
      "execution_count": null,
      "metadata": {
        "id": "aFBdwTR7tf1Z"
      },
      "outputs": [],
      "source": [
        "def build_optimizer(lr, model):\n",
        "    optimizer_CE = optim.Adam(model.parameters(), lr=lr)\n",
        "    return optimizer_CE\n",
        "\n",
        "# Use Cross Entropy loss as a starting point\n",
        "def cross_entropy_loss(outputs, labels):\n",
        "    loss_func = nn.CrossEntropyLoss()\n",
        "    return(loss_func(outputs, labels))\n",
        "\n",
        "def cross_entropy_preds(outputs):\n",
        "    ret, predictions = torch.max(outputs.data, 1)\n",
        "    return predictions\n",
        "\n",
        "def check_val_accuracy(model, valid_data, loss_func, predict_func):\n",
        "    # No gradient tracking needed\n",
        "    with torch.no_grad():\n",
        "        # Set to evaluation mode\n",
        "        model.eval()\n",
        "        valid_data_size = len(valid_data.dataset)\n",
        "        # Validation loop\n",
        "        valid_loss = 0\n",
        "        valid_acc = 0\n",
        "        for j, (inputs, labels) in enumerate(valid_data):\n",
        "              inputs = inputs.to(device)\n",
        "              labels = labels.to(device)\n",
        "              # Forward pass - compute outputs on input data using the model\n",
        "              outputs = model(inputs)\n",
        "              # Compute loss\n",
        "              loss = loss_func(outputs, labels)\n",
        "              # Compute the total loss for the batch and add it to valid_loss\n",
        "              valid_loss += loss.item() * inputs.size(0)\n",
        "              # Calculate validation accuracy\n",
        "              predictions = predict_func(outputs.data)\n",
        "              correct_counts = predictions.eq(labels.data.view_as(predictions))\n",
        "              # Convert correct_counts to float and then compute the mean\n",
        "              acc = torch.mean(correct_counts.type(torch.FloatTensor))\n",
        "              # Compute total accuracy in the whole batch and add to valid_acc\n",
        "              valid_acc += acc.item() * inputs.size(0)\n",
        "        valid_acc = valid_acc / valid_data_size\n",
        "        valid_loss = valid_loss / valid_data_size\n",
        "        wandb.log({\n",
        "            'val_acc': valid_acc,\n",
        "            'val_loss': valid_loss\n",
        "        })\n",
        "        print(\"Validation: Loss: {:.4f}, Accuracy: {:.4f}\".format(valid_loss, valid_acc))\n",
        "        return (valid_acc, valid_loss)"
      ]
    },
    {
      "cell_type": "code",
      "execution_count": null,
      "metadata": {
        "id": "wb3aY9SztmCn"
      },
      "outputs": [],
      "source": [
        "# Predict function outputs raw, unnormalized class scores\n",
        "def predict(model, pxls, test_image_name):\n",
        "    transform = build_transforms(pxls)\n",
        "    test_image = Image.open(test_image_name).convert('RGB')\n",
        "    plt.rcParams[\"figure.figsize\"] = (4.5,4.5)\n",
        "    plt.axis('off')\n",
        "    plt.imshow(test_image)\n",
        "    test_image_tensor = transform(test_image)\n",
        "\n",
        "    if torch.cuda.is_available():\n",
        "        test_image_tensor = test_image_tensor.view(1, 3, pxls, pxls).cuda()\n",
        "    else:\n",
        "        test_image_tensor = test_image_tensor.view(1, 3, pxls, pxls)\n",
        "    with torch.no_grad():\n",
        "        model.eval()\n",
        "        # Model outputs probabilities\n",
        "        ps = model(test_image_tensor)\n",
        "        probs = torch.nn.functional.softmax(ps, dim=1)\n",
        "        topk, topclass = ps.topk(1, dim=1)\n",
        "        # print(\"Predicted Debris Class\", ps)\n",
        "        return probs, topk, topclass"
      ]
    },
    {
      "cell_type": "code",
      "execution_count": null,
      "metadata": {
        "id": "jv5jXs0Atqyy"
      },
      "outputs": [],
      "source": [
        "def log_eval_table(model, pxls):\n",
        "    test_table = wandb.Table(columns=[\"filename\", \"image\", \"truth\", \"prediction\", \"plane_score\", \"seafloor_score\", \"ship_score\"])\n",
        "\n",
        "    for label in os.listdir(test_data_directory):\n",
        "      for image in random.sample(os.listdir(test_data_directory + \"/\" + label), 10):\n",
        "          probs, topk, topclass = predict(model, pxls, test_data_directory + \"/\" + label + \"/\" + image)\n",
        "          test_table.add_data(image,\n",
        "                              wandb.Image(test_data_directory + \"/\" + label + \"/\" + image),\n",
        "                              label,\n",
        "                              classes[topclass.item()],\n",
        "                              probs.tolist()[0][0],\n",
        "                              probs.tolist()[0][1],\n",
        "                              probs.tolist()[0][2])\n",
        "\n",
        "    wandb.log({\"test_table\": test_table})"
      ]
    },
    {
      "cell_type": "code",
      "execution_count": null,
      "metadata": {
        "id": "KUuOUBzBtvF9"
      },
      "outputs": [],
      "source": [
        "def train_model(config=None):\n",
        "    with wandb.init(config=config, job_type=\"model_training\"):\n",
        "        config = wandb.config\n",
        "        train_data, valid_data, test_data = build_data_loaders(config.pxls, config.bs, config.balanced)\n",
        "        # Size of data, to be used for calculating average Loss and accuracy\n",
        "        train_data_size = len(train_data.dataset)\n",
        "        valid_data_size = len(valid_data.dataset)\n",
        "        test_data_size = len(test_data.dataset)\n",
        "\n",
        "        model = build_model()\n",
        "        optimizer = build_optimizer(config.rate, model)\n",
        "        loss_func = cross_entropy_loss\n",
        "        predict_func = cross_entropy_preds\n",
        "\n",
        "        best_model = model\n",
        "\n",
        "        train_accs = np.zeros(config.num_epochs)\n",
        "        valid_accs = np.zeros(config.num_epochs)\n",
        "        train_losses = np.zeros(config.num_epochs)\n",
        "        valid_losses = np.zeros(config.num_epochs)\n",
        "\n",
        "        best_val_acc = 0.0\n",
        "\n",
        "        model = model.to(device=device)\n",
        "        epoch_num = 0\n",
        "        for epoch in range(config.num_epochs):\n",
        "            epoch_num += 1\n",
        "            epoch_start = time.time()\n",
        "            print(\"Epoch: {}/{}\".format(epoch + 1, config.num_epochs))\n",
        "            # Set to training mode\n",
        "            model.train()\n",
        "            # Loss and Accuracy within the epoch\n",
        "            train_loss = 0.0\n",
        "            train_acc = 0.0\n",
        "            for i, (inputs, labels) in enumerate(train_data):\n",
        "                inputs = inputs.to(device)\n",
        "                labels = labels.to(device)\n",
        "                # Clean existing gradients\n",
        "                optimizer.zero_grad()\n",
        "                # Forward pass\n",
        "                outputs = model(inputs)\n",
        "                # Compute loss\n",
        "                loss = loss_func(outputs, labels)\n",
        "                # Backpropagate the gradients\n",
        "                loss.backward()\n",
        "                # Update the parameters\n",
        "                optimizer.step()\n",
        "                # Compute the total loss for the batch and add it to train_loss\n",
        "                train_loss += loss.item() * inputs.size(0)\n",
        "                # Compute the accuracy\n",
        "                predictions = predict_func(outputs.data)\n",
        "                correct_counts = predictions.eq(labels.data.view_as(predictions))\n",
        "                # Convert correct_counts to float and then compute the mean\n",
        "                acc = torch.mean(correct_counts.type(torch.FloatTensor))\n",
        "                # Compute total accuracy in the whole batch and add to train_acc\n",
        "                train_acc += acc.item() * inputs.size(0)\n",
        "                print(\"Iteration: {:03d}, Loss: {:.4f}, Accuracy: {:.4f}\".format(i, loss.item(), acc.item()))\n",
        "\n",
        "            train_acc = train_acc / train_data_size\n",
        "            train_loss = train_loss / train_data_size\n",
        "            wandb.log({\n",
        "                'train_acc': train_acc,\n",
        "                'train_loss': train_loss\n",
        "            })\n",
        "            print(\"Training: Loss: {:.4f}, Accuracy: {:.4f}\".format(train_loss, train_acc))\n",
        "            train_accs[epoch_num - 1], train_losses[epoch_num - 1] = train_acc, train_loss\n",
        "            valid_accs[epoch_num - 1], valid_losses[epoch_num - 1] = check_val_accuracy(model, valid_data,\n",
        "                                                                                        loss_func, predict_func)\n",
        "            if valid_accs[epoch_num - 1] > best_val_acc:\n",
        "                best_model = model\n",
        "\n",
        "            # Print elapsed time for epoch\n",
        "            epoch_end = time.time()\n",
        "            print(\"Epoch Time: {:.2f} secs\".format(epoch_end - epoch_start))\n",
        "\n",
        "        model_artifact = wandb.Artifact(\n",
        "                    \"model_checkpoint\", type=\"model\",\n",
        "                    description=\"Model checkpoint\",\n",
        "                    metadata=dict(config)\n",
        "                )\n",
        "\n",
        "        torch.save(model.state_dict(), \"model_checkpoint.pth\")\n",
        "        model_artifact.add_file(\"model_checkpoint.pth\")\n",
        "        wandb.log_artifact(model_artifact)\n",
        "\n",
        "        # Save the model in the exchangeable ONNX format\n",
        "        torch.onnx.export(model, inputs, \"model.onnx\")\n",
        "        wandb.save(\"model.onnx\")\n",
        "\n",
        "        log_eval_table(model, config.pxls)\n",
        "        return (train_accs, train_losses, valid_accs, valid_losses)"
      ]
    },
    {
      "cell_type": "code",
      "execution_count": null,
      "metadata": {
        "colab": {
          "base_uri": "https://localhost:8080/",
          "height": 1000,
          "referenced_widgets": [
            "6952212e232746d7ba0148661f5c597e",
            "fcdb5a0df16f4b0ebde8cf83cc17df01",
            "0baa0d27beaf4c0a9d923d43766bcb6d",
            "70a02a646810433b9ee6af895feb20d1",
            "f05dd70d8b774c04ba4ad9452e45aa2c",
            "f7996449022046119c6ddc20cfea155d",
            "cea805a90f9a41a5ae27c2c9789d8ee0",
            "23cf0973bf404f678ef2519499f8b8f5",
            "4eb665945a7441a0b7f11251d9c0a4f8",
            "5fab77fecb27455ea946c09ea442a328",
            "f8f3cbbd00e4448fa8717101564850c9",
            "82fe55daf2404172bb93b5f674ff5d40",
            "fe0d04a868224a4ab8e8e84d646d93b4",
            "a27cf9357eff4a2e897ad3b87ce11ab2",
            "f46965078f37440391d7947376c6b91f",
            "4b9c1bfa1e05494592e6495e3f4e641a",
            "75a9eed73d0c4ebc863507d188854b4d",
            "74757697d716433fbfaed09d5436d31e",
            "51331d1348b54db79cf53c8acc5df388",
            "6855000554e944d7bd9e4773c88ec7c8",
            "02e4283ed2a34762b783502e54e4b1f2",
            "abce68713d0946bfa7424fe6e82c397a",
            "2ee516ed4f6545b286036d437f72b857",
            "76512586bfd045aabb370eb3e413ce85",
            "80c1c15744654fec8ed150d02553aaba",
            "fa41d9852f3c4ba6a1a99e434fa23b32",
            "e95797a7587e4b74986c0ba7f6298c2d",
            "67d8f3be9135420c9d8614d7d8698492",
            "079aee4bc016413ba5a7e7b3ce63dab4",
            "688a32af5fea455b89ffdb2ad072e03b",
            "d89451f5674244dfaeb4547895c37a2b",
            "6c5b2565555744a28dc27916ff348a8b",
            "aea02f4be734492cbdd5c07b74a3ba39",
            "bd429f05cdf54941af5489e5b16b91bb",
            "50b469b2132c4fff979b306f758e24e6",
            "b139817f02cf452dbb85d473b456ccb1",
            "06155ab527ce4a27b47db9e9d3bbce78",
            "5a3012217b32424e9411f77aa3535005",
            "1b2ba5ae79d24bc9b578a411b31497d3",
            "60eb4c7bda7b497980e3d02d4dabaeea",
            "f1d4c1527086499cb9e60bb41d15b214",
            "41a1745c470d4e079749c1f0be8e98bd",
            "5104345a2a04489ea02b7320be767a49",
            "88143dca337f4f298fd784945e5f3d9e",
            "c942c61eb33c45a58dc8e923de527959",
            "67bec66b1a2c4cc19d16cd8e9aa7c798",
            "cb28b2b7c73e41f3b15bf30c3d57dded",
            "7bbe3bdb10094d94bd4d66b15c330eeb",
            "04410d2104ff45749c46a1b82584c18b",
            "a167bc12a4f4423dab8a38af194daf48",
            "32fadb70ccd24afea960d6dead07d600",
            "e24da78d9b3e4e118b53dde7c30958a8",
            "6dee3245c0534a2ea63955189d5292ec",
            "93952e0ac707493b956ca6e74271b070",
            "ecd47d24ff88454cb6846b44142ea365",
            "0d46edfb1c9947d89e6d5cff0c918bbc",
            "2f93186182c841c1b4f6ef497de81a66",
            "db1fe78bb9c2462a832eaad0126fe51e",
            "dbe222cd58844a4a9f7dd277e9aceae6",
            "7391abf2c2ab4e24931e7d231f66e821",
            "99fd321c96ab4340b3ab671dfc70501a",
            "00c8e29de923409eabf73f4b4bcdecd7",
            "edf5e353a4e04b3cbf94bb8a375f7c00",
            "ebe8a2a9c99f4fbe89603302c4608e6d",
            "1e26f7c976b749d2b11c0ea4ff44e7e4",
            "f64a2fec9e484f1d9a3036cbb275d545",
            "5eabe621b9a54badb1914620cf3d8953",
            "4abb6bc1dd2f47da90264a788af38f66",
            "22c13f68595a45fea0d0797eaefea065",
            "832ba875e63540b993e4e70fe52730cf",
            "5e06571fa41e43c5983da02efa944092",
            "81b9588ec93c4245bd452ee8a7a3eaf1",
            "37a91a15cfc847db808fd9cc10377ff2",
            "bae1053ef09d49e4b460013d00c60c37",
            "8a95375e58584b909c3d49f2c1c38e63",
            "6e0cc352334b45889d4f38303672de46",
            "733777ed1cfe4660af136a8dc75204b5",
            "e4e6b6ee29b545cf887429884032d26f",
            "1a1e00174b724cec8a609034187322c2",
            "d8670dceec9c40b1b0fb77a94959c8ee",
            "7fe71447e426405aac9d0f555b86f382",
            "b57855a38fdd42e6b41ef54fc3ffaeda",
            "536ccc30552a4bc6bdbfbc80ee92459f",
            "fec9f7bd670147079f829bcf7378ecbc",
            "6295bc597c914baeb729f1379ecd8b42",
            "b0c6c2f7e1cc416cab38864ef180e06c",
            "7912703155be4836a23fa8c31a517ebe",
            "11e653fb27d548c4a5d105cb527cfe34",
            "9e12289917f24cbc9d5d2f70b58cb143",
            "c855376023d047c1b0893812ca97c600",
            "3af1bde3b44e422ab6f6d03b59057e90",
            "ddebb73731de48eaae762bb29fc94e4f",
            "d646572549b946c09e31263d6ee43f70",
            "7252c8b07a604d089524489f86aca2b7",
            "1b2e028418eb4887aca489fead11e17a",
            "6ea9ce8845864c6993651171cec1047b",
            "640248d3efca4aa6afb3c48f8829eec8",
            "73caaf85be2e492e8d4a4dcd6a471ba0",
            "8a50718bfe4044a09c85da2153a390c5",
            "a8d57efc06674b0695285facc08b9e30",
            "900883317f7541d1956b90204831e4ec",
            "a6c49485c8e34ce78f0c70f8d37a2c1e",
            "9817ed206e6b4f0ab084bc010dd3257c",
            "da9573acdd7d4024bf89ce0946e10f16",
            "6bb5e32dd57a4be195696dd1c453f28b",
            "7670a5eecf144384b06f9f6db01b500b",
            "2b1f53c57c45487487904a458b9ae10e",
            "0af6be1c02af4d27bde3dd94c693af7b",
            "b33507707c784bdda62c96d562e8e4ff",
            "d8d1fcb63c86456f912516a5dea55eff",
            "cef25b0411de4a138439ac7f70b003d1",
            "a63ead841e714e79945c5e4a3340a52f",
            "4778ea4817f14a7088848961395512ea",
            "90d1e636eec045f99c4f3accc01827b6",
            "fcd0f5b0743c41c8a099b997f003e9c5",
            "c3b9aac2fd8a416da2062382e870e34e",
            "87317aa07f52468887da4cee248434c5",
            "11cd7e172a0543de9e4a19672ff75b17",
            "f899b59db35f4e1a8fecf5d7ead9c12d",
            "0f0173a96e5a44858321cff25d139175",
            "c564590572a24987b7421c3325d99b0e",
            "1cc3389bcdc84f0c8e4c1fd6cea093f2",
            "dbf123c8c47f412fb74e15c09d4bb432",
            "0a5c9d9241d04e4d9884561cf632875a",
            "bf0a0a1497a44d6e810139fa10db28f1",
            "b0a8d76101ba4f15a00cc0bfd6640ba4",
            "0514595ac7824551a6104abeacbec143",
            "a660839129e0430a840983ee29847d77",
            "bb21070107694206a1d3f03afc78a44c",
            "13354a6ba52243b8ab13ddee8f936b9e",
            "04648e3b8e8b4539b17ab64a2fd7fbc9",
            "4fc39911be5b42dab2a26aeed764af36",
            "bc33e7d249e94669a7a45f1f247b1f86",
            "715d7d038667408aa7f7b35c6629855d",
            "c093ea87db84429d830b7bd8f4411212",
            "acde5c53f9584b62a1b3032188a950b3",
            "bd9efcaeb18d4a0792e31f88322b8242",
            "fc748e7eaa524364b97af5174c590596",
            "4f92c279a64a454ba4fa7526e137813a",
            "020b2749f4b84dcb809bee740bac38e5",
            "2ae08f58a0554452ba7f9c72629bae6f",
            "174ba5bc453645cc8385f3bae2c8de1b",
            "17017ec518ea4108826af6848139a92a",
            "df7d6ce9543f4b3dbd7f630af2093d94",
            "b847ee35c48a48e8880827d473067b18",
            "5b24ef7f26f54b9c98ddc6f8c99d5e8a",
            "6e85d8d9cc5a49fa8ae58b68deb43d4d",
            "f1a4e41f29bb49a48df3979745c60777",
            "2664dd8d4bce4e4491391109b02ea77f",
            "4a302e91e5e240bf88e9880cbce208df",
            "c5ffdbd7b58145ceadeeb72ad645c7ef",
            "71f22674fdd4421fb9d809b4b88fa727",
            "93bee1c7ae1944238e74925ac41b0c78",
            "94042bff12474cda8bd9580c23c96b27",
            "822ff2d5603a45589b17eecb16045366",
            "0cb09dd2765b4ba8863b48f0b73a2779",
            "978b2300e0b34a599f6877167a606eb8",
            "6e5fd6cb33144416b36ddcf31284bf12",
            "c6eee08f26174ad69e6e14aa145f3050",
            "c2ca1b6415ea4cebb1da47c7d94cfdcf",
            "23eebe3c62174324a7de6d77ddbf8dbe",
            "bcd0f3a2c9d349b6abc2c09c9c3da555",
            "33af79fcc0414236a06f6268d00a9bac",
            "36ba07811abc43c0a69362bd78452170",
            "61be67fe7bae4bf19ff4204e99674489",
            "ef2555b18a994a7f8374f5577e68868e",
            "33a5139cd7b643728592b7a1a6d5cc37",
            "020d138533b0445db11c134eb2a970e1",
            "2c9b1ad2472d4738aae081f8c653d6ea",
            "2514715f98f3427ca36319362b62f2c7",
            "28c1188c0fa14f5785712f26908a70a9"
          ]
        },
        "id": "LZn7sP33t0Ba",
        "outputId": "c9734e83-a356-45d0-e5e7-34563a8f98b3"
      },
      "outputs": [
        {
          "output_type": "stream",
          "name": "stderr",
          "text": [
            "\u001b[34m\u001b[1mwandb\u001b[0m: Agent Starting Run: rrdeghtf with config:\n",
            "\u001b[34m\u001b[1mwandb\u001b[0m: \tbalanced: 1\n",
            "\u001b[34m\u001b[1mwandb\u001b[0m: \tbs: 250\n",
            "\u001b[34m\u001b[1mwandb\u001b[0m: \tnum_epochs: 30\n",
            "\u001b[34m\u001b[1mwandb\u001b[0m: \tpxls: 150\n",
            "\u001b[34m\u001b[1mwandb\u001b[0m: \trate: 0.017931634857849797\n"
          ]
        },
        {
          "output_type": "display_data",
          "data": {
            "text/plain": [
              "<IPython.core.display.HTML object>"
            ],
            "text/html": [
              "Tracking run with wandb version 0.13.2"
            ]
          },
          "metadata": {}
        },
        {
          "output_type": "display_data",
          "data": {
            "text/plain": [
              "<IPython.core.display.HTML object>"
            ],
            "text/html": [
              "Run data is saved locally in <code>/content/wandb/run-20220829_140746-rrdeghtf</code>"
            ]
          },
          "metadata": {}
        },
        {
          "output_type": "display_data",
          "data": {
            "text/plain": [
              "<IPython.core.display.HTML object>"
            ],
            "text/html": [
              "Syncing run <strong><a href=\"https://wandb.ai/awesome-team/diu-phase2-demo/runs/rrdeghtf\" target=\"_blank\">twilight-sweep-1</a></strong> to <a href=\"https://wandb.ai/awesome-team/diu-phase2-demo\" target=\"_blank\">Weights & Biases</a> (<a href=\"https://wandb.me/run\" target=\"_blank\">docs</a>)<br/>Sweep page:  <a href=\"https://wandb.ai/awesome-team/diu-phase2-demo/sweeps/hc69lhb2\" target=\"_blank\">https://wandb.ai/awesome-team/diu-phase2-demo/sweeps/hc69lhb2</a>"
            ]
          },
          "metadata": {}
        },
        {
          "output_type": "stream",
          "name": "stderr",
          "text": [
            "/usr/local/lib/python3.7/dist-packages/torchvision/models/_utils.py:209: UserWarning: The parameter 'pretrained' is deprecated since 0.13 and will be removed in 0.15, please use 'weights' instead.\n",
            "  f\"The parameter '{pretrained_param}' is deprecated since 0.13 and will be removed in 0.15, \"\n",
            "/usr/local/lib/python3.7/dist-packages/torchvision/models/_utils.py:223: UserWarning: Arguments other than a weight enum or `None` for 'weights' are deprecated since 0.13 and will be removed in 0.15. The current behavior is equivalent to passing `weights=ResNet50_Weights.IMAGENET1K_V1`. You can also use `weights=ResNet50_Weights.DEFAULT` to get the most up-to-date weights.\n",
            "  warnings.warn(msg)\n",
            "Downloading: \"https://download.pytorch.org/models/resnet50-0676ba61.pth\" to /root/.cache/torch/hub/checkpoints/resnet50-0676ba61.pth\n"
          ]
        },
        {
          "output_type": "display_data",
          "data": {
            "text/plain": [
              "  0%|          | 0.00/97.8M [00:00<?, ?B/s]"
            ],
            "application/vnd.jupyter.widget-view+json": {
              "version_major": 2,
              "version_minor": 0,
              "model_id": "6952212e232746d7ba0148661f5c597e"
            }
          },
          "metadata": {}
        },
        {
          "output_type": "stream",
          "name": "stdout",
          "text": [
            "Epoch: 1/30\n",
            "Iteration: 000, Loss: 1.1346, Accuracy: 0.3091\n",
            "Training: Loss: 1.1346, Accuracy: 0.3091\n",
            "Validation: Loss: 42.6064, Accuracy: 0.3214\n",
            "Epoch Time: 6.98 secs\n",
            "Epoch: 2/30\n",
            "Iteration: 000, Loss: 33.2151, Accuracy: 0.3727\n",
            "Training: Loss: 33.2151, Accuracy: 0.3727\n",
            "Validation: Loss: 31.2016, Accuracy: 0.2500\n",
            "Epoch Time: 0.76 secs\n",
            "Epoch: 3/30\n",
            "Iteration: 000, Loss: 29.8008, Accuracy: 0.3909\n",
            "Training: Loss: 29.8008, Accuracy: 0.3909\n",
            "Validation: Loss: 10.7004, Accuracy: 0.6429\n",
            "Epoch Time: 0.79 secs\n",
            "Epoch: 4/30\n",
            "Iteration: 000, Loss: 13.5847, Accuracy: 0.5636\n",
            "Training: Loss: 13.5847, Accuracy: 0.5636\n",
            "Validation: Loss: 5.9399, Accuracy: 0.5000\n",
            "Epoch Time: 0.76 secs\n",
            "Epoch: 5/30\n",
            "Iteration: 000, Loss: 7.8531, Accuracy: 0.3909\n",
            "Training: Loss: 7.8531, Accuracy: 0.3909\n",
            "Validation: Loss: 0.6129, Accuracy: 0.7143\n",
            "Epoch Time: 0.76 secs\n",
            "Epoch: 6/30\n",
            "Iteration: 000, Loss: 0.2497, Accuracy: 0.9091\n",
            "Training: Loss: 0.2497, Accuracy: 0.9091\n",
            "Validation: Loss: 4.4968, Accuracy: 0.5357\n",
            "Epoch Time: 0.76 secs\n",
            "Epoch: 7/30\n",
            "Iteration: 000, Loss: 2.3172, Accuracy: 0.7364\n",
            "Training: Loss: 2.3172, Accuracy: 0.7364\n",
            "Validation: Loss: 4.2760, Accuracy: 0.5714\n",
            "Epoch Time: 0.77 secs\n",
            "Epoch: 8/30\n",
            "Iteration: 000, Loss: 2.1889, Accuracy: 0.7636\n",
            "Training: Loss: 2.1889, Accuracy: 0.7636\n",
            "Validation: Loss: 2.0975, Accuracy: 0.5714\n",
            "Epoch Time: 0.76 secs\n",
            "Epoch: 9/30\n",
            "Iteration: 000, Loss: 0.9661, Accuracy: 0.7636\n",
            "Training: Loss: 0.9661, Accuracy: 0.7636\n",
            "Validation: Loss: 1.2343, Accuracy: 0.6429\n",
            "Epoch Time: 0.76 secs\n",
            "Epoch: 10/30\n",
            "Iteration: 000, Loss: 0.8456, Accuracy: 0.5727\n",
            "Training: Loss: 0.8456, Accuracy: 0.5727\n",
            "Validation: Loss: 0.9627, Accuracy: 0.6786\n",
            "Epoch Time: 0.77 secs\n",
            "Epoch: 11/30\n",
            "Iteration: 000, Loss: 0.9581, Accuracy: 0.6182\n",
            "Training: Loss: 0.9581, Accuracy: 0.6182\n",
            "Validation: Loss: 0.3404, Accuracy: 0.8571\n",
            "Epoch Time: 0.77 secs\n",
            "Epoch: 12/30\n",
            "Iteration: 000, Loss: 0.2428, Accuracy: 0.9273\n",
            "Training: Loss: 0.2428, Accuracy: 0.9273\n",
            "Validation: Loss: 0.8097, Accuracy: 0.5714\n",
            "Epoch Time: 0.77 secs\n",
            "Epoch: 13/30\n",
            "Iteration: 000, Loss: 0.3050, Accuracy: 0.8455\n",
            "Training: Loss: 0.3050, Accuracy: 0.8455\n",
            "Validation: Loss: 1.4364, Accuracy: 0.5357\n",
            "Epoch Time: 0.78 secs\n",
            "Epoch: 14/30\n",
            "Iteration: 000, Loss: 0.5319, Accuracy: 0.7727\n",
            "Training: Loss: 0.5319, Accuracy: 0.7727\n",
            "Validation: Loss: 1.4266, Accuracy: 0.5000\n",
            "Epoch Time: 0.77 secs\n",
            "Epoch: 15/30\n",
            "Iteration: 000, Loss: 0.5086, Accuracy: 0.7909\n",
            "Training: Loss: 0.5086, Accuracy: 0.7909\n",
            "Validation: Loss: 0.9275, Accuracy: 0.5714\n",
            "Epoch Time: 0.78 secs\n",
            "Epoch: 16/30\n",
            "Iteration: 000, Loss: 0.3076, Accuracy: 0.8636\n",
            "Training: Loss: 0.3076, Accuracy: 0.8636\n",
            "Validation: Loss: 0.4557, Accuracy: 0.8571\n",
            "Epoch Time: 0.77 secs\n",
            "Epoch: 17/30\n",
            "Iteration: 000, Loss: 0.1495, Accuracy: 0.9636\n",
            "Training: Loss: 0.1495, Accuracy: 0.9636\n",
            "Validation: Loss: 0.4107, Accuracy: 0.8214\n",
            "Epoch Time: 0.80 secs\n",
            "Epoch: 18/30\n",
            "Iteration: 000, Loss: 0.1972, Accuracy: 0.9455\n",
            "Training: Loss: 0.1972, Accuracy: 0.9455\n",
            "Validation: Loss: 0.4826, Accuracy: 0.8214\n",
            "Epoch Time: 0.76 secs\n",
            "Epoch: 19/30\n",
            "Iteration: 000, Loss: 0.2916, Accuracy: 0.8545\n",
            "Training: Loss: 0.2916, Accuracy: 0.8545\n",
            "Validation: Loss: 0.3824, Accuracy: 0.8214\n",
            "Epoch Time: 0.79 secs\n",
            "Epoch: 20/30\n",
            "Iteration: 000, Loss: 0.2071, Accuracy: 0.9182\n",
            "Training: Loss: 0.2071, Accuracy: 0.9182\n",
            "Validation: Loss: 0.2541, Accuracy: 0.8929\n",
            "Epoch Time: 0.77 secs\n",
            "Epoch: 21/30\n",
            "Iteration: 000, Loss: 0.1003, Accuracy: 0.9818\n",
            "Training: Loss: 0.1003, Accuracy: 0.9818\n",
            "Validation: Loss: 0.2533, Accuracy: 0.9286\n",
            "Epoch Time: 0.81 secs\n",
            "Epoch: 22/30\n",
            "Iteration: 000, Loss: 0.0708, Accuracy: 1.0000\n",
            "Training: Loss: 0.0708, Accuracy: 1.0000\n",
            "Validation: Loss: 0.3606, Accuracy: 0.8571\n",
            "Epoch Time: 0.78 secs\n",
            "Epoch: 23/30\n",
            "Iteration: 000, Loss: 0.0827, Accuracy: 0.9636\n",
            "Training: Loss: 0.0827, Accuracy: 0.9636\n",
            "Validation: Loss: 0.4648, Accuracy: 0.7857\n",
            "Epoch Time: 0.75 secs\n",
            "Epoch: 24/30\n",
            "Iteration: 000, Loss: 0.0968, Accuracy: 0.9545\n",
            "Training: Loss: 0.0968, Accuracy: 0.9545\n",
            "Validation: Loss: 0.4809, Accuracy: 0.7857\n",
            "Epoch Time: 0.79 secs\n",
            "Epoch: 25/30\n",
            "Iteration: 000, Loss: 0.0908, Accuracy: 0.9545\n",
            "Training: Loss: 0.0908, Accuracy: 0.9545\n",
            "Validation: Loss: 0.4034, Accuracy: 0.7857\n",
            "Epoch Time: 0.77 secs\n",
            "Epoch: 26/30\n",
            "Iteration: 000, Loss: 0.0672, Accuracy: 0.9818\n",
            "Training: Loss: 0.0672, Accuracy: 0.9818\n",
            "Validation: Loss: 0.2890, Accuracy: 0.8571\n",
            "Epoch Time: 0.77 secs\n",
            "Epoch: 27/30\n",
            "Iteration: 000, Loss: 0.0437, Accuracy: 1.0000\n",
            "Training: Loss: 0.0437, Accuracy: 1.0000\n",
            "Validation: Loss: 0.1988, Accuracy: 0.9643\n",
            "Epoch Time: 0.76 secs\n",
            "Epoch: 28/30\n",
            "Iteration: 000, Loss: 0.0314, Accuracy: 1.0000\n",
            "Training: Loss: 0.0314, Accuracy: 1.0000\n",
            "Validation: Loss: 0.1548, Accuracy: 0.9286\n",
            "Epoch Time: 0.77 secs\n",
            "Epoch: 29/30\n",
            "Iteration: 000, Loss: 0.0295, Accuracy: 1.0000\n",
            "Training: Loss: 0.0295, Accuracy: 1.0000\n",
            "Validation: Loss: 0.1439, Accuracy: 0.9286\n",
            "Epoch Time: 0.77 secs\n",
            "Epoch: 30/30\n",
            "Iteration: 000, Loss: 0.0328, Accuracy: 1.0000\n",
            "Training: Loss: 0.0328, Accuracy: 1.0000\n",
            "Validation: Loss: 0.1451, Accuracy: 0.9643\n",
            "Epoch Time: 0.76 secs\n"
          ]
        },
        {
          "output_type": "display_data",
          "data": {
            "text/plain": [
              "<IPython.core.display.HTML object>"
            ],
            "text/html": [
              "Waiting for W&B process to finish... <strong style=\"color:green\">(success).</strong>"
            ]
          },
          "metadata": {}
        },
        {
          "output_type": "display_data",
          "data": {
            "text/plain": [
              "VBox(children=(Label(value='276.859 MB of 276.859 MB uploaded (0.000 MB deduped)\\r'), FloatProgress(value=1.0,…"
            ],
            "application/vnd.jupyter.widget-view+json": {
              "version_major": 2,
              "version_minor": 0,
              "model_id": "82fe55daf2404172bb93b5f674ff5d40"
            }
          },
          "metadata": {}
        },
        {
          "output_type": "display_data",
          "data": {
            "text/plain": [
              "<IPython.core.display.HTML object>"
            ],
            "text/html": [
              "<style>\n",
              "    table.wandb td:nth-child(1) { padding: 0 10px; text-align: left ; width: auto;} td:nth-child(2) {text-align: left ; width: 100%}\n",
              "    .wandb-row { display: flex; flex-direction: row; flex-wrap: wrap; justify-content: flex-start; width: 100% }\n",
              "    .wandb-col { display: flex; flex-direction: column; flex-basis: 100%; flex: 1; padding: 10px; }\n",
              "    </style>\n",
              "<div class=\"wandb-row\"><div class=\"wandb-col\"><h3>Run history:</h3><br/><table class=\"wandb\"><tr><td>train_acc</td><td>▁▂▂▄▂▇▅▆▆▄▄▇▆▆▆▇█▇▇▇██████████</td></tr><tr><td>train_loss</td><td>▁█▇▄▃▁▁▁▁▁▁▁▁▁▁▁▁▁▁▁▁▁▁▁▁▁▁▁▁▁</td></tr><tr><td>val_acc</td><td>▂▁▅▃▆▄▄▄▅▅▇▄▄▃▄▇▇▇▇▇█▇▆▆▆▇████</td></tr><tr><td>val_loss</td><td>█▆▃▂▁▂▂▁▁▁▁▁▁▁▁▁▁▁▁▁▁▁▁▁▁▁▁▁▁▁</td></tr></table><br/></div><div class=\"wandb-col\"><h3>Run summary:</h3><br/><table class=\"wandb\"><tr><td>train_acc</td><td>1.0</td></tr><tr><td>train_loss</td><td>0.03279</td></tr><tr><td>val_acc</td><td>0.96429</td></tr><tr><td>val_loss</td><td>0.14513</td></tr></table><br/></div></div>"
            ]
          },
          "metadata": {}
        },
        {
          "output_type": "display_data",
          "data": {
            "text/plain": [
              "<IPython.core.display.HTML object>"
            ],
            "text/html": [
              "Synced <strong style=\"color:#cdcd00\">twilight-sweep-1</strong>: <a href=\"https://wandb.ai/awesome-team/diu-phase2-demo/runs/rrdeghtf\" target=\"_blank\">https://wandb.ai/awesome-team/diu-phase2-demo/runs/rrdeghtf</a><br/>Synced 5 W&B file(s), 1 media file(s), 35 artifact file(s) and 2 other file(s)"
            ]
          },
          "metadata": {}
        },
        {
          "output_type": "display_data",
          "data": {
            "text/plain": [
              "<IPython.core.display.HTML object>"
            ],
            "text/html": [
              "Find logs at: <code>./wandb/run-20220829_140746-rrdeghtf/logs</code>"
            ]
          },
          "metadata": {}
        },
        {
          "output_type": "stream",
          "name": "stderr",
          "text": [
            "\u001b[34m\u001b[1mwandb\u001b[0m: Agent Starting Run: s8sdhad7 with config:\n",
            "\u001b[34m\u001b[1mwandb\u001b[0m: \tbalanced: 1\n",
            "\u001b[34m\u001b[1mwandb\u001b[0m: \tbs: 400\n",
            "\u001b[34m\u001b[1mwandb\u001b[0m: \tnum_epochs: 31\n",
            "\u001b[34m\u001b[1mwandb\u001b[0m: \tpxls: 150\n",
            "\u001b[34m\u001b[1mwandb\u001b[0m: \trate: 0.06863904111904082\n"
          ]
        },
        {
          "output_type": "display_data",
          "data": {
            "text/plain": [
              "<IPython.core.display.HTML object>"
            ],
            "text/html": [
              "Tracking run with wandb version 0.13.2"
            ]
          },
          "metadata": {}
        },
        {
          "output_type": "display_data",
          "data": {
            "text/plain": [
              "<IPython.core.display.HTML object>"
            ],
            "text/html": [
              "Run data is saved locally in <code>/content/wandb/run-20220829_140842-s8sdhad7</code>"
            ]
          },
          "metadata": {}
        },
        {
          "output_type": "display_data",
          "data": {
            "text/plain": [
              "<IPython.core.display.HTML object>"
            ],
            "text/html": [
              "Syncing run <strong><a href=\"https://wandb.ai/awesome-team/diu-phase2-demo/runs/s8sdhad7\" target=\"_blank\">flowing-sweep-2</a></strong> to <a href=\"https://wandb.ai/awesome-team/diu-phase2-demo\" target=\"_blank\">Weights & Biases</a> (<a href=\"https://wandb.me/run\" target=\"_blank\">docs</a>)<br/>Sweep page:  <a href=\"https://wandb.ai/awesome-team/diu-phase2-demo/sweeps/hc69lhb2\" target=\"_blank\">https://wandb.ai/awesome-team/diu-phase2-demo/sweeps/hc69lhb2</a>"
            ]
          },
          "metadata": {}
        },
        {
          "output_type": "stream",
          "name": "stdout",
          "text": [
            "Epoch: 1/31\n",
            "Iteration: 000, Loss: 1.0810, Accuracy: 0.3455\n",
            "Training: Loss: 1.0810, Accuracy: 0.3455\n",
            "Validation: Loss: 14.7383, Accuracy: 0.2857\n",
            "Epoch Time: 0.79 secs\n",
            "Epoch: 2/31\n",
            "Iteration: 000, Loss: 18.9125, Accuracy: 0.4455\n",
            "Training: Loss: 18.9125, Accuracy: 0.4455\n",
            "Validation: Loss: 195.4135, Accuracy: 0.7857\n",
            "Epoch Time: 0.85 secs\n",
            "Epoch: 3/31\n",
            "Iteration: 000, Loss: 341.6161, Accuracy: 0.7000\n",
            "Training: Loss: 341.6161, Accuracy: 0.7000\n",
            "Validation: Loss: 379.3176, Accuracy: 0.3571\n",
            "Epoch Time: 0.85 secs\n",
            "Epoch: 4/31\n",
            "Iteration: 000, Loss: 490.0948, Accuracy: 0.3636\n",
            "Training: Loss: 490.0948, Accuracy: 0.3636\n",
            "Validation: Loss: 67.4359, Accuracy: 0.7857\n",
            "Epoch Time: 0.88 secs\n",
            "Epoch: 5/31\n",
            "Iteration: 000, Loss: 120.2009, Accuracy: 0.6909\n",
            "Training: Loss: 120.2009, Accuracy: 0.6909\n",
            "Validation: Loss: 44.3590, Accuracy: 0.4643\n",
            "Epoch Time: 0.78 secs\n",
            "Epoch: 6/31\n",
            "Iteration: 000, Loss: 54.4581, Accuracy: 0.4636\n",
            "Training: Loss: 54.4581, Accuracy: 0.4636\n",
            "Validation: Loss: 48.3528, Accuracy: 0.1786\n",
            "Epoch Time: 0.77 secs\n",
            "Epoch: 7/31\n",
            "Iteration: 000, Loss: 38.5635, Accuracy: 0.3000\n",
            "Training: Loss: 38.5635, Accuracy: 0.3000\n",
            "Validation: Loss: 27.7238, Accuracy: 0.1786\n",
            "Epoch Time: 0.81 secs\n",
            "Epoch: 8/31\n",
            "Iteration: 000, Loss: 18.2016, Accuracy: 0.4455\n",
            "Training: Loss: 18.2016, Accuracy: 0.4455\n",
            "Validation: Loss: 0.9694, Accuracy: 0.9286\n",
            "Epoch Time: 0.79 secs\n",
            "Epoch: 9/31\n",
            "Iteration: 000, Loss: 1.2986, Accuracy: 0.8364\n",
            "Training: Loss: 1.2986, Accuracy: 0.8364\n",
            "Validation: Loss: 7.9037, Accuracy: 0.7857\n",
            "Epoch Time: 0.78 secs\n",
            "Epoch: 10/31\n",
            "Iteration: 000, Loss: 12.2040, Accuracy: 0.7000\n",
            "Training: Loss: 12.2040, Accuracy: 0.7000\n",
            "Validation: Loss: 6.2487, Accuracy: 0.7857\n",
            "Epoch Time: 0.78 secs\n",
            "Epoch: 11/31\n",
            "Iteration: 000, Loss: 8.3904, Accuracy: 0.7000\n",
            "Training: Loss: 8.3904, Accuracy: 0.7000\n",
            "Validation: Loss: 4.5010, Accuracy: 0.8214\n",
            "Epoch Time: 0.78 secs\n",
            "Epoch: 12/31\n",
            "Iteration: 000, Loss: 6.2592, Accuracy: 0.7000\n",
            "Training: Loss: 6.2592, Accuracy: 0.7000\n",
            "Validation: Loss: 3.0503, Accuracy: 0.7857\n",
            "Epoch Time: 0.79 secs\n",
            "Epoch: 13/31\n",
            "Iteration: 000, Loss: 4.1624, Accuracy: 0.7000\n",
            "Training: Loss: 4.1624, Accuracy: 0.7000\n",
            "Validation: Loss: 1.7037, Accuracy: 0.8571\n",
            "Epoch Time: 0.78 secs\n",
            "Epoch: 14/31\n",
            "Iteration: 000, Loss: 0.7950, Accuracy: 0.8909\n",
            "Training: Loss: 0.7950, Accuracy: 0.8909\n",
            "Validation: Loss: 5.1656, Accuracy: 0.6429\n",
            "Epoch Time: 0.79 secs\n",
            "Epoch: 15/31\n",
            "Iteration: 000, Loss: 2.9759, Accuracy: 0.7636\n",
            "Training: Loss: 2.9759, Accuracy: 0.7636\n",
            "Validation: Loss: 6.3464, Accuracy: 0.6071\n",
            "Epoch Time: 0.78 secs\n",
            "Epoch: 16/31\n",
            "Iteration: 000, Loss: 2.7513, Accuracy: 0.7455\n",
            "Training: Loss: 2.7513, Accuracy: 0.7455\n",
            "Validation: Loss: 5.2478, Accuracy: 0.7857\n",
            "Epoch Time: 0.79 secs\n",
            "Epoch: 17/31\n",
            "Iteration: 000, Loss: 0.6494, Accuracy: 0.9091\n",
            "Training: Loss: 0.6494, Accuracy: 0.9091\n",
            "Validation: Loss: 6.4107, Accuracy: 0.7143\n",
            "Epoch Time: 0.78 secs\n",
            "Epoch: 18/31\n",
            "Iteration: 000, Loss: 1.8564, Accuracy: 0.7818\n",
            "Training: Loss: 1.8564, Accuracy: 0.7818\n",
            "Validation: Loss: 6.0382, Accuracy: 0.7500\n",
            "Epoch Time: 0.77 secs\n",
            "Epoch: 19/31\n",
            "Iteration: 000, Loss: 1.4827, Accuracy: 0.7909\n",
            "Training: Loss: 1.4827, Accuracy: 0.7909\n",
            "Validation: Loss: 4.6503, Accuracy: 0.7857\n",
            "Epoch Time: 0.79 secs\n",
            "Epoch: 20/31\n",
            "Iteration: 000, Loss: 0.2785, Accuracy: 0.9364\n",
            "Training: Loss: 0.2785, Accuracy: 0.9364\n",
            "Validation: Loss: 3.7042, Accuracy: 0.7500\n",
            "Epoch Time: 0.80 secs\n",
            "Epoch: 21/31\n",
            "Iteration: 000, Loss: 0.4540, Accuracy: 0.9091\n",
            "Training: Loss: 0.4540, Accuracy: 0.9091\n",
            "Validation: Loss: 3.0607, Accuracy: 0.6786\n",
            "Epoch Time: 0.79 secs\n",
            "Epoch: 22/31\n",
            "Iteration: 000, Loss: 0.4338, Accuracy: 0.8727\n",
            "Training: Loss: 0.4338, Accuracy: 0.8727\n",
            "Validation: Loss: 0.2132, Accuracy: 0.9286\n",
            "Epoch Time: 0.86 secs\n",
            "Epoch: 23/31\n",
            "Iteration: 000, Loss: 0.0116, Accuracy: 1.0000\n",
            "Training: Loss: 0.0116, Accuracy: 1.0000\n",
            "Validation: Loss: 1.9883, Accuracy: 0.8214\n",
            "Epoch Time: 1.03 secs\n",
            "Epoch: 24/31\n",
            "Iteration: 000, Loss: 2.1561, Accuracy: 0.7364\n",
            "Training: Loss: 2.1561, Accuracy: 0.7364\n",
            "Validation: Loss: 0.7987, Accuracy: 0.8929\n",
            "Epoch Time: 1.00 secs\n",
            "Epoch: 25/31\n",
            "Iteration: 000, Loss: 0.0293, Accuracy: 0.9909\n",
            "Training: Loss: 0.0293, Accuracy: 0.9909\n",
            "Validation: Loss: 5.7414, Accuracy: 0.6071\n",
            "Epoch Time: 0.97 secs\n",
            "Epoch: 26/31\n",
            "Iteration: 000, Loss: 1.7627, Accuracy: 0.7636\n",
            "Training: Loss: 1.7627, Accuracy: 0.7636\n",
            "Validation: Loss: 3.6288, Accuracy: 0.7500\n",
            "Epoch Time: 0.77 secs\n",
            "Epoch: 27/31\n",
            "Iteration: 000, Loss: 0.4578, Accuracy: 0.9000\n",
            "Training: Loss: 0.4578, Accuracy: 0.9000\n",
            "Validation: Loss: 1.2601, Accuracy: 0.8929\n",
            "Epoch Time: 0.77 secs\n",
            "Epoch: 28/31\n",
            "Iteration: 000, Loss: 0.0002, Accuracy: 1.0000\n",
            "Training: Loss: 0.0002, Accuracy: 1.0000\n",
            "Validation: Loss: 0.8308, Accuracy: 0.8929\n",
            "Epoch Time: 0.79 secs\n",
            "Epoch: 29/31\n",
            "Iteration: 000, Loss: 0.0002, Accuracy: 1.0000\n",
            "Training: Loss: 0.0002, Accuracy: 1.0000\n",
            "Validation: Loss: 1.0342, Accuracy: 0.8929\n",
            "Epoch Time: 0.78 secs\n",
            "Epoch: 30/31\n",
            "Iteration: 000, Loss: 0.1229, Accuracy: 0.9727\n",
            "Training: Loss: 0.1229, Accuracy: 0.9727\n",
            "Validation: Loss: 1.2603, Accuracy: 0.8929\n",
            "Epoch Time: 0.77 secs\n",
            "Epoch: 31/31\n",
            "Iteration: 000, Loss: 0.4335, Accuracy: 0.9455\n",
            "Training: Loss: 0.4335, Accuracy: 0.9455\n",
            "Validation: Loss: 1.3850, Accuracy: 0.8929\n",
            "Epoch Time: 0.76 secs\n"
          ]
        },
        {
          "output_type": "display_data",
          "data": {
            "text/plain": [
              "<IPython.core.display.HTML object>"
            ],
            "text/html": [
              "Waiting for W&B process to finish... <strong style=\"color:green\">(success).</strong>"
            ]
          },
          "metadata": {}
        },
        {
          "output_type": "display_data",
          "data": {
            "text/plain": [
              "VBox(children=(Label(value='276.828 MB of 276.828 MB uploaded (0.000 MB deduped)\\r'), FloatProgress(value=1.0,…"
            ],
            "application/vnd.jupyter.widget-view+json": {
              "version_major": 2,
              "version_minor": 0,
              "model_id": "6855000554e944d7bd9e4773c88ec7c8"
            }
          },
          "metadata": {}
        },
        {
          "output_type": "display_data",
          "data": {
            "text/plain": [
              "<IPython.core.display.HTML object>"
            ],
            "text/html": [
              "<style>\n",
              "    table.wandb td:nth-child(1) { padding: 0 10px; text-align: left ; width: auto;} td:nth-child(2) {text-align: left ; width: 100%}\n",
              "    .wandb-row { display: flex; flex-direction: row; flex-wrap: wrap; justify-content: flex-start; width: 100% }\n",
              "    .wandb-col { display: flex; flex-direction: column; flex-basis: 100%; flex: 1; padding: 10px; }\n",
              "    </style>\n",
              "<div class=\"wandb-row\"><div class=\"wandb-col\"><h3>Run history:</h3><br/><table class=\"wandb\"><tr><td>train_acc</td><td>▁▂▅▂▅▃▁▂▆▅▅▅▅▇▆▅▇▆▆▇▇▇█▅█▆▇███▇</td></tr><tr><td>train_loss</td><td>▁▁▆█▃▂▂▁▁▁▁▁▁▁▁▁▁▁▁▁▁▁▁▁▁▁▁▁▁▁▁</td></tr><tr><td>val_acc</td><td>▂▇▃▇▄▁▁█▇▇▇▇▇▅▅▇▆▆▇▆▆█▇█▅▆█████</td></tr><tr><td>val_loss</td><td>▁▅█▂▂▂▂▁▁▁▁▁▁▁▁▁▁▁▁▁▁▁▁▁▁▁▁▁▁▁▁</td></tr></table><br/></div><div class=\"wandb-col\"><h3>Run summary:</h3><br/><table class=\"wandb\"><tr><td>train_acc</td><td>0.94545</td></tr><tr><td>train_loss</td><td>0.43348</td></tr><tr><td>val_acc</td><td>0.89286</td></tr><tr><td>val_loss</td><td>1.38501</td></tr></table><br/></div></div>"
            ]
          },
          "metadata": {}
        },
        {
          "output_type": "display_data",
          "data": {
            "text/plain": [
              "<IPython.core.display.HTML object>"
            ],
            "text/html": [
              "Synced <strong style=\"color:#cdcd00\">flowing-sweep-2</strong>: <a href=\"https://wandb.ai/awesome-team/diu-phase2-demo/runs/s8sdhad7\" target=\"_blank\">https://wandb.ai/awesome-team/diu-phase2-demo/runs/s8sdhad7</a><br/>Synced 5 W&B file(s), 1 media file(s), 35 artifact file(s) and 2 other file(s)"
            ]
          },
          "metadata": {}
        },
        {
          "output_type": "display_data",
          "data": {
            "text/plain": [
              "<IPython.core.display.HTML object>"
            ],
            "text/html": [
              "Find logs at: <code>./wandb/run-20220829_140842-s8sdhad7/logs</code>"
            ]
          },
          "metadata": {}
        },
        {
          "output_type": "stream",
          "name": "stderr",
          "text": [
            "\u001b[34m\u001b[1mwandb\u001b[0m: Agent Starting Run: v9w11a3d with config:\n",
            "\u001b[34m\u001b[1mwandb\u001b[0m: \tbalanced: 1\n",
            "\u001b[34m\u001b[1mwandb\u001b[0m: \tbs: 400\n",
            "\u001b[34m\u001b[1mwandb\u001b[0m: \tnum_epochs: 23\n",
            "\u001b[34m\u001b[1mwandb\u001b[0m: \tpxls: 150\n",
            "\u001b[34m\u001b[1mwandb\u001b[0m: \trate: 0.06403644913362225\n"
          ]
        },
        {
          "output_type": "display_data",
          "data": {
            "text/plain": [
              "<IPython.core.display.HTML object>"
            ],
            "text/html": [
              "Tracking run with wandb version 0.13.2"
            ]
          },
          "metadata": {}
        },
        {
          "output_type": "display_data",
          "data": {
            "text/plain": [
              "<IPython.core.display.HTML object>"
            ],
            "text/html": [
              "Run data is saved locally in <code>/content/wandb/run-20220829_140928-v9w11a3d</code>"
            ]
          },
          "metadata": {}
        },
        {
          "output_type": "display_data",
          "data": {
            "text/plain": [
              "<IPython.core.display.HTML object>"
            ],
            "text/html": [
              "Syncing run <strong><a href=\"https://wandb.ai/awesome-team/diu-phase2-demo/runs/v9w11a3d\" target=\"_blank\">still-sweep-3</a></strong> to <a href=\"https://wandb.ai/awesome-team/diu-phase2-demo\" target=\"_blank\">Weights & Biases</a> (<a href=\"https://wandb.me/run\" target=\"_blank\">docs</a>)<br/>Sweep page:  <a href=\"https://wandb.ai/awesome-team/diu-phase2-demo/sweeps/hc69lhb2\" target=\"_blank\">https://wandb.ai/awesome-team/diu-phase2-demo/sweeps/hc69lhb2</a>"
            ]
          },
          "metadata": {}
        },
        {
          "output_type": "stream",
          "name": "stdout",
          "text": [
            "Epoch: 1/23\n",
            "Iteration: 000, Loss: 1.1095, Accuracy: 0.3455\n",
            "Training: Loss: 1.1095, Accuracy: 0.3455\n",
            "Validation: Loss: 203.5659, Accuracy: 0.2857\n",
            "Epoch Time: 0.90 secs\n",
            "Epoch: 2/23\n",
            "Iteration: 000, Loss: 217.3913, Accuracy: 0.3818\n",
            "Training: Loss: 217.3913, Accuracy: 0.3818\n",
            "Validation: Loss: 109.5171, Accuracy: 0.6786\n",
            "Epoch Time: 0.97 secs\n",
            "Epoch: 3/23\n",
            "Iteration: 000, Loss: 156.7105, Accuracy: 0.6182\n",
            "Training: Loss: 156.7105, Accuracy: 0.6182\n",
            "Validation: Loss: 136.7477, Accuracy: 0.3929\n",
            "Epoch Time: 0.86 secs\n",
            "Epoch: 4/23\n",
            "Iteration: 000, Loss: 171.2295, Accuracy: 0.3545\n",
            "Training: Loss: 171.2295, Accuracy: 0.3545\n",
            "Validation: Loss: 19.8797, Accuracy: 0.6429\n",
            "Epoch Time: 0.80 secs\n",
            "Epoch: 5/23\n",
            "Iteration: 000, Loss: 27.4045, Accuracy: 0.5727\n",
            "Training: Loss: 27.4045, Accuracy: 0.5727\n",
            "Validation: Loss: 10.5012, Accuracy: 0.3929\n",
            "Epoch Time: 0.80 secs\n",
            "Epoch: 6/23\n",
            "Iteration: 000, Loss: 10.9189, Accuracy: 0.5273\n",
            "Training: Loss: 10.9189, Accuracy: 0.5273\n",
            "Validation: Loss: 22.5746, Accuracy: 0.2857\n",
            "Epoch Time: 0.83 secs\n",
            "Epoch: 7/23\n",
            "Iteration: 000, Loss: 23.4773, Accuracy: 0.3818\n",
            "Training: Loss: 23.4773, Accuracy: 0.3818\n",
            "Validation: Loss: 17.7558, Accuracy: 0.2857\n",
            "Epoch Time: 0.81 secs\n",
            "Epoch: 8/23\n",
            "Iteration: 000, Loss: 18.1451, Accuracy: 0.3818\n",
            "Training: Loss: 18.1451, Accuracy: 0.3818\n",
            "Validation: Loss: 9.5057, Accuracy: 0.4643\n",
            "Epoch Time: 0.81 secs\n",
            "Epoch: 9/23\n",
            "Iteration: 000, Loss: 10.1968, Accuracy: 0.6455\n",
            "Training: Loss: 10.1968, Accuracy: 0.6455\n",
            "Validation: Loss: 6.8938, Accuracy: 0.3214\n",
            "Epoch Time: 0.80 secs\n",
            "Epoch: 10/23\n",
            "Iteration: 000, Loss: 7.2164, Accuracy: 0.2909\n",
            "Training: Loss: 7.2164, Accuracy: 0.2909\n",
            "Validation: Loss: 3.3888, Accuracy: 0.3214\n",
            "Epoch Time: 0.82 secs\n",
            "Epoch: 11/23\n",
            "Iteration: 000, Loss: 2.8809, Accuracy: 0.3545\n",
            "Training: Loss: 2.8809, Accuracy: 0.3545\n",
            "Validation: Loss: 1.6315, Accuracy: 0.4286\n",
            "Epoch Time: 0.76 secs\n",
            "Epoch: 12/23\n",
            "Iteration: 000, Loss: 0.8548, Accuracy: 0.6818\n",
            "Training: Loss: 0.8548, Accuracy: 0.6818\n",
            "Validation: Loss: 0.8956, Accuracy: 0.6429\n",
            "Epoch Time: 0.77 secs\n",
            "Epoch: 13/23\n",
            "Iteration: 000, Loss: 0.6188, Accuracy: 0.8909\n",
            "Training: Loss: 0.6188, Accuracy: 0.8909\n",
            "Validation: Loss: 1.4244, Accuracy: 0.5357\n",
            "Epoch Time: 0.79 secs\n",
            "Epoch: 14/23\n",
            "Iteration: 000, Loss: 0.9556, Accuracy: 0.7909\n",
            "Training: Loss: 0.9556, Accuracy: 0.7909\n",
            "Validation: Loss: 1.1815, Accuracy: 0.5714\n",
            "Epoch Time: 0.77 secs\n",
            "Epoch: 15/23\n",
            "Iteration: 000, Loss: 0.9579, Accuracy: 0.6000\n",
            "Training: Loss: 0.9579, Accuracy: 0.6000\n",
            "Validation: Loss: 0.8419, Accuracy: 0.6786\n",
            "Epoch Time: 0.77 secs\n",
            "Epoch: 16/23\n",
            "Iteration: 000, Loss: 0.9356, Accuracy: 0.5545\n",
            "Training: Loss: 0.9356, Accuracy: 0.5545\n",
            "Validation: Loss: 0.8423, Accuracy: 0.6786\n",
            "Epoch Time: 0.77 secs\n",
            "Epoch: 17/23\n",
            "Iteration: 000, Loss: 0.9017, Accuracy: 0.5455\n",
            "Training: Loss: 0.9017, Accuracy: 0.5455\n",
            "Validation: Loss: 0.8978, Accuracy: 0.5714\n",
            "Epoch Time: 0.78 secs\n",
            "Epoch: 18/23\n",
            "Iteration: 000, Loss: 0.8330, Accuracy: 0.6091\n",
            "Training: Loss: 0.8330, Accuracy: 0.6091\n",
            "Validation: Loss: 0.9269, Accuracy: 0.5714\n",
            "Epoch Time: 0.78 secs\n",
            "Epoch: 19/23\n",
            "Iteration: 000, Loss: 0.8383, Accuracy: 0.6091\n",
            "Training: Loss: 0.8383, Accuracy: 0.6091\n",
            "Validation: Loss: 0.9559, Accuracy: 0.5357\n",
            "Epoch Time: 0.76 secs\n",
            "Epoch: 20/23\n",
            "Iteration: 000, Loss: 0.8385, Accuracy: 0.6091\n",
            "Training: Loss: 0.8385, Accuracy: 0.6091\n",
            "Validation: Loss: 0.9526, Accuracy: 0.5357\n",
            "Epoch Time: 0.75 secs\n",
            "Epoch: 21/23\n",
            "Iteration: 000, Loss: 0.8256, Accuracy: 0.6091\n",
            "Training: Loss: 0.8256, Accuracy: 0.6091\n",
            "Validation: Loss: 0.9366, Accuracy: 0.5357\n",
            "Epoch Time: 0.75 secs\n",
            "Epoch: 22/23\n",
            "Iteration: 000, Loss: 0.7981, Accuracy: 0.6091\n",
            "Training: Loss: 0.7981, Accuracy: 0.6091\n",
            "Validation: Loss: 0.9175, Accuracy: 0.5357\n",
            "Epoch Time: 0.78 secs\n",
            "Epoch: 23/23\n",
            "Iteration: 000, Loss: 0.7623, Accuracy: 0.6091\n",
            "Training: Loss: 0.7623, Accuracy: 0.6091\n",
            "Validation: Loss: 0.8846, Accuracy: 0.6071\n",
            "Epoch Time: 0.77 secs\n"
          ]
        },
        {
          "output_type": "display_data",
          "data": {
            "text/plain": [
              "<IPython.core.display.HTML object>"
            ],
            "text/html": [
              "Waiting for W&B process to finish... <strong style=\"color:green\">(success).</strong>"
            ]
          },
          "metadata": {}
        },
        {
          "output_type": "display_data",
          "data": {
            "text/plain": [
              "VBox(children=(Label(value='277.193 MB of 277.193 MB uploaded (0.000 MB deduped)\\r'), FloatProgress(value=1.0,…"
            ],
            "application/vnd.jupyter.widget-view+json": {
              "version_major": 2,
              "version_minor": 0,
              "model_id": "67d8f3be9135420c9d8614d7d8698492"
            }
          },
          "metadata": {}
        },
        {
          "output_type": "display_data",
          "data": {
            "text/plain": [
              "<IPython.core.display.HTML object>"
            ],
            "text/html": [
              "<style>\n",
              "    table.wandb td:nth-child(1) { padding: 0 10px; text-align: left ; width: auto;} td:nth-child(2) {text-align: left ; width: 100%}\n",
              "    .wandb-row { display: flex; flex-direction: row; flex-wrap: wrap; justify-content: flex-start; width: 100% }\n",
              "    .wandb-col { display: flex; flex-direction: column; flex-basis: 100%; flex: 1; padding: 10px; }\n",
              "    </style>\n",
              "<div class=\"wandb-row\"><div class=\"wandb-col\"><h3>Run history:</h3><br/><table class=\"wandb\"><tr><td>train_acc</td><td>▂▂▅▂▄▄▂▂▅▁▂▆█▇▅▄▄▅▅▅▅▅▅</td></tr><tr><td>train_loss</td><td>▁█▆▇▂▁▂▂▁▁▁▁▁▁▁▁▁▁▁▁▁▁▁</td></tr><tr><td>val_acc</td><td>▁█▃▇▃▁▁▄▂▂▄▇▅▆██▆▆▅▅▅▅▇</td></tr><tr><td>val_loss</td><td>█▅▆▂▁▂▂▁▁▁▁▁▁▁▁▁▁▁▁▁▁▁▁</td></tr></table><br/></div><div class=\"wandb-col\"><h3>Run summary:</h3><br/><table class=\"wandb\"><tr><td>train_acc</td><td>0.60909</td></tr><tr><td>train_loss</td><td>0.76229</td></tr><tr><td>val_acc</td><td>0.60714</td></tr><tr><td>val_loss</td><td>0.88462</td></tr></table><br/></div></div>"
            ]
          },
          "metadata": {}
        },
        {
          "output_type": "display_data",
          "data": {
            "text/plain": [
              "<IPython.core.display.HTML object>"
            ],
            "text/html": [
              "Synced <strong style=\"color:#cdcd00\">still-sweep-3</strong>: <a href=\"https://wandb.ai/awesome-team/diu-phase2-demo/runs/v9w11a3d\" target=\"_blank\">https://wandb.ai/awesome-team/diu-phase2-demo/runs/v9w11a3d</a><br/>Synced 5 W&B file(s), 1 media file(s), 35 artifact file(s) and 2 other file(s)"
            ]
          },
          "metadata": {}
        },
        {
          "output_type": "display_data",
          "data": {
            "text/plain": [
              "<IPython.core.display.HTML object>"
            ],
            "text/html": [
              "Find logs at: <code>./wandb/run-20220829_140928-v9w11a3d/logs</code>"
            ]
          },
          "metadata": {}
        },
        {
          "output_type": "stream",
          "name": "stderr",
          "text": [
            "\u001b[34m\u001b[1mwandb\u001b[0m: Agent Starting Run: 858bplk0 with config:\n",
            "\u001b[34m\u001b[1mwandb\u001b[0m: \tbalanced: 0\n",
            "\u001b[34m\u001b[1mwandb\u001b[0m: \tbs: 150\n",
            "\u001b[34m\u001b[1mwandb\u001b[0m: \tnum_epochs: 28\n",
            "\u001b[34m\u001b[1mwandb\u001b[0m: \tpxls: 150\n",
            "\u001b[34m\u001b[1mwandb\u001b[0m: \trate: 0.014715185237895998\n"
          ]
        },
        {
          "output_type": "display_data",
          "data": {
            "text/plain": [
              "<IPython.core.display.HTML object>"
            ],
            "text/html": [
              "Tracking run with wandb version 0.13.2"
            ]
          },
          "metadata": {}
        },
        {
          "output_type": "display_data",
          "data": {
            "text/plain": [
              "<IPython.core.display.HTML object>"
            ],
            "text/html": [
              "Run data is saved locally in <code>/content/wandb/run-20220829_141009-858bplk0</code>"
            ]
          },
          "metadata": {}
        },
        {
          "output_type": "display_data",
          "data": {
            "text/plain": [
              "<IPython.core.display.HTML object>"
            ],
            "text/html": [
              "Syncing run <strong><a href=\"https://wandb.ai/awesome-team/diu-phase2-demo/runs/858bplk0\" target=\"_blank\">glorious-sweep-4</a></strong> to <a href=\"https://wandb.ai/awesome-team/diu-phase2-demo\" target=\"_blank\">Weights & Biases</a> (<a href=\"https://wandb.me/run\" target=\"_blank\">docs</a>)<br/>Sweep page:  <a href=\"https://wandb.ai/awesome-team/diu-phase2-demo/sweeps/hc69lhb2\" target=\"_blank\">https://wandb.ai/awesome-team/diu-phase2-demo/sweeps/hc69lhb2</a>"
            ]
          },
          "metadata": {}
        },
        {
          "output_type": "stream",
          "name": "stdout",
          "text": [
            "Epoch: 1/28\n",
            "Iteration: 000, Loss: 1.0732, Accuracy: 0.5533\n",
            "Iteration: 001, Loss: 7.0531, Accuracy: 0.5400\n",
            "Iteration: 002, Loss: 47.4601, Accuracy: 0.3133\n",
            "Iteration: 003, Loss: 25.5287, Accuracy: 0.4054\n",
            "Training: Loss: 19.5174, Accuracy: 0.4599\n",
            "Validation: Loss: 6.3875, Accuracy: 0.3435\n",
            "Epoch Time: 5.54 secs\n",
            "Epoch: 2/28\n",
            "Iteration: 000, Loss: 7.5636, Accuracy: 0.3933\n",
            "Iteration: 001, Loss: 1.6199, Accuracy: 0.7200\n",
            "Iteration: 002, Loss: 8.0705, Accuracy: 0.5133\n",
            "Iteration: 003, Loss: 4.6953, Accuracy: 0.6081\n",
            "Training: Loss: 5.6022, Accuracy: 0.5515\n",
            "Validation: Loss: 3.5828, Accuracy: 0.6107\n",
            "Epoch Time: 5.11 secs\n",
            "Epoch: 3/28\n",
            "Iteration: 000, Loss: 3.8194, Accuracy: 0.5933\n",
            "Iteration: 001, Loss: 1.2398, Accuracy: 0.6600\n",
            "Iteration: 002, Loss: 0.3552, Accuracy: 0.8800\n",
            "Iteration: 003, Loss: 0.3150, Accuracy: 0.9054\n",
            "Training: Loss: 1.5944, Accuracy: 0.7385\n",
            "Validation: Loss: 0.2932, Accuracy: 0.9237\n",
            "Epoch Time: 3.43 secs\n",
            "Epoch: 4/28\n",
            "Iteration: 000, Loss: 0.2783, Accuracy: 0.9133\n",
            "Iteration: 001, Loss: 0.3214, Accuracy: 0.9133\n",
            "Iteration: 002, Loss: 0.2153, Accuracy: 0.9467\n",
            "Iteration: 003, Loss: 0.2027, Accuracy: 0.9459\n",
            "Training: Loss: 0.2619, Accuracy: 0.9275\n",
            "Validation: Loss: 0.3201, Accuracy: 0.9008\n",
            "Epoch Time: 3.29 secs\n",
            "Epoch: 5/28\n",
            "Iteration: 000, Loss: 0.3007, Accuracy: 0.9200\n",
            "Iteration: 001, Loss: 0.2406, Accuracy: 0.9400\n",
            "Iteration: 002, Loss: 0.1931, Accuracy: 0.9467\n",
            "Iteration: 003, Loss: 0.2372, Accuracy: 0.9324\n",
            "Training: Loss: 0.2437, Accuracy: 0.9351\n",
            "Validation: Loss: 0.3608, Accuracy: 0.8931\n",
            "Epoch Time: 3.27 secs\n",
            "Epoch: 6/28\n",
            "Iteration: 000, Loss: 0.1566, Accuracy: 0.9533\n",
            "Iteration: 001, Loss: 0.1946, Accuracy: 0.9333\n",
            "Iteration: 002, Loss: 0.2156, Accuracy: 0.9333\n",
            "Iteration: 003, Loss: 0.2064, Accuracy: 0.9189\n",
            "Training: Loss: 0.1914, Accuracy: 0.9370\n",
            "Validation: Loss: 0.1745, Accuracy: 0.9618\n",
            "Epoch Time: 3.29 secs\n",
            "Epoch: 7/28\n",
            "Iteration: 000, Loss: 0.1501, Accuracy: 0.9533\n",
            "Iteration: 001, Loss: 0.1420, Accuracy: 0.9467\n",
            "Iteration: 002, Loss: 0.1813, Accuracy: 0.9200\n",
            "Iteration: 003, Loss: 0.1091, Accuracy: 0.9459\n",
            "Training: Loss: 0.1509, Accuracy: 0.9408\n",
            "Validation: Loss: 0.2190, Accuracy: 0.9084\n",
            "Epoch Time: 3.27 secs\n",
            "Epoch: 8/28\n",
            "Iteration: 000, Loss: 0.1483, Accuracy: 0.9467\n",
            "Iteration: 001, Loss: 0.1196, Accuracy: 0.9533\n",
            "Iteration: 002, Loss: 0.1271, Accuracy: 0.9467\n",
            "Iteration: 003, Loss: 0.1779, Accuracy: 0.8919\n",
            "Training: Loss: 0.1382, Accuracy: 0.9408\n",
            "Validation: Loss: 0.1480, Accuracy: 0.9618\n",
            "Epoch Time: 3.29 secs\n",
            "Epoch: 9/28\n",
            "Iteration: 000, Loss: 0.1072, Accuracy: 0.9733\n",
            "Iteration: 001, Loss: 0.1088, Accuracy: 0.9733\n",
            "Iteration: 002, Loss: 0.1569, Accuracy: 0.9200\n",
            "Iteration: 003, Loss: 0.1594, Accuracy: 0.9324\n",
            "Training: Loss: 0.1293, Accuracy: 0.9523\n",
            "Validation: Loss: 0.0920, Accuracy: 0.9695\n",
            "Epoch Time: 3.23 secs\n",
            "Epoch: 10/28\n",
            "Iteration: 000, Loss: 0.1421, Accuracy: 0.9467\n",
            "Iteration: 001, Loss: 0.1101, Accuracy: 0.9533\n",
            "Iteration: 002, Loss: 0.0732, Accuracy: 0.9733\n",
            "Iteration: 003, Loss: 0.0476, Accuracy: 1.0000\n",
            "Training: Loss: 0.0999, Accuracy: 0.9637\n",
            "Validation: Loss: 0.1422, Accuracy: 0.9542\n",
            "Epoch Time: 3.29 secs\n",
            "Epoch: 11/28\n",
            "Iteration: 000, Loss: 0.1073, Accuracy: 0.9600\n",
            "Iteration: 001, Loss: 0.0771, Accuracy: 0.9733\n",
            "Iteration: 002, Loss: 0.1141, Accuracy: 0.9667\n",
            "Iteration: 003, Loss: 0.0478, Accuracy: 0.9730\n",
            "Training: Loss: 0.0922, Accuracy: 0.9676\n",
            "Validation: Loss: 0.0473, Accuracy: 0.9924\n",
            "Epoch Time: 3.29 secs\n",
            "Epoch: 12/28\n",
            "Iteration: 000, Loss: 0.0370, Accuracy: 0.9933\n",
            "Iteration: 001, Loss: 0.0898, Accuracy: 0.9600\n",
            "Iteration: 002, Loss: 0.0646, Accuracy: 0.9867\n",
            "Iteration: 003, Loss: 0.0627, Accuracy: 0.9595\n",
            "Training: Loss: 0.0636, Accuracy: 0.9771\n",
            "Validation: Loss: 0.0453, Accuracy: 0.9847\n",
            "Epoch Time: 3.27 secs\n",
            "Epoch: 13/28\n",
            "Iteration: 000, Loss: 0.1125, Accuracy: 0.9533\n",
            "Iteration: 001, Loss: 0.0256, Accuracy: 1.0000\n",
            "Iteration: 002, Loss: 0.0532, Accuracy: 0.9800\n",
            "Iteration: 003, Loss: 0.0461, Accuracy: 0.9865\n",
            "Training: Loss: 0.0613, Accuracy: 0.9790\n",
            "Validation: Loss: 0.0319, Accuracy: 0.9847\n",
            "Epoch Time: 3.35 secs\n",
            "Epoch: 14/28\n",
            "Iteration: 000, Loss: 0.0294, Accuracy: 0.9867\n",
            "Iteration: 001, Loss: 0.0282, Accuracy: 0.9867\n",
            "Iteration: 002, Loss: 0.0665, Accuracy: 0.9800\n",
            "Iteration: 003, Loss: 0.0831, Accuracy: 0.9730\n",
            "Training: Loss: 0.0473, Accuracy: 0.9828\n",
            "Validation: Loss: 0.0276, Accuracy: 0.9924\n",
            "Epoch Time: 3.30 secs\n",
            "Epoch: 15/28\n",
            "Iteration: 000, Loss: 0.0256, Accuracy: 1.0000\n",
            "Iteration: 001, Loss: 0.0586, Accuracy: 0.9867\n",
            "Iteration: 002, Loss: 0.0321, Accuracy: 0.9933\n",
            "Iteration: 003, Loss: 0.0275, Accuracy: 0.9865\n",
            "Training: Loss: 0.0372, Accuracy: 0.9924\n",
            "Validation: Loss: 0.0482, Accuracy: 0.9771\n",
            "Epoch Time: 3.32 secs\n",
            "Epoch: 16/28\n",
            "Iteration: 000, Loss: 0.0210, Accuracy: 0.9933\n",
            "Iteration: 001, Loss: 0.0392, Accuracy: 0.9800\n",
            "Iteration: 002, Loss: 0.0175, Accuracy: 0.9933\n",
            "Iteration: 003, Loss: 0.0388, Accuracy: 0.9730\n",
            "Training: Loss: 0.0277, Accuracy: 0.9866\n",
            "Validation: Loss: 0.0297, Accuracy: 0.9847\n",
            "Epoch Time: 3.28 secs\n",
            "Epoch: 17/28\n",
            "Iteration: 000, Loss: 0.0079, Accuracy: 1.0000\n",
            "Iteration: 001, Loss: 0.0178, Accuracy: 1.0000\n",
            "Iteration: 002, Loss: 0.0174, Accuracy: 0.9933\n",
            "Iteration: 003, Loss: 0.0205, Accuracy: 1.0000\n",
            "Training: Loss: 0.0152, Accuracy: 0.9981\n",
            "Validation: Loss: 0.0221, Accuracy: 1.0000\n",
            "Epoch Time: 3.30 secs\n",
            "Epoch: 18/28\n",
            "Iteration: 000, Loss: 0.0189, Accuracy: 1.0000\n",
            "Iteration: 001, Loss: 0.0080, Accuracy: 1.0000\n",
            "Iteration: 002, Loss: 0.0278, Accuracy: 0.9867\n",
            "Iteration: 003, Loss: 0.0954, Accuracy: 0.9459\n",
            "Training: Loss: 0.0291, Accuracy: 0.9885\n",
            "Validation: Loss: 0.0410, Accuracy: 0.9771\n",
            "Epoch Time: 3.28 secs\n",
            "Epoch: 19/28\n",
            "Iteration: 000, Loss: 0.0204, Accuracy: 0.9933\n",
            "Iteration: 001, Loss: 0.0161, Accuracy: 1.0000\n",
            "Iteration: 002, Loss: 0.0303, Accuracy: 0.9800\n",
            "Iteration: 003, Loss: 0.0311, Accuracy: 1.0000\n",
            "Training: Loss: 0.0235, Accuracy: 0.9924\n",
            "Validation: Loss: 0.0162, Accuracy: 1.0000\n",
            "Epoch Time: 3.26 secs\n",
            "Epoch: 20/28\n",
            "Iteration: 000, Loss: 0.0089, Accuracy: 1.0000\n",
            "Iteration: 001, Loss: 0.0064, Accuracy: 1.0000\n",
            "Iteration: 002, Loss: 0.0162, Accuracy: 0.9933\n",
            "Iteration: 003, Loss: 0.0090, Accuracy: 1.0000\n",
            "Training: Loss: 0.0103, Accuracy: 0.9981\n",
            "Validation: Loss: 0.0653, Accuracy: 0.9771\n",
            "Epoch Time: 3.27 secs\n",
            "Epoch: 21/28\n",
            "Iteration: 000, Loss: 0.0263, Accuracy: 0.9867\n",
            "Iteration: 001, Loss: 0.0038, Accuracy: 1.0000\n",
            "Iteration: 002, Loss: 0.0036, Accuracy: 1.0000\n",
            "Iteration: 003, Loss: 0.0034, Accuracy: 1.0000\n",
            "Training: Loss: 0.0101, Accuracy: 0.9962\n",
            "Validation: Loss: 0.0279, Accuracy: 0.9847\n",
            "Epoch Time: 3.25 secs\n",
            "Epoch: 22/28\n",
            "Iteration: 000, Loss: 0.0091, Accuracy: 1.0000\n",
            "Iteration: 001, Loss: 0.0062, Accuracy: 1.0000\n",
            "Iteration: 002, Loss: 0.0087, Accuracy: 1.0000\n",
            "Iteration: 003, Loss: 0.0063, Accuracy: 1.0000\n",
            "Training: Loss: 0.0077, Accuracy: 1.0000\n",
            "Validation: Loss: 0.0266, Accuracy: 0.9847\n",
            "Epoch Time: 3.31 secs\n",
            "Epoch: 23/28\n",
            "Iteration: 000, Loss: 0.0031, Accuracy: 1.0000\n",
            "Iteration: 001, Loss: 0.0043, Accuracy: 1.0000\n",
            "Iteration: 002, Loss: 0.0046, Accuracy: 1.0000\n",
            "Iteration: 003, Loss: 0.0008, Accuracy: 1.0000\n",
            "Training: Loss: 0.0036, Accuracy: 1.0000\n",
            "Validation: Loss: 0.0487, Accuracy: 0.9771\n",
            "Epoch Time: 3.29 secs\n",
            "Epoch: 24/28\n",
            "Iteration: 000, Loss: 0.0046, Accuracy: 1.0000\n",
            "Iteration: 001, Loss: 0.0330, Accuracy: 0.9800\n",
            "Iteration: 002, Loss: 0.0013, Accuracy: 1.0000\n",
            "Iteration: 003, Loss: 0.0059, Accuracy: 1.0000\n",
            "Training: Loss: 0.0120, Accuracy: 0.9943\n",
            "Validation: Loss: 0.0311, Accuracy: 0.9847\n",
            "Epoch Time: 3.29 secs\n",
            "Epoch: 25/28\n",
            "Iteration: 000, Loss: 0.0057, Accuracy: 1.0000\n",
            "Iteration: 001, Loss: 0.0049, Accuracy: 1.0000\n",
            "Iteration: 002, Loss: 0.0013, Accuracy: 1.0000\n",
            "Iteration: 003, Loss: 0.0049, Accuracy: 1.0000\n",
            "Training: Loss: 0.0041, Accuracy: 1.0000\n",
            "Validation: Loss: 0.0406, Accuracy: 0.9771\n",
            "Epoch Time: 3.29 secs\n",
            "Epoch: 26/28\n",
            "Iteration: 000, Loss: 0.0006, Accuracy: 1.0000\n",
            "Iteration: 001, Loss: 0.0015, Accuracy: 1.0000\n",
            "Iteration: 002, Loss: 0.0020, Accuracy: 1.0000\n",
            "Iteration: 003, Loss: 0.0229, Accuracy: 0.9865\n",
            "Training: Loss: 0.0044, Accuracy: 0.9981\n",
            "Validation: Loss: 0.0298, Accuracy: 0.9771\n",
            "Epoch Time: 3.90 secs\n",
            "Epoch: 27/28\n",
            "Iteration: 000, Loss: 0.0012, Accuracy: 1.0000\n",
            "Iteration: 001, Loss: 0.0023, Accuracy: 1.0000\n",
            "Iteration: 002, Loss: 0.0577, Accuracy: 0.9867\n",
            "Iteration: 003, Loss: 0.0013, Accuracy: 1.0000\n",
            "Training: Loss: 0.0177, Accuracy: 0.9962\n",
            "Validation: Loss: 0.0248, Accuracy: 0.9924\n",
            "Epoch Time: 3.24 secs\n",
            "Epoch: 28/28\n",
            "Iteration: 000, Loss: 0.0012, Accuracy: 1.0000\n",
            "Iteration: 001, Loss: 0.0008, Accuracy: 1.0000\n",
            "Iteration: 002, Loss: 0.0159, Accuracy: 0.9933\n",
            "Iteration: 003, Loss: 0.0049, Accuracy: 1.0000\n",
            "Training: Loss: 0.0058, Accuracy: 0.9981\n",
            "Validation: Loss: 0.0712, Accuracy: 0.9695\n",
            "Epoch Time: 3.27 secs\n"
          ]
        },
        {
          "output_type": "display_data",
          "data": {
            "text/plain": [
              "<IPython.core.display.HTML object>"
            ],
            "text/html": [
              "Waiting for W&B process to finish... <strong style=\"color:green\">(success).</strong>"
            ]
          },
          "metadata": {}
        },
        {
          "output_type": "display_data",
          "data": {
            "text/plain": [
              "VBox(children=(Label(value='319.789 MB of 319.789 MB uploaded (10.253 MB deduped)\\r'), FloatProgress(value=1.0…"
            ],
            "application/vnd.jupyter.widget-view+json": {
              "version_major": 2,
              "version_minor": 0,
              "model_id": "b139817f02cf452dbb85d473b456ccb1"
            }
          },
          "metadata": {}
        },
        {
          "output_type": "display_data",
          "data": {
            "text/plain": [
              "<IPython.core.display.HTML object>"
            ],
            "text/html": [
              "W&B sync reduced upload amount by 3.2%             "
            ]
          },
          "metadata": {}
        },
        {
          "output_type": "display_data",
          "data": {
            "text/plain": [
              "<IPython.core.display.HTML object>"
            ],
            "text/html": [
              "<style>\n",
              "    table.wandb td:nth-child(1) { padding: 0 10px; text-align: left ; width: auto;} td:nth-child(2) {text-align: left ; width: 100%}\n",
              "    .wandb-row { display: flex; flex-direction: row; flex-wrap: wrap; justify-content: flex-start; width: 100% }\n",
              "    .wandb-col { display: flex; flex-direction: column; flex-basis: 100%; flex: 1; padding: 10px; }\n",
              "    </style>\n",
              "<div class=\"wandb-row\"><div class=\"wandb-col\"><h3>Run history:</h3><br/><table class=\"wandb\"><tr><td>train_acc</td><td>▁▂▅▇▇▇▇▇▇███████████████████</td></tr><tr><td>train_loss</td><td>█▃▂▁▁▁▁▁▁▁▁▁▁▁▁▁▁▁▁▁▁▁▁▁▁▁▁▁</td></tr><tr><td>val_acc</td><td>▁▄▇▇▇█▇█████████████████████</td></tr><tr><td>val_loss</td><td>█▅▁▁▁▁▁▁▁▁▁▁▁▁▁▁▁▁▁▁▁▁▁▁▁▁▁▁</td></tr></table><br/></div><div class=\"wandb-col\"><h3>Run summary:</h3><br/><table class=\"wandb\"><tr><td>train_acc</td><td>0.99809</td></tr><tr><td>train_loss</td><td>0.00582</td></tr><tr><td>val_acc</td><td>0.96947</td></tr><tr><td>val_loss</td><td>0.0712</td></tr></table><br/></div></div>"
            ]
          },
          "metadata": {}
        },
        {
          "output_type": "display_data",
          "data": {
            "text/plain": [
              "<IPython.core.display.HTML object>"
            ],
            "text/html": [
              "Synced <strong style=\"color:#cdcd00\">glorious-sweep-4</strong>: <a href=\"https://wandb.ai/awesome-team/diu-phase2-demo/runs/858bplk0\" target=\"_blank\">https://wandb.ai/awesome-team/diu-phase2-demo/runs/858bplk0</a><br/>Synced 5 W&B file(s), 1 media file(s), 690 artifact file(s) and 2 other file(s)"
            ]
          },
          "metadata": {}
        },
        {
          "output_type": "display_data",
          "data": {
            "text/plain": [
              "<IPython.core.display.HTML object>"
            ],
            "text/html": [
              "Find logs at: <code>./wandb/run-20220829_141009-858bplk0/logs</code>"
            ]
          },
          "metadata": {}
        },
        {
          "output_type": "stream",
          "name": "stderr",
          "text": [
            "\u001b[34m\u001b[1mwandb\u001b[0m: Sweep Agent: Waiting for job.\n",
            "\u001b[34m\u001b[1mwandb\u001b[0m: Job received.\n",
            "\u001b[34m\u001b[1mwandb\u001b[0m: Agent Starting Run: dovx1qit with config:\n",
            "\u001b[34m\u001b[1mwandb\u001b[0m: \tbalanced: 0\n",
            "\u001b[34m\u001b[1mwandb\u001b[0m: \tbs: 50\n",
            "\u001b[34m\u001b[1mwandb\u001b[0m: \tnum_epochs: 20\n",
            "\u001b[34m\u001b[1mwandb\u001b[0m: \tpxls: 150\n",
            "\u001b[34m\u001b[1mwandb\u001b[0m: \trate: 0.03167203769022054\n"
          ]
        },
        {
          "output_type": "display_data",
          "data": {
            "text/plain": [
              "<IPython.core.display.HTML object>"
            ],
            "text/html": [
              "Tracking run with wandb version 0.13.2"
            ]
          },
          "metadata": {}
        },
        {
          "output_type": "display_data",
          "data": {
            "text/plain": [
              "<IPython.core.display.HTML object>"
            ],
            "text/html": [
              "Run data is saved locally in <code>/content/wandb/run-20220829_141217-dovx1qit</code>"
            ]
          },
          "metadata": {}
        },
        {
          "output_type": "display_data",
          "data": {
            "text/plain": [
              "<IPython.core.display.HTML object>"
            ],
            "text/html": [
              "Syncing run <strong><a href=\"https://wandb.ai/awesome-team/diu-phase2-demo/runs/dovx1qit\" target=\"_blank\">lyric-sweep-5</a></strong> to <a href=\"https://wandb.ai/awesome-team/diu-phase2-demo\" target=\"_blank\">Weights & Biases</a> (<a href=\"https://wandb.me/run\" target=\"_blank\">docs</a>)<br/>Sweep page:  <a href=\"https://wandb.ai/awesome-team/diu-phase2-demo/sweeps/hc69lhb2\" target=\"_blank\">https://wandb.ai/awesome-team/diu-phase2-demo/sweeps/hc69lhb2</a>"
            ]
          },
          "metadata": {}
        },
        {
          "output_type": "stream",
          "name": "stdout",
          "text": [
            "Epoch: 1/20\n",
            "Iteration: 000, Loss: 1.1840, Accuracy: 0.2000\n",
            "Iteration: 001, Loss: 158.5676, Accuracy: 0.4800\n",
            "Iteration: 002, Loss: 3.4441, Accuracy: 0.4800\n",
            "Iteration: 003, Loss: 8.2331, Accuracy: 0.5000\n",
            "Iteration: 004, Loss: 4.8505, Accuracy: 0.3000\n",
            "Iteration: 005, Loss: 3.6179, Accuracy: 0.6800\n",
            "Iteration: 006, Loss: 6.0255, Accuracy: 0.5800\n",
            "Iteration: 007, Loss: 3.6696, Accuracy: 0.5800\n",
            "Iteration: 008, Loss: 1.6222, Accuracy: 0.8000\n",
            "Iteration: 009, Loss: 0.5100, Accuracy: 0.8800\n",
            "Iteration: 010, Loss: 0.9420, Accuracy: 0.7083\n",
            "Training: Loss: 18.3375, Accuracy: 0.5553\n",
            "Validation: Loss: 0.5763, Accuracy: 0.8473\n",
            "Epoch Time: 3.60 secs\n",
            "Epoch: 2/20\n",
            "Iteration: 000, Loss: 0.2526, Accuracy: 0.9800\n",
            "Iteration: 001, Loss: 1.5028, Accuracy: 0.6600\n",
            "Iteration: 002, Loss: 0.5914, Accuracy: 0.8200\n",
            "Iteration: 003, Loss: 0.6406, Accuracy: 0.8400\n",
            "Iteration: 004, Loss: 1.7435, Accuracy: 0.5800\n",
            "Iteration: 005, Loss: 1.2587, Accuracy: 0.7600\n",
            "Iteration: 006, Loss: 0.0228, Accuracy: 1.0000\n",
            "Iteration: 007, Loss: 0.5405, Accuracy: 0.8200\n",
            "Iteration: 008, Loss: 0.3349, Accuracy: 0.8600\n",
            "Iteration: 009, Loss: 0.8540, Accuracy: 0.7000\n",
            "Iteration: 010, Loss: 0.0471, Accuracy: 1.0000\n",
            "Training: Loss: 0.7409, Accuracy: 0.8111\n",
            "Validation: Loss: 0.2652, Accuracy: 0.9313\n",
            "Epoch Time: 3.33 secs\n",
            "Epoch: 3/20\n",
            "Iteration: 000, Loss: 0.1933, Accuracy: 0.9600\n",
            "Iteration: 001, Loss: 0.3443, Accuracy: 0.9200\n",
            "Iteration: 002, Loss: 0.1578, Accuracy: 0.9200\n",
            "Iteration: 003, Loss: 0.3462, Accuracy: 0.8800\n",
            "Iteration: 004, Loss: 0.0976, Accuracy: 0.9800\n",
            "Iteration: 005, Loss: 0.5698, Accuracy: 0.9000\n",
            "Iteration: 006, Loss: 0.4990, Accuracy: 0.8800\n",
            "Iteration: 007, Loss: 0.1538, Accuracy: 0.9400\n",
            "Iteration: 008, Loss: 0.1849, Accuracy: 0.9200\n",
            "Iteration: 009, Loss: 0.2576, Accuracy: 0.9000\n",
            "Iteration: 010, Loss: 0.2823, Accuracy: 0.8750\n",
            "Training: Loss: 0.2805, Accuracy: 0.9179\n",
            "Validation: Loss: 0.3659, Accuracy: 0.8779\n",
            "Epoch Time: 3.33 secs\n",
            "Epoch: 4/20\n",
            "Iteration: 000, Loss: 0.2890, Accuracy: 0.9200\n",
            "Iteration: 001, Loss: 0.1230, Accuracy: 0.9600\n",
            "Iteration: 002, Loss: 0.1860, Accuracy: 0.9200\n",
            "Iteration: 003, Loss: 0.2687, Accuracy: 0.8800\n",
            "Iteration: 004, Loss: 0.0542, Accuracy: 0.9800\n",
            "Iteration: 005, Loss: 0.1797, Accuracy: 0.9200\n",
            "Iteration: 006, Loss: 0.1093, Accuracy: 0.9400\n",
            "Iteration: 007, Loss: 0.1813, Accuracy: 0.9200\n",
            "Iteration: 008, Loss: 0.1247, Accuracy: 0.9800\n",
            "Iteration: 009, Loss: 0.1150, Accuracy: 0.9600\n",
            "Iteration: 010, Loss: 0.1183, Accuracy: 0.9583\n",
            "Training: Loss: 0.1610, Accuracy: 0.9389\n",
            "Validation: Loss: 0.2032, Accuracy: 0.9313\n",
            "Epoch Time: 3.35 secs\n",
            "Epoch: 5/20\n",
            "Iteration: 000, Loss: 0.1845, Accuracy: 0.9400\n",
            "Iteration: 001, Loss: 0.1174, Accuracy: 0.9400\n",
            "Iteration: 002, Loss: 0.0449, Accuracy: 0.9800\n",
            "Iteration: 003, Loss: 0.1356, Accuracy: 0.9200\n",
            "Iteration: 004, Loss: 0.1254, Accuracy: 0.9400\n",
            "Iteration: 005, Loss: 0.0641, Accuracy: 0.9800\n",
            "Iteration: 006, Loss: 0.1449, Accuracy: 0.9200\n",
            "Iteration: 007, Loss: 0.0348, Accuracy: 1.0000\n",
            "Iteration: 008, Loss: 0.0583, Accuracy: 0.9800\n",
            "Iteration: 009, Loss: 0.2131, Accuracy: 0.8800\n",
            "Iteration: 010, Loss: 0.0413, Accuracy: 1.0000\n",
            "Training: Loss: 0.1090, Accuracy: 0.9504\n",
            "Validation: Loss: 0.0936, Accuracy: 0.9466\n",
            "Epoch Time: 3.33 secs\n",
            "Epoch: 6/20\n",
            "Iteration: 000, Loss: 0.0620, Accuracy: 1.0000\n",
            "Iteration: 001, Loss: 0.1848, Accuracy: 0.9200\n",
            "Iteration: 002, Loss: 0.0670, Accuracy: 0.9600\n",
            "Iteration: 003, Loss: 0.2318, Accuracy: 0.9400\n",
            "Iteration: 004, Loss: 0.0513, Accuracy: 0.9800\n",
            "Iteration: 005, Loss: 0.1029, Accuracy: 0.9800\n",
            "Iteration: 006, Loss: 0.1135, Accuracy: 0.9800\n",
            "Iteration: 007, Loss: 0.1093, Accuracy: 0.9800\n",
            "Iteration: 008, Loss: 0.0453, Accuracy: 0.9800\n",
            "Iteration: 009, Loss: 0.0372, Accuracy: 0.9800\n",
            "Iteration: 010, Loss: 0.2540, Accuracy: 0.9167\n",
            "Training: Loss: 0.1075, Accuracy: 0.9676\n",
            "Validation: Loss: 0.1064, Accuracy: 0.9542\n",
            "Epoch Time: 3.32 secs\n",
            "Epoch: 7/20\n",
            "Iteration: 000, Loss: 0.1762, Accuracy: 0.9400\n",
            "Iteration: 001, Loss: 0.0540, Accuracy: 1.0000\n",
            "Iteration: 002, Loss: 0.0705, Accuracy: 1.0000\n",
            "Iteration: 003, Loss: 0.0056, Accuracy: 1.0000\n",
            "Iteration: 004, Loss: 0.0065, Accuracy: 1.0000\n",
            "Iteration: 005, Loss: 0.1274, Accuracy: 0.9600\n",
            "Iteration: 006, Loss: 0.1447, Accuracy: 0.9200\n",
            "Iteration: 007, Loss: 0.1866, Accuracy: 0.9200\n",
            "Iteration: 008, Loss: 0.0779, Accuracy: 0.9800\n",
            "Iteration: 009, Loss: 0.1151, Accuracy: 0.9600\n",
            "Iteration: 010, Loss: 0.3640, Accuracy: 0.8333\n",
            "Training: Loss: 0.1087, Accuracy: 0.9618\n",
            "Validation: Loss: 0.1002, Accuracy: 0.9466\n",
            "Epoch Time: 3.31 secs\n",
            "Epoch: 8/20\n",
            "Iteration: 000, Loss: 0.2222, Accuracy: 0.9000\n",
            "Iteration: 001, Loss: 0.1905, Accuracy: 0.9400\n",
            "Iteration: 002, Loss: 0.1230, Accuracy: 0.9400\n",
            "Iteration: 003, Loss: 0.0787, Accuracy: 0.9600\n",
            "Iteration: 004, Loss: 0.5701, Accuracy: 0.8600\n",
            "Iteration: 005, Loss: 0.1603, Accuracy: 0.9600\n",
            "Iteration: 006, Loss: 0.0983, Accuracy: 0.9400\n",
            "Iteration: 007, Loss: 0.0505, Accuracy: 0.9800\n",
            "Iteration: 008, Loss: 0.1670, Accuracy: 0.9600\n",
            "Iteration: 009, Loss: 0.2135, Accuracy: 0.9400\n",
            "Iteration: 010, Loss: 0.0358, Accuracy: 1.0000\n",
            "Training: Loss: 0.1805, Accuracy: 0.9408\n",
            "Validation: Loss: 0.1232, Accuracy: 0.9542\n",
            "Epoch Time: 3.39 secs\n",
            "Epoch: 9/20\n",
            "Iteration: 000, Loss: 0.1801, Accuracy: 0.9200\n",
            "Iteration: 001, Loss: 0.0812, Accuracy: 0.9600\n",
            "Iteration: 002, Loss: 0.0417, Accuracy: 1.0000\n",
            "Iteration: 003, Loss: 0.0509, Accuracy: 1.0000\n",
            "Iteration: 004, Loss: 0.0408, Accuracy: 1.0000\n",
            "Iteration: 005, Loss: 0.0864, Accuracy: 0.9800\n",
            "Iteration: 006, Loss: 0.0854, Accuracy: 0.9800\n",
            "Iteration: 007, Loss: 0.1040, Accuracy: 0.9600\n",
            "Iteration: 008, Loss: 0.1047, Accuracy: 0.9800\n",
            "Iteration: 009, Loss: 0.0097, Accuracy: 1.0000\n",
            "Iteration: 010, Loss: 0.3911, Accuracy: 0.8750\n",
            "Training: Loss: 0.0928, Accuracy: 0.9733\n",
            "Validation: Loss: 0.1239, Accuracy: 0.9618\n",
            "Epoch Time: 3.35 secs\n",
            "Epoch: 10/20\n",
            "Iteration: 000, Loss: 0.0188, Accuracy: 1.0000\n",
            "Iteration: 001, Loss: 0.1173, Accuracy: 0.9800\n",
            "Iteration: 002, Loss: 0.0133, Accuracy: 1.0000\n",
            "Iteration: 003, Loss: 0.0120, Accuracy: 1.0000\n",
            "Iteration: 004, Loss: 0.0030, Accuracy: 1.0000\n",
            "Iteration: 005, Loss: 0.0065, Accuracy: 1.0000\n",
            "Iteration: 006, Loss: 0.0594, Accuracy: 0.9600\n",
            "Iteration: 007, Loss: 0.0293, Accuracy: 0.9800\n",
            "Iteration: 008, Loss: 0.0294, Accuracy: 0.9800\n",
            "Iteration: 009, Loss: 0.1001, Accuracy: 0.9400\n",
            "Iteration: 010, Loss: 0.0371, Accuracy: 1.0000\n",
            "Training: Loss: 0.0388, Accuracy: 0.9847\n",
            "Validation: Loss: 0.0724, Accuracy: 0.9771\n",
            "Epoch Time: 3.36 secs\n",
            "Epoch: 11/20\n",
            "Iteration: 000, Loss: 0.0143, Accuracy: 1.0000\n",
            "Iteration: 001, Loss: 0.0093, Accuracy: 1.0000\n",
            "Iteration: 002, Loss: 0.0056, Accuracy: 1.0000\n",
            "Iteration: 003, Loss: 0.0419, Accuracy: 0.9800\n",
            "Iteration: 004, Loss: 0.0517, Accuracy: 0.9800\n",
            "Iteration: 005, Loss: 0.0050, Accuracy: 1.0000\n",
            "Iteration: 006, Loss: 0.0195, Accuracy: 1.0000\n",
            "Iteration: 007, Loss: 0.0133, Accuracy: 1.0000\n",
            "Iteration: 008, Loss: 0.0198, Accuracy: 1.0000\n",
            "Iteration: 009, Loss: 0.0109, Accuracy: 1.0000\n",
            "Iteration: 010, Loss: 0.0105, Accuracy: 1.0000\n",
            "Training: Loss: 0.0187, Accuracy: 0.9962\n",
            "Validation: Loss: 0.0773, Accuracy: 0.9695\n",
            "Epoch Time: 3.38 secs\n",
            "Epoch: 12/20\n",
            "Iteration: 000, Loss: 0.0139, Accuracy: 1.0000\n",
            "Iteration: 001, Loss: 0.0036, Accuracy: 1.0000\n",
            "Iteration: 002, Loss: 0.0065, Accuracy: 1.0000\n",
            "Iteration: 003, Loss: 0.0048, Accuracy: 1.0000\n",
            "Iteration: 004, Loss: 0.0510, Accuracy: 0.9800\n",
            "Iteration: 005, Loss: 0.0126, Accuracy: 1.0000\n",
            "Iteration: 006, Loss: 0.0440, Accuracy: 0.9800\n",
            "Iteration: 007, Loss: 0.0019, Accuracy: 1.0000\n",
            "Iteration: 008, Loss: 0.0191, Accuracy: 1.0000\n",
            "Iteration: 009, Loss: 0.0143, Accuracy: 1.0000\n",
            "Iteration: 010, Loss: 0.3969, Accuracy: 0.7917\n",
            "Training: Loss: 0.0346, Accuracy: 0.9866\n",
            "Validation: Loss: 0.1025, Accuracy: 0.9771\n",
            "Epoch Time: 3.40 secs\n",
            "Epoch: 13/20\n",
            "Iteration: 000, Loss: 0.0152, Accuracy: 1.0000\n",
            "Iteration: 001, Loss: 0.0858, Accuracy: 0.9800\n",
            "Iteration: 002, Loss: 0.2402, Accuracy: 0.9200\n",
            "Iteration: 003, Loss: 0.0477, Accuracy: 0.9800\n",
            "Iteration: 004, Loss: 0.0143, Accuracy: 1.0000\n",
            "Iteration: 005, Loss: 0.2031, Accuracy: 0.9200\n",
            "Iteration: 006, Loss: 0.0440, Accuracy: 0.9800\n",
            "Iteration: 007, Loss: 0.0986, Accuracy: 0.9600\n",
            "Iteration: 008, Loss: 0.0022, Accuracy: 1.0000\n",
            "Iteration: 009, Loss: 0.0017, Accuracy: 1.0000\n",
            "Iteration: 010, Loss: 0.0435, Accuracy: 1.0000\n",
            "Training: Loss: 0.0738, Accuracy: 0.9752\n",
            "Validation: Loss: 0.3753, Accuracy: 0.9313\n",
            "Epoch Time: 3.69 secs\n",
            "Epoch: 14/20\n",
            "Iteration: 000, Loss: 0.0618, Accuracy: 0.9800\n",
            "Iteration: 001, Loss: 0.0372, Accuracy: 1.0000\n",
            "Iteration: 002, Loss: 0.2187, Accuracy: 0.9400\n",
            "Iteration: 003, Loss: 0.1056, Accuracy: 0.9600\n",
            "Iteration: 004, Loss: 0.0504, Accuracy: 0.9600\n",
            "Iteration: 005, Loss: 0.0053, Accuracy: 1.0000\n",
            "Iteration: 006, Loss: 0.3570, Accuracy: 0.8400\n",
            "Iteration: 007, Loss: 0.1865, Accuracy: 0.9200\n",
            "Iteration: 008, Loss: 0.1392, Accuracy: 0.9200\n",
            "Iteration: 009, Loss: 0.0333, Accuracy: 0.9800\n",
            "Iteration: 010, Loss: 0.0616, Accuracy: 0.9583\n",
            "Training: Loss: 0.1169, Accuracy: 0.9504\n",
            "Validation: Loss: 0.1355, Accuracy: 0.9542\n",
            "Epoch Time: 3.32 secs\n",
            "Epoch: 15/20\n",
            "Iteration: 000, Loss: 0.0141, Accuracy: 1.0000\n",
            "Iteration: 001, Loss: 0.0030, Accuracy: 1.0000\n",
            "Iteration: 002, Loss: 0.1112, Accuracy: 0.9600\n",
            "Iteration: 003, Loss: 0.0087, Accuracy: 1.0000\n",
            "Iteration: 004, Loss: 0.0024, Accuracy: 1.0000\n",
            "Iteration: 005, Loss: 0.0703, Accuracy: 0.9600\n",
            "Iteration: 006, Loss: 0.0392, Accuracy: 0.9600\n",
            "Iteration: 007, Loss: 0.0016, Accuracy: 1.0000\n",
            "Iteration: 008, Loss: 0.0593, Accuracy: 0.9800\n",
            "Iteration: 009, Loss: 0.0064, Accuracy: 1.0000\n",
            "Iteration: 010, Loss: 0.0046, Accuracy: 1.0000\n",
            "Training: Loss: 0.0304, Accuracy: 0.9866\n",
            "Validation: Loss: 0.1659, Accuracy: 0.9618\n",
            "Epoch Time: 3.28 secs\n",
            "Epoch: 16/20\n",
            "Iteration: 000, Loss: 0.0117, Accuracy: 1.0000\n",
            "Iteration: 001, Loss: 0.0737, Accuracy: 0.9600\n",
            "Iteration: 002, Loss: 0.0079, Accuracy: 1.0000\n",
            "Iteration: 003, Loss: 0.0101, Accuracy: 1.0000\n",
            "Iteration: 004, Loss: 0.0030, Accuracy: 1.0000\n",
            "Iteration: 005, Loss: 0.0340, Accuracy: 0.9800\n",
            "Iteration: 006, Loss: 0.0016, Accuracy: 1.0000\n",
            "Iteration: 007, Loss: 0.1166, Accuracy: 0.9600\n",
            "Iteration: 008, Loss: 0.0034, Accuracy: 1.0000\n",
            "Iteration: 009, Loss: 0.0180, Accuracy: 1.0000\n",
            "Iteration: 010, Loss: 0.2095, Accuracy: 0.9167\n",
            "Training: Loss: 0.0363, Accuracy: 0.9866\n",
            "Validation: Loss: 0.1046, Accuracy: 0.9618\n",
            "Epoch Time: 3.28 secs\n",
            "Epoch: 17/20\n",
            "Iteration: 000, Loss: 0.0015, Accuracy: 1.0000\n",
            "Iteration: 001, Loss: 0.0023, Accuracy: 1.0000\n",
            "Iteration: 002, Loss: 0.0527, Accuracy: 0.9800\n",
            "Iteration: 003, Loss: 0.0325, Accuracy: 0.9800\n",
            "Iteration: 004, Loss: 0.0261, Accuracy: 1.0000\n",
            "Iteration: 005, Loss: 0.0482, Accuracy: 0.9800\n",
            "Iteration: 006, Loss: 0.0718, Accuracy: 0.9600\n",
            "Iteration: 007, Loss: 0.0067, Accuracy: 1.0000\n",
            "Iteration: 008, Loss: 0.0107, Accuracy: 1.0000\n",
            "Iteration: 009, Loss: 0.1423, Accuracy: 0.9400\n",
            "Iteration: 010, Loss: 0.0090, Accuracy: 1.0000\n",
            "Training: Loss: 0.0381, Accuracy: 0.9847\n",
            "Validation: Loss: 0.1191, Accuracy: 0.9695\n",
            "Epoch Time: 3.30 secs\n",
            "Epoch: 18/20\n",
            "Iteration: 000, Loss: 0.0101, Accuracy: 1.0000\n",
            "Iteration: 001, Loss: 0.0028, Accuracy: 1.0000\n",
            "Iteration: 002, Loss: 0.0057, Accuracy: 1.0000\n",
            "Iteration: 003, Loss: 0.0135, Accuracy: 1.0000\n",
            "Iteration: 004, Loss: 0.1056, Accuracy: 0.9800\n",
            "Iteration: 005, Loss: 0.0019, Accuracy: 1.0000\n",
            "Iteration: 006, Loss: 0.0053, Accuracy: 1.0000\n",
            "Iteration: 007, Loss: 0.0021, Accuracy: 1.0000\n",
            "Iteration: 008, Loss: 0.0022, Accuracy: 1.0000\n",
            "Iteration: 009, Loss: 0.0285, Accuracy: 0.9800\n",
            "Iteration: 010, Loss: 0.3297, Accuracy: 0.9167\n",
            "Training: Loss: 0.0321, Accuracy: 0.9924\n",
            "Validation: Loss: 0.1946, Accuracy: 0.9542\n",
            "Epoch Time: 3.27 secs\n",
            "Epoch: 19/20\n",
            "Iteration: 000, Loss: 0.0254, Accuracy: 1.0000\n",
            "Iteration: 001, Loss: 0.3419, Accuracy: 0.8400\n",
            "Iteration: 002, Loss: 0.0061, Accuracy: 1.0000\n",
            "Iteration: 003, Loss: 0.0080, Accuracy: 1.0000\n",
            "Iteration: 004, Loss: 0.0057, Accuracy: 1.0000\n",
            "Iteration: 005, Loss: 0.0006, Accuracy: 1.0000\n",
            "Iteration: 006, Loss: 0.1014, Accuracy: 0.9600\n",
            "Iteration: 007, Loss: 0.0193, Accuracy: 1.0000\n",
            "Iteration: 008, Loss: 0.0318, Accuracy: 0.9800\n",
            "Iteration: 009, Loss: 0.0004, Accuracy: 1.0000\n",
            "Iteration: 010, Loss: 0.0235, Accuracy: 1.0000\n",
            "Training: Loss: 0.0527, Accuracy: 0.9790\n",
            "Validation: Loss: 0.1924, Accuracy: 0.9618\n",
            "Epoch Time: 3.26 secs\n",
            "Epoch: 20/20\n",
            "Iteration: 000, Loss: 0.0153, Accuracy: 1.0000\n",
            "Iteration: 001, Loss: 0.0022, Accuracy: 1.0000\n",
            "Iteration: 002, Loss: 0.0205, Accuracy: 1.0000\n",
            "Iteration: 003, Loss: 0.0047, Accuracy: 1.0000\n",
            "Iteration: 004, Loss: 0.0018, Accuracy: 1.0000\n",
            "Iteration: 005, Loss: 0.0300, Accuracy: 0.9800\n",
            "Iteration: 006, Loss: 0.0016, Accuracy: 1.0000\n",
            "Iteration: 007, Loss: 0.0222, Accuracy: 1.0000\n",
            "Iteration: 008, Loss: 0.0181, Accuracy: 1.0000\n",
            "Iteration: 009, Loss: 0.0015, Accuracy: 1.0000\n",
            "Iteration: 010, Loss: 0.0011, Accuracy: 1.0000\n",
            "Training: Loss: 0.0113, Accuracy: 0.9981\n",
            "Validation: Loss: 0.1771, Accuracy: 0.9618\n",
            "Epoch Time: 3.36 secs\n"
          ]
        },
        {
          "output_type": "display_data",
          "data": {
            "text/plain": [
              "<IPython.core.display.HTML object>"
            ],
            "text/html": [
              "Waiting for W&B process to finish... <strong style=\"color:green\">(success).</strong>"
            ]
          },
          "metadata": {}
        },
        {
          "output_type": "display_data",
          "data": {
            "text/plain": [
              "VBox(children=(Label(value='276.649 MB of 276.649 MB uploaded (0.000 MB deduped)\\r'), FloatProgress(value=1.0,…"
            ],
            "application/vnd.jupyter.widget-view+json": {
              "version_major": 2,
              "version_minor": 0,
              "model_id": "88143dca337f4f298fd784945e5f3d9e"
            }
          },
          "metadata": {}
        },
        {
          "output_type": "display_data",
          "data": {
            "text/plain": [
              "<IPython.core.display.HTML object>"
            ],
            "text/html": [
              "<style>\n",
              "    table.wandb td:nth-child(1) { padding: 0 10px; text-align: left ; width: auto;} td:nth-child(2) {text-align: left ; width: 100%}\n",
              "    .wandb-row { display: flex; flex-direction: row; flex-wrap: wrap; justify-content: flex-start; width: 100% }\n",
              "    .wandb-col { display: flex; flex-direction: column; flex-basis: 100%; flex: 1; padding: 10px; }\n",
              "    </style>\n",
              "<div class=\"wandb-row\"><div class=\"wandb-col\"><h3>Run history:</h3><br/><table class=\"wandb\"><tr><td>train_acc</td><td>▁▅▇▇▇█▇▇█████▇██████</td></tr><tr><td>train_loss</td><td>█▁▁▁▁▁▁▁▁▁▁▁▁▁▁▁▁▁▁▁</td></tr><tr><td>val_acc</td><td>▁▆▃▆▆▇▆▇▇███▆▇▇▇█▇▇▇</td></tr><tr><td>val_loss</td><td>█▄▅▃▁▁▁▂▂▁▁▁▅▂▂▁▂▃▃▂</td></tr></table><br/></div><div class=\"wandb-col\"><h3>Run summary:</h3><br/><table class=\"wandb\"><tr><td>train_acc</td><td>0.99809</td></tr><tr><td>train_loss</td><td>0.0113</td></tr><tr><td>val_acc</td><td>0.96183</td></tr><tr><td>val_loss</td><td>0.1771</td></tr></table><br/></div></div>"
            ]
          },
          "metadata": {}
        },
        {
          "output_type": "display_data",
          "data": {
            "text/plain": [
              "<IPython.core.display.HTML object>"
            ],
            "text/html": [
              "Synced <strong style=\"color:#cdcd00\">lyric-sweep-5</strong>: <a href=\"https://wandb.ai/awesome-team/diu-phase2-demo/runs/dovx1qit\" target=\"_blank\">https://wandb.ai/awesome-team/diu-phase2-demo/runs/dovx1qit</a><br/>Synced 5 W&B file(s), 1 media file(s), 35 artifact file(s) and 2 other file(s)"
            ]
          },
          "metadata": {}
        },
        {
          "output_type": "display_data",
          "data": {
            "text/plain": [
              "<IPython.core.display.HTML object>"
            ],
            "text/html": [
              "Find logs at: <code>./wandb/run-20220829_141217-dovx1qit/logs</code>"
            ]
          },
          "metadata": {}
        },
        {
          "output_type": "stream",
          "name": "stderr",
          "text": [
            "\u001b[34m\u001b[1mwandb\u001b[0m: Agent Starting Run: 4mwpdpik with config:\n",
            "\u001b[34m\u001b[1mwandb\u001b[0m: \tbalanced: 0\n",
            "\u001b[34m\u001b[1mwandb\u001b[0m: \tbs: 200\n",
            "\u001b[34m\u001b[1mwandb\u001b[0m: \tnum_epochs: 38\n",
            "\u001b[34m\u001b[1mwandb\u001b[0m: \tpxls: 150\n",
            "\u001b[34m\u001b[1mwandb\u001b[0m: \trate: 0.03867524126075235\n"
          ]
        },
        {
          "output_type": "display_data",
          "data": {
            "text/plain": [
              "<IPython.core.display.HTML object>"
            ],
            "text/html": [
              "Tracking run with wandb version 0.13.2"
            ]
          },
          "metadata": {}
        },
        {
          "output_type": "display_data",
          "data": {
            "text/plain": [
              "<IPython.core.display.HTML object>"
            ],
            "text/html": [
              "Run data is saved locally in <code>/content/wandb/run-20220829_141348-4mwpdpik</code>"
            ]
          },
          "metadata": {}
        },
        {
          "output_type": "display_data",
          "data": {
            "text/plain": [
              "<IPython.core.display.HTML object>"
            ],
            "text/html": [
              "Syncing run <strong><a href=\"https://wandb.ai/awesome-team/diu-phase2-demo/runs/4mwpdpik\" target=\"_blank\">blooming-sweep-6</a></strong> to <a href=\"https://wandb.ai/awesome-team/diu-phase2-demo\" target=\"_blank\">Weights & Biases</a> (<a href=\"https://wandb.me/run\" target=\"_blank\">docs</a>)<br/>Sweep page:  <a href=\"https://wandb.ai/awesome-team/diu-phase2-demo/sweeps/hc69lhb2\" target=\"_blank\">https://wandb.ai/awesome-team/diu-phase2-demo/sweeps/hc69lhb2</a>"
            ]
          },
          "metadata": {}
        },
        {
          "output_type": "stream",
          "name": "stdout",
          "text": [
            "Epoch: 1/38\n",
            "Iteration: 000, Loss: 1.1011, Accuracy: 0.2800\n",
            "Iteration: 001, Loss: 82.2639, Accuracy: 0.5300\n",
            "Iteration: 002, Loss: 120.9496, Accuracy: 0.3548\n",
            "Training: Loss: 60.4403, Accuracy: 0.3931\n",
            "Validation: Loss: 38.3543, Accuracy: 0.3664\n",
            "Epoch Time: 3.47 secs\n",
            "Epoch: 2/38\n",
            "Iteration: 000, Loss: 68.7101, Accuracy: 0.3300\n",
            "Iteration: 001, Loss: 9.8643, Accuracy: 0.3800\n",
            "Iteration: 002, Loss: 12.8690, Accuracy: 0.5403\n",
            "Training: Loss: 33.0356, Accuracy: 0.3989\n",
            "Validation: Loss: 15.4852, Accuracy: 0.5878\n",
            "Epoch Time: 3.29 secs\n",
            "Epoch: 3/38\n",
            "Iteration: 000, Loss: 13.6377, Accuracy: 0.6050\n",
            "Iteration: 001, Loss: 9.8766, Accuracy: 0.5800\n",
            "Iteration: 002, Loss: 5.9194, Accuracy: 0.5484\n",
            "Training: Loss: 10.3757, Accuracy: 0.5821\n",
            "Validation: Loss: 1.8047, Accuracy: 0.6260\n",
            "Epoch Time: 3.27 secs\n",
            "Epoch: 4/38\n",
            "Iteration: 000, Loss: 1.5584, Accuracy: 0.5350\n",
            "Iteration: 001, Loss: 0.4714, Accuracy: 0.6350\n",
            "Iteration: 002, Loss: 0.8755, Accuracy: 0.6129\n",
            "Training: Loss: 0.9819, Accuracy: 0.5916\n",
            "Validation: Loss: 0.9059, Accuracy: 0.6031\n",
            "Epoch Time: 3.28 secs\n",
            "Epoch: 5/38\n",
            "Iteration: 000, Loss: 0.5556, Accuracy: 0.5700\n",
            "Iteration: 001, Loss: 0.5605, Accuracy: 0.5650\n",
            "Iteration: 002, Loss: 0.4746, Accuracy: 0.6290\n",
            "Training: Loss: 0.5383, Accuracy: 0.5821\n",
            "Validation: Loss: 1.0135, Accuracy: 0.6260\n",
            "Epoch Time: 3.25 secs\n",
            "Epoch: 6/38\n",
            "Iteration: 000, Loss: 0.6285, Accuracy: 0.6300\n",
            "Iteration: 001, Loss: 0.5356, Accuracy: 0.6500\n",
            "Iteration: 002, Loss: 0.6923, Accuracy: 0.6048\n",
            "Training: Loss: 0.6082, Accuracy: 0.6317\n",
            "Validation: Loss: 0.7163, Accuracy: 0.6794\n",
            "Epoch Time: 3.22 secs\n",
            "Epoch: 7/38\n",
            "Iteration: 000, Loss: 0.5160, Accuracy: 0.8950\n",
            "Iteration: 001, Loss: 0.4340, Accuracy: 0.9250\n",
            "Iteration: 002, Loss: 0.5231, Accuracy: 0.9435\n",
            "Training: Loss: 0.4864, Accuracy: 0.9179\n",
            "Validation: Loss: 0.8206, Accuracy: 0.8702\n",
            "Epoch Time: 3.22 secs\n",
            "Epoch: 8/38\n",
            "Iteration: 000, Loss: 0.5811, Accuracy: 0.9250\n",
            "Iteration: 001, Loss: 0.4440, Accuracy: 0.9150\n",
            "Iteration: 002, Loss: 0.3363, Accuracy: 0.9597\n",
            "Training: Loss: 0.4708, Accuracy: 0.9294\n",
            "Validation: Loss: 0.3392, Accuracy: 0.9237\n",
            "Epoch Time: 3.28 secs\n",
            "Epoch: 9/38\n",
            "Iteration: 000, Loss: 0.3303, Accuracy: 0.9500\n",
            "Iteration: 001, Loss: 0.3040, Accuracy: 0.9150\n",
            "Iteration: 002, Loss: 0.2568, Accuracy: 0.9355\n",
            "Training: Loss: 0.3029, Accuracy: 0.9332\n",
            "Validation: Loss: 0.3285, Accuracy: 0.9084\n",
            "Epoch Time: 3.90 secs\n",
            "Epoch: 10/38\n",
            "Iteration: 000, Loss: 0.2435, Accuracy: 0.9200\n",
            "Iteration: 001, Loss: 0.2461, Accuracy: 0.9250\n",
            "Iteration: 002, Loss: 0.2635, Accuracy: 0.9194\n",
            "Training: Loss: 0.2492, Accuracy: 0.9218\n",
            "Validation: Loss: 0.1669, Accuracy: 0.9542\n",
            "Epoch Time: 3.23 secs\n",
            "Epoch: 11/38\n",
            "Iteration: 000, Loss: 0.2129, Accuracy: 0.9300\n",
            "Iteration: 001, Loss: 0.1602, Accuracy: 0.9500\n",
            "Iteration: 002, Loss: 0.2385, Accuracy: 0.9274\n",
            "Training: Loss: 0.1988, Accuracy: 0.9370\n",
            "Validation: Loss: 0.4484, Accuracy: 0.8855\n",
            "Epoch Time: 3.23 secs\n",
            "Epoch: 12/38\n",
            "Iteration: 000, Loss: 0.2434, Accuracy: 0.9150\n",
            "Iteration: 001, Loss: 0.1703, Accuracy: 0.9550\n",
            "Iteration: 002, Loss: 0.2910, Accuracy: 0.9194\n",
            "Training: Loss: 0.2268, Accuracy: 0.9313\n",
            "Validation: Loss: 0.1643, Accuracy: 0.9466\n",
            "Epoch Time: 3.23 secs\n",
            "Epoch: 13/38\n",
            "Iteration: 000, Loss: 0.1371, Accuracy: 0.9600\n",
            "Iteration: 001, Loss: 0.2237, Accuracy: 0.9150\n",
            "Iteration: 002, Loss: 0.2148, Accuracy: 0.9516\n",
            "Training: Loss: 0.1885, Accuracy: 0.9408\n",
            "Validation: Loss: 0.1917, Accuracy: 0.9389\n",
            "Epoch Time: 3.27 secs\n",
            "Epoch: 14/38\n",
            "Iteration: 000, Loss: 0.1895, Accuracy: 0.9350\n",
            "Iteration: 001, Loss: 0.2717, Accuracy: 0.9350\n",
            "Iteration: 002, Loss: 0.2458, Accuracy: 0.9355\n",
            "Training: Loss: 0.2342, Accuracy: 0.9351\n",
            "Validation: Loss: 0.1653, Accuracy: 0.9542\n",
            "Epoch Time: 3.33 secs\n",
            "Epoch: 15/38\n",
            "Iteration: 000, Loss: 0.1438, Accuracy: 0.9550\n",
            "Iteration: 001, Loss: 0.2068, Accuracy: 0.9350\n",
            "Iteration: 002, Loss: 0.2194, Accuracy: 0.9194\n",
            "Training: Loss: 0.1857, Accuracy: 0.9389\n",
            "Validation: Loss: 0.1864, Accuracy: 0.9160\n",
            "Epoch Time: 3.27 secs\n",
            "Epoch: 16/38\n",
            "Iteration: 000, Loss: 0.1637, Accuracy: 0.9450\n",
            "Iteration: 001, Loss: 0.2012, Accuracy: 0.9300\n",
            "Iteration: 002, Loss: 0.1179, Accuracy: 0.9597\n",
            "Training: Loss: 0.1672, Accuracy: 0.9427\n",
            "Validation: Loss: 0.1721, Accuracy: 0.9389\n",
            "Epoch Time: 3.32 secs\n",
            "Epoch: 17/38\n",
            "Iteration: 000, Loss: 0.1846, Accuracy: 0.9250\n",
            "Iteration: 001, Loss: 0.1579, Accuracy: 0.9450\n",
            "Iteration: 002, Loss: 0.2646, Accuracy: 0.8871\n",
            "Training: Loss: 0.1933, Accuracy: 0.9237\n",
            "Validation: Loss: 0.1522, Accuracy: 0.9618\n",
            "Epoch Time: 3.26 secs\n",
            "Epoch: 18/38\n",
            "Iteration: 000, Loss: 0.2248, Accuracy: 0.9200\n",
            "Iteration: 001, Loss: 0.1934, Accuracy: 0.9450\n",
            "Iteration: 002, Loss: 0.1425, Accuracy: 0.9597\n",
            "Training: Loss: 0.1933, Accuracy: 0.9389\n",
            "Validation: Loss: 0.2533, Accuracy: 0.9237\n",
            "Epoch Time: 3.29 secs\n",
            "Epoch: 19/38\n",
            "Iteration: 000, Loss: 0.2116, Accuracy: 0.9250\n",
            "Iteration: 001, Loss: 0.1822, Accuracy: 0.9500\n",
            "Iteration: 002, Loss: 0.1776, Accuracy: 0.9516\n",
            "Training: Loss: 0.1923, Accuracy: 0.9408\n",
            "Validation: Loss: 0.2279, Accuracy: 0.9313\n",
            "Epoch Time: 3.27 secs\n",
            "Epoch: 20/38\n",
            "Iteration: 000, Loss: 0.1970, Accuracy: 0.9300\n",
            "Iteration: 001, Loss: 0.1733, Accuracy: 0.9400\n",
            "Iteration: 002, Loss: 0.1795, Accuracy: 0.9435\n",
            "Training: Loss: 0.1838, Accuracy: 0.9370\n",
            "Validation: Loss: 0.1694, Accuracy: 0.9542\n",
            "Epoch Time: 3.25 secs\n",
            "Epoch: 21/38\n",
            "Iteration: 000, Loss: 0.1784, Accuracy: 0.9350\n",
            "Iteration: 001, Loss: 0.2352, Accuracy: 0.9400\n",
            "Iteration: 002, Loss: 0.2213, Accuracy: 0.9435\n",
            "Training: Loss: 0.2102, Accuracy: 0.9389\n",
            "Validation: Loss: 0.1707, Accuracy: 0.9466\n",
            "Epoch Time: 3.21 secs\n",
            "Epoch: 22/38\n",
            "Iteration: 000, Loss: 0.1551, Accuracy: 0.9550\n",
            "Iteration: 001, Loss: 0.1672, Accuracy: 0.9450\n",
            "Iteration: 002, Loss: 0.2232, Accuracy: 0.9194\n",
            "Training: Loss: 0.1758, Accuracy: 0.9427\n",
            "Validation: Loss: 0.1964, Accuracy: 0.9466\n",
            "Epoch Time: 3.24 secs\n",
            "Epoch: 23/38\n",
            "Iteration: 000, Loss: 0.1482, Accuracy: 0.9550\n",
            "Iteration: 001, Loss: 0.1852, Accuracy: 0.9350\n",
            "Iteration: 002, Loss: 0.1956, Accuracy: 0.9274\n",
            "Training: Loss: 0.1735, Accuracy: 0.9408\n",
            "Validation: Loss: 0.1799, Accuracy: 0.9389\n",
            "Epoch Time: 3.25 secs\n",
            "Epoch: 24/38\n",
            "Iteration: 000, Loss: 0.1879, Accuracy: 0.9300\n",
            "Iteration: 001, Loss: 0.1401, Accuracy: 0.9600\n",
            "Iteration: 002, Loss: 0.0990, Accuracy: 0.9758\n",
            "Training: Loss: 0.1486, Accuracy: 0.9523\n",
            "Validation: Loss: 0.3843, Accuracy: 0.8855\n",
            "Epoch Time: 3.25 secs\n",
            "Epoch: 25/38\n",
            "Iteration: 000, Loss: 0.1606, Accuracy: 0.9400\n",
            "Iteration: 001, Loss: 0.2280, Accuracy: 0.9350\n",
            "Iteration: 002, Loss: 0.1150, Accuracy: 0.9597\n",
            "Training: Loss: 0.1755, Accuracy: 0.9427\n",
            "Validation: Loss: 0.2615, Accuracy: 0.9084\n",
            "Epoch Time: 3.22 secs\n",
            "Epoch: 26/38\n",
            "Iteration: 000, Loss: 0.1300, Accuracy: 0.9650\n",
            "Iteration: 001, Loss: 0.1426, Accuracy: 0.9550\n",
            "Iteration: 002, Loss: 0.1846, Accuracy: 0.9435\n",
            "Training: Loss: 0.1477, Accuracy: 0.9561\n",
            "Validation: Loss: 0.3445, Accuracy: 0.9008\n",
            "Epoch Time: 3.28 secs\n",
            "Epoch: 27/38\n",
            "Iteration: 000, Loss: 0.1844, Accuracy: 0.9250\n",
            "Iteration: 001, Loss: 0.1459, Accuracy: 0.9550\n",
            "Iteration: 002, Loss: 0.1471, Accuracy: 0.9355\n",
            "Training: Loss: 0.1609, Accuracy: 0.9389\n",
            "Validation: Loss: 0.2458, Accuracy: 0.9237\n",
            "Epoch Time: 3.24 secs\n",
            "Epoch: 28/38\n",
            "Iteration: 000, Loss: 0.1227, Accuracy: 0.9600\n",
            "Iteration: 001, Loss: 0.1155, Accuracy: 0.9600\n",
            "Iteration: 002, Loss: 0.2453, Accuracy: 0.9274\n",
            "Training: Loss: 0.1489, Accuracy: 0.9523\n",
            "Validation: Loss: 0.1450, Accuracy: 0.9466\n",
            "Epoch Time: 3.22 secs\n",
            "Epoch: 29/38\n",
            "Iteration: 000, Loss: 0.1644, Accuracy: 0.9350\n",
            "Iteration: 001, Loss: 0.1555, Accuracy: 0.9450\n",
            "Iteration: 002, Loss: 0.1574, Accuracy: 0.9758\n",
            "Training: Loss: 0.1593, Accuracy: 0.9485\n",
            "Validation: Loss: 0.2360, Accuracy: 0.9237\n",
            "Epoch Time: 3.23 secs\n",
            "Epoch: 30/38\n",
            "Iteration: 000, Loss: 0.1545, Accuracy: 0.9550\n",
            "Iteration: 001, Loss: 0.1275, Accuracy: 0.9600\n",
            "Iteration: 002, Loss: 0.1714, Accuracy: 0.9435\n",
            "Training: Loss: 0.1482, Accuracy: 0.9542\n",
            "Validation: Loss: 0.1982, Accuracy: 0.9237\n",
            "Epoch Time: 3.22 secs\n",
            "Epoch: 31/38\n",
            "Iteration: 000, Loss: 0.1417, Accuracy: 0.9450\n",
            "Iteration: 001, Loss: 0.1295, Accuracy: 0.9500\n",
            "Iteration: 002, Loss: 0.1536, Accuracy: 0.9516\n",
            "Training: Loss: 0.1399, Accuracy: 0.9485\n",
            "Validation: Loss: 0.2561, Accuracy: 0.9237\n",
            "Epoch Time: 3.25 secs\n",
            "Epoch: 32/38\n",
            "Iteration: 000, Loss: 0.1185, Accuracy: 0.9650\n",
            "Iteration: 001, Loss: 0.0989, Accuracy: 0.9750\n",
            "Iteration: 002, Loss: 0.1237, Accuracy: 0.9516\n",
            "Training: Loss: 0.1122, Accuracy: 0.9656\n",
            "Validation: Loss: 0.4076, Accuracy: 0.9237\n",
            "Epoch Time: 3.24 secs\n",
            "Epoch: 33/38\n",
            "Iteration: 000, Loss: 0.1214, Accuracy: 0.9650\n",
            "Iteration: 001, Loss: 0.0918, Accuracy: 0.9800\n",
            "Iteration: 002, Loss: 0.1847, Accuracy: 0.9355\n",
            "Training: Loss: 0.1251, Accuracy: 0.9637\n",
            "Validation: Loss: 0.3560, Accuracy: 0.9084\n",
            "Epoch Time: 3.24 secs\n",
            "Epoch: 34/38\n",
            "Iteration: 000, Loss: 0.1064, Accuracy: 0.9750\n",
            "Iteration: 001, Loss: 0.1538, Accuracy: 0.9550\n",
            "Iteration: 002, Loss: 0.1282, Accuracy: 0.9677\n",
            "Training: Loss: 0.1297, Accuracy: 0.9656\n",
            "Validation: Loss: 0.3956, Accuracy: 0.9237\n",
            "Epoch Time: 3.21 secs\n",
            "Epoch: 35/38\n",
            "Iteration: 000, Loss: 0.1141, Accuracy: 0.9600\n",
            "Iteration: 001, Loss: 0.1224, Accuracy: 0.9600\n",
            "Iteration: 002, Loss: 0.0831, Accuracy: 0.9758\n",
            "Training: Loss: 0.1099, Accuracy: 0.9637\n",
            "Validation: Loss: 0.3614, Accuracy: 0.9237\n",
            "Epoch Time: 3.22 secs\n",
            "Epoch: 36/38\n",
            "Iteration: 000, Loss: 0.1315, Accuracy: 0.9550\n",
            "Iteration: 001, Loss: 0.0729, Accuracy: 0.9850\n",
            "Iteration: 002, Loss: 0.1353, Accuracy: 0.9597\n",
            "Training: Loss: 0.1100, Accuracy: 0.9676\n",
            "Validation: Loss: 0.2515, Accuracy: 0.9313\n",
            "Epoch Time: 3.27 secs\n",
            "Epoch: 37/38\n",
            "Iteration: 000, Loss: 0.1190, Accuracy: 0.9650\n",
            "Iteration: 001, Loss: 0.1190, Accuracy: 0.9650\n",
            "Iteration: 002, Loss: 0.0768, Accuracy: 0.9839\n",
            "Training: Loss: 0.1090, Accuracy: 0.9695\n",
            "Validation: Loss: 0.3756, Accuracy: 0.9237\n",
            "Epoch Time: 3.25 secs\n",
            "Epoch: 38/38\n",
            "Iteration: 000, Loss: 0.1344, Accuracy: 0.9600\n",
            "Iteration: 001, Loss: 0.0801, Accuracy: 0.9800\n",
            "Iteration: 002, Loss: 0.0903, Accuracy: 0.9758\n",
            "Training: Loss: 0.1032, Accuracy: 0.9714\n",
            "Validation: Loss: 0.4136, Accuracy: 0.9313\n",
            "Epoch Time: 3.22 secs\n"
          ]
        },
        {
          "output_type": "display_data",
          "data": {
            "text/plain": [
              "<IPython.core.display.HTML object>"
            ],
            "text/html": [
              "Waiting for W&B process to finish... <strong style=\"color:green\">(success).</strong>"
            ]
          },
          "metadata": {}
        },
        {
          "output_type": "display_data",
          "data": {
            "text/plain": [
              "VBox(children=(Label(value='276.654 MB of 276.654 MB uploaded (0.000 MB deduped)\\r'), FloatProgress(value=1.0,…"
            ],
            "application/vnd.jupyter.widget-view+json": {
              "version_major": 2,
              "version_minor": 0,
              "model_id": "e24da78d9b3e4e118b53dde7c30958a8"
            }
          },
          "metadata": {}
        },
        {
          "output_type": "display_data",
          "data": {
            "text/plain": [
              "<IPython.core.display.HTML object>"
            ],
            "text/html": [
              "<style>\n",
              "    table.wandb td:nth-child(1) { padding: 0 10px; text-align: left ; width: auto;} td:nth-child(2) {text-align: left ; width: 100%}\n",
              "    .wandb-row { display: flex; flex-direction: row; flex-wrap: wrap; justify-content: flex-start; width: 100% }\n",
              "    .wandb-col { display: flex; flex-direction: column; flex-basis: 100%; flex: 1; padding: 10px; }\n",
              "    </style>\n",
              "<div class=\"wandb-row\"><div class=\"wandb-col\"><h3>Run history:</h3><br/><table class=\"wandb\"><tr><td>train_acc</td><td>▁▁▃▃▃▄▇▇█▇██████▇█████████████████████</td></tr><tr><td>train_loss</td><td>█▅▂▁▁▁▁▁▁▁▁▁▁▁▁▁▁▁▁▁▁▁▁▁▁▁▁▁▁▁▁▁▁▁▁▁▁▁</td></tr><tr><td>val_acc</td><td>▁▄▄▄▄▅▇█▇█▇███▇████████▇▇▇██████▇█████</td></tr><tr><td>val_loss</td><td>█▄▁▁▁▁▁▁▁▁▁▁▁▁▁▁▁▁▁▁▁▁▁▁▁▁▁▁▁▁▁▁▁▁▁▁▁▁</td></tr></table><br/></div><div class=\"wandb-col\"><h3>Run summary:</h3><br/><table class=\"wandb\"><tr><td>train_acc</td><td>0.97137</td></tr><tr><td>train_loss</td><td>0.10324</td></tr><tr><td>val_acc</td><td>0.9313</td></tr><tr><td>val_loss</td><td>0.41357</td></tr></table><br/></div></div>"
            ]
          },
          "metadata": {}
        },
        {
          "output_type": "display_data",
          "data": {
            "text/plain": [
              "<IPython.core.display.HTML object>"
            ],
            "text/html": [
              "Synced <strong style=\"color:#cdcd00\">blooming-sweep-6</strong>: <a href=\"https://wandb.ai/awesome-team/diu-phase2-demo/runs/4mwpdpik\" target=\"_blank\">https://wandb.ai/awesome-team/diu-phase2-demo/runs/4mwpdpik</a><br/>Synced 5 W&B file(s), 1 media file(s), 35 artifact file(s) and 2 other file(s)"
            ]
          },
          "metadata": {}
        },
        {
          "output_type": "display_data",
          "data": {
            "text/plain": [
              "<IPython.core.display.HTML object>"
            ],
            "text/html": [
              "Find logs at: <code>./wandb/run-20220829_141348-4mwpdpik/logs</code>"
            ]
          },
          "metadata": {}
        },
        {
          "output_type": "stream",
          "name": "stderr",
          "text": [
            "\u001b[34m\u001b[1mwandb\u001b[0m: Agent Starting Run: 8r7ggmby with config:\n",
            "\u001b[34m\u001b[1mwandb\u001b[0m: \tbalanced: 1\n",
            "\u001b[34m\u001b[1mwandb\u001b[0m: \tbs: 400\n",
            "\u001b[34m\u001b[1mwandb\u001b[0m: \tnum_epochs: 20\n",
            "\u001b[34m\u001b[1mwandb\u001b[0m: \tpxls: 150\n",
            "\u001b[34m\u001b[1mwandb\u001b[0m: \trate: 0.04286871660711882\n"
          ]
        },
        {
          "output_type": "display_data",
          "data": {
            "text/plain": [
              "<IPython.core.display.HTML object>"
            ],
            "text/html": [
              "Tracking run with wandb version 0.13.2"
            ]
          },
          "metadata": {}
        },
        {
          "output_type": "display_data",
          "data": {
            "text/plain": [
              "<IPython.core.display.HTML object>"
            ],
            "text/html": [
              "Run data is saved locally in <code>/content/wandb/run-20220829_141616-8r7ggmby</code>"
            ]
          },
          "metadata": {}
        },
        {
          "output_type": "display_data",
          "data": {
            "text/plain": [
              "<IPython.core.display.HTML object>"
            ],
            "text/html": [
              "Syncing run <strong><a href=\"https://wandb.ai/awesome-team/diu-phase2-demo/runs/8r7ggmby\" target=\"_blank\">noble-sweep-7</a></strong> to <a href=\"https://wandb.ai/awesome-team/diu-phase2-demo\" target=\"_blank\">Weights & Biases</a> (<a href=\"https://wandb.me/run\" target=\"_blank\">docs</a>)<br/>Sweep page:  <a href=\"https://wandb.ai/awesome-team/diu-phase2-demo/sweeps/hc69lhb2\" target=\"_blank\">https://wandb.ai/awesome-team/diu-phase2-demo/sweeps/hc69lhb2</a>"
            ]
          },
          "metadata": {}
        },
        {
          "output_type": "stream",
          "name": "stdout",
          "text": [
            "Epoch: 1/20\n",
            "Iteration: 000, Loss: 1.0869, Accuracy: 0.3636\n",
            "Training: Loss: 1.0869, Accuracy: 0.3636\n",
            "Validation: Loss: 23.1884, Accuracy: 0.3214\n",
            "Epoch Time: 0.85 secs\n",
            "Epoch: 2/20\n",
            "Iteration: 000, Loss: 27.1764, Accuracy: 0.4000\n",
            "Training: Loss: 27.1764, Accuracy: 0.4000\n",
            "Validation: Loss: 138.1981, Accuracy: 0.2500\n",
            "Epoch Time: 0.86 secs\n",
            "Epoch: 3/20\n",
            "Iteration: 000, Loss: 179.7870, Accuracy: 0.2909\n",
            "Training: Loss: 179.7870, Accuracy: 0.2909\n",
            "Validation: Loss: 166.4489, Accuracy: 0.4643\n",
            "Epoch Time: 0.79 secs\n",
            "Epoch: 4/20\n",
            "Iteration: 000, Loss: 221.7629, Accuracy: 0.3364\n",
            "Training: Loss: 221.7629, Accuracy: 0.3364\n",
            "Validation: Loss: 54.1374, Accuracy: 0.4643\n",
            "Epoch Time: 0.77 secs\n",
            "Epoch: 5/20\n",
            "Iteration: 000, Loss: 75.0669, Accuracy: 0.3364\n",
            "Training: Loss: 75.0669, Accuracy: 0.3364\n",
            "Validation: Loss: 10.1396, Accuracy: 0.4286\n",
            "Epoch Time: 0.75 secs\n",
            "Epoch: 6/20\n",
            "Iteration: 000, Loss: 6.8708, Accuracy: 0.4727\n",
            "Training: Loss: 6.8708, Accuracy: 0.4727\n",
            "Validation: Loss: 21.9545, Accuracy: 0.5000\n",
            "Epoch Time: 0.76 secs\n",
            "Epoch: 7/20\n",
            "Iteration: 000, Loss: 19.8483, Accuracy: 0.6455\n",
            "Training: Loss: 19.8483, Accuracy: 0.6455\n",
            "Validation: Loss: 27.8368, Accuracy: 0.2143\n",
            "Epoch Time: 0.75 secs\n",
            "Epoch: 8/20\n",
            "Iteration: 000, Loss: 26.1521, Accuracy: 0.3182\n",
            "Training: Loss: 26.1521, Accuracy: 0.3182\n",
            "Validation: Loss: 20.1554, Accuracy: 0.5000\n",
            "Epoch Time: 0.75 secs\n",
            "Epoch: 9/20\n",
            "Iteration: 000, Loss: 17.5088, Accuracy: 0.6636\n",
            "Training: Loss: 17.5088, Accuracy: 0.6636\n",
            "Validation: Loss: 17.8212, Accuracy: 0.3571\n",
            "Epoch Time: 0.75 secs\n",
            "Epoch: 10/20\n",
            "Iteration: 000, Loss: 13.5353, Accuracy: 0.5000\n",
            "Training: Loss: 13.5353, Accuracy: 0.5000\n",
            "Validation: Loss: 12.0701, Accuracy: 0.3571\n",
            "Epoch Time: 0.75 secs\n",
            "Epoch: 11/20\n",
            "Iteration: 000, Loss: 8.6485, Accuracy: 0.5545\n",
            "Training: Loss: 8.6485, Accuracy: 0.5545\n",
            "Validation: Loss: 6.4632, Accuracy: 0.4643\n",
            "Epoch Time: 0.76 secs\n",
            "Epoch: 12/20\n",
            "Iteration: 000, Loss: 4.6189, Accuracy: 0.6636\n",
            "Training: Loss: 4.6189, Accuracy: 0.6636\n",
            "Validation: Loss: 3.3629, Accuracy: 0.4286\n",
            "Epoch Time: 0.77 secs\n",
            "Epoch: 13/20\n",
            "Iteration: 000, Loss: 2.1428, Accuracy: 0.6455\n",
            "Training: Loss: 2.1428, Accuracy: 0.6455\n",
            "Validation: Loss: 1.4659, Accuracy: 0.4643\n",
            "Epoch Time: 0.77 secs\n",
            "Epoch: 14/20\n",
            "Iteration: 000, Loss: 0.5496, Accuracy: 0.7273\n",
            "Training: Loss: 0.5496, Accuracy: 0.7273\n",
            "Validation: Loss: 0.8258, Accuracy: 0.8929\n",
            "Epoch Time: 0.74 secs\n",
            "Epoch: 15/20\n",
            "Iteration: 000, Loss: 0.2210, Accuracy: 0.9273\n",
            "Training: Loss: 0.2210, Accuracy: 0.9273\n",
            "Validation: Loss: 2.1987, Accuracy: 0.6071\n",
            "Epoch Time: 0.75 secs\n",
            "Epoch: 16/20\n",
            "Iteration: 000, Loss: 1.6411, Accuracy: 0.6182\n",
            "Training: Loss: 1.6411, Accuracy: 0.6182\n",
            "Validation: Loss: 0.9216, Accuracy: 0.7857\n",
            "Epoch Time: 0.76 secs\n",
            "Epoch: 17/20\n",
            "Iteration: 000, Loss: 0.6204, Accuracy: 0.7545\n",
            "Training: Loss: 0.6204, Accuracy: 0.7545\n",
            "Validation: Loss: 0.2482, Accuracy: 0.9286\n",
            "Epoch Time: 0.78 secs\n",
            "Epoch: 18/20\n",
            "Iteration: 000, Loss: 0.0906, Accuracy: 0.9818\n",
            "Training: Loss: 0.0906, Accuracy: 0.9818\n",
            "Validation: Loss: 0.7872, Accuracy: 0.6429\n",
            "Epoch Time: 0.75 secs\n",
            "Epoch: 19/20\n",
            "Iteration: 000, Loss: 0.4028, Accuracy: 0.7909\n",
            "Training: Loss: 0.4028, Accuracy: 0.7909\n",
            "Validation: Loss: 1.4584, Accuracy: 0.3571\n",
            "Epoch Time: 0.76 secs\n",
            "Epoch: 20/20\n",
            "Iteration: 000, Loss: 0.8051, Accuracy: 0.6364\n",
            "Training: Loss: 0.8051, Accuracy: 0.6364\n",
            "Validation: Loss: 1.6128, Accuracy: 0.4643\n",
            "Epoch Time: 0.76 secs\n"
          ]
        },
        {
          "output_type": "display_data",
          "data": {
            "text/plain": [
              "<IPython.core.display.HTML object>"
            ],
            "text/html": [
              "Waiting for W&B process to finish... <strong style=\"color:green\">(success).</strong>"
            ]
          },
          "metadata": {}
        },
        {
          "output_type": "display_data",
          "data": {
            "text/plain": [
              "VBox(children=(Label(value='287.505 MB of 287.505 MB uploaded (10.253 MB deduped)\\r'), FloatProgress(value=1.0…"
            ],
            "application/vnd.jupyter.widget-view+json": {
              "version_major": 2,
              "version_minor": 0,
              "model_id": "7391abf2c2ab4e24931e7d231f66e821"
            }
          },
          "metadata": {}
        },
        {
          "output_type": "display_data",
          "data": {
            "text/plain": [
              "<IPython.core.display.HTML object>"
            ],
            "text/html": [
              "W&B sync reduced upload amount by 3.6%             "
            ]
          },
          "metadata": {}
        },
        {
          "output_type": "display_data",
          "data": {
            "text/plain": [
              "<IPython.core.display.HTML object>"
            ],
            "text/html": [
              "<style>\n",
              "    table.wandb td:nth-child(1) { padding: 0 10px; text-align: left ; width: auto;} td:nth-child(2) {text-align: left ; width: 100%}\n",
              "    .wandb-row { display: flex; flex-direction: row; flex-wrap: wrap; justify-content: flex-start; width: 100% }\n",
              "    .wandb-col { display: flex; flex-direction: column; flex-basis: 100%; flex: 1; padding: 10px; }\n",
              "    </style>\n",
              "<div class=\"wandb-row\"><div class=\"wandb-col\"><h3>Run history:</h3><br/><table class=\"wandb\"><tr><td>train_acc</td><td>▂▂▁▁▁▃▅▁▅▃▄▅▅▅▇▄▆█▆▄</td></tr><tr><td>train_loss</td><td>▁▂▇█▃▁▂▂▂▁▁▁▁▁▁▁▁▁▁▁</td></tr><tr><td>val_acc</td><td>▂▁▃▃▃▄▁▄▂▂▃▃▃█▅▇█▅▂▃</td></tr><tr><td>val_loss</td><td>▂▇█▃▁▂▂▂▂▁▁▁▁▁▁▁▁▁▁▁</td></tr></table><br/></div><div class=\"wandb-col\"><h3>Run summary:</h3><br/><table class=\"wandb\"><tr><td>train_acc</td><td>0.63636</td></tr><tr><td>train_loss</td><td>0.8051</td></tr><tr><td>val_acc</td><td>0.46429</td></tr><tr><td>val_loss</td><td>1.61279</td></tr></table><br/></div></div>"
            ]
          },
          "metadata": {}
        },
        {
          "output_type": "display_data",
          "data": {
            "text/plain": [
              "<IPython.core.display.HTML object>"
            ],
            "text/html": [
              "Synced <strong style=\"color:#cdcd00\">noble-sweep-7</strong>: <a href=\"https://wandb.ai/awesome-team/diu-phase2-demo/runs/8r7ggmby\" target=\"_blank\">https://wandb.ai/awesome-team/diu-phase2-demo/runs/8r7ggmby</a><br/>Synced 5 W&B file(s), 1 media file(s), 173 artifact file(s) and 2 other file(s)"
            ]
          },
          "metadata": {}
        },
        {
          "output_type": "display_data",
          "data": {
            "text/plain": [
              "<IPython.core.display.HTML object>"
            ],
            "text/html": [
              "Find logs at: <code>./wandb/run-20220829_141616-8r7ggmby/logs</code>"
            ]
          },
          "metadata": {}
        },
        {
          "output_type": "stream",
          "name": "stderr",
          "text": [
            "\u001b[34m\u001b[1mwandb\u001b[0m: Agent Starting Run: 3x9xvi98 with config:\n",
            "\u001b[34m\u001b[1mwandb\u001b[0m: \tbalanced: 0\n",
            "\u001b[34m\u001b[1mwandb\u001b[0m: \tbs: 150\n",
            "\u001b[34m\u001b[1mwandb\u001b[0m: \tnum_epochs: 29\n",
            "\u001b[34m\u001b[1mwandb\u001b[0m: \tpxls: 150\n",
            "\u001b[34m\u001b[1mwandb\u001b[0m: \trate: 0.06845395118189171\n"
          ]
        },
        {
          "output_type": "display_data",
          "data": {
            "text/plain": [
              "<IPython.core.display.HTML object>"
            ],
            "text/html": [
              "Tracking run with wandb version 0.13.2"
            ]
          },
          "metadata": {}
        },
        {
          "output_type": "display_data",
          "data": {
            "text/plain": [
              "<IPython.core.display.HTML object>"
            ],
            "text/html": [
              "Run data is saved locally in <code>/content/wandb/run-20220829_141652-3x9xvi98</code>"
            ]
          },
          "metadata": {}
        },
        {
          "output_type": "display_data",
          "data": {
            "text/plain": [
              "<IPython.core.display.HTML object>"
            ],
            "text/html": [
              "Syncing run <strong><a href=\"https://wandb.ai/awesome-team/diu-phase2-demo/runs/3x9xvi98\" target=\"_blank\">flowing-sweep-8</a></strong> to <a href=\"https://wandb.ai/awesome-team/diu-phase2-demo\" target=\"_blank\">Weights & Biases</a> (<a href=\"https://wandb.me/run\" target=\"_blank\">docs</a>)<br/>Sweep page:  <a href=\"https://wandb.ai/awesome-team/diu-phase2-demo/sweeps/hc69lhb2\" target=\"_blank\">https://wandb.ai/awesome-team/diu-phase2-demo/sweeps/hc69lhb2</a>"
            ]
          },
          "metadata": {}
        },
        {
          "output_type": "stream",
          "name": "stdout",
          "text": [
            "Epoch: 1/29\n",
            "Iteration: 000, Loss: 1.1898, Accuracy: 0.0267\n",
            "Iteration: 001, Loss: 106.1881, Accuracy: 0.5400\n",
            "Iteration: 002, Loss: 573.8152, Accuracy: 0.3200\n",
            "Iteration: 003, Loss: 328.5289, Accuracy: 0.2838\n",
            "Training: Loss: 241.3933, Accuracy: 0.2939\n",
            "Validation: Loss: 21.0325, Accuracy: 0.3817\n",
            "Epoch Time: 7.19 secs\n",
            "Epoch: 2/29\n",
            "Iteration: 000, Loss: 48.4615, Accuracy: 0.3000\n",
            "Iteration: 001, Loss: 63.2374, Accuracy: 0.5800\n",
            "Iteration: 002, Loss: 75.3468, Accuracy: 0.5600\n",
            "Iteration: 003, Loss: 49.6437, Accuracy: 0.5541\n",
            "Training: Loss: 60.5543, Accuracy: 0.4905\n",
            "Validation: Loss: 21.6786, Accuracy: 0.5954\n",
            "Epoch Time: 4.75 secs\n",
            "Epoch: 3/29\n",
            "Iteration: 000, Loss: 20.5083, Accuracy: 0.6200\n",
            "Iteration: 001, Loss: 8.4548, Accuracy: 0.5667\n",
            "Iteration: 002, Loss: 0.6434, Accuracy: 0.6400\n",
            "Iteration: 003, Loss: 0.5308, Accuracy: 0.5811\n",
            "Training: Loss: 8.5501, Accuracy: 0.6050\n",
            "Validation: Loss: 0.6101, Accuracy: 0.5191\n",
            "Epoch Time: 3.36 secs\n",
            "Epoch: 4/29\n",
            "Iteration: 000, Loss: 0.5342, Accuracy: 0.5867\n",
            "Iteration: 001, Loss: 0.5415, Accuracy: 0.5867\n",
            "Iteration: 002, Loss: 0.4981, Accuracy: 0.6133\n",
            "Iteration: 003, Loss: 0.4949, Accuracy: 0.5676\n",
            "Training: Loss: 0.5204, Accuracy: 0.5916\n",
            "Validation: Loss: 0.6302, Accuracy: 0.5191\n",
            "Epoch Time: 3.23 secs\n",
            "Epoch: 5/29\n",
            "Iteration: 000, Loss: 0.4320, Accuracy: 0.6067\n",
            "Iteration: 001, Loss: 0.3842, Accuracy: 0.9600\n",
            "Iteration: 002, Loss: 0.6846, Accuracy: 0.9267\n",
            "Iteration: 003, Loss: 0.3426, Accuracy: 0.9189\n",
            "Training: Loss: 0.4780, Accuracy: 0.8435\n",
            "Validation: Loss: 0.5019, Accuracy: 0.8855\n",
            "Epoch Time: 3.22 secs\n",
            "Epoch: 6/29\n",
            "Iteration: 000, Loss: 0.3943, Accuracy: 0.9467\n",
            "Iteration: 001, Loss: 0.4593, Accuracy: 0.9000\n",
            "Iteration: 002, Loss: 0.5422, Accuracy: 0.8000\n",
            "Iteration: 003, Loss: 0.4981, Accuracy: 0.8108\n",
            "Training: Loss: 0.4699, Accuracy: 0.8721\n",
            "Validation: Loss: 0.4925, Accuracy: 0.8702\n",
            "Epoch Time: 3.25 secs\n",
            "Epoch: 7/29\n",
            "Iteration: 000, Loss: 0.4004, Accuracy: 0.9267\n",
            "Iteration: 001, Loss: 0.3550, Accuracy: 0.9400\n",
            "Iteration: 002, Loss: 0.3159, Accuracy: 0.9467\n",
            "Iteration: 003, Loss: 0.3318, Accuracy: 0.9595\n",
            "Training: Loss: 0.3535, Accuracy: 0.9408\n",
            "Validation: Loss: 0.7349, Accuracy: 0.8473\n",
            "Epoch Time: 3.22 secs\n",
            "Epoch: 8/29\n",
            "Iteration: 000, Loss: 0.3434, Accuracy: 0.9533\n",
            "Iteration: 001, Loss: 0.3253, Accuracy: 0.9333\n",
            "Iteration: 002, Loss: 0.3272, Accuracy: 0.9400\n",
            "Iteration: 003, Loss: 0.2755, Accuracy: 0.9459\n",
            "Training: Loss: 0.3240, Accuracy: 0.9427\n",
            "Validation: Loss: 0.4591, Accuracy: 0.8779\n",
            "Epoch Time: 3.22 secs\n",
            "Epoch: 9/29\n",
            "Iteration: 000, Loss: 0.3436, Accuracy: 0.9200\n",
            "Iteration: 001, Loss: 0.2928, Accuracy: 0.9467\n",
            "Iteration: 002, Loss: 0.3677, Accuracy: 0.8733\n",
            "Iteration: 003, Loss: 0.2675, Accuracy: 0.9595\n",
            "Training: Loss: 0.3252, Accuracy: 0.9198\n",
            "Validation: Loss: 0.4317, Accuracy: 0.8702\n",
            "Epoch Time: 3.19 secs\n",
            "Epoch: 10/29\n",
            "Iteration: 000, Loss: 0.2984, Accuracy: 0.9400\n",
            "Iteration: 001, Loss: 0.3083, Accuracy: 0.9200\n",
            "Iteration: 002, Loss: 0.1971, Accuracy: 0.9733\n",
            "Iteration: 003, Loss: 0.2384, Accuracy: 0.9459\n",
            "Training: Loss: 0.2638, Accuracy: 0.9447\n",
            "Validation: Loss: 0.3671, Accuracy: 0.8931\n",
            "Epoch Time: 3.23 secs\n",
            "Epoch: 11/29\n",
            "Iteration: 000, Loss: 0.2356, Accuracy: 0.9467\n",
            "Iteration: 001, Loss: 0.2501, Accuracy: 0.9467\n",
            "Iteration: 002, Loss: 0.1775, Accuracy: 0.9800\n",
            "Iteration: 003, Loss: 0.3786, Accuracy: 0.8784\n",
            "Training: Loss: 0.2433, Accuracy: 0.9466\n",
            "Validation: Loss: 0.3557, Accuracy: 0.9008\n",
            "Epoch Time: 3.23 secs\n",
            "Epoch: 12/29\n",
            "Iteration: 000, Loss: 0.2075, Accuracy: 0.9533\n",
            "Iteration: 001, Loss: 0.2165, Accuracy: 0.9600\n",
            "Iteration: 002, Loss: 0.2660, Accuracy: 0.9333\n",
            "Iteration: 003, Loss: 0.2032, Accuracy: 0.9459\n",
            "Training: Loss: 0.2262, Accuracy: 0.9485\n",
            "Validation: Loss: 0.3811, Accuracy: 0.8779\n",
            "Epoch Time: 3.21 secs\n",
            "Epoch: 13/29\n",
            "Iteration: 000, Loss: 0.2276, Accuracy: 0.9533\n",
            "Iteration: 001, Loss: 0.2344, Accuracy: 0.9400\n",
            "Iteration: 002, Loss: 0.2670, Accuracy: 0.9200\n",
            "Iteration: 003, Loss: 0.1129, Accuracy: 0.9865\n",
            "Training: Loss: 0.2246, Accuracy: 0.9447\n",
            "Validation: Loss: 0.3862, Accuracy: 0.8931\n",
            "Epoch Time: 3.23 secs\n",
            "Epoch: 14/29\n",
            "Iteration: 000, Loss: 0.2634, Accuracy: 0.9333\n",
            "Iteration: 001, Loss: 0.2577, Accuracy: 0.9267\n",
            "Iteration: 002, Loss: 0.2364, Accuracy: 0.9333\n",
            "Iteration: 003, Loss: 0.1394, Accuracy: 0.9865\n",
            "Training: Loss: 0.2365, Accuracy: 0.9389\n",
            "Validation: Loss: 0.3639, Accuracy: 0.8855\n",
            "Epoch Time: 3.21 secs\n",
            "Epoch: 15/29\n",
            "Iteration: 000, Loss: 0.1709, Accuracy: 0.9667\n",
            "Iteration: 001, Loss: 0.2370, Accuracy: 0.9333\n",
            "Iteration: 002, Loss: 0.2118, Accuracy: 0.9467\n",
            "Iteration: 003, Loss: 0.2285, Accuracy: 0.9324\n",
            "Training: Loss: 0.2096, Accuracy: 0.9466\n",
            "Validation: Loss: 0.3232, Accuracy: 0.9008\n",
            "Epoch Time: 3.24 secs\n",
            "Epoch: 16/29\n",
            "Iteration: 000, Loss: 0.2576, Accuracy: 0.9267\n",
            "Iteration: 001, Loss: 0.1989, Accuracy: 0.9467\n",
            "Iteration: 002, Loss: 0.1362, Accuracy: 0.9733\n",
            "Iteration: 003, Loss: 0.1488, Accuracy: 0.9730\n",
            "Training: Loss: 0.1907, Accuracy: 0.9523\n",
            "Validation: Loss: 0.4234, Accuracy: 0.8931\n",
            "Epoch Time: 3.24 secs\n",
            "Epoch: 17/29\n",
            "Iteration: 000, Loss: 0.2210, Accuracy: 0.9400\n",
            "Iteration: 001, Loss: 0.2130, Accuracy: 0.9467\n",
            "Iteration: 002, Loss: 0.1325, Accuracy: 0.9733\n",
            "Iteration: 003, Loss: 0.1916, Accuracy: 0.9459\n",
            "Training: Loss: 0.1892, Accuracy: 0.9523\n",
            "Validation: Loss: 0.3320, Accuracy: 0.9008\n",
            "Epoch Time: 3.27 secs\n",
            "Epoch: 18/29\n",
            "Iteration: 000, Loss: 0.2016, Accuracy: 0.9467\n",
            "Iteration: 001, Loss: 0.2447, Accuracy: 0.9267\n",
            "Iteration: 002, Loss: 0.1122, Accuracy: 0.9800\n",
            "Iteration: 003, Loss: 0.1646, Accuracy: 0.9595\n",
            "Training: Loss: 0.1831, Accuracy: 0.9523\n",
            "Validation: Loss: 0.3130, Accuracy: 0.9008\n",
            "Epoch Time: 3.20 secs\n",
            "Epoch: 19/29\n",
            "Iteration: 000, Loss: 0.2006, Accuracy: 0.9467\n",
            "Iteration: 001, Loss: 0.2383, Accuracy: 0.9267\n",
            "Iteration: 002, Loss: 0.1813, Accuracy: 0.9467\n",
            "Iteration: 003, Loss: 0.0771, Accuracy: 1.0000\n",
            "Training: Loss: 0.1884, Accuracy: 0.9485\n",
            "Validation: Loss: 0.3103, Accuracy: 0.9008\n",
            "Epoch Time: 3.23 secs\n",
            "Epoch: 20/29\n",
            "Iteration: 000, Loss: 0.1580, Accuracy: 0.9600\n",
            "Iteration: 001, Loss: 0.2160, Accuracy: 0.9333\n",
            "Iteration: 002, Loss: 0.1847, Accuracy: 0.9467\n",
            "Iteration: 003, Loss: 0.1617, Accuracy: 0.9595\n",
            "Training: Loss: 0.1827, Accuracy: 0.9485\n",
            "Validation: Loss: 0.3072, Accuracy: 0.9008\n",
            "Epoch Time: 3.21 secs\n",
            "Epoch: 21/29\n",
            "Iteration: 000, Loss: 0.1867, Accuracy: 0.9467\n",
            "Iteration: 001, Loss: 0.1306, Accuracy: 0.9733\n",
            "Iteration: 002, Loss: 0.2735, Accuracy: 0.9133\n",
            "Iteration: 003, Loss: 0.2554, Accuracy: 0.9189\n",
            "Training: Loss: 0.2052, Accuracy: 0.9408\n",
            "Validation: Loss: 0.3047, Accuracy: 0.9008\n",
            "Epoch Time: 3.23 secs\n",
            "Epoch: 22/29\n",
            "Iteration: 000, Loss: 0.2241, Accuracy: 0.9333\n",
            "Iteration: 001, Loss: 0.1782, Accuracy: 0.9533\n",
            "Iteration: 002, Loss: 0.1418, Accuracy: 0.9600\n",
            "Iteration: 003, Loss: 0.1290, Accuracy: 0.9730\n",
            "Training: Loss: 0.1740, Accuracy: 0.9523\n",
            "Validation: Loss: 1.2603, Accuracy: 0.8473\n",
            "Epoch Time: 3.22 secs\n",
            "Epoch: 23/29\n",
            "Iteration: 000, Loss: 0.6548, Accuracy: 0.9000\n",
            "Iteration: 001, Loss: 0.1235, Accuracy: 0.9733\n",
            "Iteration: 002, Loss: 0.2784, Accuracy: 0.9133\n",
            "Iteration: 003, Loss: 0.1761, Accuracy: 0.9595\n",
            "Training: Loss: 0.3273, Accuracy: 0.9332\n",
            "Validation: Loss: 0.5788, Accuracy: 0.7939\n",
            "Epoch Time: 3.20 secs\n",
            "Epoch: 24/29\n",
            "Iteration: 000, Loss: 0.5853, Accuracy: 0.7933\n",
            "Iteration: 001, Loss: 0.3073, Accuracy: 0.9067\n",
            "Iteration: 002, Loss: 0.5555, Accuracy: 0.8200\n",
            "Iteration: 003, Loss: 0.1730, Accuracy: 0.9595\n",
            "Training: Loss: 0.4390, Accuracy: 0.8569\n",
            "Validation: Loss: 0.3038, Accuracy: 0.9008\n",
            "Epoch Time: 3.20 secs\n",
            "Epoch: 25/29\n",
            "Iteration: 000, Loss: 0.1497, Accuracy: 0.9667\n",
            "Iteration: 001, Loss: 0.1762, Accuracy: 0.9467\n",
            "Iteration: 002, Loss: 0.1674, Accuracy: 0.9533\n",
            "Iteration: 003, Loss: 0.8675, Accuracy: 0.9189\n",
            "Training: Loss: 0.2637, Accuracy: 0.9504\n",
            "Validation: Loss: 0.4072, Accuracy: 0.8931\n",
            "Epoch Time: 3.21 secs\n",
            "Epoch: 26/29\n",
            "Iteration: 000, Loss: 0.1897, Accuracy: 0.9400\n",
            "Iteration: 001, Loss: 0.1172, Accuracy: 0.9733\n",
            "Iteration: 002, Loss: 0.1970, Accuracy: 0.9400\n",
            "Iteration: 003, Loss: 0.2177, Accuracy: 0.9459\n",
            "Training: Loss: 0.1750, Accuracy: 0.9504\n",
            "Validation: Loss: 0.3464, Accuracy: 0.8931\n",
            "Epoch Time: 3.26 secs\n",
            "Epoch: 27/29\n",
            "Iteration: 000, Loss: 0.2600, Accuracy: 0.9467\n",
            "Iteration: 001, Loss: 0.1573, Accuracy: 0.9667\n",
            "Iteration: 002, Loss: 0.3293, Accuracy: 0.8933\n",
            "Iteration: 003, Loss: 0.1920, Accuracy: 0.9459\n",
            "Training: Loss: 0.2408, Accuracy: 0.9370\n",
            "Validation: Loss: 0.3192, Accuracy: 0.8931\n",
            "Epoch Time: 3.25 secs\n",
            "Epoch: 28/29\n",
            "Iteration: 000, Loss: 0.1829, Accuracy: 0.9467\n",
            "Iteration: 001, Loss: 0.2578, Accuracy: 0.9133\n",
            "Iteration: 002, Loss: 0.1986, Accuracy: 0.9400\n",
            "Iteration: 003, Loss: 0.1595, Accuracy: 0.9595\n",
            "Training: Loss: 0.2055, Accuracy: 0.9370\n",
            "Validation: Loss: 0.3020, Accuracy: 0.8931\n",
            "Epoch Time: 3.21 secs\n",
            "Epoch: 29/29\n",
            "Iteration: 000, Loss: 0.1825, Accuracy: 0.9467\n",
            "Iteration: 001, Loss: 0.1605, Accuracy: 0.9533\n",
            "Iteration: 002, Loss: 0.1571, Accuracy: 0.9600\n",
            "Iteration: 003, Loss: 0.2250, Accuracy: 0.9324\n",
            "Training: Loss: 0.1749, Accuracy: 0.9504\n",
            "Validation: Loss: 0.3233, Accuracy: 0.8931\n",
            "Epoch Time: 3.22 secs\n"
          ]
        },
        {
          "output_type": "display_data",
          "data": {
            "text/plain": [
              "<IPython.core.display.HTML object>"
            ],
            "text/html": [
              "Waiting for W&B process to finish... <strong style=\"color:green\">(success).</strong>"
            ]
          },
          "metadata": {}
        },
        {
          "output_type": "display_data",
          "data": {
            "text/plain": [
              "VBox(children=(Label(value='319.529 MB of 319.529 MB uploaded (10.253 MB deduped)\\r'), FloatProgress(value=1.0…"
            ],
            "application/vnd.jupyter.widget-view+json": {
              "version_major": 2,
              "version_minor": 0,
              "model_id": "4abb6bc1dd2f47da90264a788af38f66"
            }
          },
          "metadata": {}
        },
        {
          "output_type": "display_data",
          "data": {
            "text/plain": [
              "<IPython.core.display.HTML object>"
            ],
            "text/html": [
              "W&B sync reduced upload amount by 3.2%             "
            ]
          },
          "metadata": {}
        },
        {
          "output_type": "display_data",
          "data": {
            "text/plain": [
              "<IPython.core.display.HTML object>"
            ],
            "text/html": [
              "<style>\n",
              "    table.wandb td:nth-child(1) { padding: 0 10px; text-align: left ; width: auto;} td:nth-child(2) {text-align: left ; width: 100%}\n",
              "    .wandb-row { display: flex; flex-direction: row; flex-wrap: wrap; justify-content: flex-start; width: 100% }\n",
              "    .wandb-col { display: flex; flex-direction: column; flex-basis: 100%; flex: 1; padding: 10px; }\n",
              "    </style>\n",
              "<div class=\"wandb-row\"><div class=\"wandb-col\"><h3>Run history:</h3><br/><table class=\"wandb\"><tr><td>train_acc</td><td>▁▃▄▄▇▇█████████████████▇█████</td></tr><tr><td>train_loss</td><td>█▃▁▁▁▁▁▁▁▁▁▁▁▁▁▁▁▁▁▁▁▁▁▁▁▁▁▁▁</td></tr><tr><td>val_acc</td><td>▁▄▃▃██▇██████████████▇▇██████</td></tr><tr><td>val_loss</td><td>██▁▁▁▁▁▁▁▁▁▁▁▁▁▁▁▁▁▁▁▁▁▁▁▁▁▁▁</td></tr></table><br/></div><div class=\"wandb-col\"><h3>Run summary:</h3><br/><table class=\"wandb\"><tr><td>train_acc</td><td>0.95038</td></tr><tr><td>train_loss</td><td>0.17494</td></tr><tr><td>val_acc</td><td>0.89313</td></tr><tr><td>val_loss</td><td>0.32334</td></tr></table><br/></div></div>"
            ]
          },
          "metadata": {}
        },
        {
          "output_type": "display_data",
          "data": {
            "text/plain": [
              "<IPython.core.display.HTML object>"
            ],
            "text/html": [
              "Synced <strong style=\"color:#cdcd00\">flowing-sweep-8</strong>: <a href=\"https://wandb.ai/awesome-team/diu-phase2-demo/runs/3x9xvi98\" target=\"_blank\">https://wandb.ai/awesome-team/diu-phase2-demo/runs/3x9xvi98</a><br/>Synced 5 W&B file(s), 1 media file(s), 690 artifact file(s) and 2 other file(s)"
            ]
          },
          "metadata": {}
        },
        {
          "output_type": "display_data",
          "data": {
            "text/plain": [
              "<IPython.core.display.HTML object>"
            ],
            "text/html": [
              "Find logs at: <code>./wandb/run-20220829_141652-3x9xvi98/logs</code>"
            ]
          },
          "metadata": {}
        },
        {
          "output_type": "stream",
          "name": "stderr",
          "text": [
            "\u001b[34m\u001b[1mwandb\u001b[0m: Agent Starting Run: ts46mon2 with config:\n",
            "\u001b[34m\u001b[1mwandb\u001b[0m: \tbalanced: 0\n",
            "\u001b[34m\u001b[1mwandb\u001b[0m: \tbs: 300\n",
            "\u001b[34m\u001b[1mwandb\u001b[0m: \tnum_epochs: 27\n",
            "\u001b[34m\u001b[1mwandb\u001b[0m: \tpxls: 150\n",
            "\u001b[34m\u001b[1mwandb\u001b[0m: \trate: 0.07008452391439057\n"
          ]
        },
        {
          "output_type": "display_data",
          "data": {
            "text/plain": [
              "<IPython.core.display.HTML object>"
            ],
            "text/html": [
              "Tracking run with wandb version 0.13.2"
            ]
          },
          "metadata": {}
        },
        {
          "output_type": "display_data",
          "data": {
            "text/plain": [
              "<IPython.core.display.HTML object>"
            ],
            "text/html": [
              "Run data is saved locally in <code>/content/wandb/run-20220829_141855-ts46mon2</code>"
            ]
          },
          "metadata": {}
        },
        {
          "output_type": "display_data",
          "data": {
            "text/plain": [
              "<IPython.core.display.HTML object>"
            ],
            "text/html": [
              "Syncing run <strong><a href=\"https://wandb.ai/awesome-team/diu-phase2-demo/runs/ts46mon2\" target=\"_blank\">flowing-sweep-9</a></strong> to <a href=\"https://wandb.ai/awesome-team/diu-phase2-demo\" target=\"_blank\">Weights & Biases</a> (<a href=\"https://wandb.me/run\" target=\"_blank\">docs</a>)<br/>Sweep page:  <a href=\"https://wandb.ai/awesome-team/diu-phase2-demo/sweeps/hc69lhb2\" target=\"_blank\">https://wandb.ai/awesome-team/diu-phase2-demo/sweeps/hc69lhb2</a>"
            ]
          },
          "metadata": {}
        },
        {
          "output_type": "stream",
          "name": "stdout",
          "text": [
            "Epoch: 1/27\n",
            "Iteration: 000, Loss: 1.1123, Accuracy: 0.5500\n",
            "Iteration: 001, Loss: 272.4660, Accuracy: 0.3348\n",
            "Training: Loss: 117.1108, Accuracy: 0.4580\n",
            "Validation: Loss: 291.1056, Accuracy: 0.5725\n",
            "Epoch Time: 3.54 secs\n",
            "Epoch: 2/27\n",
            "Iteration: 000, Loss: 350.0945, Accuracy: 0.5300\n",
            "Iteration: 001, Loss: 140.7945, Accuracy: 0.6429\n",
            "Training: Loss: 260.6228, Accuracy: 0.5782\n",
            "Validation: Loss: 53.2608, Accuracy: 0.1679\n",
            "Epoch Time: 3.23 secs\n",
            "Epoch: 3/27\n",
            "Iteration: 000, Loss: 57.0330, Accuracy: 0.2000\n",
            "Iteration: 001, Loss: 3.0301, Accuracy: 0.9107\n",
            "Training: Loss: 33.9478, Accuracy: 0.5038\n",
            "Validation: Loss: 9.9119, Accuracy: 0.6260\n",
            "Epoch Time: 3.21 secs\n",
            "Epoch: 4/27\n",
            "Iteration: 000, Loss: 12.1686, Accuracy: 0.6867\n",
            "Iteration: 001, Loss: 6.7267, Accuracy: 0.9062\n",
            "Training: Loss: 9.8423, Accuracy: 0.7805\n",
            "Validation: Loss: 17.0727, Accuracy: 0.7176\n",
            "Epoch Time: 3.22 secs\n",
            "Epoch: 5/27\n",
            "Iteration: 000, Loss: 10.5201, Accuracy: 0.8200\n",
            "Iteration: 001, Loss: 8.8586, Accuracy: 0.9196\n",
            "Training: Loss: 9.8099, Accuracy: 0.8626\n",
            "Validation: Loss: 6.7847, Accuracy: 0.9008\n",
            "Epoch Time: 3.24 secs\n",
            "Epoch: 6/27\n",
            "Iteration: 000, Loss: 5.9593, Accuracy: 0.9300\n",
            "Iteration: 001, Loss: 5.4152, Accuracy: 0.8661\n",
            "Training: Loss: 5.7267, Accuracy: 0.9027\n",
            "Validation: Loss: 4.2931, Accuracy: 0.8626\n",
            "Epoch Time: 3.23 secs\n",
            "Epoch: 7/27\n",
            "Iteration: 000, Loss: 4.7500, Accuracy: 0.8400\n",
            "Iteration: 001, Loss: 2.4459, Accuracy: 0.8884\n",
            "Training: Loss: 3.7650, Accuracy: 0.8607\n",
            "Validation: Loss: 1.9242, Accuracy: 0.8779\n",
            "Epoch Time: 3.22 secs\n",
            "Epoch: 8/27\n",
            "Iteration: 000, Loss: 1.5012, Accuracy: 0.9033\n",
            "Iteration: 001, Loss: 0.6704, Accuracy: 0.9152\n",
            "Training: Loss: 1.1461, Accuracy: 0.9084\n",
            "Validation: Loss: 0.2543, Accuracy: 0.9313\n",
            "Epoch Time: 3.21 secs\n",
            "Epoch: 9/27\n",
            "Iteration: 000, Loss: 0.2475, Accuracy: 0.9267\n",
            "Iteration: 001, Loss: 0.7628, Accuracy: 0.5357\n",
            "Training: Loss: 0.4678, Accuracy: 0.7595\n",
            "Validation: Loss: 0.8340, Accuracy: 0.6031\n",
            "Epoch Time: 3.26 secs\n",
            "Epoch: 10/27\n",
            "Iteration: 000, Loss: 0.9038, Accuracy: 0.5967\n",
            "Iteration: 001, Loss: 0.7218, Accuracy: 0.5982\n",
            "Training: Loss: 0.8260, Accuracy: 0.5973\n",
            "Validation: Loss: 0.5275, Accuracy: 0.5725\n",
            "Epoch Time: 3.21 secs\n",
            "Epoch: 11/27\n",
            "Iteration: 000, Loss: 0.5693, Accuracy: 0.5500\n",
            "Iteration: 001, Loss: 0.4240, Accuracy: 0.7009\n",
            "Training: Loss: 0.5072, Accuracy: 0.6145\n",
            "Validation: Loss: 0.4859, Accuracy: 0.5878\n",
            "Epoch Time: 3.23 secs\n",
            "Epoch: 12/27\n",
            "Iteration: 000, Loss: 0.4706, Accuracy: 0.6167\n",
            "Iteration: 001, Loss: 0.4358, Accuracy: 0.6250\n",
            "Training: Loss: 0.4557, Accuracy: 0.6202\n",
            "Validation: Loss: 0.5099, Accuracy: 0.5725\n",
            "Epoch Time: 3.60 secs\n",
            "Epoch: 13/27\n",
            "Iteration: 000, Loss: 0.4962, Accuracy: 0.5767\n",
            "Iteration: 001, Loss: 0.4148, Accuracy: 0.9554\n",
            "Training: Loss: 0.4614, Accuracy: 0.7385\n",
            "Validation: Loss: 0.4487, Accuracy: 0.9237\n",
            "Epoch Time: 3.61 secs\n",
            "Epoch: 14/27\n",
            "Iteration: 000, Loss: 0.4548, Accuracy: 0.9300\n",
            "Iteration: 001, Loss: 0.3801, Accuracy: 0.9509\n",
            "Training: Loss: 0.4229, Accuracy: 0.9389\n",
            "Validation: Loss: 0.4198, Accuracy: 0.9237\n",
            "Epoch Time: 3.19 secs\n",
            "Epoch: 15/27\n",
            "Iteration: 000, Loss: 0.3812, Accuracy: 0.9500\n",
            "Iteration: 001, Loss: 0.4023, Accuracy: 0.9330\n",
            "Training: Loss: 0.3903, Accuracy: 0.9427\n",
            "Validation: Loss: 0.3898, Accuracy: 0.9237\n",
            "Epoch Time: 3.27 secs\n",
            "Epoch: 16/27\n",
            "Iteration: 000, Loss: 0.3596, Accuracy: 0.9467\n",
            "Iteration: 001, Loss: 0.3595, Accuracy: 0.9375\n",
            "Training: Loss: 0.3595, Accuracy: 0.9427\n",
            "Validation: Loss: 0.3590, Accuracy: 0.9237\n",
            "Epoch Time: 3.30 secs\n",
            "Epoch: 17/27\n",
            "Iteration: 000, Loss: 0.3506, Accuracy: 0.9267\n",
            "Iteration: 001, Loss: 0.3079, Accuracy: 0.9643\n",
            "Training: Loss: 0.3323, Accuracy: 0.9427\n",
            "Validation: Loss: 0.3334, Accuracy: 0.9313\n",
            "Epoch Time: 3.25 secs\n",
            "Epoch: 18/27\n",
            "Iteration: 000, Loss: 0.3355, Accuracy: 0.9333\n",
            "Iteration: 001, Loss: 0.2782, Accuracy: 0.9554\n",
            "Training: Loss: 0.3110, Accuracy: 0.9427\n",
            "Validation: Loss: 0.3150, Accuracy: 0.9313\n",
            "Epoch Time: 3.30 secs\n",
            "Epoch: 19/27\n",
            "Iteration: 000, Loss: 0.2749, Accuracy: 0.9500\n",
            "Iteration: 001, Loss: 0.3066, Accuracy: 0.9375\n",
            "Training: Loss: 0.2884, Accuracy: 0.9447\n",
            "Validation: Loss: 0.3024, Accuracy: 0.9313\n",
            "Epoch Time: 3.26 secs\n",
            "Epoch: 20/27\n",
            "Iteration: 000, Loss: 0.2582, Accuracy: 0.9500\n",
            "Iteration: 001, Loss: 0.2896, Accuracy: 0.9330\n",
            "Training: Loss: 0.2717, Accuracy: 0.9427\n",
            "Validation: Loss: 0.2971, Accuracy: 0.9237\n",
            "Epoch Time: 3.21 secs\n",
            "Epoch: 21/27\n",
            "Iteration: 000, Loss: 0.2618, Accuracy: 0.9433\n",
            "Iteration: 001, Loss: 0.2474, Accuracy: 0.9464\n",
            "Training: Loss: 0.2557, Accuracy: 0.9447\n",
            "Validation: Loss: 0.2862, Accuracy: 0.9237\n",
            "Epoch Time: 3.20 secs\n",
            "Epoch: 22/27\n",
            "Iteration: 000, Loss: 0.2870, Accuracy: 0.9233\n",
            "Iteration: 001, Loss: 0.1858, Accuracy: 0.9732\n",
            "Training: Loss: 0.2437, Accuracy: 0.9447\n",
            "Validation: Loss: 0.2797, Accuracy: 0.9237\n",
            "Epoch Time: 3.17 secs\n",
            "Epoch: 23/27\n",
            "Iteration: 000, Loss: 0.2356, Accuracy: 0.9433\n",
            "Iteration: 001, Loss: 0.2293, Accuracy: 0.9464\n",
            "Training: Loss: 0.2329, Accuracy: 0.9447\n",
            "Validation: Loss: 0.2730, Accuracy: 0.9237\n",
            "Epoch Time: 3.15 secs\n",
            "Epoch: 24/27\n",
            "Iteration: 000, Loss: 0.2354, Accuracy: 0.9400\n",
            "Iteration: 001, Loss: 0.2117, Accuracy: 0.9509\n",
            "Training: Loss: 0.2253, Accuracy: 0.9447\n",
            "Validation: Loss: 0.2644, Accuracy: 0.9237\n",
            "Epoch Time: 3.17 secs\n",
            "Epoch: 25/27\n",
            "Iteration: 000, Loss: 0.2221, Accuracy: 0.9467\n",
            "Iteration: 001, Loss: 0.2149, Accuracy: 0.9420\n",
            "Training: Loss: 0.2190, Accuracy: 0.9447\n",
            "Validation: Loss: 0.2570, Accuracy: 0.9237\n",
            "Epoch Time: 3.16 secs\n",
            "Epoch: 26/27\n",
            "Iteration: 000, Loss: 0.2259, Accuracy: 0.9333\n",
            "Iteration: 001, Loss: 0.1963, Accuracy: 0.9598\n",
            "Training: Loss: 0.2133, Accuracy: 0.9447\n",
            "Validation: Loss: 0.2520, Accuracy: 0.9313\n",
            "Epoch Time: 3.22 secs\n",
            "Epoch: 27/27\n",
            "Iteration: 000, Loss: 0.2027, Accuracy: 0.9467\n",
            "Iteration: 001, Loss: 0.2187, Accuracy: 0.9420\n",
            "Training: Loss: 0.2095, Accuracy: 0.9447\n",
            "Validation: Loss: 0.2468, Accuracy: 0.9313\n",
            "Epoch Time: 3.19 secs\n"
          ]
        },
        {
          "output_type": "display_data",
          "data": {
            "text/plain": [
              "<IPython.core.display.HTML object>"
            ],
            "text/html": [
              "Waiting for W&B process to finish... <strong style=\"color:green\">(success).</strong>"
            ]
          },
          "metadata": {}
        },
        {
          "output_type": "display_data",
          "data": {
            "text/plain": [
              "VBox(children=(Label(value='277.317 MB of 277.317 MB uploaded (0.000 MB deduped)\\r'), FloatProgress(value=1.0,…"
            ],
            "application/vnd.jupyter.widget-view+json": {
              "version_major": 2,
              "version_minor": 0,
              "model_id": "6e0cc352334b45889d4f38303672de46"
            }
          },
          "metadata": {}
        },
        {
          "output_type": "display_data",
          "data": {
            "text/plain": [
              "<IPython.core.display.HTML object>"
            ],
            "text/html": [
              "<style>\n",
              "    table.wandb td:nth-child(1) { padding: 0 10px; text-align: left ; width: auto;} td:nth-child(2) {text-align: left ; width: 100%}\n",
              "    .wandb-row { display: flex; flex-direction: row; flex-wrap: wrap; justify-content: flex-start; width: 100% }\n",
              "    .wandb-col { display: flex; flex-direction: column; flex-basis: 100%; flex: 1; padding: 10px; }\n",
              "    </style>\n",
              "<div class=\"wandb-row\"><div class=\"wandb-col\"><h3>Run history:</h3><br/><table class=\"wandb\"><tr><td>train_acc</td><td>▁▃▂▆▇▇▇▇▅▃▃▃▅██████████████</td></tr><tr><td>train_loss</td><td>▄█▂▁▁▁▁▁▁▁▁▁▁▁▁▁▁▁▁▁▁▁▁▁▁▁▁</td></tr><tr><td>val_acc</td><td>▅▁▅▆█▇██▅▅▅▅███████████████</td></tr><tr><td>val_loss</td><td>█▂▁▁▁▁▁▁▁▁▁▁▁▁▁▁▁▁▁▁▁▁▁▁▁▁▁</td></tr></table><br/></div><div class=\"wandb-col\"><h3>Run summary:</h3><br/><table class=\"wandb\"><tr><td>train_acc</td><td>0.94466</td></tr><tr><td>train_loss</td><td>0.20951</td></tr><tr><td>val_acc</td><td>0.9313</td></tr><tr><td>val_loss</td><td>0.24676</td></tr></table><br/></div></div>"
            ]
          },
          "metadata": {}
        },
        {
          "output_type": "display_data",
          "data": {
            "text/plain": [
              "<IPython.core.display.HTML object>"
            ],
            "text/html": [
              "Synced <strong style=\"color:#cdcd00\">flowing-sweep-9</strong>: <a href=\"https://wandb.ai/awesome-team/diu-phase2-demo/runs/ts46mon2\" target=\"_blank\">https://wandb.ai/awesome-team/diu-phase2-demo/runs/ts46mon2</a><br/>Synced 5 W&B file(s), 1 media file(s), 35 artifact file(s) and 2 other file(s)"
            ]
          },
          "metadata": {}
        },
        {
          "output_type": "display_data",
          "data": {
            "text/plain": [
              "<IPython.core.display.HTML object>"
            ],
            "text/html": [
              "Find logs at: <code>./wandb/run-20220829_141855-ts46mon2/logs</code>"
            ]
          },
          "metadata": {}
        },
        {
          "output_type": "stream",
          "name": "stderr",
          "text": [
            "\u001b[34m\u001b[1mwandb\u001b[0m: Agent Starting Run: 0xo91gxj with config:\n",
            "\u001b[34m\u001b[1mwandb\u001b[0m: \tbalanced: 1\n",
            "\u001b[34m\u001b[1mwandb\u001b[0m: \tbs: 150\n",
            "\u001b[34m\u001b[1mwandb\u001b[0m: \tnum_epochs: 31\n",
            "\u001b[34m\u001b[1mwandb\u001b[0m: \tpxls: 150\n",
            "\u001b[34m\u001b[1mwandb\u001b[0m: \trate: 0.03666580252263752\n"
          ]
        },
        {
          "output_type": "display_data",
          "data": {
            "text/plain": [
              "<IPython.core.display.HTML object>"
            ],
            "text/html": [
              "Tracking run with wandb version 0.13.2"
            ]
          },
          "metadata": {}
        },
        {
          "output_type": "display_data",
          "data": {
            "text/plain": [
              "<IPython.core.display.HTML object>"
            ],
            "text/html": [
              "Run data is saved locally in <code>/content/wandb/run-20220829_142047-0xo91gxj</code>"
            ]
          },
          "metadata": {}
        },
        {
          "output_type": "display_data",
          "data": {
            "text/plain": [
              "<IPython.core.display.HTML object>"
            ],
            "text/html": [
              "Syncing run <strong><a href=\"https://wandb.ai/awesome-team/diu-phase2-demo/runs/0xo91gxj\" target=\"_blank\">toasty-sweep-10</a></strong> to <a href=\"https://wandb.ai/awesome-team/diu-phase2-demo\" target=\"_blank\">Weights & Biases</a> (<a href=\"https://wandb.me/run\" target=\"_blank\">docs</a>)<br/>Sweep page:  <a href=\"https://wandb.ai/awesome-team/diu-phase2-demo/sweeps/hc69lhb2\" target=\"_blank\">https://wandb.ai/awesome-team/diu-phase2-demo/sweeps/hc69lhb2</a>"
            ]
          },
          "metadata": {}
        },
        {
          "output_type": "stream",
          "name": "stdout",
          "text": [
            "Epoch: 1/31\n",
            "Iteration: 000, Loss: 1.1210, Accuracy: 0.2455\n",
            "Training: Loss: 1.1210, Accuracy: 0.2455\n",
            "Validation: Loss: 38.5050, Accuracy: 0.3214\n",
            "Epoch Time: 0.84 secs\n",
            "Epoch: 2/31\n",
            "Iteration: 000, Loss: 46.6425, Accuracy: 0.3727\n",
            "Training: Loss: 46.6425, Accuracy: 0.3727\n",
            "Validation: Loss: 78.8574, Accuracy: 0.5000\n",
            "Epoch Time: 0.91 secs\n",
            "Epoch: 3/31\n",
            "Iteration: 000, Loss: 99.4443, Accuracy: 0.4909\n",
            "Training: Loss: 99.4443, Accuracy: 0.4909\n",
            "Validation: Loss: 107.9110, Accuracy: 0.3929\n",
            "Epoch Time: 0.78 secs\n",
            "Epoch: 4/31\n",
            "Iteration: 000, Loss: 131.8764, Accuracy: 0.3545\n",
            "Training: Loss: 131.8764, Accuracy: 0.3545\n",
            "Validation: Loss: 41.7228, Accuracy: 0.3929\n",
            "Epoch Time: 0.75 secs\n",
            "Epoch: 5/31\n",
            "Iteration: 000, Loss: 50.9329, Accuracy: 0.3545\n",
            "Training: Loss: 50.9329, Accuracy: 0.3545\n",
            "Validation: Loss: 5.2536, Accuracy: 0.6786\n",
            "Epoch Time: 0.75 secs\n",
            "Epoch: 6/31\n",
            "Iteration: 000, Loss: 6.5879, Accuracy: 0.6273\n",
            "Training: Loss: 6.5879, Accuracy: 0.6273\n",
            "Validation: Loss: 10.7034, Accuracy: 0.3214\n",
            "Epoch Time: 0.75 secs\n",
            "Epoch: 7/31\n",
            "Iteration: 000, Loss: 11.2982, Accuracy: 0.3727\n",
            "Training: Loss: 11.2982, Accuracy: 0.3727\n",
            "Validation: Loss: 13.2777, Accuracy: 0.3214\n",
            "Epoch Time: 0.76 secs\n",
            "Epoch: 8/31\n",
            "Iteration: 000, Loss: 14.2522, Accuracy: 0.3727\n",
            "Training: Loss: 14.2522, Accuracy: 0.3727\n",
            "Validation: Loss: 10.0001, Accuracy: 0.3214\n",
            "Epoch Time: 0.75 secs\n",
            "Epoch: 9/31\n",
            "Iteration: 000, Loss: 10.3080, Accuracy: 0.3727\n",
            "Training: Loss: 10.3080, Accuracy: 0.3727\n",
            "Validation: Loss: 5.7809, Accuracy: 0.5357\n",
            "Epoch Time: 0.75 secs\n",
            "Epoch: 10/31\n",
            "Iteration: 000, Loss: 5.8646, Accuracy: 0.6182\n",
            "Training: Loss: 5.8646, Accuracy: 0.6182\n",
            "Validation: Loss: 5.8714, Accuracy: 0.3214\n",
            "Epoch Time: 0.78 secs\n",
            "Epoch: 11/31\n",
            "Iteration: 000, Loss: 5.8152, Accuracy: 0.3091\n",
            "Training: Loss: 5.8152, Accuracy: 0.3091\n",
            "Validation: Loss: 3.9053, Accuracy: 0.3214\n",
            "Epoch Time: 0.75 secs\n",
            "Epoch: 12/31\n",
            "Iteration: 000, Loss: 3.6124, Accuracy: 0.3091\n",
            "Training: Loss: 3.6124, Accuracy: 0.3091\n",
            "Validation: Loss: 1.8028, Accuracy: 0.5000\n",
            "Epoch Time: 0.76 secs\n",
            "Epoch: 13/31\n",
            "Iteration: 000, Loss: 1.3718, Accuracy: 0.6091\n",
            "Training: Loss: 1.3718, Accuracy: 0.6091\n",
            "Validation: Loss: 1.3166, Accuracy: 0.4643\n",
            "Epoch Time: 0.76 secs\n",
            "Epoch: 14/31\n",
            "Iteration: 000, Loss: 0.7789, Accuracy: 0.6091\n",
            "Training: Loss: 0.7789, Accuracy: 0.6091\n",
            "Validation: Loss: 1.0619, Accuracy: 0.3571\n",
            "Epoch Time: 0.76 secs\n",
            "Epoch: 15/31\n",
            "Iteration: 000, Loss: 0.5897, Accuracy: 0.6455\n",
            "Training: Loss: 0.5897, Accuracy: 0.6455\n",
            "Validation: Loss: 0.8006, Accuracy: 0.6786\n",
            "Epoch Time: 0.74 secs\n",
            "Epoch: 16/31\n",
            "Iteration: 000, Loss: 0.5478, Accuracy: 0.9182\n",
            "Training: Loss: 0.5478, Accuracy: 0.9182\n",
            "Validation: Loss: 0.7075, Accuracy: 0.9286\n",
            "Epoch Time: 0.75 secs\n",
            "Epoch: 17/31\n",
            "Iteration: 000, Loss: 0.6028, Accuracy: 0.9818\n",
            "Training: Loss: 0.6028, Accuracy: 0.9818\n",
            "Validation: Loss: 0.7400, Accuracy: 0.8929\n",
            "Epoch Time: 0.80 secs\n",
            "Epoch: 18/31\n",
            "Iteration: 000, Loss: 0.6856, Accuracy: 0.9091\n",
            "Training: Loss: 0.6856, Accuracy: 0.9091\n",
            "Validation: Loss: 0.7222, Accuracy: 0.8571\n",
            "Epoch Time: 0.77 secs\n",
            "Epoch: 19/31\n",
            "Iteration: 000, Loss: 0.7044, Accuracy: 0.7909\n",
            "Training: Loss: 0.7044, Accuracy: 0.7909\n",
            "Validation: Loss: 0.7292, Accuracy: 0.6429\n",
            "Epoch Time: 0.78 secs\n",
            "Epoch: 20/31\n",
            "Iteration: 000, Loss: 0.7184, Accuracy: 0.7091\n",
            "Training: Loss: 0.7184, Accuracy: 0.7091\n",
            "Validation: Loss: 0.6089, Accuracy: 0.8214\n",
            "Epoch Time: 0.75 secs\n",
            "Epoch: 21/31\n",
            "Iteration: 000, Loss: 0.5799, Accuracy: 0.8182\n",
            "Training: Loss: 0.5799, Accuracy: 0.8182\n",
            "Validation: Loss: 0.5469, Accuracy: 0.8929\n",
            "Epoch Time: 0.75 secs\n",
            "Epoch: 22/31\n",
            "Iteration: 000, Loss: 0.4765, Accuracy: 0.9091\n",
            "Training: Loss: 0.4765, Accuracy: 0.9091\n",
            "Validation: Loss: 0.6918, Accuracy: 0.7857\n",
            "Epoch Time: 0.75 secs\n",
            "Epoch: 23/31\n",
            "Iteration: 000, Loss: 0.5476, Accuracy: 0.8818\n",
            "Training: Loss: 0.5476, Accuracy: 0.8818\n",
            "Validation: Loss: 0.5925, Accuracy: 0.8929\n",
            "Epoch Time: 0.75 secs\n",
            "Epoch: 24/31\n",
            "Iteration: 000, Loss: 0.4399, Accuracy: 0.9364\n",
            "Training: Loss: 0.4399, Accuracy: 0.9364\n",
            "Validation: Loss: 0.4396, Accuracy: 0.9643\n",
            "Epoch Time: 0.74 secs\n",
            "Epoch: 25/31\n",
            "Iteration: 000, Loss: 0.3349, Accuracy: 1.0000\n",
            "Training: Loss: 0.3349, Accuracy: 1.0000\n",
            "Validation: Loss: 0.4830, Accuracy: 0.8571\n",
            "Epoch Time: 0.76 secs\n",
            "Epoch: 26/31\n",
            "Iteration: 000, Loss: 0.3744, Accuracy: 0.9636\n",
            "Training: Loss: 0.3744, Accuracy: 0.9636\n",
            "Validation: Loss: 0.4830, Accuracy: 0.8929\n",
            "Epoch Time: 0.77 secs\n",
            "Epoch: 27/31\n",
            "Iteration: 000, Loss: 0.3658, Accuracy: 0.9636\n",
            "Training: Loss: 0.3658, Accuracy: 0.9636\n",
            "Validation: Loss: 0.3982, Accuracy: 0.9286\n",
            "Epoch Time: 0.74 secs\n",
            "Epoch: 28/31\n",
            "Iteration: 000, Loss: 0.2939, Accuracy: 1.0000\n",
            "Training: Loss: 0.2939, Accuracy: 1.0000\n",
            "Validation: Loss: 0.4521, Accuracy: 0.9286\n",
            "Epoch Time: 0.76 secs\n",
            "Epoch: 29/31\n",
            "Iteration: 000, Loss: 0.2763, Accuracy: 1.0000\n",
            "Training: Loss: 0.2763, Accuracy: 1.0000\n",
            "Validation: Loss: 0.5911, Accuracy: 0.8571\n",
            "Epoch Time: 0.76 secs\n",
            "Epoch: 30/31\n",
            "Iteration: 000, Loss: 0.2861, Accuracy: 0.9909\n",
            "Training: Loss: 0.2861, Accuracy: 0.9909\n",
            "Validation: Loss: 0.6892, Accuracy: 0.8214\n",
            "Epoch Time: 0.77 secs\n",
            "Epoch: 31/31\n",
            "Iteration: 000, Loss: 0.2899, Accuracy: 0.9818\n",
            "Training: Loss: 0.2899, Accuracy: 0.9818\n",
            "Validation: Loss: 0.6459, Accuracy: 0.8571\n",
            "Epoch Time: 0.74 secs\n"
          ]
        },
        {
          "output_type": "display_data",
          "data": {
            "text/plain": [
              "<IPython.core.display.HTML object>"
            ],
            "text/html": [
              "Waiting for W&B process to finish... <strong style=\"color:green\">(success).</strong>"
            ]
          },
          "metadata": {}
        },
        {
          "output_type": "display_data",
          "data": {
            "text/plain": [
              "VBox(children=(Label(value='287.471 MB of 287.471 MB uploaded (10.253 MB deduped)\\r'), FloatProgress(value=1.0…"
            ],
            "application/vnd.jupyter.widget-view+json": {
              "version_major": 2,
              "version_minor": 0,
              "model_id": "fec9f7bd670147079f829bcf7378ecbc"
            }
          },
          "metadata": {}
        },
        {
          "output_type": "display_data",
          "data": {
            "text/plain": [
              "<IPython.core.display.HTML object>"
            ],
            "text/html": [
              "W&B sync reduced upload amount by 3.6%             "
            ]
          },
          "metadata": {}
        },
        {
          "output_type": "display_data",
          "data": {
            "text/plain": [
              "<IPython.core.display.HTML object>"
            ],
            "text/html": [
              "<style>\n",
              "    table.wandb td:nth-child(1) { padding: 0 10px; text-align: left ; width: auto;} td:nth-child(2) {text-align: left ; width: 100%}\n",
              "    .wandb-row { display: flex; flex-direction: row; flex-wrap: wrap; justify-content: flex-start; width: 100% }\n",
              "    .wandb-col { display: flex; flex-direction: column; flex-basis: 100%; flex: 1; padding: 10px; }\n",
              "    </style>\n",
              "<div class=\"wandb-row\"><div class=\"wandb-col\"><h3>Run history:</h3><br/><table class=\"wandb\"><tr><td>train_acc</td><td>▁▂▃▂▂▅▂▂▂▄▂▂▄▄▅▇█▇▆▅▆▇▇▇███████</td></tr><tr><td>train_loss</td><td>▁▃▆█▄▁▂▂▂▁▁▁▁▁▁▁▁▁▁▁▁▁▁▁▁▁▁▁▁▁▁</td></tr><tr><td>val_acc</td><td>▁▃▂▂▅▁▁▁▃▁▁▃▃▁▅█▇▇▄▆▇▆▇█▇▇██▇▆▇</td></tr><tr><td>val_loss</td><td>▃▆█▄▁▂▂▂▁▁▁▁▁▁▁▁▁▁▁▁▁▁▁▁▁▁▁▁▁▁▁</td></tr></table><br/></div><div class=\"wandb-col\"><h3>Run summary:</h3><br/><table class=\"wandb\"><tr><td>train_acc</td><td>0.98182</td></tr><tr><td>train_loss</td><td>0.2899</td></tr><tr><td>val_acc</td><td>0.85714</td></tr><tr><td>val_loss</td><td>0.64594</td></tr></table><br/></div></div>"
            ]
          },
          "metadata": {}
        },
        {
          "output_type": "display_data",
          "data": {
            "text/plain": [
              "<IPython.core.display.HTML object>"
            ],
            "text/html": [
              "Synced <strong style=\"color:#cdcd00\">toasty-sweep-10</strong>: <a href=\"https://wandb.ai/awesome-team/diu-phase2-demo/runs/0xo91gxj\" target=\"_blank\">https://wandb.ai/awesome-team/diu-phase2-demo/runs/0xo91gxj</a><br/>Synced 5 W&B file(s), 1 media file(s), 173 artifact file(s) and 2 other file(s)"
            ]
          },
          "metadata": {}
        },
        {
          "output_type": "display_data",
          "data": {
            "text/plain": [
              "<IPython.core.display.HTML object>"
            ],
            "text/html": [
              "Find logs at: <code>./wandb/run-20220829_142047-0xo91gxj/logs</code>"
            ]
          },
          "metadata": {}
        },
        {
          "output_type": "stream",
          "name": "stderr",
          "text": [
            "\u001b[34m\u001b[1mwandb\u001b[0m: Agent Starting Run: w7opxf9x with config:\n",
            "\u001b[34m\u001b[1mwandb\u001b[0m: \tbalanced: 1\n",
            "\u001b[34m\u001b[1mwandb\u001b[0m: \tbs: 250\n",
            "\u001b[34m\u001b[1mwandb\u001b[0m: \tnum_epochs: 32\n",
            "\u001b[34m\u001b[1mwandb\u001b[0m: \tpxls: 150\n",
            "\u001b[34m\u001b[1mwandb\u001b[0m: \trate: 0.08297321512143122\n"
          ]
        },
        {
          "output_type": "display_data",
          "data": {
            "text/plain": [
              "<IPython.core.display.HTML object>"
            ],
            "text/html": [
              "Tracking run with wandb version 0.13.2"
            ]
          },
          "metadata": {}
        },
        {
          "output_type": "display_data",
          "data": {
            "text/plain": [
              "<IPython.core.display.HTML object>"
            ],
            "text/html": [
              "Run data is saved locally in <code>/content/wandb/run-20220829_142133-w7opxf9x</code>"
            ]
          },
          "metadata": {}
        },
        {
          "output_type": "display_data",
          "data": {
            "text/plain": [
              "<IPython.core.display.HTML object>"
            ],
            "text/html": [
              "Syncing run <strong><a href=\"https://wandb.ai/awesome-team/diu-phase2-demo/runs/w7opxf9x\" target=\"_blank\">cool-sweep-11</a></strong> to <a href=\"https://wandb.ai/awesome-team/diu-phase2-demo\" target=\"_blank\">Weights & Biases</a> (<a href=\"https://wandb.me/run\" target=\"_blank\">docs</a>)<br/>Sweep page:  <a href=\"https://wandb.ai/awesome-team/diu-phase2-demo/sweeps/hc69lhb2\" target=\"_blank\">https://wandb.ai/awesome-team/diu-phase2-demo/sweeps/hc69lhb2</a>"
            ]
          },
          "metadata": {}
        },
        {
          "output_type": "stream",
          "name": "stdout",
          "text": [
            "Epoch: 1/32\n",
            "Iteration: 000, Loss: 1.1052, Accuracy: 0.2273\n",
            "Training: Loss: 1.1052, Accuracy: 0.2273\n",
            "Validation: Loss: 263.9028, Accuracy: 0.3214\n",
            "Epoch Time: 0.83 secs\n",
            "Epoch: 2/32\n",
            "Iteration: 000, Loss: 291.3839, Accuracy: 0.3727\n",
            "Training: Loss: 291.3839, Accuracy: 0.3727\n",
            "Validation: Loss: 426.9247, Accuracy: 0.3214\n",
            "Epoch Time: 0.88 secs\n",
            "Epoch: 3/32\n",
            "Iteration: 000, Loss: 506.0179, Accuracy: 0.3727\n",
            "Training: Loss: 506.0179, Accuracy: 0.3727\n",
            "Validation: Loss: 310.8925, Accuracy: 0.3571\n",
            "Epoch Time: 0.77 secs\n",
            "Epoch: 4/32\n",
            "Iteration: 000, Loss: 432.2943, Accuracy: 0.2545\n",
            "Training: Loss: 432.2943, Accuracy: 0.2545\n",
            "Validation: Loss: 137.6569, Accuracy: 0.3571\n",
            "Epoch Time: 0.76 secs\n",
            "Epoch: 5/32\n",
            "Iteration: 000, Loss: 197.6032, Accuracy: 0.2545\n",
            "Training: Loss: 197.6032, Accuracy: 0.2545\n",
            "Validation: Loss: 24.7655, Accuracy: 0.3571\n",
            "Epoch Time: 0.75 secs\n",
            "Epoch: 6/32\n",
            "Iteration: 000, Loss: 39.4995, Accuracy: 0.2636\n",
            "Training: Loss: 39.4995, Accuracy: 0.2636\n",
            "Validation: Loss: 4.8961, Accuracy: 0.4643\n",
            "Epoch Time: 0.76 secs\n",
            "Epoch: 7/32\n",
            "Iteration: 000, Loss: 5.1305, Accuracy: 0.5273\n",
            "Training: Loss: 5.1305, Accuracy: 0.5273\n",
            "Validation: Loss: 3.8533, Accuracy: 0.6429\n",
            "Epoch Time: 0.76 secs\n",
            "Epoch: 8/32\n",
            "Iteration: 000, Loss: 3.0067, Accuracy: 0.7455\n",
            "Training: Loss: 3.0067, Accuracy: 0.7455\n",
            "Validation: Loss: 1.4216, Accuracy: 0.6071\n",
            "Epoch Time: 0.79 secs\n",
            "Epoch: 9/32\n",
            "Iteration: 000, Loss: 0.9057, Accuracy: 0.7364\n",
            "Training: Loss: 0.9057, Accuracy: 0.7364\n",
            "Validation: Loss: 1.4705, Accuracy: 0.4286\n",
            "Epoch Time: 0.75 secs\n",
            "Epoch: 10/32\n",
            "Iteration: 000, Loss: 0.9196, Accuracy: 0.6909\n",
            "Training: Loss: 0.9196, Accuracy: 0.6909\n",
            "Validation: Loss: 1.1613, Accuracy: 0.5357\n",
            "Epoch Time: 0.75 secs\n",
            "Epoch: 11/32\n",
            "Iteration: 000, Loss: 0.8284, Accuracy: 0.7000\n",
            "Training: Loss: 0.8284, Accuracy: 0.7000\n",
            "Validation: Loss: 0.9173, Accuracy: 0.4643\n",
            "Epoch Time: 0.75 secs\n",
            "Epoch: 12/32\n",
            "Iteration: 000, Loss: 0.7409, Accuracy: 0.6182\n",
            "Training: Loss: 0.7409, Accuracy: 0.6182\n",
            "Validation: Loss: 0.8361, Accuracy: 0.4286\n",
            "Epoch Time: 0.77 secs\n",
            "Epoch: 13/32\n",
            "Iteration: 000, Loss: 0.7024, Accuracy: 0.5364\n",
            "Training: Loss: 0.7024, Accuracy: 0.5364\n",
            "Validation: Loss: 0.8339, Accuracy: 0.4286\n",
            "Epoch Time: 0.75 secs\n",
            "Epoch: 14/32\n",
            "Iteration: 000, Loss: 0.6736, Accuracy: 0.5182\n",
            "Training: Loss: 0.6736, Accuracy: 0.5182\n",
            "Validation: Loss: 0.8263, Accuracy: 0.4286\n",
            "Epoch Time: 0.75 secs\n",
            "Epoch: 15/32\n",
            "Iteration: 000, Loss: 0.6608, Accuracy: 0.5182\n",
            "Training: Loss: 0.6608, Accuracy: 0.5182\n",
            "Validation: Loss: 0.8054, Accuracy: 0.4286\n",
            "Epoch Time: 0.75 secs\n",
            "Epoch: 16/32\n",
            "Iteration: 000, Loss: 0.6376, Accuracy: 0.5273\n",
            "Training: Loss: 0.6376, Accuracy: 0.5273\n",
            "Validation: Loss: 0.7812, Accuracy: 0.4286\n",
            "Epoch Time: 0.74 secs\n",
            "Epoch: 17/32\n",
            "Iteration: 000, Loss: 0.6074, Accuracy: 0.5455\n",
            "Training: Loss: 0.6074, Accuracy: 0.5455\n",
            "Validation: Loss: 0.8096, Accuracy: 0.4643\n",
            "Epoch Time: 0.77 secs\n",
            "Epoch: 18/32\n",
            "Iteration: 000, Loss: 0.5551, Accuracy: 0.6000\n",
            "Training: Loss: 0.5551, Accuracy: 0.6000\n",
            "Validation: Loss: 0.8774, Accuracy: 0.6071\n",
            "Epoch Time: 0.78 secs\n",
            "Epoch: 19/32\n",
            "Iteration: 000, Loss: 0.4808, Accuracy: 0.6545\n",
            "Training: Loss: 0.4808, Accuracy: 0.6545\n",
            "Validation: Loss: 1.1741, Accuracy: 0.6071\n",
            "Epoch Time: 0.77 secs\n",
            "Epoch: 20/32\n",
            "Iteration: 000, Loss: 0.4298, Accuracy: 0.7000\n",
            "Training: Loss: 0.4298, Accuracy: 0.7000\n",
            "Validation: Loss: 1.7017, Accuracy: 0.5357\n",
            "Epoch Time: 0.75 secs\n",
            "Epoch: 21/32\n",
            "Iteration: 000, Loss: 0.4420, Accuracy: 0.7091\n",
            "Training: Loss: 0.4420, Accuracy: 0.7091\n",
            "Validation: Loss: 1.9845, Accuracy: 0.5357\n",
            "Epoch Time: 0.76 secs\n",
            "Epoch: 22/32\n",
            "Iteration: 000, Loss: 0.4603, Accuracy: 0.7273\n",
            "Training: Loss: 0.4603, Accuracy: 0.7273\n",
            "Validation: Loss: 1.8302, Accuracy: 0.6071\n",
            "Epoch Time: 0.76 secs\n",
            "Epoch: 23/32\n",
            "Iteration: 000, Loss: 0.4036, Accuracy: 0.7455\n",
            "Training: Loss: 0.4036, Accuracy: 0.7455\n",
            "Validation: Loss: 1.4583, Accuracy: 0.6429\n",
            "Epoch Time: 0.75 secs\n",
            "Epoch: 24/32\n",
            "Iteration: 000, Loss: 0.3451, Accuracy: 0.7455\n",
            "Training: Loss: 0.3451, Accuracy: 0.7455\n",
            "Validation: Loss: 1.1642, Accuracy: 0.6429\n",
            "Epoch Time: 0.76 secs\n",
            "Epoch: 25/32\n",
            "Iteration: 000, Loss: 0.3422, Accuracy: 0.7455\n",
            "Training: Loss: 0.3422, Accuracy: 0.7455\n",
            "Validation: Loss: 1.0236, Accuracy: 0.6429\n",
            "Epoch Time: 0.76 secs\n",
            "Epoch: 26/32\n",
            "Iteration: 000, Loss: 0.3391, Accuracy: 0.7455\n",
            "Training: Loss: 0.3391, Accuracy: 0.7455\n",
            "Validation: Loss: 0.9613, Accuracy: 0.6429\n",
            "Epoch Time: 0.76 secs\n",
            "Epoch: 27/32\n",
            "Iteration: 000, Loss: 0.3307, Accuracy: 0.7455\n",
            "Training: Loss: 0.3307, Accuracy: 0.7455\n",
            "Validation: Loss: 0.9634, Accuracy: 0.8571\n",
            "Epoch Time: 0.74 secs\n",
            "Epoch: 28/32\n",
            "Iteration: 000, Loss: 0.3162, Accuracy: 0.9727\n",
            "Training: Loss: 0.3162, Accuracy: 0.9727\n",
            "Validation: Loss: 1.0477, Accuracy: 0.8214\n",
            "Epoch Time: 0.76 secs\n",
            "Epoch: 29/32\n",
            "Iteration: 000, Loss: 0.2941, Accuracy: 0.9727\n",
            "Training: Loss: 0.2941, Accuracy: 0.9727\n",
            "Validation: Loss: 1.1928, Accuracy: 0.8214\n",
            "Epoch Time: 0.77 secs\n",
            "Epoch: 30/32\n",
            "Iteration: 000, Loss: 0.2763, Accuracy: 0.9727\n",
            "Training: Loss: 0.2763, Accuracy: 0.9727\n",
            "Validation: Loss: 1.3586, Accuracy: 0.8214\n",
            "Epoch Time: 0.76 secs\n",
            "Epoch: 31/32\n",
            "Iteration: 000, Loss: 0.2632, Accuracy: 0.9727\n",
            "Training: Loss: 0.2632, Accuracy: 0.9727\n",
            "Validation: Loss: 1.5208, Accuracy: 0.8214\n",
            "Epoch Time: 0.76 secs\n",
            "Epoch: 32/32\n",
            "Iteration: 000, Loss: 0.2495, Accuracy: 0.9818\n",
            "Training: Loss: 0.2495, Accuracy: 0.9818\n",
            "Validation: Loss: 1.7045, Accuracy: 0.7857\n",
            "Epoch Time: 0.76 secs\n"
          ]
        },
        {
          "output_type": "display_data",
          "data": {
            "text/plain": [
              "<IPython.core.display.HTML object>"
            ],
            "text/html": [
              "Waiting for W&B process to finish... <strong style=\"color:green\">(success).</strong>"
            ]
          },
          "metadata": {}
        },
        {
          "output_type": "display_data",
          "data": {
            "text/plain": [
              "VBox(children=(Label(value='277.219 MB of 277.219 MB uploaded (0.000 MB deduped)\\r'), FloatProgress(value=1.0,…"
            ],
            "application/vnd.jupyter.widget-view+json": {
              "version_major": 2,
              "version_minor": 0,
              "model_id": "ddebb73731de48eaae762bb29fc94e4f"
            }
          },
          "metadata": {}
        },
        {
          "output_type": "display_data",
          "data": {
            "text/plain": [
              "<IPython.core.display.HTML object>"
            ],
            "text/html": [
              "<style>\n",
              "    table.wandb td:nth-child(1) { padding: 0 10px; text-align: left ; width: auto;} td:nth-child(2) {text-align: left ; width: 100%}\n",
              "    .wandb-row { display: flex; flex-direction: row; flex-wrap: wrap; justify-content: flex-start; width: 100% }\n",
              "    .wandb-col { display: flex; flex-direction: column; flex-basis: 100%; flex: 1; padding: 10px; }\n",
              "    </style>\n",
              "<div class=\"wandb-row\"><div class=\"wandb-col\"><h3>Run history:</h3><br/><table class=\"wandb\"><tr><td>train_acc</td><td>▁▂▂▁▁▁▄▆▆▅▅▅▄▄▄▄▄▄▅▅▅▆▆▆▆▆▆█████</td></tr><tr><td>train_loss</td><td>▁▅█▇▄▂▁▁▁▁▁▁▁▁▁▁▁▁▁▁▁▁▁▁▁▁▁▁▁▁▁▁</td></tr><tr><td>val_acc</td><td>▁▁▁▁▁▃▅▅▂▄▃▂▂▂▂▂▃▅▅▄▄▅▅▅▅▅█████▇</td></tr><tr><td>val_loss</td><td>▅█▆▃▁▁▁▁▁▁▁▁▁▁▁▁▁▁▁▁▁▁▁▁▁▁▁▁▁▁▁▁</td></tr></table><br/></div><div class=\"wandb-col\"><h3>Run summary:</h3><br/><table class=\"wandb\"><tr><td>train_acc</td><td>0.98182</td></tr><tr><td>train_loss</td><td>0.24953</td></tr><tr><td>val_acc</td><td>0.78571</td></tr><tr><td>val_loss</td><td>1.70447</td></tr></table><br/></div></div>"
            ]
          },
          "metadata": {}
        },
        {
          "output_type": "display_data",
          "data": {
            "text/plain": [
              "<IPython.core.display.HTML object>"
            ],
            "text/html": [
              "Synced <strong style=\"color:#cdcd00\">cool-sweep-11</strong>: <a href=\"https://wandb.ai/awesome-team/diu-phase2-demo/runs/w7opxf9x\" target=\"_blank\">https://wandb.ai/awesome-team/diu-phase2-demo/runs/w7opxf9x</a><br/>Synced 5 W&B file(s), 1 media file(s), 35 artifact file(s) and 2 other file(s)"
            ]
          },
          "metadata": {}
        },
        {
          "output_type": "display_data",
          "data": {
            "text/plain": [
              "<IPython.core.display.HTML object>"
            ],
            "text/html": [
              "Find logs at: <code>./wandb/run-20220829_142133-w7opxf9x/logs</code>"
            ]
          },
          "metadata": {}
        },
        {
          "output_type": "stream",
          "name": "stderr",
          "text": [
            "\u001b[34m\u001b[1mwandb\u001b[0m: Agent Starting Run: bjxucxbl with config:\n",
            "\u001b[34m\u001b[1mwandb\u001b[0m: \tbalanced: 1\n",
            "\u001b[34m\u001b[1mwandb\u001b[0m: \tbs: 350\n",
            "\u001b[34m\u001b[1mwandb\u001b[0m: \tnum_epochs: 21\n",
            "\u001b[34m\u001b[1mwandb\u001b[0m: \tpxls: 150\n",
            "\u001b[34m\u001b[1mwandb\u001b[0m: \trate: 0.009820081281456962\n"
          ]
        },
        {
          "output_type": "display_data",
          "data": {
            "text/plain": [
              "<IPython.core.display.HTML object>"
            ],
            "text/html": [
              "Tracking run with wandb version 0.13.2"
            ]
          },
          "metadata": {}
        },
        {
          "output_type": "display_data",
          "data": {
            "text/plain": [
              "<IPython.core.display.HTML object>"
            ],
            "text/html": [
              "Run data is saved locally in <code>/content/wandb/run-20220829_142219-bjxucxbl</code>"
            ]
          },
          "metadata": {}
        },
        {
          "output_type": "display_data",
          "data": {
            "text/plain": [
              "<IPython.core.display.HTML object>"
            ],
            "text/html": [
              "Syncing run <strong><a href=\"https://wandb.ai/awesome-team/diu-phase2-demo/runs/bjxucxbl\" target=\"_blank\">clear-sweep-12</a></strong> to <a href=\"https://wandb.ai/awesome-team/diu-phase2-demo\" target=\"_blank\">Weights & Biases</a> (<a href=\"https://wandb.me/run\" target=\"_blank\">docs</a>)<br/>Sweep page:  <a href=\"https://wandb.ai/awesome-team/diu-phase2-demo/sweeps/hc69lhb2\" target=\"_blank\">https://wandb.ai/awesome-team/diu-phase2-demo/sweeps/hc69lhb2</a>"
            ]
          },
          "metadata": {}
        },
        {
          "output_type": "stream",
          "name": "stdout",
          "text": [
            "Epoch: 1/21\n",
            "Iteration: 000, Loss: 1.0941, Accuracy: 0.3909\n",
            "Training: Loss: 1.0941, Accuracy: 0.3909\n",
            "Validation: Loss: 1.2752, Accuracy: 0.5000\n",
            "Epoch Time: 0.85 secs\n",
            "Epoch: 2/21\n",
            "Iteration: 000, Loss: 1.5528, Accuracy: 0.4636\n",
            "Training: Loss: 1.5528, Accuracy: 0.4636\n",
            "Validation: Loss: 17.0654, Accuracy: 0.5000\n",
            "Epoch Time: 0.86 secs\n",
            "Epoch: 3/21\n",
            "Iteration: 000, Loss: 12.3339, Accuracy: 0.6545\n",
            "Training: Loss: 12.3339, Accuracy: 0.6545\n",
            "Validation: Loss: 22.2634, Accuracy: 0.2500\n",
            "Epoch Time: 0.77 secs\n",
            "Epoch: 4/21\n",
            "Iteration: 000, Loss: 17.1173, Accuracy: 0.3909\n",
            "Training: Loss: 17.1173, Accuracy: 0.3909\n",
            "Validation: Loss: 8.2439, Accuracy: 0.3571\n",
            "Epoch Time: 0.76 secs\n",
            "Epoch: 5/21\n",
            "Iteration: 000, Loss: 5.4103, Accuracy: 0.5182\n",
            "Training: Loss: 5.4103, Accuracy: 0.5182\n",
            "Validation: Loss: 3.3247, Accuracy: 0.4286\n",
            "Epoch Time: 0.75 secs\n",
            "Epoch: 6/21\n",
            "Iteration: 000, Loss: 2.6716, Accuracy: 0.5182\n",
            "Training: Loss: 2.6716, Accuracy: 0.5182\n",
            "Validation: Loss: 0.6518, Accuracy: 0.6786\n",
            "Epoch Time: 0.76 secs\n",
            "Epoch: 7/21\n",
            "Iteration: 000, Loss: 1.2553, Accuracy: 0.6727\n",
            "Training: Loss: 1.2553, Accuracy: 0.6727\n",
            "Validation: Loss: 1.7773, Accuracy: 0.5000\n",
            "Epoch Time: 0.74 secs\n",
            "Epoch: 8/21\n",
            "Iteration: 000, Loss: 2.3728, Accuracy: 0.3909\n",
            "Training: Loss: 2.3728, Accuracy: 0.3909\n",
            "Validation: Loss: 0.9339, Accuracy: 0.7143\n",
            "Epoch Time: 0.75 secs\n",
            "Epoch: 9/21\n",
            "Iteration: 000, Loss: 0.8285, Accuracy: 0.6545\n",
            "Training: Loss: 0.8285, Accuracy: 0.6545\n",
            "Validation: Loss: 0.0906, Accuracy: 1.0000\n",
            "Epoch Time: 0.76 secs\n",
            "Epoch: 10/21\n",
            "Iteration: 000, Loss: 0.0603, Accuracy: 0.9909\n",
            "Training: Loss: 0.0603, Accuracy: 0.9909\n",
            "Validation: Loss: 1.8352, Accuracy: 0.5000\n",
            "Epoch Time: 0.75 secs\n",
            "Epoch: 11/21\n",
            "Iteration: 000, Loss: 0.9842, Accuracy: 0.6818\n",
            "Training: Loss: 0.9842, Accuracy: 0.6818\n",
            "Validation: Loss: 3.0249, Accuracy: 0.3929\n",
            "Epoch Time: 0.75 secs\n",
            "Epoch: 12/21\n",
            "Iteration: 000, Loss: 1.2014, Accuracy: 0.6909\n",
            "Training: Loss: 1.2014, Accuracy: 0.6909\n",
            "Validation: Loss: 1.0800, Accuracy: 0.7143\n",
            "Epoch Time: 0.75 secs\n",
            "Epoch: 13/21\n",
            "Iteration: 000, Loss: 0.3056, Accuracy: 0.9000\n",
            "Training: Loss: 0.3056, Accuracy: 0.9000\n",
            "Validation: Loss: 0.1986, Accuracy: 0.8929\n",
            "Epoch Time: 0.75 secs\n",
            "Epoch: 14/21\n",
            "Iteration: 000, Loss: 0.0464, Accuracy: 1.0000\n",
            "Training: Loss: 0.0464, Accuracy: 1.0000\n",
            "Validation: Loss: 0.5054, Accuracy: 0.7857\n",
            "Epoch Time: 0.76 secs\n",
            "Epoch: 15/21\n",
            "Iteration: 000, Loss: 0.1943, Accuracy: 0.9091\n",
            "Training: Loss: 0.1943, Accuracy: 0.9091\n",
            "Validation: Loss: 0.6402, Accuracy: 0.7500\n",
            "Epoch Time: 0.77 secs\n",
            "Epoch: 16/21\n",
            "Iteration: 000, Loss: 0.2674, Accuracy: 0.8636\n",
            "Training: Loss: 0.2674, Accuracy: 0.8636\n",
            "Validation: Loss: 0.3823, Accuracy: 0.8571\n",
            "Epoch Time: 0.75 secs\n",
            "Epoch: 17/21\n",
            "Iteration: 000, Loss: 0.1090, Accuracy: 0.9545\n",
            "Training: Loss: 0.1090, Accuracy: 0.9545\n",
            "Validation: Loss: 0.1578, Accuracy: 0.9286\n",
            "Epoch Time: 0.78 secs\n",
            "Epoch: 18/21\n",
            "Iteration: 000, Loss: 0.0577, Accuracy: 0.9818\n",
            "Training: Loss: 0.0577, Accuracy: 0.9818\n",
            "Validation: Loss: 0.2006, Accuracy: 0.9286\n",
            "Epoch Time: 0.75 secs\n",
            "Epoch: 19/21\n",
            "Iteration: 000, Loss: 0.1473, Accuracy: 0.9455\n",
            "Training: Loss: 0.1473, Accuracy: 0.9455\n",
            "Validation: Loss: 0.3171, Accuracy: 0.7857\n",
            "Epoch Time: 0.77 secs\n",
            "Epoch: 20/21\n",
            "Iteration: 000, Loss: 0.2119, Accuracy: 0.9182\n",
            "Training: Loss: 0.2119, Accuracy: 0.9182\n",
            "Validation: Loss: 0.2303, Accuracy: 0.8929\n",
            "Epoch Time: 0.74 secs\n",
            "Epoch: 21/21\n",
            "Iteration: 000, Loss: 0.1278, Accuracy: 0.9545\n",
            "Training: Loss: 0.1278, Accuracy: 0.9545\n",
            "Validation: Loss: 0.0751, Accuracy: 1.0000\n",
            "Epoch Time: 0.77 secs\n"
          ]
        },
        {
          "output_type": "display_data",
          "data": {
            "text/plain": [
              "<IPython.core.display.HTML object>"
            ],
            "text/html": [
              "Waiting for W&B process to finish... <strong style=\"color:green\">(success).</strong>"
            ]
          },
          "metadata": {}
        },
        {
          "output_type": "display_data",
          "data": {
            "text/plain": [
              "VBox(children=(Label(value='277.223 MB of 277.223 MB uploaded (0.000 MB deduped)\\r'), FloatProgress(value=1.0,…"
            ],
            "application/vnd.jupyter.widget-view+json": {
              "version_major": 2,
              "version_minor": 0,
              "model_id": "a8d57efc06674b0695285facc08b9e30"
            }
          },
          "metadata": {}
        },
        {
          "output_type": "display_data",
          "data": {
            "text/plain": [
              "<IPython.core.display.HTML object>"
            ],
            "text/html": [
              "<style>\n",
              "    table.wandb td:nth-child(1) { padding: 0 10px; text-align: left ; width: auto;} td:nth-child(2) {text-align: left ; width: 100%}\n",
              "    .wandb-row { display: flex; flex-direction: row; flex-wrap: wrap; justify-content: flex-start; width: 100% }\n",
              "    .wandb-col { display: flex; flex-direction: column; flex-basis: 100%; flex: 1; padding: 10px; }\n",
              "    </style>\n",
              "<div class=\"wandb-row\"><div class=\"wandb-col\"><h3>Run history:</h3><br/><table class=\"wandb\"><tr><td>train_acc</td><td>▁▂▄▁▂▂▄▁▄█▄▄▇█▇▆▇█▇▇▇</td></tr><tr><td>train_loss</td><td>▁▂▆█▃▂▁▂▁▁▁▁▁▁▁▁▁▁▁▁▁</td></tr><tr><td>val_acc</td><td>▃▃▁▂▃▅▃▅█▃▂▅▇▆▆▇▇▇▆▇█</td></tr><tr><td>val_loss</td><td>▁▆█▄▂▁▂▁▁▂▂▁▁▁▁▁▁▁▁▁▁</td></tr></table><br/></div><div class=\"wandb-col\"><h3>Run summary:</h3><br/><table class=\"wandb\"><tr><td>train_acc</td><td>0.95455</td></tr><tr><td>train_loss</td><td>0.1278</td></tr><tr><td>val_acc</td><td>1.0</td></tr><tr><td>val_loss</td><td>0.07505</td></tr></table><br/></div></div>"
            ]
          },
          "metadata": {}
        },
        {
          "output_type": "display_data",
          "data": {
            "text/plain": [
              "<IPython.core.display.HTML object>"
            ],
            "text/html": [
              "Synced <strong style=\"color:#cdcd00\">clear-sweep-12</strong>: <a href=\"https://wandb.ai/awesome-team/diu-phase2-demo/runs/bjxucxbl\" target=\"_blank\">https://wandb.ai/awesome-team/diu-phase2-demo/runs/bjxucxbl</a><br/>Synced 5 W&B file(s), 1 media file(s), 35 artifact file(s) and 2 other file(s)"
            ]
          },
          "metadata": {}
        },
        {
          "output_type": "display_data",
          "data": {
            "text/plain": [
              "<IPython.core.display.HTML object>"
            ],
            "text/html": [
              "Find logs at: <code>./wandb/run-20220829_142219-bjxucxbl/logs</code>"
            ]
          },
          "metadata": {}
        },
        {
          "output_type": "stream",
          "name": "stderr",
          "text": [
            "\u001b[34m\u001b[1mwandb\u001b[0m: Agent Starting Run: zv4eo5mk with config:\n",
            "\u001b[34m\u001b[1mwandb\u001b[0m: \tbalanced: 0\n",
            "\u001b[34m\u001b[1mwandb\u001b[0m: \tbs: 250\n",
            "\u001b[34m\u001b[1mwandb\u001b[0m: \tnum_epochs: 31\n",
            "\u001b[34m\u001b[1mwandb\u001b[0m: \tpxls: 150\n",
            "\u001b[34m\u001b[1mwandb\u001b[0m: \trate: 0.09420015608119256\n"
          ]
        },
        {
          "output_type": "display_data",
          "data": {
            "text/plain": [
              "<IPython.core.display.HTML object>"
            ],
            "text/html": [
              "Tracking run with wandb version 0.13.2"
            ]
          },
          "metadata": {}
        },
        {
          "output_type": "display_data",
          "data": {
            "text/plain": [
              "<IPython.core.display.HTML object>"
            ],
            "text/html": [
              "Run data is saved locally in <code>/content/wandb/run-20220829_142255-zv4eo5mk</code>"
            ]
          },
          "metadata": {}
        },
        {
          "output_type": "display_data",
          "data": {
            "text/plain": [
              "<IPython.core.display.HTML object>"
            ],
            "text/html": [
              "Syncing run <strong><a href=\"https://wandb.ai/awesome-team/diu-phase2-demo/runs/zv4eo5mk\" target=\"_blank\">vital-sweep-13</a></strong> to <a href=\"https://wandb.ai/awesome-team/diu-phase2-demo\" target=\"_blank\">Weights & Biases</a> (<a href=\"https://wandb.me/run\" target=\"_blank\">docs</a>)<br/>Sweep page:  <a href=\"https://wandb.ai/awesome-team/diu-phase2-demo/sweeps/hc69lhb2\" target=\"_blank\">https://wandb.ai/awesome-team/diu-phase2-demo/sweeps/hc69lhb2</a>"
            ]
          },
          "metadata": {}
        },
        {
          "output_type": "stream",
          "name": "stdout",
          "text": [
            "Epoch: 1/31\n",
            "Iteration: 000, Loss: 1.2021, Accuracy: 0.0680\n",
            "Iteration: 001, Loss: 198.0183, Accuracy: 0.5840\n",
            "Iteration: 002, Loss: 613.4078, Accuracy: 0.5000\n",
            "Training: Loss: 123.1429, Accuracy: 0.3340\n",
            "Validation: Loss: 268.9383, Accuracy: 0.3359\n",
            "Epoch Time: 4.49 secs\n",
            "Epoch: 2/31\n",
            "Iteration: 000, Loss: 405.8766, Accuracy: 0.3640\n",
            "Iteration: 001, Loss: 51.5728, Accuracy: 0.3800\n",
            "Iteration: 002, Loss: 81.9353, Accuracy: 0.5417\n",
            "Training: Loss: 222.0015, Accuracy: 0.3798\n",
            "Validation: Loss: 85.2821, Accuracy: 0.5954\n",
            "Epoch Time: 4.26 secs\n",
            "Epoch: 3/31\n",
            "Iteration: 000, Loss: 81.0219, Accuracy: 0.5680\n",
            "Iteration: 001, Loss: 47.9530, Accuracy: 0.5840\n",
            "Iteration: 002, Loss: 22.9389, Accuracy: 0.5417\n",
            "Training: Loss: 62.5845, Accuracy: 0.5744\n",
            "Validation: Loss: 2.6536, Accuracy: 0.5954\n",
            "Epoch Time: 4.95 secs\n",
            "Epoch: 4/31\n",
            "Iteration: 000, Loss: 1.8942, Accuracy: 0.6280\n",
            "Iteration: 001, Loss: 0.5579, Accuracy: 0.5520\n",
            "Iteration: 002, Loss: 0.6274, Accuracy: 0.5000\n",
            "Training: Loss: 1.1986, Accuracy: 0.5859\n",
            "Validation: Loss: 0.6028, Accuracy: 0.5954\n",
            "Epoch Time: 3.42 secs\n",
            "Epoch: 5/31\n",
            "Iteration: 000, Loss: 0.5804, Accuracy: 0.5240\n",
            "Iteration: 001, Loss: 0.5603, Accuracy: 0.6160\n",
            "Iteration: 002, Loss: 0.4884, Accuracy: 0.8750\n",
            "Training: Loss: 0.5666, Accuracy: 0.5840\n",
            "Validation: Loss: 0.7250, Accuracy: 0.9008\n",
            "Epoch Time: 3.19 secs\n",
            "Epoch: 6/31\n",
            "Iteration: 000, Loss: 0.4838, Accuracy: 0.9280\n",
            "Iteration: 001, Loss: 0.7825, Accuracy: 0.9400\n",
            "Iteration: 002, Loss: 0.9202, Accuracy: 0.9167\n",
            "Training: Loss: 0.6463, Accuracy: 0.9332\n",
            "Validation: Loss: 0.4878, Accuracy: 0.8397\n",
            "Epoch Time: 3.20 secs\n",
            "Epoch: 7/31\n",
            "Iteration: 000, Loss: 0.4621, Accuracy: 0.8720\n",
            "Iteration: 001, Loss: 0.5682, Accuracy: 0.7800\n",
            "Iteration: 002, Loss: 0.6068, Accuracy: 0.8333\n",
            "Training: Loss: 0.5193, Accuracy: 0.8263\n",
            "Validation: Loss: 1.0275, Accuracy: 0.3588\n",
            "Epoch Time: 3.20 secs\n",
            "Epoch: 8/31\n",
            "Iteration: 000, Loss: 0.7749, Accuracy: 0.6120\n",
            "Iteration: 001, Loss: 0.8905, Accuracy: 0.4920\n",
            "Iteration: 002, Loss: 0.8735, Accuracy: 0.5000\n",
            "Training: Loss: 0.8346, Accuracy: 0.5496\n",
            "Validation: Loss: 1.0591, Accuracy: 0.3435\n",
            "Epoch Time: 3.21 secs\n",
            "Epoch: 9/31\n",
            "Iteration: 000, Loss: 0.8848, Accuracy: 0.5200\n",
            "Iteration: 001, Loss: 0.8208, Accuracy: 0.5400\n",
            "Iteration: 002, Loss: 1.0221, Accuracy: 0.3750\n",
            "Training: Loss: 0.8606, Accuracy: 0.5229\n",
            "Validation: Loss: 1.0209, Accuracy: 0.3664\n",
            "Epoch Time: 3.23 secs\n",
            "Epoch: 10/31\n",
            "Iteration: 000, Loss: 0.7846, Accuracy: 0.5640\n",
            "Iteration: 001, Loss: 0.6403, Accuracy: 0.7080\n",
            "Iteration: 002, Loss: 0.8963, Accuracy: 0.3750\n",
            "Training: Loss: 0.7209, Accuracy: 0.6240\n",
            "Validation: Loss: 0.7223, Accuracy: 0.6107\n",
            "Epoch Time: 3.19 secs\n",
            "Epoch: 11/31\n",
            "Iteration: 000, Loss: 0.5285, Accuracy: 0.7600\n",
            "Iteration: 001, Loss: 0.4198, Accuracy: 0.8920\n",
            "Iteration: 002, Loss: 0.3523, Accuracy: 0.9167\n",
            "Training: Loss: 0.4685, Accuracy: 0.8302\n",
            "Validation: Loss: 0.5492, Accuracy: 0.9084\n",
            "Epoch Time: 3.21 secs\n",
            "Epoch: 12/31\n",
            "Iteration: 000, Loss: 0.6409, Accuracy: 0.9360\n",
            "Iteration: 001, Loss: 0.6400, Accuracy: 0.9240\n",
            "Iteration: 002, Loss: 0.7258, Accuracy: 0.7917\n",
            "Training: Loss: 0.6444, Accuracy: 0.9237\n",
            "Validation: Loss: 0.4327, Accuracy: 0.8855\n",
            "Epoch Time: 3.20 secs\n",
            "Epoch: 13/31\n",
            "Iteration: 000, Loss: 0.4720, Accuracy: 0.9320\n",
            "Iteration: 001, Loss: 0.3523, Accuracy: 0.9040\n",
            "Iteration: 002, Loss: 0.6091, Accuracy: 0.8333\n",
            "Training: Loss: 0.4212, Accuracy: 0.9141\n",
            "Validation: Loss: 0.6225, Accuracy: 0.6947\n",
            "Epoch Time: 3.19 secs\n",
            "Epoch: 14/31\n",
            "Iteration: 000, Loss: 0.4648, Accuracy: 0.8440\n",
            "Iteration: 001, Loss: 0.4858, Accuracy: 0.8040\n",
            "Iteration: 002, Loss: 0.6831, Accuracy: 0.6250\n",
            "Training: Loss: 0.4848, Accuracy: 0.8149\n",
            "Validation: Loss: 0.8542, Accuracy: 0.5115\n",
            "Epoch Time: 3.17 secs\n",
            "Epoch: 15/31\n",
            "Iteration: 000, Loss: 0.6271, Accuracy: 0.7080\n",
            "Iteration: 001, Loss: 0.6150, Accuracy: 0.6960\n",
            "Iteration: 002, Loss: 0.8323, Accuracy: 0.5000\n",
            "Training: Loss: 0.6307, Accuracy: 0.6927\n",
            "Validation: Loss: 0.9389, Accuracy: 0.4351\n",
            "Epoch Time: 3.21 secs\n",
            "Epoch: 16/31\n",
            "Iteration: 000, Loss: 0.6683, Accuracy: 0.6760\n",
            "Iteration: 001, Loss: 0.7025, Accuracy: 0.6080\n",
            "Iteration: 002, Loss: 0.7835, Accuracy: 0.5833\n",
            "Training: Loss: 0.6899, Accuracy: 0.6393\n",
            "Validation: Loss: 0.8288, Accuracy: 0.5267\n",
            "Epoch Time: 3.23 secs\n",
            "Epoch: 17/31\n",
            "Iteration: 000, Loss: 0.6196, Accuracy: 0.6840\n",
            "Iteration: 001, Loss: 0.6573, Accuracy: 0.6720\n",
            "Iteration: 002, Loss: 0.5280, Accuracy: 0.8333\n",
            "Training: Loss: 0.6334, Accuracy: 0.6851\n",
            "Validation: Loss: 0.6100, Accuracy: 0.7099\n",
            "Epoch Time: 3.23 secs\n",
            "Epoch: 18/31\n",
            "Iteration: 000, Loss: 0.5945, Accuracy: 0.7000\n",
            "Iteration: 001, Loss: 0.4556, Accuracy: 0.8560\n",
            "Iteration: 002, Loss: 0.3728, Accuracy: 0.9167\n",
            "Training: Loss: 0.5181, Accuracy: 0.7844\n",
            "Validation: Loss: 0.5315, Accuracy: 0.7710\n",
            "Epoch Time: 3.21 secs\n",
            "Epoch: 19/31\n",
            "Iteration: 000, Loss: 0.4688, Accuracy: 0.8320\n",
            "Iteration: 001, Loss: 0.4016, Accuracy: 0.8920\n",
            "Iteration: 002, Loss: 0.3373, Accuracy: 0.8750\n",
            "Training: Loss: 0.4307, Accuracy: 0.8626\n",
            "Validation: Loss: 0.4682, Accuracy: 0.8244\n",
            "Epoch Time: 3.21 secs\n",
            "Epoch: 20/31\n",
            "Iteration: 000, Loss: 0.4276, Accuracy: 0.8760\n",
            "Iteration: 001, Loss: 0.3743, Accuracy: 0.8960\n",
            "Iteration: 002, Loss: 0.2784, Accuracy: 0.9583\n",
            "Training: Loss: 0.3953, Accuracy: 0.8893\n",
            "Validation: Loss: 0.4182, Accuracy: 0.8626\n",
            "Epoch Time: 3.21 secs\n",
            "Epoch: 21/31\n",
            "Iteration: 000, Loss: 0.3571, Accuracy: 0.9160\n",
            "Iteration: 001, Loss: 0.3473, Accuracy: 0.9200\n",
            "Iteration: 002, Loss: 0.2758, Accuracy: 0.9583\n",
            "Training: Loss: 0.3487, Accuracy: 0.9198\n",
            "Validation: Loss: 0.3964, Accuracy: 0.8702\n",
            "Epoch Time: 3.19 secs\n",
            "Epoch: 22/31\n",
            "Iteration: 000, Loss: 0.3473, Accuracy: 0.9200\n",
            "Iteration: 001, Loss: 0.3083, Accuracy: 0.9320\n",
            "Iteration: 002, Loss: 0.2805, Accuracy: 0.9167\n",
            "Training: Loss: 0.3256, Accuracy: 0.9256\n",
            "Validation: Loss: 0.3549, Accuracy: 0.8931\n",
            "Epoch Time: 3.22 secs\n",
            "Epoch: 23/31\n",
            "Iteration: 000, Loss: 0.3844, Accuracy: 0.9080\n",
            "Iteration: 001, Loss: 0.2385, Accuracy: 0.9600\n",
            "Iteration: 002, Loss: 0.8032, Accuracy: 0.8333\n",
            "Training: Loss: 0.3340, Accuracy: 0.9294\n",
            "Validation: Loss: 0.3837, Accuracy: 0.8702\n",
            "Epoch Time: 3.17 secs\n",
            "Epoch: 24/31\n",
            "Iteration: 000, Loss: 0.3058, Accuracy: 0.9240\n",
            "Iteration: 001, Loss: 0.3771, Accuracy: 0.8720\n",
            "Iteration: 002, Loss: 0.2235, Accuracy: 0.9583\n",
            "Training: Loss: 0.3360, Accuracy: 0.9008\n",
            "Validation: Loss: 0.5736, Accuracy: 0.7557\n",
            "Epoch Time: 3.20 secs\n",
            "Epoch: 25/31\n",
            "Iteration: 000, Loss: 0.4503, Accuracy: 0.8320\n",
            "Iteration: 001, Loss: 0.6191, Accuracy: 0.7400\n",
            "Iteration: 002, Loss: 1.1234, Accuracy: 0.4167\n",
            "Training: Loss: 0.5616, Accuracy: 0.7691\n",
            "Validation: Loss: 0.7754, Accuracy: 0.6489\n",
            "Epoch Time: 3.20 secs\n",
            "Epoch: 26/31\n",
            "Iteration: 000, Loss: 0.6248, Accuracy: 0.7440\n",
            "Iteration: 001, Loss: 0.7819, Accuracy: 0.6360\n",
            "Iteration: 002, Loss: 0.9192, Accuracy: 0.5417\n",
            "Training: Loss: 0.7133, Accuracy: 0.6832\n",
            "Validation: Loss: 0.7749, Accuracy: 0.6412\n",
            "Epoch Time: 3.21 secs\n",
            "Epoch: 27/31\n",
            "Iteration: 000, Loss: 0.6933, Accuracy: 0.6920\n",
            "Iteration: 001, Loss: 0.6766, Accuracy: 0.6920\n",
            "Iteration: 002, Loss: 0.7636, Accuracy: 0.6667\n",
            "Training: Loss: 0.6885, Accuracy: 0.6908\n",
            "Validation: Loss: 0.6822, Accuracy: 0.6794\n",
            "Epoch Time: 3.21 secs\n",
            "Epoch: 28/31\n",
            "Iteration: 000, Loss: 0.6661, Accuracy: 0.6880\n",
            "Iteration: 001, Loss: 0.5110, Accuracy: 0.7960\n",
            "Iteration: 002, Loss: 0.5065, Accuracy: 0.7917\n",
            "Training: Loss: 0.5848, Accuracy: 0.7443\n",
            "Validation: Loss: 0.5942, Accuracy: 0.7252\n",
            "Epoch Time: 3.21 secs\n",
            "Epoch: 29/31\n",
            "Iteration: 000, Loss: 0.4879, Accuracy: 0.8000\n",
            "Iteration: 001, Loss: 0.5248, Accuracy: 0.7800\n",
            "Iteration: 002, Loss: 0.4570, Accuracy: 0.7917\n",
            "Training: Loss: 0.5041, Accuracy: 0.7901\n",
            "Validation: Loss: 0.5267, Accuracy: 0.7710\n",
            "Epoch Time: 3.22 secs\n",
            "Epoch: 30/31\n",
            "Iteration: 000, Loss: 0.4880, Accuracy: 0.7960\n",
            "Iteration: 001, Loss: 0.4269, Accuracy: 0.8520\n",
            "Iteration: 002, Loss: 0.4634, Accuracy: 0.8333\n",
            "Training: Loss: 0.4577, Accuracy: 0.8244\n",
            "Validation: Loss: 0.4847, Accuracy: 0.8015\n",
            "Epoch Time: 3.25 secs\n",
            "Epoch: 31/31\n",
            "Iteration: 000, Loss: 0.3740, Accuracy: 0.8920\n",
            "Iteration: 001, Loss: 0.4458, Accuracy: 0.8360\n",
            "Iteration: 002, Loss: 0.5813, Accuracy: 0.7917\n",
            "Training: Loss: 0.4178, Accuracy: 0.8607\n",
            "Validation: Loss: 0.4494, Accuracy: 0.8321\n",
            "Epoch Time: 3.23 secs\n"
          ]
        },
        {
          "output_type": "display_data",
          "data": {
            "text/plain": [
              "<IPython.core.display.HTML object>"
            ],
            "text/html": [
              "Waiting for W&B process to finish... <strong style=\"color:green\">(success).</strong>"
            ]
          },
          "metadata": {}
        },
        {
          "output_type": "display_data",
          "data": {
            "text/plain": [
              "VBox(children=(Label(value='319.467 MB of 319.467 MB uploaded (10.253 MB deduped)\\r'), FloatProgress(value=1.0…"
            ],
            "application/vnd.jupyter.widget-view+json": {
              "version_major": 2,
              "version_minor": 0,
              "model_id": "0af6be1c02af4d27bde3dd94c693af7b"
            }
          },
          "metadata": {}
        },
        {
          "output_type": "display_data",
          "data": {
            "text/plain": [
              "<IPython.core.display.HTML object>"
            ],
            "text/html": [
              "W&B sync reduced upload amount by 3.2%             "
            ]
          },
          "metadata": {}
        },
        {
          "output_type": "display_data",
          "data": {
            "text/plain": [
              "<IPython.core.display.HTML object>"
            ],
            "text/html": [
              "<style>\n",
              "    table.wandb td:nth-child(1) { padding: 0 10px; text-align: left ; width: auto;} td:nth-child(2) {text-align: left ; width: 100%}\n",
              "    .wandb-row { display: flex; flex-direction: row; flex-wrap: wrap; justify-content: flex-start; width: 100% }\n",
              "    .wandb-col { display: flex; flex-direction: column; flex-basis: 100%; flex: 1; padding: 10px; }\n",
              "    </style>\n",
              "<div class=\"wandb-row\"><div class=\"wandb-col\"><h3>Run history:</h3><br/><table class=\"wandb\"><tr><td>train_acc</td><td>▁▂▄▄▄█▇▄▃▄▇██▇▅▅▅▆▇▇████▆▅▅▆▆▇▇</td></tr><tr><td>train_loss</td><td>▅█▃▁▁▁▁▁▁▁▁▁▁▁▁▁▁▁▁▁▁▁▁▁▁▁▁▁▁▁▁</td></tr><tr><td>val_acc</td><td>▁▄▄▄█▇▁▁▁▄██▅▃▂▃▆▆▇▇███▆▅▅▅▆▆▇▇</td></tr><tr><td>val_loss</td><td>█▃▁▁▁▁▁▁▁▁▁▁▁▁▁▁▁▁▁▁▁▁▁▁▁▁▁▁▁▁▁</td></tr></table><br/></div><div class=\"wandb-col\"><h3>Run summary:</h3><br/><table class=\"wandb\"><tr><td>train_acc</td><td>0.86069</td></tr><tr><td>train_loss</td><td>0.41775</td></tr><tr><td>val_acc</td><td>0.83206</td></tr><tr><td>val_loss</td><td>0.4494</td></tr></table><br/></div></div>"
            ]
          },
          "metadata": {}
        },
        {
          "output_type": "display_data",
          "data": {
            "text/plain": [
              "<IPython.core.display.HTML object>"
            ],
            "text/html": [
              "Synced <strong style=\"color:#cdcd00\">vital-sweep-13</strong>: <a href=\"https://wandb.ai/awesome-team/diu-phase2-demo/runs/zv4eo5mk\" target=\"_blank\">https://wandb.ai/awesome-team/diu-phase2-demo/runs/zv4eo5mk</a><br/>Synced 5 W&B file(s), 1 media file(s), 690 artifact file(s) and 2 other file(s)"
            ]
          },
          "metadata": {}
        },
        {
          "output_type": "display_data",
          "data": {
            "text/plain": [
              "<IPython.core.display.HTML object>"
            ],
            "text/html": [
              "Find logs at: <code>./wandb/run-20220829_142255-zv4eo5mk/logs</code>"
            ]
          },
          "metadata": {}
        },
        {
          "output_type": "stream",
          "name": "stderr",
          "text": [
            "\u001b[34m\u001b[1mwandb\u001b[0m: Agent Starting Run: gotzdejr with config:\n",
            "\u001b[34m\u001b[1mwandb\u001b[0m: \tbalanced: 1\n",
            "\u001b[34m\u001b[1mwandb\u001b[0m: \tbs: 100\n",
            "\u001b[34m\u001b[1mwandb\u001b[0m: \tnum_epochs: 23\n",
            "\u001b[34m\u001b[1mwandb\u001b[0m: \tpxls: 150\n",
            "\u001b[34m\u001b[1mwandb\u001b[0m: \trate: 0.05167692346746646\n"
          ]
        },
        {
          "output_type": "display_data",
          "data": {
            "text/plain": [
              "<IPython.core.display.HTML object>"
            ],
            "text/html": [
              "Tracking run with wandb version 0.13.2"
            ]
          },
          "metadata": {}
        },
        {
          "output_type": "display_data",
          "data": {
            "text/plain": [
              "<IPython.core.display.HTML object>"
            ],
            "text/html": [
              "Run data is saved locally in <code>/content/wandb/run-20220829_142502-gotzdejr</code>"
            ]
          },
          "metadata": {}
        },
        {
          "output_type": "display_data",
          "data": {
            "text/plain": [
              "<IPython.core.display.HTML object>"
            ],
            "text/html": [
              "Syncing run <strong><a href=\"https://wandb.ai/awesome-team/diu-phase2-demo/runs/gotzdejr\" target=\"_blank\">sparkling-sweep-14</a></strong> to <a href=\"https://wandb.ai/awesome-team/diu-phase2-demo\" target=\"_blank\">Weights & Biases</a> (<a href=\"https://wandb.me/run\" target=\"_blank\">docs</a>)<br/>Sweep page:  <a href=\"https://wandb.ai/awesome-team/diu-phase2-demo/sweeps/hc69lhb2\" target=\"_blank\">https://wandb.ai/awesome-team/diu-phase2-demo/sweeps/hc69lhb2</a>"
            ]
          },
          "metadata": {}
        },
        {
          "output_type": "stream",
          "name": "stdout",
          "text": [
            "Epoch: 1/23\n",
            "Iteration: 000, Loss: 1.0714, Accuracy: 0.4000\n",
            "Iteration: 001, Loss: 135.9075, Accuracy: 0.2000\n",
            "Training: Loss: 13.3292, Accuracy: 0.3818\n",
            "Validation: Loss: 141.8839, Accuracy: 0.6429\n",
            "Epoch Time: 0.85 secs\n",
            "Epoch: 2/23\n",
            "Iteration: 000, Loss: 149.1998, Accuracy: 0.6500\n",
            "Iteration: 001, Loss: 253.8279, Accuracy: 0.1000\n",
            "Training: Loss: 158.7114, Accuracy: 0.6000\n",
            "Validation: Loss: 62.4646, Accuracy: 0.6429\n",
            "Epoch Time: 0.95 secs\n",
            "Epoch: 3/23\n",
            "Iteration: 000, Loss: 72.2867, Accuracy: 0.5800\n",
            "Iteration: 001, Loss: 13.6133, Accuracy: 0.5000\n",
            "Training: Loss: 66.9527, Accuracy: 0.5727\n",
            "Validation: Loss: 25.9253, Accuracy: 0.3571\n",
            "Epoch Time: 0.83 secs\n",
            "Epoch: 4/23\n",
            "Iteration: 000, Loss: 26.1289, Accuracy: 0.3800\n",
            "Iteration: 001, Loss: 36.6116, Accuracy: 0.2000\n",
            "Training: Loss: 27.0819, Accuracy: 0.3636\n",
            "Validation: Loss: 8.8557, Accuracy: 0.6429\n",
            "Epoch Time: 0.79 secs\n",
            "Epoch: 5/23\n",
            "Iteration: 000, Loss: 6.5598, Accuracy: 0.7300\n",
            "Iteration: 001, Loss: 49.4735, Accuracy: 0.4000\n",
            "Training: Loss: 10.4611, Accuracy: 0.7000\n",
            "Validation: Loss: 15.8523, Accuracy: 0.6429\n",
            "Epoch Time: 0.79 secs\n",
            "Epoch: 6/23\n",
            "Iteration: 000, Loss: 13.3991, Accuracy: 0.6300\n",
            "Iteration: 001, Loss: 5.2005, Accuracy: 0.7000\n",
            "Training: Loss: 12.6538, Accuracy: 0.6364\n",
            "Validation: Loss: 2.3644, Accuracy: 0.6429\n",
            "Epoch Time: 0.79 secs\n",
            "Epoch: 7/23\n",
            "Iteration: 000, Loss: 1.6557, Accuracy: 0.6900\n",
            "Iteration: 001, Loss: 0.0002, Accuracy: 1.0000\n",
            "Training: Loss: 1.5052, Accuracy: 0.7182\n",
            "Validation: Loss: 6.9814, Accuracy: 0.6429\n",
            "Epoch Time: 0.80 secs\n",
            "Epoch: 8/23\n",
            "Iteration: 000, Loss: 5.0433, Accuracy: 0.7000\n",
            "Iteration: 001, Loss: 7.0521, Accuracy: 0.6000\n",
            "Training: Loss: 5.2259, Accuracy: 0.6909\n",
            "Validation: Loss: 5.1093, Accuracy: 0.5357\n",
            "Epoch Time: 0.78 secs\n",
            "Epoch: 9/23\n",
            "Iteration: 000, Loss: 2.3971, Accuracy: 0.6900\n",
            "Iteration: 001, Loss: 11.2643, Accuracy: 0.4000\n",
            "Training: Loss: 3.2032, Accuracy: 0.6636\n",
            "Validation: Loss: 0.8631, Accuracy: 0.8214\n",
            "Epoch Time: 0.79 secs\n",
            "Epoch: 10/23\n",
            "Iteration: 000, Loss: 0.2417, Accuracy: 0.9500\n",
            "Iteration: 001, Loss: 4.5659, Accuracy: 0.3000\n",
            "Training: Loss: 0.6348, Accuracy: 0.8909\n",
            "Validation: Loss: 0.2244, Accuracy: 0.9643\n",
            "Epoch Time: 0.78 secs\n",
            "Epoch: 11/23\n",
            "Iteration: 000, Loss: 0.1466, Accuracy: 0.9500\n",
            "Iteration: 001, Loss: 0.0145, Accuracy: 1.0000\n",
            "Training: Loss: 0.1346, Accuracy: 0.9545\n",
            "Validation: Loss: 1.5131, Accuracy: 0.7500\n",
            "Epoch Time: 0.78 secs\n",
            "Epoch: 12/23\n",
            "Iteration: 000, Loss: 0.8106, Accuracy: 0.8900\n",
            "Iteration: 001, Loss: 3.3736, Accuracy: 0.8000\n",
            "Training: Loss: 1.0436, Accuracy: 0.8818\n",
            "Validation: Loss: 0.7713, Accuracy: 0.7143\n",
            "Epoch Time: 0.79 secs\n",
            "Epoch: 13/23\n",
            "Iteration: 000, Loss: 0.8395, Accuracy: 0.8000\n",
            "Iteration: 001, Loss: 0.2501, Accuracy: 0.8000\n",
            "Training: Loss: 0.7859, Accuracy: 0.8000\n",
            "Validation: Loss: 0.6772, Accuracy: 0.6786\n",
            "Epoch Time: 0.77 secs\n",
            "Epoch: 14/23\n",
            "Iteration: 000, Loss: 0.3347, Accuracy: 0.7800\n",
            "Iteration: 001, Loss: 0.1195, Accuracy: 0.9000\n",
            "Training: Loss: 0.3151, Accuracy: 0.7909\n",
            "Validation: Loss: 0.5837, Accuracy: 0.6786\n",
            "Epoch Time: 0.77 secs\n",
            "Epoch: 15/23\n",
            "Iteration: 000, Loss: 0.3188, Accuracy: 0.7700\n",
            "Iteration: 001, Loss: 0.4314, Accuracy: 0.9000\n",
            "Training: Loss: 0.3290, Accuracy: 0.7818\n",
            "Validation: Loss: 0.5510, Accuracy: 0.7500\n",
            "Epoch Time: 0.76 secs\n",
            "Epoch: 16/23\n",
            "Iteration: 000, Loss: 0.2350, Accuracy: 0.8600\n",
            "Iteration: 001, Loss: 0.2380, Accuracy: 0.8000\n",
            "Training: Loss: 0.2353, Accuracy: 0.8545\n",
            "Validation: Loss: 0.5389, Accuracy: 0.7500\n",
            "Epoch Time: 0.80 secs\n",
            "Epoch: 17/23\n",
            "Iteration: 000, Loss: 0.1262, Accuracy: 0.9300\n",
            "Iteration: 001, Loss: 0.5757, Accuracy: 0.8000\n",
            "Training: Loss: 0.1671, Accuracy: 0.9182\n",
            "Validation: Loss: 0.3004, Accuracy: 0.8571\n",
            "Epoch Time: 0.76 secs\n",
            "Epoch: 18/23\n",
            "Iteration: 000, Loss: 0.0598, Accuracy: 0.9700\n",
            "Iteration: 001, Loss: 0.0310, Accuracy: 1.0000\n",
            "Training: Loss: 0.0572, Accuracy: 0.9727\n",
            "Validation: Loss: 0.1985, Accuracy: 0.9286\n",
            "Epoch Time: 0.79 secs\n",
            "Epoch: 19/23\n",
            "Iteration: 000, Loss: 0.0488, Accuracy: 0.9800\n",
            "Iteration: 001, Loss: 0.7068, Accuracy: 0.9000\n",
            "Training: Loss: 0.1087, Accuracy: 0.9727\n",
            "Validation: Loss: 0.2775, Accuracy: 0.9286\n",
            "Epoch Time: 0.78 secs\n",
            "Epoch: 20/23\n",
            "Iteration: 000, Loss: 0.1303, Accuracy: 0.9600\n",
            "Iteration: 001, Loss: 0.2157, Accuracy: 0.8000\n",
            "Training: Loss: 0.1381, Accuracy: 0.9455\n",
            "Validation: Loss: 0.1707, Accuracy: 0.8929\n",
            "Epoch Time: 0.78 secs\n",
            "Epoch: 21/23\n",
            "Iteration: 000, Loss: 0.0470, Accuracy: 0.9800\n",
            "Iteration: 001, Loss: 0.1386, Accuracy: 0.9000\n",
            "Training: Loss: 0.0553, Accuracy: 0.9727\n",
            "Validation: Loss: 0.1688, Accuracy: 0.8929\n",
            "Epoch Time: 0.77 secs\n",
            "Epoch: 22/23\n",
            "Iteration: 000, Loss: 0.0516, Accuracy: 0.9900\n",
            "Iteration: 001, Loss: 0.1465, Accuracy: 1.0000\n",
            "Training: Loss: 0.0603, Accuracy: 0.9909\n",
            "Validation: Loss: 0.2334, Accuracy: 0.8571\n",
            "Epoch Time: 0.77 secs\n",
            "Epoch: 23/23\n",
            "Iteration: 000, Loss: 0.0740, Accuracy: 1.0000\n",
            "Iteration: 001, Loss: 0.2727, Accuracy: 0.9000\n",
            "Training: Loss: 0.0921, Accuracy: 0.9909\n",
            "Validation: Loss: 0.2314, Accuracy: 0.8214\n",
            "Epoch Time: 0.79 secs\n"
          ]
        },
        {
          "output_type": "display_data",
          "data": {
            "text/plain": [
              "<IPython.core.display.HTML object>"
            ],
            "text/html": [
              "Waiting for W&B process to finish... <strong style=\"color:green\">(success).</strong>"
            ]
          },
          "metadata": {}
        },
        {
          "output_type": "display_data",
          "data": {
            "text/plain": [
              "VBox(children=(Label(value='287.224 MB of 287.224 MB uploaded (10.253 MB deduped)\\r'), FloatProgress(value=1.0…"
            ],
            "application/vnd.jupyter.widget-view+json": {
              "version_major": 2,
              "version_minor": 0,
              "model_id": "c3b9aac2fd8a416da2062382e870e34e"
            }
          },
          "metadata": {}
        },
        {
          "output_type": "display_data",
          "data": {
            "text/plain": [
              "<IPython.core.display.HTML object>"
            ],
            "text/html": [
              "W&B sync reduced upload amount by 3.6%             "
            ]
          },
          "metadata": {}
        },
        {
          "output_type": "display_data",
          "data": {
            "text/plain": [
              "<IPython.core.display.HTML object>"
            ],
            "text/html": [
              "<style>\n",
              "    table.wandb td:nth-child(1) { padding: 0 10px; text-align: left ; width: auto;} td:nth-child(2) {text-align: left ; width: 100%}\n",
              "    .wandb-row { display: flex; flex-direction: row; flex-wrap: wrap; justify-content: flex-start; width: 100% }\n",
              "    .wandb-col { display: flex; flex-direction: column; flex-basis: 100%; flex: 1; padding: 10px; }\n",
              "    </style>\n",
              "<div class=\"wandb-row\"><div class=\"wandb-col\"><h3>Run history:</h3><br/><table class=\"wandb\"><tr><td>train_acc</td><td>▁▄▃▁▅▄▅▅▄▇█▇▆▆▆▆▇██▇███</td></tr><tr><td>train_loss</td><td>▂█▄▂▁▂▁▁▁▁▁▁▁▁▁▁▁▁▁▁▁▁▁</td></tr><tr><td>val_acc</td><td>▄▄▁▄▄▄▄▃▆█▆▅▅▅▆▆▇██▇▇▇▆</td></tr><tr><td>val_loss</td><td>█▄▂▁▂▁▁▁▁▁▁▁▁▁▁▁▁▁▁▁▁▁▁</td></tr></table><br/></div><div class=\"wandb-col\"><h3>Run summary:</h3><br/><table class=\"wandb\"><tr><td>train_acc</td><td>0.99091</td></tr><tr><td>train_loss</td><td>0.09205</td></tr><tr><td>val_acc</td><td>0.82143</td></tr><tr><td>val_loss</td><td>0.23136</td></tr></table><br/></div></div>"
            ]
          },
          "metadata": {}
        },
        {
          "output_type": "display_data",
          "data": {
            "text/plain": [
              "<IPython.core.display.HTML object>"
            ],
            "text/html": [
              "Synced <strong style=\"color:#cdcd00\">sparkling-sweep-14</strong>: <a href=\"https://wandb.ai/awesome-team/diu-phase2-demo/runs/gotzdejr\" target=\"_blank\">https://wandb.ai/awesome-team/diu-phase2-demo/runs/gotzdejr</a><br/>Synced 5 W&B file(s), 1 media file(s), 173 artifact file(s) and 2 other file(s)"
            ]
          },
          "metadata": {}
        },
        {
          "output_type": "display_data",
          "data": {
            "text/plain": [
              "<IPython.core.display.HTML object>"
            ],
            "text/html": [
              "Find logs at: <code>./wandb/run-20220829_142502-gotzdejr/logs</code>"
            ]
          },
          "metadata": {}
        },
        {
          "output_type": "stream",
          "name": "stderr",
          "text": [
            "\u001b[34m\u001b[1mwandb\u001b[0m: Agent Starting Run: v6mnpwtg with config:\n",
            "\u001b[34m\u001b[1mwandb\u001b[0m: \tbalanced: 1\n",
            "\u001b[34m\u001b[1mwandb\u001b[0m: \tbs: 100\n",
            "\u001b[34m\u001b[1mwandb\u001b[0m: \tnum_epochs: 30\n",
            "\u001b[34m\u001b[1mwandb\u001b[0m: \tpxls: 150\n",
            "\u001b[34m\u001b[1mwandb\u001b[0m: \trate: 0.06266741432236528\n"
          ]
        },
        {
          "output_type": "display_data",
          "data": {
            "text/plain": [
              "<IPython.core.display.HTML object>"
            ],
            "text/html": [
              "Tracking run with wandb version 0.13.2"
            ]
          },
          "metadata": {}
        },
        {
          "output_type": "display_data",
          "data": {
            "text/plain": [
              "<IPython.core.display.HTML object>"
            ],
            "text/html": [
              "Run data is saved locally in <code>/content/wandb/run-20220829_142543-v6mnpwtg</code>"
            ]
          },
          "metadata": {}
        },
        {
          "output_type": "display_data",
          "data": {
            "text/plain": [
              "<IPython.core.display.HTML object>"
            ],
            "text/html": [
              "Syncing run <strong><a href=\"https://wandb.ai/awesome-team/diu-phase2-demo/runs/v6mnpwtg\" target=\"_blank\">desert-sweep-15</a></strong> to <a href=\"https://wandb.ai/awesome-team/diu-phase2-demo\" target=\"_blank\">Weights & Biases</a> (<a href=\"https://wandb.me/run\" target=\"_blank\">docs</a>)<br/>Sweep page:  <a href=\"https://wandb.ai/awesome-team/diu-phase2-demo/sweeps/hc69lhb2\" target=\"_blank\">https://wandb.ai/awesome-team/diu-phase2-demo/sweeps/hc69lhb2</a>"
            ]
          },
          "metadata": {}
        },
        {
          "output_type": "stream",
          "name": "stdout",
          "text": [
            "Epoch: 1/30\n",
            "Iteration: 000, Loss: 1.0572, Accuracy: 0.5100\n",
            "Iteration: 001, Loss: 157.7993, Accuracy: 0.4000\n",
            "Training: Loss: 15.3065, Accuracy: 0.5000\n",
            "Validation: Loss: 151.5854, Accuracy: 0.5000\n",
            "Epoch Time: 0.89 secs\n",
            "Epoch: 2/30\n",
            "Iteration: 000, Loss: 271.4217, Accuracy: 0.4600\n",
            "Iteration: 001, Loss: 471.0545, Accuracy: 0.2000\n",
            "Training: Loss: 289.5702, Accuracy: 0.4364\n",
            "Validation: Loss: 150.6001, Accuracy: 0.3571\n",
            "Epoch Time: 0.87 secs\n",
            "Epoch: 3/30\n",
            "Iteration: 000, Loss: 169.1549, Accuracy: 0.3700\n",
            "Iteration: 001, Loss: 39.7091, Accuracy: 0.3000\n",
            "Training: Loss: 157.3871, Accuracy: 0.3636\n",
            "Validation: Loss: 12.3991, Accuracy: 0.2143\n",
            "Epoch Time: 0.79 secs\n",
            "Epoch: 4/30\n",
            "Iteration: 000, Loss: 10.5180, Accuracy: 0.4000\n",
            "Iteration: 001, Loss: 7.1378, Accuracy: 0.4000\n",
            "Training: Loss: 10.2107, Accuracy: 0.4000\n",
            "Validation: Loss: 0.6309, Accuracy: 0.6786\n",
            "Epoch Time: 0.78 secs\n",
            "Epoch: 5/30\n",
            "Iteration: 000, Loss: 0.6561, Accuracy: 0.7900\n",
            "Iteration: 001, Loss: 7.3559, Accuracy: 0.5000\n",
            "Training: Loss: 1.2651, Accuracy: 0.7636\n",
            "Validation: Loss: 10.1284, Accuracy: 0.3929\n",
            "Epoch Time: 0.80 secs\n",
            "Epoch: 6/30\n",
            "Iteration: 000, Loss: 5.2219, Accuracy: 0.6200\n",
            "Iteration: 001, Loss: 0.0014, Accuracy: 1.0000\n",
            "Training: Loss: 4.7473, Accuracy: 0.6545\n",
            "Validation: Loss: 12.3867, Accuracy: 0.3214\n",
            "Epoch Time: 0.77 secs\n",
            "Epoch: 7/30\n",
            "Iteration: 000, Loss: 5.6590, Accuracy: 0.7400\n",
            "Iteration: 001, Loss: 2.7229, Accuracy: 0.5000\n",
            "Training: Loss: 5.3921, Accuracy: 0.7182\n",
            "Validation: Loss: 3.5951, Accuracy: 0.4643\n",
            "Epoch Time: 0.78 secs\n",
            "Epoch: 8/30\n",
            "Iteration: 000, Loss: 2.5218, Accuracy: 0.5700\n",
            "Iteration: 001, Loss: 4.2788, Accuracy: 0.3000\n",
            "Training: Loss: 2.6816, Accuracy: 0.5455\n",
            "Validation: Loss: 0.2923, Accuracy: 0.8214\n",
            "Epoch Time: 0.79 secs\n",
            "Epoch: 9/30\n",
            "Iteration: 000, Loss: 0.2896, Accuracy: 0.8500\n",
            "Iteration: 001, Loss: 0.4014, Accuracy: 0.9000\n",
            "Training: Loss: 0.2997, Accuracy: 0.8545\n",
            "Validation: Loss: 6.2856, Accuracy: 0.5714\n",
            "Epoch Time: 0.78 secs\n",
            "Epoch: 10/30\n",
            "Iteration: 000, Loss: 3.3425, Accuracy: 0.7500\n",
            "Iteration: 001, Loss: 1.1001, Accuracy: 0.9000\n",
            "Training: Loss: 3.1386, Accuracy: 0.7636\n",
            "Validation: Loss: 13.3102, Accuracy: 0.5000\n",
            "Epoch Time: 0.78 secs\n",
            "Epoch: 11/30\n",
            "Iteration: 000, Loss: 5.8671, Accuracy: 0.6700\n",
            "Iteration: 001, Loss: 0.0000, Accuracy: 1.0000\n",
            "Training: Loss: 5.3337, Accuracy: 0.7000\n",
            "Validation: Loss: 4.7543, Accuracy: 0.5357\n",
            "Epoch Time: 0.79 secs\n",
            "Epoch: 12/30\n",
            "Iteration: 000, Loss: 1.6491, Accuracy: 0.7800\n",
            "Iteration: 001, Loss: 2.1655, Accuracy: 0.6000\n",
            "Training: Loss: 1.6960, Accuracy: 0.7636\n",
            "Validation: Loss: 0.9401, Accuracy: 0.6429\n",
            "Epoch Time: 0.79 secs\n",
            "Epoch: 13/30\n",
            "Iteration: 000, Loss: 0.8990, Accuracy: 0.7800\n",
            "Iteration: 001, Loss: 0.3373, Accuracy: 0.8000\n",
            "Training: Loss: 0.8479, Accuracy: 0.7818\n",
            "Validation: Loss: 0.7655, Accuracy: 0.5357\n",
            "Epoch Time: 0.78 secs\n",
            "Epoch: 14/30\n",
            "Iteration: 000, Loss: 0.3803, Accuracy: 0.7900\n",
            "Iteration: 001, Loss: 0.1257, Accuracy: 1.0000\n",
            "Training: Loss: 0.3571, Accuracy: 0.8091\n",
            "Validation: Loss: 3.1846, Accuracy: 0.5000\n",
            "Epoch Time: 0.78 secs\n",
            "Epoch: 15/30\n",
            "Iteration: 000, Loss: 1.5412, Accuracy: 0.6100\n",
            "Iteration: 001, Loss: 7.4706, Accuracy: 0.2000\n",
            "Training: Loss: 2.0803, Accuracy: 0.5727\n",
            "Validation: Loss: 2.5239, Accuracy: 0.5357\n",
            "Epoch Time: 0.77 secs\n",
            "Epoch: 16/30\n",
            "Iteration: 000, Loss: 0.7552, Accuracy: 0.6200\n",
            "Iteration: 001, Loss: 0.4404, Accuracy: 0.8000\n",
            "Training: Loss: 0.7266, Accuracy: 0.6364\n",
            "Validation: Loss: 1.7242, Accuracy: 0.4286\n",
            "Epoch Time: 0.78 secs\n",
            "Epoch: 17/30\n",
            "Iteration: 000, Loss: 0.7558, Accuracy: 0.7700\n",
            "Iteration: 001, Loss: 2.0134, Accuracy: 0.5000\n",
            "Training: Loss: 0.8702, Accuracy: 0.7455\n",
            "Validation: Loss: 1.2861, Accuracy: 0.4643\n",
            "Epoch Time: 0.82 secs\n",
            "Epoch: 18/30\n",
            "Iteration: 000, Loss: 0.7754, Accuracy: 0.7500\n",
            "Iteration: 001, Loss: 0.4200, Accuracy: 0.8000\n",
            "Training: Loss: 0.7430, Accuracy: 0.7545\n",
            "Validation: Loss: 0.7738, Accuracy: 0.5714\n",
            "Epoch Time: 0.80 secs\n",
            "Epoch: 19/30\n",
            "Iteration: 000, Loss: 0.4194, Accuracy: 0.7800\n",
            "Iteration: 001, Loss: 0.5541, Accuracy: 0.5000\n",
            "Training: Loss: 0.4316, Accuracy: 0.7545\n",
            "Validation: Loss: 0.6471, Accuracy: 0.7857\n",
            "Epoch Time: 0.79 secs\n",
            "Epoch: 20/30\n",
            "Iteration: 000, Loss: 0.2635, Accuracy: 0.9300\n",
            "Iteration: 001, Loss: 0.5270, Accuracy: 0.8000\n",
            "Training: Loss: 0.2874, Accuracy: 0.9182\n",
            "Validation: Loss: 0.7071, Accuracy: 0.8214\n",
            "Epoch Time: 0.77 secs\n",
            "Epoch: 21/30\n",
            "Iteration: 000, Loss: 0.2529, Accuracy: 0.9800\n",
            "Iteration: 001, Loss: 0.4582, Accuracy: 0.9000\n",
            "Training: Loss: 0.2716, Accuracy: 0.9727\n",
            "Validation: Loss: 0.6437, Accuracy: 0.8214\n",
            "Epoch Time: 0.79 secs\n",
            "Epoch: 22/30\n",
            "Iteration: 000, Loss: 0.2633, Accuracy: 0.9800\n",
            "Iteration: 001, Loss: 0.1876, Accuracy: 1.0000\n",
            "Training: Loss: 0.2564, Accuracy: 0.9818\n",
            "Validation: Loss: 0.5613, Accuracy: 0.8929\n",
            "Epoch Time: 0.78 secs\n",
            "Epoch: 23/30\n",
            "Iteration: 000, Loss: 0.2664, Accuracy: 0.9800\n",
            "Iteration: 001, Loss: 0.0745, Accuracy: 1.0000\n",
            "Training: Loss: 0.2490, Accuracy: 0.9818\n",
            "Validation: Loss: 0.5606, Accuracy: 0.8571\n",
            "Epoch Time: 0.79 secs\n",
            "Epoch: 24/30\n",
            "Iteration: 000, Loss: 0.2457, Accuracy: 0.9800\n",
            "Iteration: 001, Loss: 0.3832, Accuracy: 0.8000\n",
            "Training: Loss: 0.2582, Accuracy: 0.9636\n",
            "Validation: Loss: 0.5068, Accuracy: 0.9286\n",
            "Epoch Time: 0.78 secs\n",
            "Epoch: 25/30\n",
            "Iteration: 000, Loss: 0.2369, Accuracy: 0.9800\n",
            "Iteration: 001, Loss: 0.4286, Accuracy: 0.8000\n",
            "Training: Loss: 0.2543, Accuracy: 0.9636\n",
            "Validation: Loss: 0.4538, Accuracy: 0.9643\n",
            "Epoch Time: 0.77 secs\n",
            "Epoch: 26/30\n",
            "Iteration: 000, Loss: 0.2303, Accuracy: 0.9700\n",
            "Iteration: 001, Loss: 0.3996, Accuracy: 0.9000\n",
            "Training: Loss: 0.2457, Accuracy: 0.9636\n",
            "Validation: Loss: 0.3958, Accuracy: 0.9643\n",
            "Epoch Time: 0.79 secs\n",
            "Epoch: 27/30\n",
            "Iteration: 000, Loss: 0.2089, Accuracy: 0.9900\n",
            "Iteration: 001, Loss: 0.1555, Accuracy: 1.0000\n",
            "Training: Loss: 0.2041, Accuracy: 0.9909\n",
            "Validation: Loss: 0.3676, Accuracy: 0.9643\n",
            "Epoch Time: 0.78 secs\n",
            "Epoch: 28/30\n",
            "Iteration: 000, Loss: 0.1783, Accuracy: 1.0000\n",
            "Iteration: 001, Loss: 0.1436, Accuracy: 1.0000\n",
            "Training: Loss: 0.1751, Accuracy: 1.0000\n",
            "Validation: Loss: 0.3584, Accuracy: 0.9286\n",
            "Epoch Time: 0.79 secs\n",
            "Epoch: 29/30\n",
            "Iteration: 000, Loss: 0.1754, Accuracy: 0.9900\n",
            "Iteration: 001, Loss: 0.3595, Accuracy: 0.8000\n",
            "Training: Loss: 0.1922, Accuracy: 0.9727\n",
            "Validation: Loss: 0.3664, Accuracy: 0.9286\n",
            "Epoch Time: 0.77 secs\n",
            "Epoch: 30/30\n",
            "Iteration: 000, Loss: 0.1660, Accuracy: 1.0000\n",
            "Iteration: 001, Loss: 0.8148, Accuracy: 0.5000\n",
            "Training: Loss: 0.2250, Accuracy: 0.9545\n",
            "Validation: Loss: 0.4885, Accuracy: 0.8571\n",
            "Epoch Time: 0.78 secs\n"
          ]
        },
        {
          "output_type": "display_data",
          "data": {
            "text/plain": [
              "<IPython.core.display.HTML object>"
            ],
            "text/html": [
              "Waiting for W&B process to finish... <strong style=\"color:green\">(success).</strong>"
            ]
          },
          "metadata": {}
        },
        {
          "output_type": "display_data",
          "data": {
            "text/plain": [
              "VBox(children=(Label(value='277.574 MB of 277.574 MB uploaded (0.000 MB deduped)\\r'), FloatProgress(value=1.0,…"
            ],
            "application/vnd.jupyter.widget-view+json": {
              "version_major": 2,
              "version_minor": 0,
              "model_id": "0a5c9d9241d04e4d9884561cf632875a"
            }
          },
          "metadata": {}
        },
        {
          "output_type": "display_data",
          "data": {
            "text/plain": [
              "<IPython.core.display.HTML object>"
            ],
            "text/html": [
              "<style>\n",
              "    table.wandb td:nth-child(1) { padding: 0 10px; text-align: left ; width: auto;} td:nth-child(2) {text-align: left ; width: 100%}\n",
              "    .wandb-row { display: flex; flex-direction: row; flex-wrap: wrap; justify-content: flex-start; width: 100% }\n",
              "    .wandb-col { display: flex; flex-direction: column; flex-basis: 100%; flex: 1; padding: 10px; }\n",
              "    </style>\n",
              "<div class=\"wandb-row\"><div class=\"wandb-col\"><h3>Run history:</h3><br/><table class=\"wandb\"><tr><td>train_acc</td><td>▂▂▁▁▅▄▅▃▆▅▅▅▆▆▃▄▅▅▅▇█████████▇</td></tr><tr><td>train_loss</td><td>▁█▅▁▁▁▁▁▁▁▁▁▁▁▁▁▁▁▁▁▁▁▁▁▁▁▁▁▁▁</td></tr><tr><td>val_acc</td><td>▄▂▁▅▃▂▃▇▄▄▄▅▄▄▄▃▃▄▆▇▇▇▇██████▇</td></tr><tr><td>val_loss</td><td>██▂▁▁▂▁▁▁▂▁▁▁▁▁▁▁▁▁▁▁▁▁▁▁▁▁▁▁▁</td></tr></table><br/></div><div class=\"wandb-col\"><h3>Run summary:</h3><br/><table class=\"wandb\"><tr><td>train_acc</td><td>0.95455</td></tr><tr><td>train_loss</td><td>0.22501</td></tr><tr><td>val_acc</td><td>0.85714</td></tr><tr><td>val_loss</td><td>0.48851</td></tr></table><br/></div></div>"
            ]
          },
          "metadata": {}
        },
        {
          "output_type": "display_data",
          "data": {
            "text/plain": [
              "<IPython.core.display.HTML object>"
            ],
            "text/html": [
              "Synced <strong style=\"color:#cdcd00\">desert-sweep-15</strong>: <a href=\"https://wandb.ai/awesome-team/diu-phase2-demo/runs/v6mnpwtg\" target=\"_blank\">https://wandb.ai/awesome-team/diu-phase2-demo/runs/v6mnpwtg</a><br/>Synced 5 W&B file(s), 1 media file(s), 35 artifact file(s) and 2 other file(s)"
            ]
          },
          "metadata": {}
        },
        {
          "output_type": "display_data",
          "data": {
            "text/plain": [
              "<IPython.core.display.HTML object>"
            ],
            "text/html": [
              "Find logs at: <code>./wandb/run-20220829_142543-v6mnpwtg/logs</code>"
            ]
          },
          "metadata": {}
        },
        {
          "output_type": "stream",
          "name": "stderr",
          "text": [
            "\u001b[34m\u001b[1mwandb\u001b[0m: Sweep Agent: Waiting for job.\n",
            "\u001b[34m\u001b[1mwandb\u001b[0m: Job received.\n",
            "\u001b[34m\u001b[1mwandb\u001b[0m: Agent Starting Run: hox4cmcv with config:\n",
            "\u001b[34m\u001b[1mwandb\u001b[0m: \tbalanced: 1\n",
            "\u001b[34m\u001b[1mwandb\u001b[0m: \tbs: 150\n",
            "\u001b[34m\u001b[1mwandb\u001b[0m: \tnum_epochs: 27\n",
            "\u001b[34m\u001b[1mwandb\u001b[0m: \tpxls: 150\n",
            "\u001b[34m\u001b[1mwandb\u001b[0m: \trate: 0.040363212239422935\n"
          ]
        },
        {
          "output_type": "display_data",
          "data": {
            "text/plain": [
              "<IPython.core.display.HTML object>"
            ],
            "text/html": [
              "Tracking run with wandb version 0.13.2"
            ]
          },
          "metadata": {}
        },
        {
          "output_type": "display_data",
          "data": {
            "text/plain": [
              "<IPython.core.display.HTML object>"
            ],
            "text/html": [
              "Run data is saved locally in <code>/content/wandb/run-20220829_142637-hox4cmcv</code>"
            ]
          },
          "metadata": {}
        },
        {
          "output_type": "display_data",
          "data": {
            "text/plain": [
              "<IPython.core.display.HTML object>"
            ],
            "text/html": [
              "Syncing run <strong><a href=\"https://wandb.ai/awesome-team/diu-phase2-demo/runs/hox4cmcv\" target=\"_blank\">denim-sweep-16</a></strong> to <a href=\"https://wandb.ai/awesome-team/diu-phase2-demo\" target=\"_blank\">Weights & Biases</a> (<a href=\"https://wandb.me/run\" target=\"_blank\">docs</a>)<br/>Sweep page:  <a href=\"https://wandb.ai/awesome-team/diu-phase2-demo/sweeps/hc69lhb2\" target=\"_blank\">https://wandb.ai/awesome-team/diu-phase2-demo/sweeps/hc69lhb2</a>"
            ]
          },
          "metadata": {}
        },
        {
          "output_type": "stream",
          "name": "stdout",
          "text": [
            "Epoch: 1/27\n",
            "Iteration: 000, Loss: 1.1033, Accuracy: 0.2545\n",
            "Training: Loss: 1.1033, Accuracy: 0.2545\n",
            "Validation: Loss: 99.1049, Accuracy: 0.3929\n",
            "Epoch Time: 0.87 secs\n",
            "Epoch: 2/27\n",
            "Iteration: 000, Loss: 110.2779, Accuracy: 0.3545\n",
            "Training: Loss: 110.2779, Accuracy: 0.3545\n",
            "Validation: Loss: 125.3620, Accuracy: 0.2500\n",
            "Epoch Time: 0.85 secs\n",
            "Epoch: 3/27\n",
            "Iteration: 000, Loss: 123.3306, Accuracy: 0.3909\n",
            "Training: Loss: 123.3306, Accuracy: 0.3909\n",
            "Validation: Loss: 70.0503, Accuracy: 0.3571\n",
            "Epoch Time: 0.81 secs\n",
            "Epoch: 4/27\n",
            "Iteration: 000, Loss: 78.0211, Accuracy: 0.2545\n",
            "Training: Loss: 78.0211, Accuracy: 0.2545\n",
            "Validation: Loss: 36.1184, Accuracy: 0.3571\n",
            "Epoch Time: 0.76 secs\n",
            "Epoch: 5/27\n",
            "Iteration: 000, Loss: 40.7486, Accuracy: 0.2545\n",
            "Training: Loss: 40.7486, Accuracy: 0.2545\n",
            "Validation: Loss: 5.4723, Accuracy: 0.5357\n",
            "Epoch Time: 0.77 secs\n",
            "Epoch: 6/27\n",
            "Iteration: 000, Loss: 5.4165, Accuracy: 0.5818\n",
            "Training: Loss: 5.4165, Accuracy: 0.5818\n",
            "Validation: Loss: 5.5798, Accuracy: 0.5714\n",
            "Epoch Time: 0.77 secs\n",
            "Epoch: 7/27\n",
            "Iteration: 000, Loss: 4.3098, Accuracy: 0.7364\n",
            "Training: Loss: 4.3098, Accuracy: 0.7364\n",
            "Validation: Loss: 8.2283, Accuracy: 0.6429\n",
            "Epoch Time: 0.78 secs\n",
            "Epoch: 8/27\n",
            "Iteration: 000, Loss: 6.3905, Accuracy: 0.7455\n",
            "Training: Loss: 6.3905, Accuracy: 0.7455\n",
            "Validation: Loss: 8.2986, Accuracy: 0.5357\n",
            "Epoch Time: 0.76 secs\n",
            "Epoch: 9/27\n",
            "Iteration: 000, Loss: 6.3195, Accuracy: 0.6909\n",
            "Training: Loss: 6.3195, Accuracy: 0.6909\n",
            "Validation: Loss: 5.4537, Accuracy: 0.6071\n",
            "Epoch Time: 0.76 secs\n",
            "Epoch: 10/27\n",
            "Iteration: 000, Loss: 4.1655, Accuracy: 0.7364\n",
            "Training: Loss: 4.1655, Accuracy: 0.7364\n",
            "Validation: Loss: 2.6551, Accuracy: 0.6429\n",
            "Epoch Time: 0.76 secs\n",
            "Epoch: 11/27\n",
            "Iteration: 000, Loss: 2.1224, Accuracy: 0.7455\n",
            "Training: Loss: 2.1224, Accuracy: 0.7455\n",
            "Validation: Loss: 0.4149, Accuracy: 0.8214\n",
            "Epoch Time: 0.76 secs\n",
            "Epoch: 12/27\n",
            "Iteration: 000, Loss: 0.3207, Accuracy: 0.8273\n",
            "Training: Loss: 0.3207, Accuracy: 0.8273\n",
            "Validation: Loss: 3.2853, Accuracy: 0.3929\n",
            "Epoch Time: 0.77 secs\n",
            "Epoch: 13/27\n",
            "Iteration: 000, Loss: 2.7398, Accuracy: 0.5727\n",
            "Training: Loss: 2.7398, Accuracy: 0.5727\n",
            "Validation: Loss: 1.7971, Accuracy: 0.4286\n",
            "Epoch Time: 0.78 secs\n",
            "Epoch: 14/27\n",
            "Iteration: 000, Loss: 1.1316, Accuracy: 0.6273\n",
            "Training: Loss: 1.1316, Accuracy: 0.6273\n",
            "Validation: Loss: 1.3059, Accuracy: 0.5000\n",
            "Epoch Time: 0.77 secs\n",
            "Epoch: 15/27\n",
            "Iteration: 000, Loss: 0.5814, Accuracy: 0.7182\n",
            "Training: Loss: 0.5814, Accuracy: 0.7182\n",
            "Validation: Loss: 1.6935, Accuracy: 0.4643\n",
            "Epoch Time: 0.76 secs\n",
            "Epoch: 16/27\n",
            "Iteration: 000, Loss: 0.6809, Accuracy: 0.7000\n",
            "Training: Loss: 0.6809, Accuracy: 0.7000\n",
            "Validation: Loss: 1.2595, Accuracy: 0.5357\n",
            "Epoch Time: 0.76 secs\n",
            "Epoch: 17/27\n",
            "Iteration: 000, Loss: 0.4677, Accuracy: 0.7818\n",
            "Training: Loss: 0.4677, Accuracy: 0.7818\n",
            "Validation: Loss: 0.6843, Accuracy: 0.5357\n",
            "Epoch Time: 0.77 secs\n",
            "Epoch: 18/27\n",
            "Iteration: 000, Loss: 0.3370, Accuracy: 0.7909\n",
            "Training: Loss: 0.3370, Accuracy: 0.7909\n",
            "Validation: Loss: 0.5115, Accuracy: 0.8571\n",
            "Epoch Time: 0.76 secs\n",
            "Epoch: 19/27\n",
            "Iteration: 000, Loss: 0.3129, Accuracy: 0.8636\n",
            "Training: Loss: 0.3129, Accuracy: 0.8636\n",
            "Validation: Loss: 0.5696, Accuracy: 0.8571\n",
            "Epoch Time: 0.77 secs\n",
            "Epoch: 20/27\n",
            "Iteration: 000, Loss: 0.3305, Accuracy: 0.8636\n",
            "Training: Loss: 0.3305, Accuracy: 0.8636\n",
            "Validation: Loss: 0.7494, Accuracy: 0.7500\n",
            "Epoch Time: 0.77 secs\n",
            "Epoch: 21/27\n",
            "Iteration: 000, Loss: 0.4114, Accuracy: 0.9091\n",
            "Training: Loss: 0.4114, Accuracy: 0.9091\n",
            "Validation: Loss: 0.7736, Accuracy: 0.6071\n",
            "Epoch Time: 0.76 secs\n",
            "Epoch: 22/27\n",
            "Iteration: 000, Loss: 0.4512, Accuracy: 0.8818\n",
            "Training: Loss: 0.4512, Accuracy: 0.8818\n",
            "Validation: Loss: 0.7017, Accuracy: 0.6429\n",
            "Epoch Time: 0.77 secs\n",
            "Epoch: 23/27\n",
            "Iteration: 000, Loss: 0.4620, Accuracy: 0.8727\n",
            "Training: Loss: 0.4620, Accuracy: 0.8727\n",
            "Validation: Loss: 0.6463, Accuracy: 0.6429\n",
            "Epoch Time: 0.77 secs\n",
            "Epoch: 24/27\n",
            "Iteration: 000, Loss: 0.4287, Accuracy: 0.7455\n",
            "Training: Loss: 0.4287, Accuracy: 0.7455\n",
            "Validation: Loss: 0.5919, Accuracy: 0.6429\n",
            "Epoch Time: 0.76 secs\n",
            "Epoch: 25/27\n",
            "Iteration: 000, Loss: 0.3752, Accuracy: 0.7455\n",
            "Training: Loss: 0.3752, Accuracy: 0.7455\n",
            "Validation: Loss: 0.5193, Accuracy: 0.6429\n",
            "Epoch Time: 0.75 secs\n",
            "Epoch: 26/27\n",
            "Iteration: 000, Loss: 0.3255, Accuracy: 0.7455\n",
            "Training: Loss: 0.3255, Accuracy: 0.7455\n",
            "Validation: Loss: 0.4812, Accuracy: 0.6429\n",
            "Epoch Time: 0.79 secs\n",
            "Epoch: 27/27\n",
            "Iteration: 000, Loss: 0.3201, Accuracy: 0.7455\n",
            "Training: Loss: 0.3201, Accuracy: 0.7455\n",
            "Validation: Loss: 0.4908, Accuracy: 0.6429\n",
            "Epoch Time: 0.78 secs\n"
          ]
        },
        {
          "output_type": "display_data",
          "data": {
            "text/plain": [
              "<IPython.core.display.HTML object>"
            ],
            "text/html": [
              "Waiting for W&B process to finish... <strong style=\"color:green\">(success).</strong>"
            ]
          },
          "metadata": {}
        },
        {
          "output_type": "display_data",
          "data": {
            "text/plain": [
              "VBox(children=(Label(value='277.011 MB of 277.011 MB uploaded (0.000 MB deduped)\\r'), FloatProgress(value=1.0,…"
            ],
            "application/vnd.jupyter.widget-view+json": {
              "version_major": 2,
              "version_minor": 0,
              "model_id": "4fc39911be5b42dab2a26aeed764af36"
            }
          },
          "metadata": {}
        },
        {
          "output_type": "display_data",
          "data": {
            "text/plain": [
              "<IPython.core.display.HTML object>"
            ],
            "text/html": [
              "<style>\n",
              "    table.wandb td:nth-child(1) { padding: 0 10px; text-align: left ; width: auto;} td:nth-child(2) {text-align: left ; width: 100%}\n",
              "    .wandb-row { display: flex; flex-direction: row; flex-wrap: wrap; justify-content: flex-start; width: 100% }\n",
              "    .wandb-col { display: flex; flex-direction: column; flex-basis: 100%; flex: 1; padding: 10px; }\n",
              "    </style>\n",
              "<div class=\"wandb-row\"><div class=\"wandb-col\"><h3>Run history:</h3><br/><table class=\"wandb\"><tr><td>train_acc</td><td>▁▂▂▁▁▄▆▆▆▆▆▇▄▅▆▆▇▇█████▆▆▆▆</td></tr><tr><td>train_loss</td><td>▁▇█▅▃▁▁▁▁▁▁▁▁▁▁▁▁▁▁▁▁▁▁▁▁▁▁</td></tr><tr><td>val_acc</td><td>▃▁▂▂▄▅▆▄▅▆█▃▃▄▃▄▄██▇▅▆▆▆▆▆▆</td></tr><tr><td>val_loss</td><td>▇█▅▃▁▁▁▁▁▁▁▁▁▁▁▁▁▁▁▁▁▁▁▁▁▁▁</td></tr></table><br/></div><div class=\"wandb-col\"><h3>Run summary:</h3><br/><table class=\"wandb\"><tr><td>train_acc</td><td>0.74545</td></tr><tr><td>train_loss</td><td>0.3201</td></tr><tr><td>val_acc</td><td>0.64286</td></tr><tr><td>val_loss</td><td>0.49076</td></tr></table><br/></div></div>"
            ]
          },
          "metadata": {}
        },
        {
          "output_type": "display_data",
          "data": {
            "text/plain": [
              "<IPython.core.display.HTML object>"
            ],
            "text/html": [
              "Synced <strong style=\"color:#cdcd00\">denim-sweep-16</strong>: <a href=\"https://wandb.ai/awesome-team/diu-phase2-demo/runs/hox4cmcv\" target=\"_blank\">https://wandb.ai/awesome-team/diu-phase2-demo/runs/hox4cmcv</a><br/>Synced 5 W&B file(s), 1 media file(s), 35 artifact file(s) and 2 other file(s)"
            ]
          },
          "metadata": {}
        },
        {
          "output_type": "display_data",
          "data": {
            "text/plain": [
              "<IPython.core.display.HTML object>"
            ],
            "text/html": [
              "Find logs at: <code>./wandb/run-20220829_142637-hox4cmcv/logs</code>"
            ]
          },
          "metadata": {}
        },
        {
          "output_type": "stream",
          "name": "stderr",
          "text": [
            "\u001b[34m\u001b[1mwandb\u001b[0m: Agent Starting Run: el55804f with config:\n",
            "\u001b[34m\u001b[1mwandb\u001b[0m: \tbalanced: 1\n",
            "\u001b[34m\u001b[1mwandb\u001b[0m: \tbs: 100\n",
            "\u001b[34m\u001b[1mwandb\u001b[0m: \tnum_epochs: 36\n",
            "\u001b[34m\u001b[1mwandb\u001b[0m: \tpxls: 150\n",
            "\u001b[34m\u001b[1mwandb\u001b[0m: \trate: 0.003515142219994639\n"
          ]
        },
        {
          "output_type": "display_data",
          "data": {
            "text/plain": [
              "<IPython.core.display.HTML object>"
            ],
            "text/html": [
              "Tracking run with wandb version 0.13.2"
            ]
          },
          "metadata": {}
        },
        {
          "output_type": "display_data",
          "data": {
            "text/plain": [
              "<IPython.core.display.HTML object>"
            ],
            "text/html": [
              "Run data is saved locally in <code>/content/wandb/run-20220829_142720-el55804f</code>"
            ]
          },
          "metadata": {}
        },
        {
          "output_type": "display_data",
          "data": {
            "text/plain": [
              "<IPython.core.display.HTML object>"
            ],
            "text/html": [
              "Syncing run <strong><a href=\"https://wandb.ai/awesome-team/diu-phase2-demo/runs/el55804f\" target=\"_blank\">sandy-sweep-17</a></strong> to <a href=\"https://wandb.ai/awesome-team/diu-phase2-demo\" target=\"_blank\">Weights & Biases</a> (<a href=\"https://wandb.me/run\" target=\"_blank\">docs</a>)<br/>Sweep page:  <a href=\"https://wandb.ai/awesome-team/diu-phase2-demo/sweeps/hc69lhb2\" target=\"_blank\">https://wandb.ai/awesome-team/diu-phase2-demo/sweeps/hc69lhb2</a>"
            ]
          },
          "metadata": {}
        },
        {
          "output_type": "stream",
          "name": "stdout",
          "text": [
            "Epoch: 1/36\n",
            "Iteration: 000, Loss: 1.0774, Accuracy: 0.4900\n",
            "Iteration: 001, Loss: 3.8516, Accuracy: 0.3000\n",
            "Training: Loss: 1.3296, Accuracy: 0.4727\n",
            "Validation: Loss: 2.7997, Accuracy: 0.2143\n",
            "Epoch Time: 0.87 secs\n",
            "Epoch: 2/36\n",
            "Iteration: 000, Loss: 3.2700, Accuracy: 0.3100\n",
            "Iteration: 001, Loss: 1.0138, Accuracy: 0.8000\n",
            "Training: Loss: 3.0649, Accuracy: 0.3545\n",
            "Validation: Loss: 2.8551, Accuracy: 0.4286\n",
            "Epoch Time: 0.88 secs\n",
            "Epoch: 3/36\n",
            "Iteration: 000, Loss: 3.6095, Accuracy: 0.3500\n",
            "Iteration: 001, Loss: 2.3334, Accuracy: 0.4000\n",
            "Training: Loss: 3.4935, Accuracy: 0.3545\n",
            "Validation: Loss: 1.5083, Accuracy: 0.7143\n",
            "Epoch Time: 0.79 secs\n",
            "Epoch: 4/36\n",
            "Iteration: 000, Loss: 1.4594, Accuracy: 0.7100\n",
            "Iteration: 001, Loss: 2.3991, Accuracy: 0.2000\n",
            "Training: Loss: 1.5448, Accuracy: 0.6636\n",
            "Validation: Loss: 0.9682, Accuracy: 0.5357\n",
            "Epoch Time: 0.79 secs\n",
            "Epoch: 5/36\n",
            "Iteration: 000, Loss: 0.5358, Accuracy: 0.7400\n",
            "Iteration: 001, Loss: 0.3725, Accuracy: 0.8000\n",
            "Training: Loss: 0.5209, Accuracy: 0.7455\n",
            "Validation: Loss: 0.8273, Accuracy: 0.5000\n",
            "Epoch Time: 0.76 secs\n",
            "Epoch: 6/36\n",
            "Iteration: 000, Loss: 0.7947, Accuracy: 0.6700\n",
            "Iteration: 001, Loss: 1.6986, Accuracy: 0.5000\n",
            "Training: Loss: 0.8768, Accuracy: 0.6545\n",
            "Validation: Loss: 0.5826, Accuracy: 0.6786\n",
            "Epoch Time: 0.78 secs\n",
            "Epoch: 7/36\n",
            "Iteration: 000, Loss: 0.6098, Accuracy: 0.6800\n",
            "Iteration: 001, Loss: 0.3518, Accuracy: 0.8000\n",
            "Training: Loss: 0.5864, Accuracy: 0.6909\n",
            "Validation: Loss: 0.3341, Accuracy: 0.8571\n",
            "Epoch Time: 0.76 secs\n",
            "Epoch: 8/36\n",
            "Iteration: 000, Loss: 0.1875, Accuracy: 0.9200\n",
            "Iteration: 001, Loss: 1.6412, Accuracy: 0.5000\n",
            "Training: Loss: 0.3197, Accuracy: 0.8818\n",
            "Validation: Loss: 0.6167, Accuracy: 0.7500\n",
            "Epoch Time: 0.77 secs\n",
            "Epoch: 9/36\n",
            "Iteration: 000, Loss: 0.4843, Accuracy: 0.7300\n",
            "Iteration: 001, Loss: 0.0756, Accuracy: 1.0000\n",
            "Training: Loss: 0.4471, Accuracy: 0.7545\n",
            "Validation: Loss: 0.3252, Accuracy: 0.8929\n",
            "Epoch Time: 0.76 secs\n",
            "Epoch: 10/36\n",
            "Iteration: 000, Loss: 0.1520, Accuracy: 0.9500\n",
            "Iteration: 001, Loss: 0.1623, Accuracy: 1.0000\n",
            "Training: Loss: 0.1529, Accuracy: 0.9545\n",
            "Validation: Loss: 0.2388, Accuracy: 0.9643\n",
            "Epoch Time: 0.79 secs\n",
            "Epoch: 11/36\n",
            "Iteration: 000, Loss: 0.0930, Accuracy: 1.0000\n",
            "Iteration: 001, Loss: 0.2644, Accuracy: 0.9000\n",
            "Training: Loss: 0.1086, Accuracy: 0.9909\n",
            "Validation: Loss: 0.2670, Accuracy: 0.9643\n",
            "Epoch Time: 0.78 secs\n",
            "Epoch: 12/36\n",
            "Iteration: 000, Loss: 0.1495, Accuracy: 0.9700\n",
            "Iteration: 001, Loss: 0.1710, Accuracy: 1.0000\n",
            "Training: Loss: 0.1515, Accuracy: 0.9727\n",
            "Validation: Loss: 0.2390, Accuracy: 0.9643\n",
            "Epoch Time: 0.78 secs\n",
            "Epoch: 13/36\n",
            "Iteration: 000, Loss: 0.1024, Accuracy: 1.0000\n",
            "Iteration: 001, Loss: 1.0082, Accuracy: 0.6000\n",
            "Training: Loss: 0.1848, Accuracy: 0.9636\n",
            "Validation: Loss: 0.2211, Accuracy: 0.9286\n",
            "Epoch Time: 0.78 secs\n",
            "Epoch: 14/36\n",
            "Iteration: 000, Loss: 0.0862, Accuracy: 0.9900\n",
            "Iteration: 001, Loss: 0.1144, Accuracy: 1.0000\n",
            "Training: Loss: 0.0887, Accuracy: 0.9909\n",
            "Validation: Loss: 0.5113, Accuracy: 0.7857\n",
            "Epoch Time: 0.76 secs\n",
            "Epoch: 15/36\n",
            "Iteration: 000, Loss: 0.3093, Accuracy: 0.8300\n",
            "Iteration: 001, Loss: 0.4682, Accuracy: 0.8000\n",
            "Training: Loss: 0.3237, Accuracy: 0.8273\n",
            "Validation: Loss: 0.5961, Accuracy: 0.7500\n",
            "Epoch Time: 0.78 secs\n",
            "Epoch: 16/36\n",
            "Iteration: 000, Loss: 0.4403, Accuracy: 0.7600\n",
            "Iteration: 001, Loss: 0.7103, Accuracy: 0.7000\n",
            "Training: Loss: 0.4648, Accuracy: 0.7545\n",
            "Validation: Loss: 0.2968, Accuracy: 0.8929\n",
            "Epoch Time: 0.78 secs\n",
            "Epoch: 17/36\n",
            "Iteration: 000, Loss: 0.1953, Accuracy: 0.9100\n",
            "Iteration: 001, Loss: 0.1461, Accuracy: 0.9000\n",
            "Training: Loss: 0.1909, Accuracy: 0.9091\n",
            "Validation: Loss: 0.0998, Accuracy: 1.0000\n",
            "Epoch Time: 0.93 secs\n",
            "Epoch: 18/36\n",
            "Iteration: 000, Loss: 0.0513, Accuracy: 1.0000\n",
            "Iteration: 001, Loss: 0.0647, Accuracy: 1.0000\n",
            "Training: Loss: 0.0525, Accuracy: 1.0000\n",
            "Validation: Loss: 0.1460, Accuracy: 0.9643\n",
            "Epoch Time: 0.99 secs\n",
            "Epoch: 19/36\n",
            "Iteration: 000, Loss: 0.1265, Accuracy: 0.9600\n",
            "Iteration: 001, Loss: 0.2415, Accuracy: 0.9000\n",
            "Training: Loss: 0.1369, Accuracy: 0.9545\n",
            "Validation: Loss: 0.2578, Accuracy: 0.9286\n",
            "Epoch Time: 0.98 secs\n",
            "Epoch: 20/36\n",
            "Iteration: 000, Loss: 0.2394, Accuracy: 0.8800\n",
            "Iteration: 001, Loss: 0.3461, Accuracy: 0.9000\n",
            "Training: Loss: 0.2491, Accuracy: 0.8818\n",
            "Validation: Loss: 0.1656, Accuracy: 0.9286\n",
            "Epoch Time: 0.94 secs\n",
            "Epoch: 21/36\n",
            "Iteration: 000, Loss: 0.1263, Accuracy: 0.9400\n",
            "Iteration: 001, Loss: 0.0808, Accuracy: 1.0000\n",
            "Training: Loss: 0.1222, Accuracy: 0.9455\n",
            "Validation: Loss: 0.0803, Accuracy: 1.0000\n",
            "Epoch Time: 0.77 secs\n",
            "Epoch: 22/36\n",
            "Iteration: 000, Loss: 0.0398, Accuracy: 1.0000\n",
            "Iteration: 001, Loss: 0.4220, Accuracy: 0.7000\n",
            "Training: Loss: 0.0745, Accuracy: 0.9727\n",
            "Validation: Loss: 0.0786, Accuracy: 0.9643\n",
            "Epoch Time: 0.79 secs\n",
            "Epoch: 23/36\n",
            "Iteration: 000, Loss: 0.0404, Accuracy: 1.0000\n",
            "Iteration: 001, Loss: 0.0212, Accuracy: 1.0000\n",
            "Training: Loss: 0.0386, Accuracy: 1.0000\n",
            "Validation: Loss: 0.0843, Accuracy: 0.9643\n",
            "Epoch Time: 0.79 secs\n",
            "Epoch: 24/36\n",
            "Iteration: 000, Loss: 0.0442, Accuracy: 1.0000\n",
            "Iteration: 001, Loss: 0.0639, Accuracy: 1.0000\n",
            "Training: Loss: 0.0460, Accuracy: 1.0000\n",
            "Validation: Loss: 0.0803, Accuracy: 0.9643\n",
            "Epoch Time: 0.78 secs\n",
            "Epoch: 25/36\n",
            "Iteration: 000, Loss: 0.0398, Accuracy: 1.0000\n",
            "Iteration: 001, Loss: 0.0275, Accuracy: 1.0000\n",
            "Training: Loss: 0.0387, Accuracy: 1.0000\n",
            "Validation: Loss: 0.0867, Accuracy: 0.9643\n",
            "Epoch Time: 0.78 secs\n",
            "Epoch: 26/36\n",
            "Iteration: 000, Loss: 0.0395, Accuracy: 1.0000\n",
            "Iteration: 001, Loss: 0.1660, Accuracy: 0.9000\n",
            "Training: Loss: 0.0510, Accuracy: 0.9909\n",
            "Validation: Loss: 0.0793, Accuracy: 1.0000\n",
            "Epoch Time: 0.76 secs\n",
            "Epoch: 27/36\n",
            "Iteration: 000, Loss: 0.0346, Accuracy: 0.9900\n",
            "Iteration: 001, Loss: 0.1273, Accuracy: 1.0000\n",
            "Training: Loss: 0.0430, Accuracy: 0.9909\n",
            "Validation: Loss: 0.0643, Accuracy: 1.0000\n",
            "Epoch Time: 0.78 secs\n",
            "Epoch: 28/36\n",
            "Iteration: 000, Loss: 0.0333, Accuracy: 1.0000\n",
            "Iteration: 001, Loss: 0.0244, Accuracy: 1.0000\n",
            "Training: Loss: 0.0325, Accuracy: 1.0000\n",
            "Validation: Loss: 0.0602, Accuracy: 1.0000\n",
            "Epoch Time: 0.78 secs\n",
            "Epoch: 29/36\n",
            "Iteration: 000, Loss: 0.0362, Accuracy: 1.0000\n",
            "Iteration: 001, Loss: 0.0135, Accuracy: 1.0000\n",
            "Training: Loss: 0.0341, Accuracy: 1.0000\n",
            "Validation: Loss: 0.0632, Accuracy: 1.0000\n",
            "Epoch Time: 0.77 secs\n",
            "Epoch: 30/36\n",
            "Iteration: 000, Loss: 0.0272, Accuracy: 1.0000\n",
            "Iteration: 001, Loss: 0.3023, Accuracy: 0.9000\n",
            "Training: Loss: 0.0522, Accuracy: 0.9909\n",
            "Validation: Loss: 0.0530, Accuracy: 1.0000\n",
            "Epoch Time: 0.79 secs\n",
            "Epoch: 31/36\n",
            "Iteration: 000, Loss: 0.0171, Accuracy: 1.0000\n",
            "Iteration: 001, Loss: 0.0701, Accuracy: 1.0000\n",
            "Training: Loss: 0.0219, Accuracy: 1.0000\n",
            "Validation: Loss: 0.0515, Accuracy: 1.0000\n",
            "Epoch Time: 0.77 secs\n",
            "Epoch: 32/36\n",
            "Iteration: 000, Loss: 0.0115, Accuracy: 1.0000\n",
            "Iteration: 001, Loss: 0.3997, Accuracy: 0.8000\n",
            "Training: Loss: 0.0468, Accuracy: 0.9818\n",
            "Validation: Loss: 0.1554, Accuracy: 0.8929\n",
            "Epoch Time: 0.76 secs\n",
            "Epoch: 33/36\n",
            "Iteration: 000, Loss: 0.0190, Accuracy: 1.0000\n",
            "Iteration: 001, Loss: 0.0345, Accuracy: 1.0000\n",
            "Training: Loss: 0.0204, Accuracy: 1.0000\n",
            "Validation: Loss: 0.6866, Accuracy: 0.7857\n",
            "Epoch Time: 0.80 secs\n",
            "Epoch: 34/36\n",
            "Iteration: 000, Loss: 0.2700, Accuracy: 0.8800\n",
            "Iteration: 001, Loss: 0.1219, Accuracy: 0.9000\n",
            "Training: Loss: 0.2565, Accuracy: 0.8818\n",
            "Validation: Loss: 0.5132, Accuracy: 0.7857\n",
            "Epoch Time: 0.75 secs\n",
            "Epoch: 35/36\n",
            "Iteration: 000, Loss: 0.1408, Accuracy: 0.9500\n",
            "Iteration: 001, Loss: 0.0220, Accuracy: 1.0000\n",
            "Training: Loss: 0.1300, Accuracy: 0.9545\n",
            "Validation: Loss: 0.2471, Accuracy: 0.8929\n",
            "Epoch Time: 0.78 secs\n",
            "Epoch: 36/36\n",
            "Iteration: 000, Loss: 0.0571, Accuracy: 1.0000\n",
            "Iteration: 001, Loss: 0.0034, Accuracy: 1.0000\n",
            "Training: Loss: 0.0523, Accuracy: 1.0000\n",
            "Validation: Loss: 0.1512, Accuracy: 0.9643\n",
            "Epoch Time: 0.77 secs\n"
          ]
        },
        {
          "output_type": "display_data",
          "data": {
            "text/plain": [
              "<IPython.core.display.HTML object>"
            ],
            "text/html": [
              "Waiting for W&B process to finish... <strong style=\"color:green\">(success).</strong>"
            ]
          },
          "metadata": {}
        },
        {
          "output_type": "display_data",
          "data": {
            "text/plain": [
              "VBox(children=(Label(value='277.474 MB of 277.474 MB uploaded (0.000 MB deduped)\\r'), FloatProgress(value=1.0,…"
            ],
            "application/vnd.jupyter.widget-view+json": {
              "version_major": 2,
              "version_minor": 0,
              "model_id": "020b2749f4b84dcb809bee740bac38e5"
            }
          },
          "metadata": {}
        },
        {
          "output_type": "display_data",
          "data": {
            "text/plain": [
              "<IPython.core.display.HTML object>"
            ],
            "text/html": [
              "<style>\n",
              "    table.wandb td:nth-child(1) { padding: 0 10px; text-align: left ; width: auto;} td:nth-child(2) {text-align: left ; width: 100%}\n",
              "    .wandb-row { display: flex; flex-direction: row; flex-wrap: wrap; justify-content: flex-start; width: 100% }\n",
              "    .wandb-col { display: flex; flex-direction: column; flex-basis: 100%; flex: 1; padding: 10px; }\n",
              "    </style>\n",
              "<div class=\"wandb-row\"><div class=\"wandb-col\"><h3>Run history:</h3><br/><table class=\"wandb\"><tr><td>train_acc</td><td>▂▁▁▄▅▄▅▇▅█████▆▅▇██▇▇████████████▇██</td></tr><tr><td>train_loss</td><td>▄▇█▄▂▃▂▂▂▁▁▁▁▁▂▂▁▁▁▁▁▁▁▁▁▁▁▁▁▁▁▁▁▁▁▁</td></tr><tr><td>val_acc</td><td>▁▃▅▄▄▅▇▆▇███▇▆▆▇██▇▇███████████▇▆▆▇█</td></tr><tr><td>val_loss</td><td>██▅▃▃▂▂▂▂▁▂▁▁▂▂▂▁▁▂▁▁▁▁▁▁▁▁▁▁▁▁▁▃▂▁▁</td></tr></table><br/></div><div class=\"wandb-col\"><h3>Run summary:</h3><br/><table class=\"wandb\"><tr><td>train_acc</td><td>1.0</td></tr><tr><td>train_loss</td><td>0.05226</td></tr><tr><td>val_acc</td><td>0.96429</td></tr><tr><td>val_loss</td><td>0.15121</td></tr></table><br/></div></div>"
            ]
          },
          "metadata": {}
        },
        {
          "output_type": "display_data",
          "data": {
            "text/plain": [
              "<IPython.core.display.HTML object>"
            ],
            "text/html": [
              "Synced <strong style=\"color:#cdcd00\">sandy-sweep-17</strong>: <a href=\"https://wandb.ai/awesome-team/diu-phase2-demo/runs/el55804f\" target=\"_blank\">https://wandb.ai/awesome-team/diu-phase2-demo/runs/el55804f</a><br/>Synced 5 W&B file(s), 1 media file(s), 35 artifact file(s) and 2 other file(s)"
            ]
          },
          "metadata": {}
        },
        {
          "output_type": "display_data",
          "data": {
            "text/plain": [
              "<IPython.core.display.HTML object>"
            ],
            "text/html": [
              "Find logs at: <code>./wandb/run-20220829_142720-el55804f/logs</code>"
            ]
          },
          "metadata": {}
        },
        {
          "output_type": "stream",
          "name": "stderr",
          "text": [
            "\u001b[34m\u001b[1mwandb\u001b[0m: Agent Starting Run: 52bp3k1a with config:\n",
            "\u001b[34m\u001b[1mwandb\u001b[0m: \tbalanced: 0\n",
            "\u001b[34m\u001b[1mwandb\u001b[0m: \tbs: 100\n",
            "\u001b[34m\u001b[1mwandb\u001b[0m: \tnum_epochs: 21\n",
            "\u001b[34m\u001b[1mwandb\u001b[0m: \tpxls: 150\n",
            "\u001b[34m\u001b[1mwandb\u001b[0m: \trate: 0.030936690313869378\n"
          ]
        },
        {
          "output_type": "display_data",
          "data": {
            "text/plain": [
              "<IPython.core.display.HTML object>"
            ],
            "text/html": [
              "Tracking run with wandb version 0.13.2"
            ]
          },
          "metadata": {}
        },
        {
          "output_type": "display_data",
          "data": {
            "text/plain": [
              "<IPython.core.display.HTML object>"
            ],
            "text/html": [
              "Run data is saved locally in <code>/content/wandb/run-20220829_142811-52bp3k1a</code>"
            ]
          },
          "metadata": {}
        },
        {
          "output_type": "display_data",
          "data": {
            "text/plain": [
              "<IPython.core.display.HTML object>"
            ],
            "text/html": [
              "Syncing run <strong><a href=\"https://wandb.ai/awesome-team/diu-phase2-demo/runs/52bp3k1a\" target=\"_blank\">copper-sweep-18</a></strong> to <a href=\"https://wandb.ai/awesome-team/diu-phase2-demo\" target=\"_blank\">Weights & Biases</a> (<a href=\"https://wandb.me/run\" target=\"_blank\">docs</a>)<br/>Sweep page:  <a href=\"https://wandb.ai/awesome-team/diu-phase2-demo/sweeps/hc69lhb2\" target=\"_blank\">https://wandb.ai/awesome-team/diu-phase2-demo/sweeps/hc69lhb2</a>"
            ]
          },
          "metadata": {}
        },
        {
          "output_type": "stream",
          "name": "stdout",
          "text": [
            "Epoch: 1/21\n",
            "Iteration: 000, Loss: 1.1232, Accuracy: 0.2900\n",
            "Iteration: 001, Loss: 90.2318, Accuracy: 0.6200\n",
            "Iteration: 002, Loss: 53.5190, Accuracy: 0.3900\n",
            "Iteration: 003, Loss: 23.5737, Accuracy: 0.3900\n",
            "Iteration: 004, Loss: 2.3779, Accuracy: 0.7700\n",
            "Iteration: 005, Loss: 4.2709, Accuracy: 0.7500\n",
            "Training: Loss: 32.7959, Accuracy: 0.5038\n",
            "Validation: Loss: 8.3537, Accuracy: 0.5573\n",
            "Epoch Time: 5.30 secs\n",
            "Epoch: 2/21\n",
            "Iteration: 000, Loss: 5.1263, Accuracy: 0.6400\n",
            "Iteration: 001, Loss: 0.7648, Accuracy: 0.7100\n",
            "Iteration: 002, Loss: 1.1935, Accuracy: 0.7000\n",
            "Iteration: 003, Loss: 1.4179, Accuracy: 0.8300\n",
            "Iteration: 004, Loss: 2.4743, Accuracy: 0.7300\n",
            "Iteration: 005, Loss: 1.1212, Accuracy: 0.9167\n",
            "Training: Loss: 2.1462, Accuracy: 0.7309\n",
            "Validation: Loss: 0.3594, Accuracy: 0.9389\n",
            "Epoch Time: 5.04 secs\n",
            "Epoch: 3/21\n",
            "Iteration: 000, Loss: 0.7076, Accuracy: 0.9100\n",
            "Iteration: 001, Loss: 0.2576, Accuracy: 0.9300\n",
            "Iteration: 002, Loss: 0.7170, Accuracy: 0.8200\n",
            "Iteration: 003, Loss: 0.6522, Accuracy: 0.8300\n",
            "Iteration: 004, Loss: 0.4386, Accuracy: 0.7000\n",
            "Iteration: 005, Loss: 0.5401, Accuracy: 0.7917\n",
            "Training: Loss: 0.5539, Accuracy: 0.8359\n",
            "Validation: Loss: 0.4046, Accuracy: 0.8626\n",
            "Epoch Time: 3.49 secs\n",
            "Epoch: 4/21\n",
            "Iteration: 000, Loss: 0.4508, Accuracy: 0.7800\n",
            "Iteration: 001, Loss: 0.3065, Accuracy: 0.8700\n",
            "Iteration: 002, Loss: 0.2949, Accuracy: 0.9200\n",
            "Iteration: 003, Loss: 0.3126, Accuracy: 0.8600\n",
            "Iteration: 004, Loss: 0.1776, Accuracy: 0.9600\n",
            "Iteration: 005, Loss: 0.3742, Accuracy: 0.7917\n",
            "Training: Loss: 0.3115, Accuracy: 0.8740\n",
            "Validation: Loss: 0.2072, Accuracy: 0.9466\n",
            "Epoch Time: 3.26 secs\n",
            "Epoch: 5/21\n",
            "Iteration: 000, Loss: 0.2302, Accuracy: 0.9000\n",
            "Iteration: 001, Loss: 0.2170, Accuracy: 0.9300\n",
            "Iteration: 002, Loss: 0.2418, Accuracy: 0.9000\n",
            "Iteration: 003, Loss: 0.1577, Accuracy: 0.9400\n",
            "Iteration: 004, Loss: 0.1985, Accuracy: 0.9200\n",
            "Iteration: 005, Loss: 0.1223, Accuracy: 0.9583\n",
            "Training: Loss: 0.2051, Accuracy: 0.9198\n",
            "Validation: Loss: 0.1390, Accuracy: 0.9542\n",
            "Epoch Time: 3.22 secs\n",
            "Epoch: 6/21\n",
            "Iteration: 000, Loss: 0.2376, Accuracy: 0.8900\n",
            "Iteration: 001, Loss: 0.1425, Accuracy: 0.9300\n",
            "Iteration: 002, Loss: 0.1624, Accuracy: 0.9400\n",
            "Iteration: 003, Loss: 0.1444, Accuracy: 0.9400\n",
            "Iteration: 004, Loss: 0.1803, Accuracy: 0.9200\n",
            "Iteration: 005, Loss: 0.0432, Accuracy: 1.0000\n",
            "Training: Loss: 0.1675, Accuracy: 0.9275\n",
            "Validation: Loss: 0.1106, Accuracy: 0.9618\n",
            "Epoch Time: 3.25 secs\n",
            "Epoch: 7/21\n",
            "Iteration: 000, Loss: 0.0953, Accuracy: 0.9500\n",
            "Iteration: 001, Loss: 0.1136, Accuracy: 0.9500\n",
            "Iteration: 002, Loss: 0.1290, Accuracy: 0.9300\n",
            "Iteration: 003, Loss: 0.1676, Accuracy: 0.9200\n",
            "Iteration: 004, Loss: 0.2429, Accuracy: 0.9000\n",
            "Iteration: 005, Loss: 0.1288, Accuracy: 0.9583\n",
            "Training: Loss: 0.1487, Accuracy: 0.9313\n",
            "Validation: Loss: 0.1634, Accuracy: 0.9695\n",
            "Epoch Time: 3.26 secs\n",
            "Epoch: 8/21\n",
            "Iteration: 000, Loss: 0.1172, Accuracy: 0.9500\n",
            "Iteration: 001, Loss: 0.0714, Accuracy: 1.0000\n",
            "Iteration: 002, Loss: 0.1848, Accuracy: 0.9200\n",
            "Iteration: 003, Loss: 0.1146, Accuracy: 0.9600\n",
            "Iteration: 004, Loss: 0.1018, Accuracy: 0.9800\n",
            "Iteration: 005, Loss: 0.1157, Accuracy: 1.0000\n",
            "Training: Loss: 0.1178, Accuracy: 0.9637\n",
            "Validation: Loss: 0.1998, Accuracy: 0.9618\n",
            "Epoch Time: 3.25 secs\n",
            "Epoch: 9/21\n",
            "Iteration: 000, Loss: 0.1820, Accuracy: 0.9500\n",
            "Iteration: 001, Loss: 0.2136, Accuracy: 0.9100\n",
            "Iteration: 002, Loss: 0.0979, Accuracy: 0.9500\n",
            "Iteration: 003, Loss: 0.1480, Accuracy: 0.9500\n",
            "Iteration: 004, Loss: 0.0784, Accuracy: 0.9800\n",
            "Iteration: 005, Loss: 0.0198, Accuracy: 1.0000\n",
            "Training: Loss: 0.1383, Accuracy: 0.9504\n",
            "Validation: Loss: 0.1224, Accuracy: 0.9542\n",
            "Epoch Time: 3.24 secs\n",
            "Epoch: 10/21\n",
            "Iteration: 000, Loss: 0.0602, Accuracy: 0.9800\n",
            "Iteration: 001, Loss: 0.0768, Accuracy: 0.9700\n",
            "Iteration: 002, Loss: 0.0975, Accuracy: 0.9600\n",
            "Iteration: 003, Loss: 0.0765, Accuracy: 0.9800\n",
            "Iteration: 004, Loss: 0.0761, Accuracy: 0.9600\n",
            "Iteration: 005, Loss: 0.0185, Accuracy: 1.0000\n",
            "Training: Loss: 0.0747, Accuracy: 0.9714\n",
            "Validation: Loss: 0.1765, Accuracy: 0.9237\n",
            "Epoch Time: 3.24 secs\n",
            "Epoch: 11/21\n",
            "Iteration: 000, Loss: 0.0802, Accuracy: 0.9500\n",
            "Iteration: 001, Loss: 0.1411, Accuracy: 0.9400\n",
            "Iteration: 002, Loss: 0.0499, Accuracy: 0.9800\n",
            "Iteration: 003, Loss: 0.0795, Accuracy: 0.9800\n",
            "Iteration: 004, Loss: 0.0561, Accuracy: 0.9800\n",
            "Iteration: 005, Loss: 0.0999, Accuracy: 0.9583\n",
            "Training: Loss: 0.0822, Accuracy: 0.9656\n",
            "Validation: Loss: 0.1184, Accuracy: 0.9771\n",
            "Epoch Time: 3.22 secs\n",
            "Epoch: 12/21\n",
            "Iteration: 000, Loss: 0.0818, Accuracy: 0.9600\n",
            "Iteration: 001, Loss: 0.2435, Accuracy: 0.8900\n",
            "Iteration: 002, Loss: 0.0705, Accuracy: 0.9800\n",
            "Iteration: 003, Loss: 0.0808, Accuracy: 0.9600\n",
            "Iteration: 004, Loss: 0.0817, Accuracy: 0.9900\n",
            "Iteration: 005, Loss: 0.0268, Accuracy: 1.0000\n",
            "Training: Loss: 0.1078, Accuracy: 0.9580\n",
            "Validation: Loss: 0.1050, Accuracy: 0.9618\n",
            "Epoch Time: 3.25 secs\n",
            "Epoch: 13/21\n",
            "Iteration: 000, Loss: 0.0367, Accuracy: 1.0000\n",
            "Iteration: 001, Loss: 0.0488, Accuracy: 0.9900\n",
            "Iteration: 002, Loss: 0.0332, Accuracy: 1.0000\n",
            "Iteration: 003, Loss: 0.1146, Accuracy: 0.9600\n",
            "Iteration: 004, Loss: 0.0488, Accuracy: 0.9800\n",
            "Iteration: 005, Loss: 0.0673, Accuracy: 1.0000\n",
            "Training: Loss: 0.0569, Accuracy: 0.9866\n",
            "Validation: Loss: 0.0919, Accuracy: 0.9618\n",
            "Epoch Time: 3.21 secs\n",
            "Epoch: 14/21\n",
            "Iteration: 000, Loss: 0.0387, Accuracy: 0.9900\n",
            "Iteration: 001, Loss: 0.0269, Accuracy: 0.9900\n",
            "Iteration: 002, Loss: 0.0351, Accuracy: 0.9800\n",
            "Iteration: 003, Loss: 0.0828, Accuracy: 0.9800\n",
            "Iteration: 004, Loss: 0.0209, Accuracy: 1.0000\n",
            "Iteration: 005, Loss: 0.0590, Accuracy: 1.0000\n",
            "Training: Loss: 0.0417, Accuracy: 0.9885\n",
            "Validation: Loss: 0.1222, Accuracy: 0.9771\n",
            "Epoch Time: 3.22 secs\n",
            "Epoch: 15/21\n",
            "Iteration: 000, Loss: 0.0286, Accuracy: 1.0000\n",
            "Iteration: 001, Loss: 0.0429, Accuracy: 0.9800\n",
            "Iteration: 002, Loss: 0.0206, Accuracy: 0.9900\n",
            "Iteration: 003, Loss: 0.0107, Accuracy: 1.0000\n",
            "Iteration: 004, Loss: 0.0149, Accuracy: 1.0000\n",
            "Iteration: 005, Loss: 0.0150, Accuracy: 1.0000\n",
            "Training: Loss: 0.0232, Accuracy: 0.9943\n",
            "Validation: Loss: 0.0989, Accuracy: 0.9771\n",
            "Epoch Time: 3.28 secs\n",
            "Epoch: 16/21\n",
            "Iteration: 000, Loss: 0.0095, Accuracy: 1.0000\n",
            "Iteration: 001, Loss: 0.0182, Accuracy: 0.9900\n",
            "Iteration: 002, Loss: 0.0121, Accuracy: 1.0000\n",
            "Iteration: 003, Loss: 0.0036, Accuracy: 1.0000\n",
            "Iteration: 004, Loss: 0.0240, Accuracy: 0.9900\n",
            "Iteration: 005, Loss: 0.0753, Accuracy: 0.9583\n",
            "Training: Loss: 0.0163, Accuracy: 0.9943\n",
            "Validation: Loss: 0.1392, Accuracy: 0.9695\n",
            "Epoch Time: 3.22 secs\n",
            "Epoch: 17/21\n",
            "Iteration: 000, Loss: 0.0491, Accuracy: 0.9800\n",
            "Iteration: 001, Loss: 0.0460, Accuracy: 0.9600\n",
            "Iteration: 002, Loss: 0.0168, Accuracy: 1.0000\n",
            "Iteration: 003, Loss: 0.0182, Accuracy: 0.9900\n",
            "Iteration: 004, Loss: 0.0342, Accuracy: 0.9900\n",
            "Iteration: 005, Loss: 0.0335, Accuracy: 1.0000\n",
            "Training: Loss: 0.0329, Accuracy: 0.9847\n",
            "Validation: Loss: 0.1087, Accuracy: 0.9542\n",
            "Epoch Time: 3.25 secs\n",
            "Epoch: 18/21\n",
            "Iteration: 000, Loss: 0.0125, Accuracy: 1.0000\n",
            "Iteration: 001, Loss: 0.2087, Accuracy: 0.9100\n",
            "Iteration: 002, Loss: 0.0019, Accuracy: 1.0000\n",
            "Iteration: 003, Loss: 0.0069, Accuracy: 1.0000\n",
            "Iteration: 004, Loss: 0.0626, Accuracy: 0.9700\n",
            "Iteration: 005, Loss: 0.0002, Accuracy: 1.0000\n",
            "Training: Loss: 0.0559, Accuracy: 0.9771\n",
            "Validation: Loss: 0.2464, Accuracy: 0.9771\n",
            "Epoch Time: 3.24 secs\n",
            "Epoch: 19/21\n",
            "Iteration: 000, Loss: 0.1663, Accuracy: 0.9500\n",
            "Iteration: 001, Loss: 0.1738, Accuracy: 0.9400\n",
            "Iteration: 002, Loss: 0.0206, Accuracy: 0.9900\n",
            "Iteration: 003, Loss: 0.0045, Accuracy: 1.0000\n",
            "Iteration: 004, Loss: 0.2509, Accuracy: 0.9000\n",
            "Iteration: 005, Loss: 0.1165, Accuracy: 0.9583\n",
            "Training: Loss: 0.1229, Accuracy: 0.9561\n",
            "Validation: Loss: 0.1005, Accuracy: 0.9847\n",
            "Epoch Time: 3.24 secs\n",
            "Epoch: 20/21\n",
            "Iteration: 000, Loss: 0.0037, Accuracy: 1.0000\n",
            "Iteration: 001, Loss: 0.0479, Accuracy: 0.9800\n",
            "Iteration: 002, Loss: 0.0582, Accuracy: 0.9800\n",
            "Iteration: 003, Loss: 0.3916, Accuracy: 0.9200\n",
            "Iteration: 004, Loss: 0.2211, Accuracy: 0.9200\n",
            "Iteration: 005, Loss: 0.0363, Accuracy: 0.9583\n",
            "Training: Loss: 0.1396, Accuracy: 0.9599\n",
            "Validation: Loss: 0.1525, Accuracy: 0.9695\n",
            "Epoch Time: 3.25 secs\n",
            "Epoch: 21/21\n",
            "Iteration: 000, Loss: 0.0192, Accuracy: 1.0000\n",
            "Iteration: 001, Loss: 0.0147, Accuracy: 1.0000\n",
            "Iteration: 002, Loss: 0.2126, Accuracy: 0.9300\n",
            "Iteration: 003, Loss: 0.1699, Accuracy: 0.9200\n",
            "Iteration: 004, Loss: 0.0734, Accuracy: 0.9700\n",
            "Iteration: 005, Loss: 0.0518, Accuracy: 0.9583\n",
            "Training: Loss: 0.0959, Accuracy: 0.9637\n",
            "Validation: Loss: 0.1482, Accuracy: 0.9542\n",
            "Epoch Time: 3.23 secs\n"
          ]
        },
        {
          "output_type": "display_data",
          "data": {
            "text/plain": [
              "<IPython.core.display.HTML object>"
            ],
            "text/html": [
              "Waiting for W&B process to finish... <strong style=\"color:green\">(success).</strong>"
            ]
          },
          "metadata": {}
        },
        {
          "output_type": "display_data",
          "data": {
            "text/plain": [
              "VBox(children=(Label(value='319.591 MB of 319.591 MB uploaded (10.253 MB deduped)\\r'), FloatProgress(value=1.0…"
            ],
            "application/vnd.jupyter.widget-view+json": {
              "version_major": 2,
              "version_minor": 0,
              "model_id": "f1a4e41f29bb49a48df3979745c60777"
            }
          },
          "metadata": {}
        },
        {
          "output_type": "display_data",
          "data": {
            "text/plain": [
              "<IPython.core.display.HTML object>"
            ],
            "text/html": [
              "W&B sync reduced upload amount by 3.2%             "
            ]
          },
          "metadata": {}
        },
        {
          "output_type": "display_data",
          "data": {
            "text/plain": [
              "<IPython.core.display.HTML object>"
            ],
            "text/html": [
              "<style>\n",
              "    table.wandb td:nth-child(1) { padding: 0 10px; text-align: left ; width: auto;} td:nth-child(2) {text-align: left ; width: 100%}\n",
              "    .wandb-row { display: flex; flex-direction: row; flex-wrap: wrap; justify-content: flex-start; width: 100% }\n",
              "    .wandb-col { display: flex; flex-direction: column; flex-basis: 100%; flex: 1; padding: 10px; }\n",
              "    </style>\n",
              "<div class=\"wandb-row\"><div class=\"wandb-col\"><h3>Run history:</h3><br/><table class=\"wandb\"><tr><td>train_acc</td><td>▁▄▆▆▇▇▇█▇██▇██████▇██</td></tr><tr><td>train_loss</td><td>█▁▁▁▁▁▁▁▁▁▁▁▁▁▁▁▁▁▁▁▁</td></tr><tr><td>val_acc</td><td>▁▇▆▇█████▇███████████</td></tr><tr><td>val_loss</td><td>█▁▁▁▁▁▁▁▁▁▁▁▁▁▁▁▁▁▁▁▁</td></tr></table><br/></div><div class=\"wandb-col\"><h3>Run summary:</h3><br/><table class=\"wandb\"><tr><td>train_acc</td><td>0.96374</td></tr><tr><td>train_loss</td><td>0.09586</td></tr><tr><td>val_acc</td><td>0.9542</td></tr><tr><td>val_loss</td><td>0.14821</td></tr></table><br/></div></div>"
            ]
          },
          "metadata": {}
        },
        {
          "output_type": "display_data",
          "data": {
            "text/plain": [
              "<IPython.core.display.HTML object>"
            ],
            "text/html": [
              "Synced <strong style=\"color:#cdcd00\">copper-sweep-18</strong>: <a href=\"https://wandb.ai/awesome-team/diu-phase2-demo/runs/52bp3k1a\" target=\"_blank\">https://wandb.ai/awesome-team/diu-phase2-demo/runs/52bp3k1a</a><br/>Synced 5 W&B file(s), 1 media file(s), 690 artifact file(s) and 2 other file(s)"
            ]
          },
          "metadata": {}
        },
        {
          "output_type": "display_data",
          "data": {
            "text/plain": [
              "<IPython.core.display.HTML object>"
            ],
            "text/html": [
              "Find logs at: <code>./wandb/run-20220829_142811-52bp3k1a/logs</code>"
            ]
          },
          "metadata": {}
        },
        {
          "output_type": "stream",
          "name": "stderr",
          "text": [
            "\u001b[34m\u001b[1mwandb\u001b[0m: Agent Starting Run: w9nu43u1 with config:\n",
            "\u001b[34m\u001b[1mwandb\u001b[0m: \tbalanced: 1\n",
            "\u001b[34m\u001b[1mwandb\u001b[0m: \tbs: 250\n",
            "\u001b[34m\u001b[1mwandb\u001b[0m: \tnum_epochs: 22\n",
            "\u001b[34m\u001b[1mwandb\u001b[0m: \tpxls: 150\n",
            "\u001b[34m\u001b[1mwandb\u001b[0m: \trate: 0.033815658166442074\n"
          ]
        },
        {
          "output_type": "display_data",
          "data": {
            "text/plain": [
              "<IPython.core.display.HTML object>"
            ],
            "text/html": [
              "Tracking run with wandb version 0.13.2"
            ]
          },
          "metadata": {}
        },
        {
          "output_type": "display_data",
          "data": {
            "text/plain": [
              "<IPython.core.display.HTML object>"
            ],
            "text/html": [
              "Run data is saved locally in <code>/content/wandb/run-20220829_142948-w9nu43u1</code>"
            ]
          },
          "metadata": {}
        },
        {
          "output_type": "display_data",
          "data": {
            "text/plain": [
              "<IPython.core.display.HTML object>"
            ],
            "text/html": [
              "Syncing run <strong><a href=\"https://wandb.ai/awesome-team/diu-phase2-demo/runs/w9nu43u1\" target=\"_blank\">efficient-sweep-19</a></strong> to <a href=\"https://wandb.ai/awesome-team/diu-phase2-demo\" target=\"_blank\">Weights & Biases</a> (<a href=\"https://wandb.me/run\" target=\"_blank\">docs</a>)<br/>Sweep page:  <a href=\"https://wandb.ai/awesome-team/diu-phase2-demo/sweeps/hc69lhb2\" target=\"_blank\">https://wandb.ai/awesome-team/diu-phase2-demo/sweeps/hc69lhb2</a>"
            ]
          },
          "metadata": {}
        },
        {
          "output_type": "stream",
          "name": "stdout",
          "text": [
            "Epoch: 1/22\n",
            "Iteration: 000, Loss: 1.1800, Accuracy: 0.2273\n",
            "Training: Loss: 1.1800, Accuracy: 0.2273\n",
            "Validation: Loss: 125.2173, Accuracy: 0.2857\n",
            "Epoch Time: 0.80 secs\n",
            "Epoch: 2/22\n",
            "Iteration: 000, Loss: 102.4968, Accuracy: 0.3818\n",
            "Training: Loss: 102.4968, Accuracy: 0.3818\n",
            "Validation: Loss: 42.9743, Accuracy: 0.2500\n",
            "Epoch Time: 0.80 secs\n",
            "Epoch: 3/22\n",
            "Iteration: 000, Loss: 41.3138, Accuracy: 0.3909\n",
            "Training: Loss: 41.3138, Accuracy: 0.3909\n",
            "Validation: Loss: 20.1679, Accuracy: 0.4643\n",
            "Epoch Time: 0.98 secs\n",
            "Epoch: 4/22\n",
            "Iteration: 000, Loss: 31.2679, Accuracy: 0.2455\n",
            "Training: Loss: 31.2679, Accuracy: 0.2455\n",
            "Validation: Loss: 10.0483, Accuracy: 0.5357\n",
            "Epoch Time: 0.82 secs\n",
            "Epoch: 5/22\n",
            "Iteration: 000, Loss: 15.1243, Accuracy: 0.3727\n",
            "Training: Loss: 15.1243, Accuracy: 0.3727\n",
            "Validation: Loss: 1.9160, Accuracy: 0.5357\n",
            "Epoch Time: 0.81 secs\n",
            "Epoch: 6/22\n",
            "Iteration: 000, Loss: 0.9253, Accuracy: 0.7818\n",
            "Training: Loss: 0.9253, Accuracy: 0.7818\n",
            "Validation: Loss: 7.2390, Accuracy: 0.5357\n",
            "Epoch Time: 0.77 secs\n",
            "Epoch: 7/22\n",
            "Iteration: 000, Loss: 3.7873, Accuracy: 0.7727\n",
            "Training: Loss: 3.7873, Accuracy: 0.7727\n",
            "Validation: Loss: 6.1288, Accuracy: 0.5357\n",
            "Epoch Time: 0.79 secs\n",
            "Epoch: 8/22\n",
            "Iteration: 000, Loss: 3.1202, Accuracy: 0.7727\n",
            "Training: Loss: 3.1202, Accuracy: 0.7727\n",
            "Validation: Loss: 2.8216, Accuracy: 0.5357\n",
            "Epoch Time: 0.79 secs\n",
            "Epoch: 9/22\n",
            "Iteration: 000, Loss: 1.3311, Accuracy: 0.7727\n",
            "Training: Loss: 1.3311, Accuracy: 0.7727\n",
            "Validation: Loss: 0.3508, Accuracy: 0.9643\n",
            "Epoch Time: 0.79 secs\n",
            "Epoch: 10/22\n",
            "Iteration: 000, Loss: 0.2437, Accuracy: 0.9364\n",
            "Training: Loss: 0.2437, Accuracy: 0.9364\n",
            "Validation: Loss: 1.1352, Accuracy: 0.6786\n",
            "Epoch Time: 0.79 secs\n",
            "Epoch: 11/22\n",
            "Iteration: 000, Loss: 1.4993, Accuracy: 0.6091\n",
            "Training: Loss: 1.4993, Accuracy: 0.6091\n",
            "Validation: Loss: 0.8346, Accuracy: 0.6786\n",
            "Epoch Time: 0.79 secs\n",
            "Epoch: 12/22\n",
            "Iteration: 000, Loss: 1.0288, Accuracy: 0.6091\n",
            "Training: Loss: 1.0288, Accuracy: 0.6091\n",
            "Validation: Loss: 0.5583, Accuracy: 0.8214\n",
            "Epoch Time: 0.80 secs\n",
            "Epoch: 13/22\n",
            "Iteration: 000, Loss: 0.3340, Accuracy: 0.9727\n",
            "Training: Loss: 0.3340, Accuracy: 0.9727\n",
            "Validation: Loss: 0.7674, Accuracy: 0.5000\n",
            "Epoch Time: 0.78 secs\n",
            "Epoch: 14/22\n",
            "Iteration: 000, Loss: 0.2884, Accuracy: 0.8000\n",
            "Training: Loss: 0.2884, Accuracy: 0.8000\n",
            "Validation: Loss: 0.8355, Accuracy: 0.5000\n",
            "Epoch Time: 0.79 secs\n",
            "Epoch: 15/22\n",
            "Iteration: 000, Loss: 0.3000, Accuracy: 0.7818\n",
            "Training: Loss: 0.3000, Accuracy: 0.7818\n",
            "Validation: Loss: 0.8225, Accuracy: 0.5000\n",
            "Epoch Time: 0.79 secs\n",
            "Epoch: 16/22\n",
            "Iteration: 000, Loss: 0.2988, Accuracy: 0.7727\n",
            "Training: Loss: 0.2988, Accuracy: 0.7727\n",
            "Validation: Loss: 0.7947, Accuracy: 0.5000\n",
            "Epoch Time: 0.81 secs\n",
            "Epoch: 17/22\n",
            "Iteration: 000, Loss: 0.2902, Accuracy: 0.7818\n",
            "Training: Loss: 0.2902, Accuracy: 0.7818\n",
            "Validation: Loss: 0.7560, Accuracy: 0.5000\n",
            "Epoch Time: 0.80 secs\n",
            "Epoch: 18/22\n",
            "Iteration: 000, Loss: 0.2763, Accuracy: 0.7909\n",
            "Training: Loss: 0.2763, Accuracy: 0.7909\n",
            "Validation: Loss: 0.7077, Accuracy: 0.5000\n",
            "Epoch Time: 0.78 secs\n",
            "Epoch: 19/22\n",
            "Iteration: 000, Loss: 0.2607, Accuracy: 0.8000\n",
            "Training: Loss: 0.2607, Accuracy: 0.8000\n",
            "Validation: Loss: 0.6564, Accuracy: 0.5000\n",
            "Epoch Time: 0.81 secs\n",
            "Epoch: 20/22\n",
            "Iteration: 000, Loss: 0.2467, Accuracy: 0.8000\n",
            "Training: Loss: 0.2467, Accuracy: 0.8000\n",
            "Validation: Loss: 0.6187, Accuracy: 0.5000\n",
            "Epoch Time: 0.80 secs\n",
            "Epoch: 21/22\n",
            "Iteration: 000, Loss: 0.2336, Accuracy: 0.8182\n",
            "Training: Loss: 0.2336, Accuracy: 0.8182\n",
            "Validation: Loss: 0.5801, Accuracy: 0.5357\n",
            "Epoch Time: 0.81 secs\n",
            "Epoch: 22/22\n",
            "Iteration: 000, Loss: 0.2201, Accuracy: 0.8273\n",
            "Training: Loss: 0.2201, Accuracy: 0.8273\n",
            "Validation: Loss: 0.5395, Accuracy: 0.5714\n",
            "Epoch Time: 0.79 secs\n"
          ]
        },
        {
          "output_type": "display_data",
          "data": {
            "text/plain": [
              "<IPython.core.display.HTML object>"
            ],
            "text/html": [
              "Waiting for W&B process to finish... <strong style=\"color:green\">(success).</strong>"
            ]
          },
          "metadata": {}
        },
        {
          "output_type": "display_data",
          "data": {
            "text/plain": [
              "VBox(children=(Label(value='287.715 MB of 287.715 MB uploaded (10.253 MB deduped)\\r'), FloatProgress(value=1.0…"
            ],
            "application/vnd.jupyter.widget-view+json": {
              "version_major": 2,
              "version_minor": 0,
              "model_id": "0cb09dd2765b4ba8863b48f0b73a2779"
            }
          },
          "metadata": {}
        },
        {
          "output_type": "display_data",
          "data": {
            "text/plain": [
              "<IPython.core.display.HTML object>"
            ],
            "text/html": [
              "W&B sync reduced upload amount by 3.6%             "
            ]
          },
          "metadata": {}
        },
        {
          "output_type": "display_data",
          "data": {
            "text/plain": [
              "<IPython.core.display.HTML object>"
            ],
            "text/html": [
              "<style>\n",
              "    table.wandb td:nth-child(1) { padding: 0 10px; text-align: left ; width: auto;} td:nth-child(2) {text-align: left ; width: 100%}\n",
              "    .wandb-row { display: flex; flex-direction: row; flex-wrap: wrap; justify-content: flex-start; width: 100% }\n",
              "    .wandb-col { display: flex; flex-direction: column; flex-basis: 100%; flex: 1; padding: 10px; }\n",
              "    </style>\n",
              "<div class=\"wandb-row\"><div class=\"wandb-col\"><h3>Run history:</h3><br/><table class=\"wandb\"><tr><td>train_acc</td><td>▁▂▃▁▂▆▆▆▆█▅▅█▆▆▆▆▆▆▆▇▇</td></tr><tr><td>train_loss</td><td>▁█▄▃▂▁▁▁▁▁▁▁▁▁▁▁▁▁▁▁▁▁</td></tr><tr><td>val_acc</td><td>▁▁▃▄▄▄▄▄█▅▅▇▃▃▃▃▃▃▃▃▄▄</td></tr><tr><td>val_loss</td><td>█▃▂▂▁▁▁▁▁▁▁▁▁▁▁▁▁▁▁▁▁▁</td></tr></table><br/></div><div class=\"wandb-col\"><h3>Run summary:</h3><br/><table class=\"wandb\"><tr><td>train_acc</td><td>0.82727</td></tr><tr><td>train_loss</td><td>0.22009</td></tr><tr><td>val_acc</td><td>0.57143</td></tr><tr><td>val_loss</td><td>0.5395</td></tr></table><br/></div></div>"
            ]
          },
          "metadata": {}
        },
        {
          "output_type": "display_data",
          "data": {
            "text/plain": [
              "<IPython.core.display.HTML object>"
            ],
            "text/html": [
              "Synced <strong style=\"color:#cdcd00\">efficient-sweep-19</strong>: <a href=\"https://wandb.ai/awesome-team/diu-phase2-demo/runs/w9nu43u1\" target=\"_blank\">https://wandb.ai/awesome-team/diu-phase2-demo/runs/w9nu43u1</a><br/>Synced 5 W&B file(s), 1 media file(s), 173 artifact file(s) and 2 other file(s)"
            ]
          },
          "metadata": {}
        },
        {
          "output_type": "display_data",
          "data": {
            "text/plain": [
              "<IPython.core.display.HTML object>"
            ],
            "text/html": [
              "Find logs at: <code>./wandb/run-20220829_142948-w9nu43u1/logs</code>"
            ]
          },
          "metadata": {}
        },
        {
          "output_type": "stream",
          "name": "stderr",
          "text": [
            "\u001b[34m\u001b[1mwandb\u001b[0m: Agent Starting Run: pfll7r1m with config:\n",
            "\u001b[34m\u001b[1mwandb\u001b[0m: \tbalanced: 0\n",
            "\u001b[34m\u001b[1mwandb\u001b[0m: \tbs: 100\n",
            "\u001b[34m\u001b[1mwandb\u001b[0m: \tnum_epochs: 20\n",
            "\u001b[34m\u001b[1mwandb\u001b[0m: \tpxls: 150\n",
            "\u001b[34m\u001b[1mwandb\u001b[0m: \trate: 0.050689375478572184\n"
          ]
        },
        {
          "output_type": "display_data",
          "data": {
            "text/plain": [
              "<IPython.core.display.HTML object>"
            ],
            "text/html": [
              "Tracking run with wandb version 0.13.2"
            ]
          },
          "metadata": {}
        },
        {
          "output_type": "display_data",
          "data": {
            "text/plain": [
              "<IPython.core.display.HTML object>"
            ],
            "text/html": [
              "Run data is saved locally in <code>/content/wandb/run-20220829_143028-pfll7r1m</code>"
            ]
          },
          "metadata": {}
        },
        {
          "output_type": "display_data",
          "data": {
            "text/plain": [
              "<IPython.core.display.HTML object>"
            ],
            "text/html": [
              "Syncing run <strong><a href=\"https://wandb.ai/awesome-team/diu-phase2-demo/runs/pfll7r1m\" target=\"_blank\">blooming-sweep-20</a></strong> to <a href=\"https://wandb.ai/awesome-team/diu-phase2-demo\" target=\"_blank\">Weights & Biases</a> (<a href=\"https://wandb.me/run\" target=\"_blank\">docs</a>)<br/>Sweep page:  <a href=\"https://wandb.ai/awesome-team/diu-phase2-demo/sweeps/hc69lhb2\" target=\"_blank\">https://wandb.ai/awesome-team/diu-phase2-demo/sweeps/hc69lhb2</a>"
            ]
          },
          "metadata": {}
        },
        {
          "output_type": "stream",
          "name": "stdout",
          "text": [
            "Epoch: 1/20\n",
            "Iteration: 000, Loss: 1.1314, Accuracy: 0.4500\n",
            "Iteration: 001, Loss: 208.0399, Accuracy: 0.2900\n",
            "Iteration: 002, Loss: 119.1552, Accuracy: 0.6100\n",
            "Iteration: 003, Loss: 74.8309, Accuracy: 0.5400\n",
            "Iteration: 004, Loss: 15.9586, Accuracy: 0.6000\n",
            "Iteration: 005, Loss: 3.8591, Accuracy: 0.5000\n",
            "Training: Loss: 80.1607, Accuracy: 0.4981\n",
            "Validation: Loss: 5.6286, Accuracy: 0.3130\n",
            "Epoch Time: 5.41 secs\n",
            "Epoch: 2/20\n",
            "Iteration: 000, Loss: 7.5388, Accuracy: 0.4900\n",
            "Iteration: 001, Loss: 4.9419, Accuracy: 0.6100\n",
            "Iteration: 002, Loss: 1.7793, Accuracy: 0.8300\n",
            "Iteration: 003, Loss: 5.9530, Accuracy: 0.5400\n",
            "Iteration: 004, Loss: 1.9438, Accuracy: 0.8000\n",
            "Iteration: 005, Loss: 0.4725, Accuracy: 0.9583\n",
            "Training: Loss: 4.2500, Accuracy: 0.6679\n",
            "Validation: Loss: 0.6866, Accuracy: 0.9008\n",
            "Epoch Time: 5.02 secs\n",
            "Epoch: 3/20\n",
            "Iteration: 000, Loss: 0.8503, Accuracy: 0.8800\n",
            "Iteration: 001, Loss: 0.9108, Accuracy: 0.7100\n",
            "Iteration: 002, Loss: 0.7560, Accuracy: 0.8800\n",
            "Iteration: 003, Loss: 3.0964, Accuracy: 0.7000\n",
            "Iteration: 004, Loss: 1.6859, Accuracy: 0.7300\n",
            "Iteration: 005, Loss: 0.1237, Accuracy: 0.9583\n",
            "Training: Loss: 1.3987, Accuracy: 0.7882\n",
            "Validation: Loss: 0.1889, Accuracy: 0.9237\n",
            "Epoch Time: 3.56 secs\n",
            "Epoch: 4/20\n",
            "Iteration: 000, Loss: 0.2590, Accuracy: 0.9500\n",
            "Iteration: 001, Loss: 0.1558, Accuracy: 0.9400\n",
            "Iteration: 002, Loss: 0.0836, Accuracy: 0.9800\n",
            "Iteration: 003, Loss: 0.2340, Accuracy: 0.9500\n",
            "Iteration: 004, Loss: 0.2629, Accuracy: 0.8500\n",
            "Iteration: 005, Loss: 0.0069, Accuracy: 1.0000\n",
            "Training: Loss: 0.1902, Accuracy: 0.9370\n",
            "Validation: Loss: 0.1610, Accuracy: 0.9237\n",
            "Epoch Time: 3.28 secs\n",
            "Epoch: 5/20\n",
            "Iteration: 000, Loss: 0.1919, Accuracy: 0.9500\n",
            "Iteration: 001, Loss: 0.1716, Accuracy: 0.9600\n",
            "Iteration: 002, Loss: 0.2137, Accuracy: 0.9400\n",
            "Iteration: 003, Loss: 0.1908, Accuracy: 0.9400\n",
            "Iteration: 004, Loss: 0.1453, Accuracy: 0.9400\n",
            "Iteration: 005, Loss: 0.0030, Accuracy: 1.0000\n",
            "Training: Loss: 0.1744, Accuracy: 0.9485\n",
            "Validation: Loss: 0.2579, Accuracy: 0.9160\n",
            "Epoch Time: 3.27 secs\n",
            "Epoch: 6/20\n",
            "Iteration: 000, Loss: 0.1644, Accuracy: 0.9400\n",
            "Iteration: 001, Loss: 0.0760, Accuracy: 0.9700\n",
            "Iteration: 002, Loss: 0.0921, Accuracy: 0.9600\n",
            "Iteration: 003, Loss: 0.1378, Accuracy: 0.9300\n",
            "Iteration: 004, Loss: 0.0752, Accuracy: 0.9900\n",
            "Iteration: 005, Loss: 0.2252, Accuracy: 0.8750\n",
            "Training: Loss: 0.1144, Accuracy: 0.9542\n",
            "Validation: Loss: 0.1219, Accuracy: 0.9466\n",
            "Epoch Time: 3.26 secs\n",
            "Epoch: 7/20\n",
            "Iteration: 000, Loss: 0.0769, Accuracy: 0.9700\n",
            "Iteration: 001, Loss: 0.0283, Accuracy: 0.9900\n",
            "Iteration: 002, Loss: 0.1466, Accuracy: 0.9300\n",
            "Iteration: 003, Loss: 0.1396, Accuracy: 0.9300\n",
            "Iteration: 004, Loss: 0.0692, Accuracy: 0.9700\n",
            "Iteration: 005, Loss: 0.8330, Accuracy: 0.7917\n",
            "Training: Loss: 0.1260, Accuracy: 0.9504\n",
            "Validation: Loss: 0.0707, Accuracy: 0.9618\n",
            "Epoch Time: 3.31 secs\n",
            "Epoch: 8/20\n",
            "Iteration: 000, Loss: 0.0578, Accuracy: 0.9700\n",
            "Iteration: 001, Loss: 0.0828, Accuracy: 0.9700\n",
            "Iteration: 002, Loss: 0.0350, Accuracy: 0.9900\n",
            "Iteration: 003, Loss: 0.0783, Accuracy: 0.9700\n",
            "Iteration: 004, Loss: 0.1543, Accuracy: 0.9600\n",
            "Iteration: 005, Loss: 0.0309, Accuracy: 1.0000\n",
            "Training: Loss: 0.0793, Accuracy: 0.9733\n",
            "Validation: Loss: 0.1643, Accuracy: 0.9466\n",
            "Epoch Time: 3.29 secs\n",
            "Epoch: 9/20\n",
            "Iteration: 000, Loss: 0.0804, Accuracy: 0.9600\n",
            "Iteration: 001, Loss: 0.0356, Accuracy: 1.0000\n",
            "Iteration: 002, Loss: 0.0953, Accuracy: 0.9700\n",
            "Iteration: 003, Loss: 0.1012, Accuracy: 0.9800\n",
            "Iteration: 004, Loss: 0.1242, Accuracy: 0.9600\n",
            "Iteration: 005, Loss: 0.1799, Accuracy: 0.9583\n",
            "Training: Loss: 0.0916, Accuracy: 0.9733\n",
            "Validation: Loss: 0.0763, Accuracy: 0.9618\n",
            "Epoch Time: 3.32 secs\n",
            "Epoch: 10/20\n",
            "Iteration: 000, Loss: 0.0760, Accuracy: 0.9900\n",
            "Iteration: 001, Loss: 0.1495, Accuracy: 0.9600\n",
            "Iteration: 002, Loss: 0.0244, Accuracy: 0.9900\n",
            "Iteration: 003, Loss: 0.1023, Accuracy: 0.9400\n",
            "Iteration: 004, Loss: 0.0683, Accuracy: 0.9700\n",
            "Iteration: 005, Loss: 0.0062, Accuracy: 1.0000\n",
            "Training: Loss: 0.0805, Accuracy: 0.9714\n",
            "Validation: Loss: 0.1317, Accuracy: 0.9542\n",
            "Epoch Time: 3.27 secs\n",
            "Epoch: 11/20\n",
            "Iteration: 000, Loss: 0.0023, Accuracy: 1.0000\n",
            "Iteration: 001, Loss: 0.0144, Accuracy: 1.0000\n",
            "Iteration: 002, Loss: 0.0149, Accuracy: 0.9900\n",
            "Iteration: 003, Loss: 0.0219, Accuracy: 0.9900\n",
            "Iteration: 004, Loss: 0.1045, Accuracy: 0.9700\n",
            "Iteration: 005, Loss: 0.0287, Accuracy: 1.0000\n",
            "Training: Loss: 0.0315, Accuracy: 0.9905\n",
            "Validation: Loss: 0.0768, Accuracy: 0.9542\n",
            "Epoch Time: 3.28 secs\n",
            "Epoch: 12/20\n",
            "Iteration: 000, Loss: 0.0155, Accuracy: 0.9900\n",
            "Iteration: 001, Loss: 0.0284, Accuracy: 0.9800\n",
            "Iteration: 002, Loss: 0.0083, Accuracy: 1.0000\n",
            "Iteration: 003, Loss: 0.1348, Accuracy: 0.9600\n",
            "Iteration: 004, Loss: 0.0020, Accuracy: 1.0000\n",
            "Iteration: 005, Loss: 0.0536, Accuracy: 0.9583\n",
            "Training: Loss: 0.0385, Accuracy: 0.9847\n",
            "Validation: Loss: 0.1298, Accuracy: 0.9618\n",
            "Epoch Time: 3.25 secs\n",
            "Epoch: 13/20\n",
            "Iteration: 000, Loss: 0.0529, Accuracy: 0.9800\n",
            "Iteration: 001, Loss: 0.0072, Accuracy: 1.0000\n",
            "Iteration: 002, Loss: 0.0209, Accuracy: 0.9900\n",
            "Iteration: 003, Loss: 0.0168, Accuracy: 0.9900\n",
            "Iteration: 004, Loss: 0.2865, Accuracy: 0.9300\n",
            "Iteration: 005, Loss: 0.0010, Accuracy: 1.0000\n",
            "Training: Loss: 0.0734, Accuracy: 0.9790\n",
            "Validation: Loss: 0.0826, Accuracy: 0.9618\n",
            "Epoch Time: 3.31 secs\n",
            "Epoch: 14/20\n",
            "Iteration: 000, Loss: 0.0126, Accuracy: 1.0000\n",
            "Iteration: 001, Loss: 0.0136, Accuracy: 1.0000\n",
            "Iteration: 002, Loss: 0.0207, Accuracy: 1.0000\n",
            "Iteration: 003, Loss: 0.2820, Accuracy: 0.9000\n",
            "Iteration: 004, Loss: 0.1800, Accuracy: 0.9200\n",
            "Iteration: 005, Loss: 0.2250, Accuracy: 0.9167\n",
            "Training: Loss: 0.1074, Accuracy: 0.9618\n",
            "Validation: Loss: 0.2412, Accuracy: 0.9389\n",
            "Epoch Time: 3.29 secs\n",
            "Epoch: 15/20\n",
            "Iteration: 000, Loss: 0.0147, Accuracy: 1.0000\n",
            "Iteration: 001, Loss: 0.0220, Accuracy: 1.0000\n",
            "Iteration: 002, Loss: 0.0131, Accuracy: 1.0000\n",
            "Iteration: 003, Loss: 0.0317, Accuracy: 0.9800\n",
            "Iteration: 004, Loss: 0.0323, Accuracy: 0.9900\n",
            "Iteration: 005, Loss: 0.0252, Accuracy: 1.0000\n",
            "Training: Loss: 0.0229, Accuracy: 0.9943\n",
            "Validation: Loss: 0.0845, Accuracy: 0.9618\n",
            "Epoch Time: 3.26 secs\n",
            "Epoch: 16/20\n",
            "Iteration: 000, Loss: 0.0548, Accuracy: 0.9900\n",
            "Iteration: 001, Loss: 0.2486, Accuracy: 0.9300\n",
            "Iteration: 002, Loss: 0.0788, Accuracy: 0.9700\n",
            "Iteration: 003, Loss: 0.0098, Accuracy: 1.0000\n",
            "Iteration: 004, Loss: 0.0040, Accuracy: 1.0000\n",
            "Iteration: 005, Loss: 0.4475, Accuracy: 0.8750\n",
            "Training: Loss: 0.0961, Accuracy: 0.9733\n",
            "Validation: Loss: 0.6356, Accuracy: 0.8626\n",
            "Epoch Time: 3.29 secs\n",
            "Epoch: 17/20\n",
            "Iteration: 000, Loss: 0.9320, Accuracy: 0.7300\n",
            "Iteration: 001, Loss: 0.0143, Accuracy: 1.0000\n",
            "Iteration: 002, Loss: 0.3146, Accuracy: 0.9300\n",
            "Iteration: 003, Loss: 0.1565, Accuracy: 0.9400\n",
            "Iteration: 004, Loss: 1.0676, Accuracy: 0.9300\n",
            "Iteration: 005, Loss: 0.5459, Accuracy: 0.9167\n",
            "Training: Loss: 0.4993, Accuracy: 0.9065\n",
            "Validation: Loss: 0.7816, Accuracy: 0.9237\n",
            "Epoch Time: 3.26 secs\n",
            "Epoch: 18/20\n",
            "Iteration: 000, Loss: 0.5893, Accuracy: 0.9300\n",
            "Iteration: 001, Loss: 0.1734, Accuracy: 0.9600\n",
            "Iteration: 002, Loss: 0.1302, Accuracy: 0.9500\n",
            "Iteration: 003, Loss: 0.2247, Accuracy: 0.9300\n",
            "Iteration: 004, Loss: 0.2554, Accuracy: 0.8600\n",
            "Iteration: 005, Loss: 0.4251, Accuracy: 0.7500\n",
            "Training: Loss: 0.2815, Accuracy: 0.9179\n",
            "Validation: Loss: 0.3012, Accuracy: 0.8397\n",
            "Epoch Time: 3.27 secs\n",
            "Epoch: 19/20\n",
            "Iteration: 000, Loss: 0.3208, Accuracy: 0.8700\n",
            "Iteration: 001, Loss: 0.2176, Accuracy: 0.9400\n",
            "Iteration: 002, Loss: 0.2238, Accuracy: 0.9500\n",
            "Iteration: 003, Loss: 0.0807, Accuracy: 0.9800\n",
            "Iteration: 004, Loss: 0.2025, Accuracy: 0.9400\n",
            "Iteration: 005, Loss: 0.3828, Accuracy: 0.8750\n",
            "Training: Loss: 0.2170, Accuracy: 0.9332\n",
            "Validation: Loss: 0.2782, Accuracy: 0.9237\n",
            "Epoch Time: 3.28 secs\n",
            "Epoch: 20/20\n",
            "Iteration: 000, Loss: 0.1209, Accuracy: 0.9500\n",
            "Iteration: 001, Loss: 0.3166, Accuracy: 0.9000\n",
            "Iteration: 002, Loss: 0.2010, Accuracy: 0.9400\n",
            "Iteration: 003, Loss: 0.1183, Accuracy: 0.9500\n",
            "Iteration: 004, Loss: 0.0759, Accuracy: 0.9800\n",
            "Iteration: 005, Loss: 0.0765, Accuracy: 1.0000\n",
            "Training: Loss: 0.1624, Accuracy: 0.9466\n",
            "Validation: Loss: 0.1080, Accuracy: 0.9542\n",
            "Epoch Time: 3.28 secs\n"
          ]
        },
        {
          "output_type": "display_data",
          "data": {
            "text/plain": [
              "<IPython.core.display.HTML object>"
            ],
            "text/html": [
              "Waiting for W&B process to finish... <strong style=\"color:green\">(success).</strong>"
            ]
          },
          "metadata": {}
        },
        {
          "output_type": "display_data",
          "data": {
            "text/plain": [
              "VBox(children=(Label(value='319.377 MB of 319.377 MB uploaded (10.253 MB deduped)\\r'), FloatProgress(value=1.0…"
            ],
            "application/vnd.jupyter.widget-view+json": {
              "version_major": 2,
              "version_minor": 0,
              "model_id": "36ba07811abc43c0a69362bd78452170"
            }
          },
          "metadata": {}
        },
        {
          "output_type": "display_data",
          "data": {
            "text/plain": [
              "<IPython.core.display.HTML object>"
            ],
            "text/html": [
              "W&B sync reduced upload amount by 3.2%             "
            ]
          },
          "metadata": {}
        },
        {
          "output_type": "display_data",
          "data": {
            "text/plain": [
              "<IPython.core.display.HTML object>"
            ],
            "text/html": [
              "<style>\n",
              "    table.wandb td:nth-child(1) { padding: 0 10px; text-align: left ; width: auto;} td:nth-child(2) {text-align: left ; width: 100%}\n",
              "    .wandb-row { display: flex; flex-direction: row; flex-wrap: wrap; justify-content: flex-start; width: 100% }\n",
              "    .wandb-col { display: flex; flex-direction: column; flex-basis: 100%; flex: 1; padding: 10px; }\n",
              "    </style>\n",
              "<div class=\"wandb-row\"><div class=\"wandb-col\"><h3>Run history:</h3><br/><table class=\"wandb\"><tr><td>train_acc</td><td>▁▃▅▇▇▇▇█████████▇▇▇▇</td></tr><tr><td>train_loss</td><td>█▁▁▁▁▁▁▁▁▁▁▁▁▁▁▁▁▁▁▁</td></tr><tr><td>val_acc</td><td>▁▇█████████████▇█▇██</td></tr><tr><td>val_loss</td><td>█▂▁▁▁▁▁▁▁▁▁▁▁▁▁▂▂▁▁▁</td></tr></table><br/></div><div class=\"wandb-col\"><h3>Run summary:</h3><br/><table class=\"wandb\"><tr><td>train_acc</td><td>0.94656</td></tr><tr><td>train_loss</td><td>0.16242</td></tr><tr><td>val_acc</td><td>0.9542</td></tr><tr><td>val_loss</td><td>0.10797</td></tr></table><br/></div></div>"
            ]
          },
          "metadata": {}
        },
        {
          "output_type": "display_data",
          "data": {
            "text/plain": [
              "<IPython.core.display.HTML object>"
            ],
            "text/html": [
              "Synced <strong style=\"color:#cdcd00\">blooming-sweep-20</strong>: <a href=\"https://wandb.ai/awesome-team/diu-phase2-demo/runs/pfll7r1m\" target=\"_blank\">https://wandb.ai/awesome-team/diu-phase2-demo/runs/pfll7r1m</a><br/>Synced 5 W&B file(s), 1 media file(s), 690 artifact file(s) and 2 other file(s)"
            ]
          },
          "metadata": {}
        },
        {
          "output_type": "display_data",
          "data": {
            "text/plain": [
              "<IPython.core.display.HTML object>"
            ],
            "text/html": [
              "Find logs at: <code>./wandb/run-20220829_143028-pfll7r1m/logs</code>"
            ]
          },
          "metadata": {}
        },
        {
          "output_type": "display_data",
          "data": {
            "text/plain": [
              "<Figure size 324x324 with 1 Axes>"
            ],
            "image/png": "[encoded data removed]"
          },
          "metadata": {
            "needs_background": "light"
          }
        }
      ],
      "source": [
        "wandb.agent(sweep_id, train_model, count=20)"
      ]
    },
    {
      "cell_type": "code",
      "execution_count": null,
      "metadata": {
        "id": "BdW8OyKN2RgO"
      },
      "outputs": [],
      "source": [
        "api = wandb.Api(overrides={\"project\": \"diu-phase2-demo\", \"entity\": \"awesome-team\"})\n",
        "\n",
        "artifact_type, artifact_name = \"model\", \"model_checkpoint\"\n",
        "for version in api.artifact_versions(artifact_type, artifact_name):\n",
        "  # Clean up all versions that don't have an alias such as 'latest'.\n",
        "\t# NOTE: You can put whatever deletion logic you want here.\n",
        "  if len(version.aliases) == 0:\n",
        "      version.delete()"
      ]
    },
    {
      "cell_type": "code",
      "execution_count": null,
      "metadata": {
        "id": "p94eE4YX2xpf"
      },
      "outputs": [],
      "source": [
        "# Add a call to the get best run from a sweep\n",
        "# Get the model logged with that run"
      ]
    },
    {
      "cell_type": "code",
      "execution_count": null,
      "metadata": {
        "colab": {
          "base_uri": "https://localhost:8080/"
        },
        "id": "t76rcnaRc-76",
        "outputId": "9f1b69df-6983-4455-9b1a-7ca00f2f81be"
      },
      "outputs": [
        {
          "output_type": "stream",
          "name": "stdout",
          "text": [
            "./artifacts/train_split:v80\n",
            "./artifacts/val_split:v11\n"
          ]
        },
        {
          "output_type": "stream",
          "name": "stderr",
          "text": [
            "\u001b[34m\u001b[1mwandb\u001b[0m: Downloading large artifact pretrained_resnet50:v130, 91.98MB. 1 files... Done. 0:0:1.9\n"
          ]
        },
        {
          "output_type": "stream",
          "name": "stdout",
          "text": [
            "./artifacts/pretrained_resnet50:v130\n"
          ]
        },
        {
          "output_type": "stream",
          "name": "stderr",
          "text": [
            "\u001b[34m\u001b[1mwandb\u001b[0m: Downloading large artifact model_checkpoint:v1810, 91.98MB. 1 files... Done. 0:0:2.1\n"
          ]
        },
        {
          "output_type": "stream",
          "name": "stdout",
          "text": [
            "./artifacts/model_checkpoint:v1810\n",
            "./artifacts/run-idbls9tl-test_table:v0\n",
            "./artifacts/source-idbls9tl:v0\n"
          ]
        }
      ],
      "source": [
        "api = wandb.Api(overrides={\"project\": \"diu-phase2-demo\", \"entity\": \"awesome-team\"})\n",
        "sweep = api.sweep(\"awesome-team/diu-phase2-demo/jhzpq6lz\")\n",
        "runs = sorted(sweep.runs,\n",
        "              key=lambda run: run.summary.get(\"val_acc\", 0), reverse=True)\n",
        "best_run = runs[0]\n",
        "file = best_run.file(\"model.onnx\").download(replace=True)\n",
        "for artifact in best_run.logged_artifacts():\n",
        "  artifact_path = artifact.download()\n",
        "  print(artifact_path)"
      ]
    },
    {
      "cell_type": "code",
      "source": [],
      "metadata": {
        "id": "6FaIkkZYOaL-"
      },
      "execution_count": null,
      "outputs": []
    }
  ],
  "metadata": {
    "accelerator": "GPU",
    "colab": {
      "provenance": []
    },
    "gpuClass": "standard",
    "kernelspec": {
      "display_name": "Python 3",
      "name": "python3"
    },
    "language_info": {
      "name": "python"
    },
    "widgets": {
      "application/vnd.jupyter.widget-state+json": {
        "8440a6dcdbe94b29849aa35b8e1b42d2": {
          "model_module": "@jupyter-widgets/controls",
          "model_name": "VBoxModel",
          "model_module_version": "1.5.0",
          "state": {
            "_dom_classes": [],
            "_model_module": "@jupyter-widgets/controls",
            "_model_module_version": "1.5.0",
            "_model_name": "VBoxModel",
            "_view_count": null,
            "_view_module": "@jupyter-widgets/controls",
            "_view_module_version": "1.5.0",
            "_view_name": "VBoxView",
            "box_style": "",
            "children": [
              "IPY_MODEL_194bd0dc43fd4b53b906635ecb609585",
              "IPY_MODEL_d8b3fc1d0c67402e8fcc17626bf094e6"
            ],
            "layout": "IPY_MODEL_fc5f73ac17304170a72eae6596629228"
          }
        },
        "194bd0dc43fd4b53b906635ecb609585": {
          "model_module": "@jupyter-widgets/controls",
          "model_name": "LabelModel",
          "model_module_version": "1.5.0",
          "state": {
            "_dom_classes": [],
            "_model_module": "@jupyter-widgets/controls",
            "_model_module_version": "1.5.0",
            "_model_name": "LabelModel",
            "_view_count": null,
            "_view_module": "@jupyter-widgets/controls",
            "_view_module_version": "1.5.0",
            "_view_name": "LabelView",
            "description": "",
            "description_tooltip": null,
            "layout": "IPY_MODEL_39eb1c3955d34313821ad64d1ce21899",
            "placeholder": "​",
            "style": "IPY_MODEL_a07984b6b69748e69403c2aa998bea73",
            "value": "0.042 MB of 0.042 MB uploaded (0.000 MB deduped)\r"
          }
        },
        "d8b3fc1d0c67402e8fcc17626bf094e6": {
          "model_module": "@jupyter-widgets/controls",
          "model_name": "FloatProgressModel",
          "model_module_version": "1.5.0",
          "state": {
            "_dom_classes": [],
            "_model_module": "@jupyter-widgets/controls",
            "_model_module_version": "1.5.0",
            "_model_name": "FloatProgressModel",
            "_view_count": null,
            "_view_module": "@jupyter-widgets/controls",
            "_view_module_version": "1.5.0",
            "_view_name": "ProgressView",
            "bar_style": "",
            "description": "",
            "description_tooltip": null,
            "layout": "IPY_MODEL_d564813264344f83bca5dbc1d748c1ea",
            "max": 1,
            "min": 0,
            "orientation": "horizontal",
            "style": "IPY_MODEL_6d57c8760cec4895befc6b51fdc648d2",
            "value": 1
          }
        },
        "fc5f73ac17304170a72eae6596629228": {
          "model_module": "@jupyter-widgets/base",
          "model_name": "LayoutModel",
          "model_module_version": "1.2.0",
          "state": {
            "_model_module": "@jupyter-widgets/base",
            "_model_module_version": "1.2.0",
            "_model_name": "LayoutModel",
            "_view_count": null,
            "_view_module": "@jupyter-widgets/base",
            "_view_module_version": "1.2.0",
            "_view_name": "LayoutView",
            "align_content": null,
            "align_items": null,
            "align_self": null,
            "border": null,
            "bottom": null,
            "display": null,
            "flex": null,
            "flex_flow": null,
            "grid_area": null,
            "grid_auto_columns": null,
            "grid_auto_flow": null,
            "grid_auto_rows": null,
            "grid_column": null,
            "grid_gap": null,
            "grid_row": null,
            "grid_template_areas": null,
            "grid_template_columns": null,
            "grid_template_rows": null,
            "height": null,
            "justify_content": null,
            "justify_items": null,
            "left": null,
            "margin": null,
            "max_height": null,
            "max_width": null,
            "min_height": null,
            "min_width": null,
            "object_fit": null,
            "object_position": null,
            "order": null,
            "overflow": null,
            "overflow_x": null,
            "overflow_y": null,
            "padding": null,
            "right": null,
            "top": null,
            "visibility": null,
            "width": null
          }
        },
        "39eb1c3955d34313821ad64d1ce21899": {
          "model_module": "@jupyter-widgets/base",
          "model_name": "LayoutModel",
          "model_module_version": "1.2.0",
          "state": {
            "_model_module": "@jupyter-widgets/base",
            "_model_module_version": "1.2.0",
            "_model_name": "LayoutModel",
            "_view_count": null,
            "_view_module": "@jupyter-widgets/base",
            "_view_module_version": "1.2.0",
            "_view_name": "LayoutView",
            "align_content": null,
            "align_items": null,
            "align_self": null,
            "border": null,
            "bottom": null,
            "display": null,
            "flex": null,
            "flex_flow": null,
            "grid_area": null,
            "grid_auto_columns": null,
            "grid_auto_flow": null,
            "grid_auto_rows": null,
            "grid_column": null,
            "grid_gap": null,
            "grid_row": null,
            "grid_template_areas": null,
            "grid_template_columns": null,
            "grid_template_rows": null,
            "height": null,
            "justify_content": null,
            "justify_items": null,
            "left": null,
            "margin": null,
            "max_height": null,
            "max_width": null,
            "min_height": null,
            "min_width": null,
            "object_fit": null,
            "object_position": null,
            "order": null,
            "overflow": null,
            "overflow_x": null,
            "overflow_y": null,
            "padding": null,
            "right": null,
            "top": null,
            "visibility": null,
            "width": null
          }
        },
        "a07984b6b69748e69403c2aa998bea73": {
          "model_module": "@jupyter-widgets/controls",
          "model_name": "DescriptionStyleModel",
          "model_module_version": "1.5.0",
          "state": {
            "_model_module": "@jupyter-widgets/controls",
            "_model_module_version": "1.5.0",
            "_model_name": "DescriptionStyleModel",
            "_view_count": null,
            "_view_module": "@jupyter-widgets/base",
            "_view_module_version": "1.2.0",
            "_view_name": "StyleView",
            "description_width": ""
          }
        },
        "d564813264344f83bca5dbc1d748c1ea": {
          "model_module": "@jupyter-widgets/base",
          "model_name": "LayoutModel",
          "model_module_version": "1.2.0",
          "state": {
            "_model_module": "@jupyter-widgets/base",
            "_model_module_version": "1.2.0",
            "_model_name": "LayoutModel",
            "_view_count": null,
            "_view_module": "@jupyter-widgets/base",
            "_view_module_version": "1.2.0",
            "_view_name": "LayoutView",
            "align_content": null,
            "align_items": null,
            "align_self": null,
            "border": null,
            "bottom": null,
            "display": null,
            "flex": null,
            "flex_flow": null,
            "grid_area": null,
            "grid_auto_columns": null,
            "grid_auto_flow": null,
            "grid_auto_rows": null,
            "grid_column": null,
            "grid_gap": null,
            "grid_row": null,
            "grid_template_areas": null,
            "grid_template_columns": null,
            "grid_template_rows": null,
            "height": null,
            "justify_content": null,
            "justify_items": null,
            "left": null,
            "margin": null,
            "max_height": null,
            "max_width": null,
            "min_height": null,
            "min_width": null,
            "object_fit": null,
            "object_position": null,
            "order": null,
            "overflow": null,
            "overflow_x": null,
            "overflow_y": null,
            "padding": null,
            "right": null,
            "top": null,
            "visibility": null,
            "width": null
          }
        },
        "6d57c8760cec4895befc6b51fdc648d2": {
          "model_module": "@jupyter-widgets/controls",
          "model_name": "ProgressStyleModel",
          "model_module_version": "1.5.0",
          "state": {
            "_model_module": "@jupyter-widgets/controls",
            "_model_module_version": "1.5.0",
            "_model_name": "ProgressStyleModel",
            "_view_count": null,
            "_view_module": "@jupyter-widgets/base",
            "_view_module_version": "1.2.0",
            "_view_name": "StyleView",
            "bar_color": null,
            "description_width": ""
          }
        },
        "ea510a9e54ff42028daad6bc59a884c0": {
          "model_module": "@jupyter-widgets/controls",
          "model_name": "VBoxModel",
          "model_module_version": "1.5.0",
          "state": {
            "_dom_classes": [],
            "_model_module": "@jupyter-widgets/controls",
            "_model_module_version": "1.5.0",
            "_model_name": "VBoxModel",
            "_view_count": null,
            "_view_module": "@jupyter-widgets/controls",
            "_view_module_version": "1.5.0",
            "_view_name": "VBoxView",
            "box_style": "",
            "children": [
              "IPY_MODEL_5fb86766978f4e98aa70239748b45b92",
              "IPY_MODEL_ee1c812a13ef4dab9b9394b35e522a46"
            ],
            "layout": "IPY_MODEL_816a28eaff2f4a21b499fdbd6c2ad947"
          }
        },
        "5fb86766978f4e98aa70239748b45b92": {
          "model_module": "@jupyter-widgets/controls",
          "model_name": "LabelModel",
          "model_module_version": "1.5.0",
          "state": {
            "_dom_classes": [],
            "_model_module": "@jupyter-widgets/controls",
            "_model_module_version": "1.5.0",
            "_model_name": "LabelModel",
            "_view_count": null,
            "_view_module": "@jupyter-widgets/controls",
            "_view_module_version": "1.5.0",
            "_view_name": "LabelView",
            "description": "",
            "description_tooltip": null,
            "layout": "IPY_MODEL_a1e912426e1a4289ae765f33f45145e1",
            "placeholder": "​",
            "style": "IPY_MODEL_87b2787a816b432398348be6e74d2074",
            "value": "57.574 MB of 57.574 MB uploaded (0.000 MB deduped)\r"
          }
        },
        "ee1c812a13ef4dab9b9394b35e522a46": {
          "model_module": "@jupyter-widgets/controls",
          "model_name": "FloatProgressModel",
          "model_module_version": "1.5.0",
          "state": {
            "_dom_classes": [],
            "_model_module": "@jupyter-widgets/controls",
            "_model_module_version": "1.5.0",
            "_model_name": "FloatProgressModel",
            "_view_count": null,
            "_view_module": "@jupyter-widgets/controls",
            "_view_module_version": "1.5.0",
            "_view_name": "ProgressView",
            "bar_style": "",
            "description": "",
            "description_tooltip": null,
            "layout": "IPY_MODEL_93ac8d025cc94268b84124f77ddce404",
            "max": 1,
            "min": 0,
            "orientation": "horizontal",
            "style": "IPY_MODEL_adad6bebaf1248de978c2234f3084448",
            "value": 1
          }
        },
        "816a28eaff2f4a21b499fdbd6c2ad947": {
          "model_module": "@jupyter-widgets/base",
          "model_name": "LayoutModel",
          "model_module_version": "1.2.0",
          "state": {
            "_model_module": "@jupyter-widgets/base",
            "_model_module_version": "1.2.0",
            "_model_name": "LayoutModel",
            "_view_count": null,
            "_view_module": "@jupyter-widgets/base",
            "_view_module_version": "1.2.0",
            "_view_name": "LayoutView",
            "align_content": null,
            "align_items": null,
            "align_self": null,
            "border": null,
            "bottom": null,
            "display": null,
            "flex": null,
            "flex_flow": null,
            "grid_area": null,
            "grid_auto_columns": null,
            "grid_auto_flow": null,
            "grid_auto_rows": null,
            "grid_column": null,
            "grid_gap": null,
            "grid_row": null,
            "grid_template_areas": null,
            "grid_template_columns": null,
            "grid_template_rows": null,
            "height": null,
            "justify_content": null,
            "justify_items": null,
            "left": null,
            "margin": null,
            "max_height": null,
            "max_width": null,
            "min_height": null,
            "min_width": null,
            "object_fit": null,
            "object_position": null,
            "order": null,
            "overflow": null,
            "overflow_x": null,
            "overflow_y": null,
            "padding": null,
            "right": null,
            "top": null,
            "visibility": null,
            "width": null
          }
        },
        "a1e912426e1a4289ae765f33f45145e1": {
          "model_module": "@jupyter-widgets/base",
          "model_name": "LayoutModel",
          "model_module_version": "1.2.0",
          "state": {
            "_model_module": "@jupyter-widgets/base",
            "_model_module_version": "1.2.0",
            "_model_name": "LayoutModel",
            "_view_count": null,
            "_view_module": "@jupyter-widgets/base",
            "_view_module_version": "1.2.0",
            "_view_name": "LayoutView",
            "align_content": null,
            "align_items": null,
            "align_self": null,
            "border": null,
            "bottom": null,
            "display": null,
            "flex": null,
            "flex_flow": null,
            "grid_area": null,
            "grid_auto_columns": null,
            "grid_auto_flow": null,
            "grid_auto_rows": null,
            "grid_column": null,
            "grid_gap": null,
            "grid_row": null,
            "grid_template_areas": null,
            "grid_template_columns": null,
            "grid_template_rows": null,
            "height": null,
            "justify_content": null,
            "justify_items": null,
            "left": null,
            "margin": null,
            "max_height": null,
            "max_width": null,
            "min_height": null,
            "min_width": null,
            "object_fit": null,
            "object_position": null,
            "order": null,
            "overflow": null,
            "overflow_x": null,
            "overflow_y": null,
            "padding": null,
            "right": null,
            "top": null,
            "visibility": null,
            "width": null
          }
        },
        "87b2787a816b432398348be6e74d2074": {
          "model_module": "@jupyter-widgets/controls",
          "model_name": "DescriptionStyleModel",
          "model_module_version": "1.5.0",
          "state": {
            "_model_module": "@jupyter-widgets/controls",
            "_model_module_version": "1.5.0",
            "_model_name": "DescriptionStyleModel",
            "_view_count": null,
            "_view_module": "@jupyter-widgets/base",
            "_view_module_version": "1.2.0",
            "_view_name": "StyleView",
            "description_width": ""
          }
        },
        "93ac8d025cc94268b84124f77ddce404": {
          "model_module": "@jupyter-widgets/base",
          "model_name": "LayoutModel",
          "model_module_version": "1.2.0",
          "state": {
            "_model_module": "@jupyter-widgets/base",
            "_model_module_version": "1.2.0",
            "_model_name": "LayoutModel",
            "_view_count": null,
            "_view_module": "@jupyter-widgets/base",
            "_view_module_version": "1.2.0",
            "_view_name": "LayoutView",
            "align_content": null,
            "align_items": null,
            "align_self": null,
            "border": null,
            "bottom": null,
            "display": null,
            "flex": null,
            "flex_flow": null,
            "grid_area": null,
            "grid_auto_columns": null,
            "grid_auto_flow": null,
            "grid_auto_rows": null,
            "grid_column": null,
            "grid_gap": null,
            "grid_row": null,
            "grid_template_areas": null,
            "grid_template_columns": null,
            "grid_template_rows": null,
            "height": null,
            "justify_content": null,
            "justify_items": null,
            "left": null,
            "margin": null,
            "max_height": null,
            "max_width": null,
            "min_height": null,
            "min_width": null,
            "object_fit": null,
            "object_position": null,
            "order": null,
            "overflow": null,
            "overflow_x": null,
            "overflow_y": null,
            "padding": null,
            "right": null,
            "top": null,
            "visibility": null,
            "width": null
          }
        },
        "adad6bebaf1248de978c2234f3084448": {
          "model_module": "@jupyter-widgets/controls",
          "model_name": "ProgressStyleModel",
          "model_module_version": "1.5.0",
          "state": {
            "_model_module": "@jupyter-widgets/controls",
            "_model_module_version": "1.5.0",
            "_model_name": "ProgressStyleModel",
            "_view_count": null,
            "_view_module": "@jupyter-widgets/base",
            "_view_module_version": "1.2.0",
            "_view_name": "StyleView",
            "bar_color": null,
            "description_width": ""
          }
        },
        "6952212e232746d7ba0148661f5c597e": {
          "model_module": "@jupyter-widgets/controls",
          "model_name": "HBoxModel",
          "model_module_version": "1.5.0",
          "state": {
            "_dom_classes": [],
            "_model_module": "@jupyter-widgets/controls",
            "_model_module_version": "1.5.0",
            "_model_name": "HBoxModel",
            "_view_count": null,
            "_view_module": "@jupyter-widgets/controls",
            "_view_module_version": "1.5.0",
            "_view_name": "HBoxView",
            "box_style": "",
            "children": [
              "IPY_MODEL_fcdb5a0df16f4b0ebde8cf83cc17df01",
              "IPY_MODEL_0baa0d27beaf4c0a9d923d43766bcb6d",
              "IPY_MODEL_70a02a646810433b9ee6af895feb20d1"
            ],
            "layout": "IPY_MODEL_f05dd70d8b774c04ba4ad9452e45aa2c"
          }
        },
        "fcdb5a0df16f4b0ebde8cf83cc17df01": {
          "model_module": "@jupyter-widgets/controls",
          "model_name": "HTMLModel",
          "model_module_version": "1.5.0",
          "state": {
            "_dom_classes": [],
            "_model_module": "@jupyter-widgets/controls",
            "_model_module_version": "1.5.0",
            "_model_name": "HTMLModel",
            "_view_count": null,
            "_view_module": "@jupyter-widgets/controls",
            "_view_module_version": "1.5.0",
            "_view_name": "HTMLView",
            "description": "",
            "description_tooltip": null,
            "layout": "IPY_MODEL_f7996449022046119c6ddc20cfea155d",
            "placeholder": "​",
            "style": "IPY_MODEL_cea805a90f9a41a5ae27c2c9789d8ee0",
            "value": "100%"
          }
        },
        "0baa0d27beaf4c0a9d923d43766bcb6d": {
          "model_module": "@jupyter-widgets/controls",
          "model_name": "FloatProgressModel",
          "model_module_version": "1.5.0",
          "state": {
            "_dom_classes": [],
            "_model_module": "@jupyter-widgets/controls",
            "_model_module_version": "1.5.0",
            "_model_name": "FloatProgressModel",
            "_view_count": null,
            "_view_module": "@jupyter-widgets/controls",
            "_view_module_version": "1.5.0",
            "_view_name": "ProgressView",
            "bar_style": "success",
            "description": "",
            "description_tooltip": null,
            "layout": "IPY_MODEL_23cf0973bf404f678ef2519499f8b8f5",
            "max": 102530333,
            "min": 0,
            "orientation": "horizontal",
            "style": "IPY_MODEL_4eb665945a7441a0b7f11251d9c0a4f8",
            "value": 102530333
          }
        },
        "70a02a646810433b9ee6af895feb20d1": {
          "model_module": "@jupyter-widgets/controls",
          "model_name": "HTMLModel",
          "model_module_version": "1.5.0",
          "state": {
            "_dom_classes": [],
            "_model_module": "@jupyter-widgets/controls",
            "_model_module_version": "1.5.0",
            "_model_name": "HTMLModel",
            "_view_count": null,
            "_view_module": "@jupyter-widgets/controls",
            "_view_module_version": "1.5.0",
            "_view_name": "HTMLView",
            "description": "",
            "description_tooltip": null,
            "layout": "IPY_MODEL_5fab77fecb27455ea946c09ea442a328",
            "placeholder": "​",
            "style": "IPY_MODEL_f8f3cbbd00e4448fa8717101564850c9",
            "value": " 97.8M/97.8M [00:00&lt;00:00, 265MB/s]"
          }
        },
        "f05dd70d8b774c04ba4ad9452e45aa2c": {
          "model_module": "@jupyter-widgets/base",
          "model_name": "LayoutModel",
          "model_module_version": "1.2.0",
          "state": {
            "_model_module": "@jupyter-widgets/base",
            "_model_module_version": "1.2.0",
            "_model_name": "LayoutModel",
            "_view_count": null,
            "_view_module": "@jupyter-widgets/base",
            "_view_module_version": "1.2.0",
            "_view_name": "LayoutView",
            "align_content": null,
            "align_items": null,
            "align_self": null,
            "border": null,
            "bottom": null,
            "display": null,
            "flex": null,
            "flex_flow": null,
            "grid_area": null,
            "grid_auto_columns": null,
            "grid_auto_flow": null,
            "grid_auto_rows": null,
            "grid_column": null,
            "grid_gap": null,
            "grid_row": null,
            "grid_template_areas": null,
            "grid_template_columns": null,
            "grid_template_rows": null,
            "height": null,
            "justify_content": null,
            "justify_items": null,
            "left": null,
            "margin": null,
            "max_height": null,
            "max_width": null,
            "min_height": null,
            "min_width": null,
            "object_fit": null,
            "object_position": null,
            "order": null,
            "overflow": null,
            "overflow_x": null,
            "overflow_y": null,
            "padding": null,
            "right": null,
            "top": null,
            "visibility": null,
            "width": null
          }
        },
        "f7996449022046119c6ddc20cfea155d": {
          "model_module": "@jupyter-widgets/base",
          "model_name": "LayoutModel",
          "model_module_version": "1.2.0",
          "state": {
            "_model_module": "@jupyter-widgets/base",
            "_model_module_version": "1.2.0",
            "_model_name": "LayoutModel",
            "_view_count": null,
            "_view_module": "@jupyter-widgets/base",
            "_view_module_version": "1.2.0",
            "_view_name": "LayoutView",
            "align_content": null,
            "align_items": null,
            "align_self": null,
            "border": null,
            "bottom": null,
            "display": null,
            "flex": null,
            "flex_flow": null,
            "grid_area": null,
            "grid_auto_columns": null,
            "grid_auto_flow": null,
            "grid_auto_rows": null,
            "grid_column": null,
            "grid_gap": null,
            "grid_row": null,
            "grid_template_areas": null,
            "grid_template_columns": null,
            "grid_template_rows": null,
            "height": null,
            "justify_content": null,
            "justify_items": null,
            "left": null,
            "margin": null,
            "max_height": null,
            "max_width": null,
            "min_height": null,
            "min_width": null,
            "object_fit": null,
            "object_position": null,
            "order": null,
            "overflow": null,
            "overflow_x": null,
            "overflow_y": null,
            "padding": null,
            "right": null,
            "top": null,
            "visibility": null,
            "width": null
          }
        },
        "cea805a90f9a41a5ae27c2c9789d8ee0": {
          "model_module": "@jupyter-widgets/controls",
          "model_name": "DescriptionStyleModel",
          "model_module_version": "1.5.0",
          "state": {
            "_model_module": "@jupyter-widgets/controls",
            "_model_module_version": "1.5.0",
            "_model_name": "DescriptionStyleModel",
            "_view_count": null,
            "_view_module": "@jupyter-widgets/base",
            "_view_module_version": "1.2.0",
            "_view_name": "StyleView",
            "description_width": ""
          }
        },
        "23cf0973bf404f678ef2519499f8b8f5": {
          "model_module": "@jupyter-widgets/base",
          "model_name": "LayoutModel",
          "model_module_version": "1.2.0",
          "state": {
            "_model_module": "@jupyter-widgets/base",
            "_model_module_version": "1.2.0",
            "_model_name": "LayoutModel",
            "_view_count": null,
            "_view_module": "@jupyter-widgets/base",
            "_view_module_version": "1.2.0",
            "_view_name": "LayoutView",
            "align_content": null,
            "align_items": null,
            "align_self": null,
            "border": null,
            "bottom": null,
            "display": null,
            "flex": null,
            "flex_flow": null,
            "grid_area": null,
            "grid_auto_columns": null,
            "grid_auto_flow": null,
            "grid_auto_rows": null,
            "grid_column": null,
            "grid_gap": null,
            "grid_row": null,
            "grid_template_areas": null,
            "grid_template_columns": null,
            "grid_template_rows": null,
            "height": null,
            "justify_content": null,
            "justify_items": null,
            "left": null,
            "margin": null,
            "max_height": null,
            "max_width": null,
            "min_height": null,
            "min_width": null,
            "object_fit": null,
            "object_position": null,
            "order": null,
            "overflow": null,
            "overflow_x": null,
            "overflow_y": null,
            "padding": null,
            "right": null,
            "top": null,
            "visibility": null,
            "width": null
          }
        },
        "4eb665945a7441a0b7f11251d9c0a4f8": {
          "model_module": "@jupyter-widgets/controls",
          "model_name": "ProgressStyleModel",
          "model_module_version": "1.5.0",
          "state": {
            "_model_module": "@jupyter-widgets/controls",
            "_model_module_version": "1.5.0",
            "_model_name": "ProgressStyleModel",
            "_view_count": null,
            "_view_module": "@jupyter-widgets/base",
            "_view_module_version": "1.2.0",
            "_view_name": "StyleView",
            "bar_color": null,
            "description_width": ""
          }
        },
        "5fab77fecb27455ea946c09ea442a328": {
          "model_module": "@jupyter-widgets/base",
          "model_name": "LayoutModel",
          "model_module_version": "1.2.0",
          "state": {
            "_model_module": "@jupyter-widgets/base",
            "_model_module_version": "1.2.0",
            "_model_name": "LayoutModel",
            "_view_count": null,
            "_view_module": "@jupyter-widgets/base",
            "_view_module_version": "1.2.0",
            "_view_name": "LayoutView",
            "align_content": null,
            "align_items": null,
            "align_self": null,
            "border": null,
            "bottom": null,
            "display": null,
            "flex": null,
            "flex_flow": null,
            "grid_area": null,
            "grid_auto_columns": null,
            "grid_auto_flow": null,
            "grid_auto_rows": null,
            "grid_column": null,
            "grid_gap": null,
            "grid_row": null,
            "grid_template_areas": null,
            "grid_template_columns": null,
            "grid_template_rows": null,
            "height": null,
            "justify_content": null,
            "justify_items": null,
            "left": null,
            "margin": null,
            "max_height": null,
            "max_width": null,
            "min_height": null,
            "min_width": null,
            "object_fit": null,
            "object_position": null,
            "order": null,
            "overflow": null,
            "overflow_x": null,
            "overflow_y": null,
            "padding": null,
            "right": null,
            "top": null,
            "visibility": null,
            "width": null
          }
        },
        "f8f3cbbd00e4448fa8717101564850c9": {
          "model_module": "@jupyter-widgets/controls",
          "model_name": "DescriptionStyleModel",
          "model_module_version": "1.5.0",
          "state": {
            "_model_module": "@jupyter-widgets/controls",
            "_model_module_version": "1.5.0",
            "_model_name": "DescriptionStyleModel",
            "_view_count": null,
            "_view_module": "@jupyter-widgets/base",
            "_view_module_version": "1.2.0",
            "_view_name": "StyleView",
            "description_width": ""
          }
        },
        "82fe55daf2404172bb93b5f674ff5d40": {
          "model_module": "@jupyter-widgets/controls",
          "model_name": "VBoxModel",
          "model_module_version": "1.5.0",
          "state": {
            "_dom_classes": [],
            "_model_module": "@jupyter-widgets/controls",
            "_model_module_version": "1.5.0",
            "_model_name": "VBoxModel",
            "_view_count": null,
            "_view_module": "@jupyter-widgets/controls",
            "_view_module_version": "1.5.0",
            "_view_name": "VBoxView",
            "box_style": "",
            "children": [
              "IPY_MODEL_fe0d04a868224a4ab8e8e84d646d93b4",
              "IPY_MODEL_a27cf9357eff4a2e897ad3b87ce11ab2"
            ],
            "layout": "IPY_MODEL_f46965078f37440391d7947376c6b91f"
          }
        },
        "fe0d04a868224a4ab8e8e84d646d93b4": {
          "model_module": "@jupyter-widgets/controls",
          "model_name": "LabelModel",
          "model_module_version": "1.5.0",
          "state": {
            "_dom_classes": [],
            "_model_module": "@jupyter-widgets/controls",
            "_model_module_version": "1.5.0",
            "_model_name": "LabelModel",
            "_view_count": null,
            "_view_module": "@jupyter-widgets/controls",
            "_view_module_version": "1.5.0",
            "_view_name": "LabelView",
            "description": "",
            "description_tooltip": null,
            "layout": "IPY_MODEL_4b9c1bfa1e05494592e6495e3f4e641a",
            "placeholder": "​",
            "style": "IPY_MODEL_75a9eed73d0c4ebc863507d188854b4d",
            "value": "276.895 MB of 276.895 MB uploaded (0.000 MB deduped)\r"
          }
        },
        "a27cf9357eff4a2e897ad3b87ce11ab2": {
          "model_module": "@jupyter-widgets/controls",
          "model_name": "FloatProgressModel",
          "model_module_version": "1.5.0",
          "state": {
            "_dom_classes": [],
            "_model_module": "@jupyter-widgets/controls",
            "_model_module_version": "1.5.0",
            "_model_name": "FloatProgressModel",
            "_view_count": null,
            "_view_module": "@jupyter-widgets/controls",
            "_view_module_version": "1.5.0",
            "_view_name": "ProgressView",
            "bar_style": "",
            "description": "",
            "description_tooltip": null,
            "layout": "IPY_MODEL_74757697d716433fbfaed09d5436d31e",
            "max": 1,
            "min": 0,
            "orientation": "horizontal",
            "style": "IPY_MODEL_51331d1348b54db79cf53c8acc5df388",
            "value": 1
          }
        },
        "f46965078f37440391d7947376c6b91f": {
          "model_module": "@jupyter-widgets/base",
          "model_name": "LayoutModel",
          "model_module_version": "1.2.0",
          "state": {
            "_model_module": "@jupyter-widgets/base",
            "_model_module_version": "1.2.0",
            "_model_name": "LayoutModel",
            "_view_count": null,
            "_view_module": "@jupyter-widgets/base",
            "_view_module_version": "1.2.0",
            "_view_name": "LayoutView",
            "align_content": null,
            "align_items": null,
            "align_self": null,
            "border": null,
            "bottom": null,
            "display": null,
            "flex": null,
            "flex_flow": null,
            "grid_area": null,
            "grid_auto_columns": null,
            "grid_auto_flow": null,
            "grid_auto_rows": null,
            "grid_column": null,
            "grid_gap": null,
            "grid_row": null,
            "grid_template_areas": null,
            "grid_template_columns": null,
            "grid_template_rows": null,
            "height": null,
            "justify_content": null,
            "justify_items": null,
            "left": null,
            "margin": null,
            "max_height": null,
            "max_width": null,
            "min_height": null,
            "min_width": null,
            "object_fit": null,
            "object_position": null,
            "order": null,
            "overflow": null,
            "overflow_x": null,
            "overflow_y": null,
            "padding": null,
            "right": null,
            "top": null,
            "visibility": null,
            "width": null
          }
        },
        "4b9c1bfa1e05494592e6495e3f4e641a": {
          "model_module": "@jupyter-widgets/base",
          "model_name": "LayoutModel",
          "model_module_version": "1.2.0",
          "state": {
            "_model_module": "@jupyter-widgets/base",
            "_model_module_version": "1.2.0",
            "_model_name": "LayoutModel",
            "_view_count": null,
            "_view_module": "@jupyter-widgets/base",
            "_view_module_version": "1.2.0",
            "_view_name": "LayoutView",
            "align_content": null,
            "align_items": null,
            "align_self": null,
            "border": null,
            "bottom": null,
            "display": null,
            "flex": null,
            "flex_flow": null,
            "grid_area": null,
            "grid_auto_columns": null,
            "grid_auto_flow": null,
            "grid_auto_rows": null,
            "grid_column": null,
            "grid_gap": null,
            "grid_row": null,
            "grid_template_areas": null,
            "grid_template_columns": null,
            "grid_template_rows": null,
            "height": null,
            "justify_content": null,
            "justify_items": null,
            "left": null,
            "margin": null,
            "max_height": null,
            "max_width": null,
            "min_height": null,
            "min_width": null,
            "object_fit": null,
            "object_position": null,
            "order": null,
            "overflow": null,
            "overflow_x": null,
            "overflow_y": null,
            "padding": null,
            "right": null,
            "top": null,
            "visibility": null,
            "width": null
          }
        },
        "75a9eed73d0c4ebc863507d188854b4d": {
          "model_module": "@jupyter-widgets/controls",
          "model_name": "DescriptionStyleModel",
          "model_module_version": "1.5.0",
          "state": {
            "_model_module": "@jupyter-widgets/controls",
            "_model_module_version": "1.5.0",
            "_model_name": "DescriptionStyleModel",
            "_view_count": null,
            "_view_module": "@jupyter-widgets/base",
            "_view_module_version": "1.2.0",
            "_view_name": "StyleView",
            "description_width": ""
          }
        },
        "74757697d716433fbfaed09d5436d31e": {
          "model_module": "@jupyter-widgets/base",
          "model_name": "LayoutModel",
          "model_module_version": "1.2.0",
          "state": {
            "_model_module": "@jupyter-widgets/base",
            "_model_module_version": "1.2.0",
            "_model_name": "LayoutModel",
            "_view_count": null,
            "_view_module": "@jupyter-widgets/base",
            "_view_module_version": "1.2.0",
            "_view_name": "LayoutView",
            "align_content": null,
            "align_items": null,
            "align_self": null,
            "border": null,
            "bottom": null,
            "display": null,
            "flex": null,
            "flex_flow": null,
            "grid_area": null,
            "grid_auto_columns": null,
            "grid_auto_flow": null,
            "grid_auto_rows": null,
            "grid_column": null,
            "grid_gap": null,
            "grid_row": null,
            "grid_template_areas": null,
            "grid_template_columns": null,
            "grid_template_rows": null,
            "height": null,
            "justify_content": null,
            "justify_items": null,
            "left": null,
            "margin": null,
            "max_height": null,
            "max_width": null,
            "min_height": null,
            "min_width": null,
            "object_fit": null,
            "object_position": null,
            "order": null,
            "overflow": null,
            "overflow_x": null,
            "overflow_y": null,
            "padding": null,
            "right": null,
            "top": null,
            "visibility": null,
            "width": null
          }
        },
        "51331d1348b54db79cf53c8acc5df388": {
          "model_module": "@jupyter-widgets/controls",
          "model_name": "ProgressStyleModel",
          "model_module_version": "1.5.0",
          "state": {
            "_model_module": "@jupyter-widgets/controls",
            "_model_module_version": "1.5.0",
            "_model_name": "ProgressStyleModel",
            "_view_count": null,
            "_view_module": "@jupyter-widgets/base",
            "_view_module_version": "1.2.0",
            "_view_name": "StyleView",
            "bar_color": null,
            "description_width": ""
          }
        },
        "6855000554e944d7bd9e4773c88ec7c8": {
          "model_module": "@jupyter-widgets/controls",
          "model_name": "VBoxModel",
          "model_module_version": "1.5.0",
          "state": {
            "_dom_classes": [],
            "_model_module": "@jupyter-widgets/controls",
            "_model_module_version": "1.5.0",
            "_model_name": "VBoxModel",
            "_view_count": null,
            "_view_module": "@jupyter-widgets/controls",
            "_view_module_version": "1.5.0",
            "_view_name": "VBoxView",
            "box_style": "",
            "children": [
              "IPY_MODEL_02e4283ed2a34762b783502e54e4b1f2",
              "IPY_MODEL_abce68713d0946bfa7424fe6e82c397a"
            ],
            "layout": "IPY_MODEL_2ee516ed4f6545b286036d437f72b857"
          }
        },
        "02e4283ed2a34762b783502e54e4b1f2": {
          "model_module": "@jupyter-widgets/controls",
          "model_name": "LabelModel",
          "model_module_version": "1.5.0",
          "state": {
            "_dom_classes": [],
            "_model_module": "@jupyter-widgets/controls",
            "_model_module_version": "1.5.0",
            "_model_name": "LabelModel",
            "_view_count": null,
            "_view_module": "@jupyter-widgets/controls",
            "_view_module_version": "1.5.0",
            "_view_name": "LabelView",
            "description": "",
            "description_tooltip": null,
            "layout": "IPY_MODEL_76512586bfd045aabb370eb3e413ce85",
            "placeholder": "​",
            "style": "IPY_MODEL_80c1c15744654fec8ed150d02553aaba",
            "value": "276.864 MB of 276.864 MB uploaded (0.000 MB deduped)\r"
          }
        },
        "abce68713d0946bfa7424fe6e82c397a": {
          "model_module": "@jupyter-widgets/controls",
          "model_name": "FloatProgressModel",
          "model_module_version": "1.5.0",
          "state": {
            "_dom_classes": [],
            "_model_module": "@jupyter-widgets/controls",
            "_model_module_version": "1.5.0",
            "_model_name": "FloatProgressModel",
            "_view_count": null,
            "_view_module": "@jupyter-widgets/controls",
            "_view_module_version": "1.5.0",
            "_view_name": "ProgressView",
            "bar_style": "",
            "description": "",
            "description_tooltip": null,
            "layout": "IPY_MODEL_fa41d9852f3c4ba6a1a99e434fa23b32",
            "max": 1,
            "min": 0,
            "orientation": "horizontal",
            "style": "IPY_MODEL_e95797a7587e4b74986c0ba7f6298c2d",
            "value": 1
          }
        },
        "2ee516ed4f6545b286036d437f72b857": {
          "model_module": "@jupyter-widgets/base",
          "model_name": "LayoutModel",
          "model_module_version": "1.2.0",
          "state": {
            "_model_module": "@jupyter-widgets/base",
            "_model_module_version": "1.2.0",
            "_model_name": "LayoutModel",
            "_view_count": null,
            "_view_module": "@jupyter-widgets/base",
            "_view_module_version": "1.2.0",
            "_view_name": "LayoutView",
            "align_content": null,
            "align_items": null,
            "align_self": null,
            "border": null,
            "bottom": null,
            "display": null,
            "flex": null,
            "flex_flow": null,
            "grid_area": null,
            "grid_auto_columns": null,
            "grid_auto_flow": null,
            "grid_auto_rows": null,
            "grid_column": null,
            "grid_gap": null,
            "grid_row": null,
            "grid_template_areas": null,
            "grid_template_columns": null,
            "grid_template_rows": null,
            "height": null,
            "justify_content": null,
            "justify_items": null,
            "left": null,
            "margin": null,
            "max_height": null,
            "max_width": null,
            "min_height": null,
            "min_width": null,
            "object_fit": null,
            "object_position": null,
            "order": null,
            "overflow": null,
            "overflow_x": null,
            "overflow_y": null,
            "padding": null,
            "right": null,
            "top": null,
            "visibility": null,
            "width": null
          }
        },
        "76512586bfd045aabb370eb3e413ce85": {
          "model_module": "@jupyter-widgets/base",
          "model_name": "LayoutModel",
          "model_module_version": "1.2.0",
          "state": {
            "_model_module": "@jupyter-widgets/base",
            "_model_module_version": "1.2.0",
            "_model_name": "LayoutModel",
            "_view_count": null,
            "_view_module": "@jupyter-widgets/base",
            "_view_module_version": "1.2.0",
            "_view_name": "LayoutView",
            "align_content": null,
            "align_items": null,
            "align_self": null,
            "border": null,
            "bottom": null,
            "display": null,
            "flex": null,
            "flex_flow": null,
            "grid_area": null,
            "grid_auto_columns": null,
            "grid_auto_flow": null,
            "grid_auto_rows": null,
            "grid_column": null,
            "grid_gap": null,
            "grid_row": null,
            "grid_template_areas": null,
            "grid_template_columns": null,
            "grid_template_rows": null,
            "height": null,
            "justify_content": null,
            "justify_items": null,
            "left": null,
            "margin": null,
            "max_height": null,
            "max_width": null,
            "min_height": null,
            "min_width": null,
            "object_fit": null,
            "object_position": null,
            "order": null,
            "overflow": null,
            "overflow_x": null,
            "overflow_y": null,
            "padding": null,
            "right": null,
            "top": null,
            "visibility": null,
            "width": null
          }
        },
        "80c1c15744654fec8ed150d02553aaba": {
          "model_module": "@jupyter-widgets/controls",
          "model_name": "DescriptionStyleModel",
          "model_module_version": "1.5.0",
          "state": {
            "_model_module": "@jupyter-widgets/controls",
            "_model_module_version": "1.5.0",
            "_model_name": "DescriptionStyleModel",
            "_view_count": null,
            "_view_module": "@jupyter-widgets/base",
            "_view_module_version": "1.2.0",
            "_view_name": "StyleView",
            "description_width": ""
          }
        },
        "fa41d9852f3c4ba6a1a99e434fa23b32": {
          "model_module": "@jupyter-widgets/base",
          "model_name": "LayoutModel",
          "model_module_version": "1.2.0",
          "state": {
            "_model_module": "@jupyter-widgets/base",
            "_model_module_version": "1.2.0",
            "_model_name": "LayoutModel",
            "_view_count": null,
            "_view_module": "@jupyter-widgets/base",
            "_view_module_version": "1.2.0",
            "_view_name": "LayoutView",
            "align_content": null,
            "align_items": null,
            "align_self": null,
            "border": null,
            "bottom": null,
            "display": null,
            "flex": null,
            "flex_flow": null,
            "grid_area": null,
            "grid_auto_columns": null,
            "grid_auto_flow": null,
            "grid_auto_rows": null,
            "grid_column": null,
            "grid_gap": null,
            "grid_row": null,
            "grid_template_areas": null,
            "grid_template_columns": null,
            "grid_template_rows": null,
            "height": null,
            "justify_content": null,
            "justify_items": null,
            "left": null,
            "margin": null,
            "max_height": null,
            "max_width": null,
            "min_height": null,
            "min_width": null,
            "object_fit": null,
            "object_position": null,
            "order": null,
            "overflow": null,
            "overflow_x": null,
            "overflow_y": null,
            "padding": null,
            "right": null,
            "top": null,
            "visibility": null,
            "width": null
          }
        },
        "e95797a7587e4b74986c0ba7f6298c2d": {
          "model_module": "@jupyter-widgets/controls",
          "model_name": "ProgressStyleModel",
          "model_module_version": "1.5.0",
          "state": {
            "_model_module": "@jupyter-widgets/controls",
            "_model_module_version": "1.5.0",
            "_model_name": "ProgressStyleModel",
            "_view_count": null,
            "_view_module": "@jupyter-widgets/base",
            "_view_module_version": "1.2.0",
            "_view_name": "StyleView",
            "bar_color": null,
            "description_width": ""
          }
        },
        "67d8f3be9135420c9d8614d7d8698492": {
          "model_module": "@jupyter-widgets/controls",
          "model_name": "VBoxModel",
          "model_module_version": "1.5.0",
          "state": {
            "_dom_classes": [],
            "_model_module": "@jupyter-widgets/controls",
            "_model_module_version": "1.5.0",
            "_model_name": "VBoxModel",
            "_view_count": null,
            "_view_module": "@jupyter-widgets/controls",
            "_view_module_version": "1.5.0",
            "_view_name": "VBoxView",
            "box_style": "",
            "children": [
              "IPY_MODEL_079aee4bc016413ba5a7e7b3ce63dab4",
              "IPY_MODEL_688a32af5fea455b89ffdb2ad072e03b"
            ],
            "layout": "IPY_MODEL_d89451f5674244dfaeb4547895c37a2b"
          }
        },
        "079aee4bc016413ba5a7e7b3ce63dab4": {
          "model_module": "@jupyter-widgets/controls",
          "model_name": "LabelModel",
          "model_module_version": "1.5.0",
          "state": {
            "_dom_classes": [],
            "_model_module": "@jupyter-widgets/controls",
            "_model_module_version": "1.5.0",
            "_model_name": "LabelModel",
            "_view_count": null,
            "_view_module": "@jupyter-widgets/controls",
            "_view_module_version": "1.5.0",
            "_view_name": "LabelView",
            "description": "",
            "description_tooltip": null,
            "layout": "IPY_MODEL_6c5b2565555744a28dc27916ff348a8b",
            "placeholder": "​",
            "style": "IPY_MODEL_aea02f4be734492cbdd5c07b74a3ba39",
            "value": "277.228 MB of 277.228 MB uploaded (0.000 MB deduped)\r"
          }
        },
        "688a32af5fea455b89ffdb2ad072e03b": {
          "model_module": "@jupyter-widgets/controls",
          "model_name": "FloatProgressModel",
          "model_module_version": "1.5.0",
          "state": {
            "_dom_classes": [],
            "_model_module": "@jupyter-widgets/controls",
            "_model_module_version": "1.5.0",
            "_model_name": "FloatProgressModel",
            "_view_count": null,
            "_view_module": "@jupyter-widgets/controls",
            "_view_module_version": "1.5.0",
            "_view_name": "ProgressView",
            "bar_style": "",
            "description": "",
            "description_tooltip": null,
            "layout": "IPY_MODEL_bd429f05cdf54941af5489e5b16b91bb",
            "max": 1,
            "min": 0,
            "orientation": "horizontal",
            "style": "IPY_MODEL_50b469b2132c4fff979b306f758e24e6",
            "value": 1
          }
        },
        "d89451f5674244dfaeb4547895c37a2b": {
          "model_module": "@jupyter-widgets/base",
          "model_name": "LayoutModel",
          "model_module_version": "1.2.0",
          "state": {
            "_model_module": "@jupyter-widgets/base",
            "_model_module_version": "1.2.0",
            "_model_name": "LayoutModel",
            "_view_count": null,
            "_view_module": "@jupyter-widgets/base",
            "_view_module_version": "1.2.0",
            "_view_name": "LayoutView",
            "align_content": null,
            "align_items": null,
            "align_self": null,
            "border": null,
            "bottom": null,
            "display": null,
            "flex": null,
            "flex_flow": null,
            "grid_area": null,
            "grid_auto_columns": null,
            "grid_auto_flow": null,
            "grid_auto_rows": null,
            "grid_column": null,
            "grid_gap": null,
            "grid_row": null,
            "grid_template_areas": null,
            "grid_template_columns": null,
            "grid_template_rows": null,
            "height": null,
            "justify_content": null,
            "justify_items": null,
            "left": null,
            "margin": null,
            "max_height": null,
            "max_width": null,
            "min_height": null,
            "min_width": null,
            "object_fit": null,
            "object_position": null,
            "order": null,
            "overflow": null,
            "overflow_x": null,
            "overflow_y": null,
            "padding": null,
            "right": null,
            "top": null,
            "visibility": null,
            "width": null
          }
        },
        "6c5b2565555744a28dc27916ff348a8b": {
          "model_module": "@jupyter-widgets/base",
          "model_name": "LayoutModel",
          "model_module_version": "1.2.0",
          "state": {
            "_model_module": "@jupyter-widgets/base",
            "_model_module_version": "1.2.0",
            "_model_name": "LayoutModel",
            "_view_count": null,
            "_view_module": "@jupyter-widgets/base",
            "_view_module_version": "1.2.0",
            "_view_name": "LayoutView",
            "align_content": null,
            "align_items": null,
            "align_self": null,
            "border": null,
            "bottom": null,
            "display": null,
            "flex": null,
            "flex_flow": null,
            "grid_area": null,
            "grid_auto_columns": null,
            "grid_auto_flow": null,
            "grid_auto_rows": null,
            "grid_column": null,
            "grid_gap": null,
            "grid_row": null,
            "grid_template_areas": null,
            "grid_template_columns": null,
            "grid_template_rows": null,
            "height": null,
            "justify_content": null,
            "justify_items": null,
            "left": null,
            "margin": null,
            "max_height": null,
            "max_width": null,
            "min_height": null,
            "min_width": null,
            "object_fit": null,
            "object_position": null,
            "order": null,
            "overflow": null,
            "overflow_x": null,
            "overflow_y": null,
            "padding": null,
            "right": null,
            "top": null,
            "visibility": null,
            "width": null
          }
        },
        "aea02f4be734492cbdd5c07b74a3ba39": {
          "model_module": "@jupyter-widgets/controls",
          "model_name": "DescriptionStyleModel",
          "model_module_version": "1.5.0",
          "state": {
            "_model_module": "@jupyter-widgets/controls",
            "_model_module_version": "1.5.0",
            "_model_name": "DescriptionStyleModel",
            "_view_count": null,
            "_view_module": "@jupyter-widgets/base",
            "_view_module_version": "1.2.0",
            "_view_name": "StyleView",
            "description_width": ""
          }
        },
        "bd429f05cdf54941af5489e5b16b91bb": {
          "model_module": "@jupyter-widgets/base",
          "model_name": "LayoutModel",
          "model_module_version": "1.2.0",
          "state": {
            "_model_module": "@jupyter-widgets/base",
            "_model_module_version": "1.2.0",
            "_model_name": "LayoutModel",
            "_view_count": null,
            "_view_module": "@jupyter-widgets/base",
            "_view_module_version": "1.2.0",
            "_view_name": "LayoutView",
            "align_content": null,
            "align_items": null,
            "align_self": null,
            "border": null,
            "bottom": null,
            "display": null,
            "flex": null,
            "flex_flow": null,
            "grid_area": null,
            "grid_auto_columns": null,
            "grid_auto_flow": null,
            "grid_auto_rows": null,
            "grid_column": null,
            "grid_gap": null,
            "grid_row": null,
            "grid_template_areas": null,
            "grid_template_columns": null,
            "grid_template_rows": null,
            "height": null,
            "justify_content": null,
            "justify_items": null,
            "left": null,
            "margin": null,
            "max_height": null,
            "max_width": null,
            "min_height": null,
            "min_width": null,
            "object_fit": null,
            "object_position": null,
            "order": null,
            "overflow": null,
            "overflow_x": null,
            "overflow_y": null,
            "padding": null,
            "right": null,
            "top": null,
            "visibility": null,
            "width": null
          }
        },
        "50b469b2132c4fff979b306f758e24e6": {
          "model_module": "@jupyter-widgets/controls",
          "model_name": "ProgressStyleModel",
          "model_module_version": "1.5.0",
          "state": {
            "_model_module": "@jupyter-widgets/controls",
            "_model_module_version": "1.5.0",
            "_model_name": "ProgressStyleModel",
            "_view_count": null,
            "_view_module": "@jupyter-widgets/base",
            "_view_module_version": "1.2.0",
            "_view_name": "StyleView",
            "bar_color": null,
            "description_width": ""
          }
        },
        "b139817f02cf452dbb85d473b456ccb1": {
          "model_module": "@jupyter-widgets/controls",
          "model_name": "VBoxModel",
          "model_module_version": "1.5.0",
          "state": {
            "_dom_classes": [],
            "_model_module": "@jupyter-widgets/controls",
            "_model_module_version": "1.5.0",
            "_model_name": "VBoxModel",
            "_view_count": null,
            "_view_module": "@jupyter-widgets/controls",
            "_view_module_version": "1.5.0",
            "_view_name": "VBoxView",
            "box_style": "",
            "children": [
              "IPY_MODEL_06155ab527ce4a27b47db9e9d3bbce78",
              "IPY_MODEL_5a3012217b32424e9411f77aa3535005"
            ],
            "layout": "IPY_MODEL_1b2ba5ae79d24bc9b578a411b31497d3"
          }
        },
        "06155ab527ce4a27b47db9e9d3bbce78": {
          "model_module": "@jupyter-widgets/controls",
          "model_name": "LabelModel",
          "model_module_version": "1.5.0",
          "state": {
            "_dom_classes": [],
            "_model_module": "@jupyter-widgets/controls",
            "_model_module_version": "1.5.0",
            "_model_name": "LabelModel",
            "_view_count": null,
            "_view_module": "@jupyter-widgets/controls",
            "_view_module_version": "1.5.0",
            "_view_name": "LabelView",
            "description": "",
            "description_tooltip": null,
            "layout": "IPY_MODEL_60eb4c7bda7b497980e3d02d4dabaeea",
            "placeholder": "​",
            "style": "IPY_MODEL_f1d4c1527086499cb9e60bb41d15b214",
            "value": "319.827 MB of 319.827 MB uploaded (10.253 MB deduped)\r"
          }
        },
        "5a3012217b32424e9411f77aa3535005": {
          "model_module": "@jupyter-widgets/controls",
          "model_name": "FloatProgressModel",
          "model_module_version": "1.5.0",
          "state": {
            "_dom_classes": [],
            "_model_module": "@jupyter-widgets/controls",
            "_model_module_version": "1.5.0",
            "_model_name": "FloatProgressModel",
            "_view_count": null,
            "_view_module": "@jupyter-widgets/controls",
            "_view_module_version": "1.5.0",
            "_view_name": "ProgressView",
            "bar_style": "",
            "description": "",
            "description_tooltip": null,
            "layout": "IPY_MODEL_41a1745c470d4e079749c1f0be8e98bd",
            "max": 1,
            "min": 0,
            "orientation": "horizontal",
            "style": "IPY_MODEL_5104345a2a04489ea02b7320be767a49",
            "value": 1
          }
        },
        "1b2ba5ae79d24bc9b578a411b31497d3": {
          "model_module": "@jupyter-widgets/base",
          "model_name": "LayoutModel",
          "model_module_version": "1.2.0",
          "state": {
            "_model_module": "@jupyter-widgets/base",
            "_model_module_version": "1.2.0",
            "_model_name": "LayoutModel",
            "_view_count": null,
            "_view_module": "@jupyter-widgets/base",
            "_view_module_version": "1.2.0",
            "_view_name": "LayoutView",
            "align_content": null,
            "align_items": null,
            "align_self": null,
            "border": null,
            "bottom": null,
            "display": null,
            "flex": null,
            "flex_flow": null,
            "grid_area": null,
            "grid_auto_columns": null,
            "grid_auto_flow": null,
            "grid_auto_rows": null,
            "grid_column": null,
            "grid_gap": null,
            "grid_row": null,
            "grid_template_areas": null,
            "grid_template_columns": null,
            "grid_template_rows": null,
            "height": null,
            "justify_content": null,
            "justify_items": null,
            "left": null,
            "margin": null,
            "max_height": null,
            "max_width": null,
            "min_height": null,
            "min_width": null,
            "object_fit": null,
            "object_position": null,
            "order": null,
            "overflow": null,
            "overflow_x": null,
            "overflow_y": null,
            "padding": null,
            "right": null,
            "top": null,
            "visibility": null,
            "width": null
          }
        },
        "60eb4c7bda7b497980e3d02d4dabaeea": {
          "model_module": "@jupyter-widgets/base",
          "model_name": "LayoutModel",
          "model_module_version": "1.2.0",
          "state": {
            "_model_module": "@jupyter-widgets/base",
            "_model_module_version": "1.2.0",
            "_model_name": "LayoutModel",
            "_view_count": null,
            "_view_module": "@jupyter-widgets/base",
            "_view_module_version": "1.2.0",
            "_view_name": "LayoutView",
            "align_content": null,
            "align_items": null,
            "align_self": null,
            "border": null,
            "bottom": null,
            "display": null,
            "flex": null,
            "flex_flow": null,
            "grid_area": null,
            "grid_auto_columns": null,
            "grid_auto_flow": null,
            "grid_auto_rows": null,
            "grid_column": null,
            "grid_gap": null,
            "grid_row": null,
            "grid_template_areas": null,
            "grid_template_columns": null,
            "grid_template_rows": null,
            "height": null,
            "justify_content": null,
            "justify_items": null,
            "left": null,
            "margin": null,
            "max_height": null,
            "max_width": null,
            "min_height": null,
            "min_width": null,
            "object_fit": null,
            "object_position": null,
            "order": null,
            "overflow": null,
            "overflow_x": null,
            "overflow_y": null,
            "padding": null,
            "right": null,
            "top": null,
            "visibility": null,
            "width": null
          }
        },
        "f1d4c1527086499cb9e60bb41d15b214": {
          "model_module": "@jupyter-widgets/controls",
          "model_name": "DescriptionStyleModel",
          "model_module_version": "1.5.0",
          "state": {
            "_model_module": "@jupyter-widgets/controls",
            "_model_module_version": "1.5.0",
            "_model_name": "DescriptionStyleModel",
            "_view_count": null,
            "_view_module": "@jupyter-widgets/base",
            "_view_module_version": "1.2.0",
            "_view_name": "StyleView",
            "description_width": ""
          }
        },
        "41a1745c470d4e079749c1f0be8e98bd": {
          "model_module": "@jupyter-widgets/base",
          "model_name": "LayoutModel",
          "model_module_version": "1.2.0",
          "state": {
            "_model_module": "@jupyter-widgets/base",
            "_model_module_version": "1.2.0",
            "_model_name": "LayoutModel",
            "_view_count": null,
            "_view_module": "@jupyter-widgets/base",
            "_view_module_version": "1.2.0",
            "_view_name": "LayoutView",
            "align_content": null,
            "align_items": null,
            "align_self": null,
            "border": null,
            "bottom": null,
            "display": null,
            "flex": null,
            "flex_flow": null,
            "grid_area": null,
            "grid_auto_columns": null,
            "grid_auto_flow": null,
            "grid_auto_rows": null,
            "grid_column": null,
            "grid_gap": null,
            "grid_row": null,
            "grid_template_areas": null,
            "grid_template_columns": null,
            "grid_template_rows": null,
            "height": null,
            "justify_content": null,
            "justify_items": null,
            "left": null,
            "margin": null,
            "max_height": null,
            "max_width": null,
            "min_height": null,
            "min_width": null,
            "object_fit": null,
            "object_position": null,
            "order": null,
            "overflow": null,
            "overflow_x": null,
            "overflow_y": null,
            "padding": null,
            "right": null,
            "top": null,
            "visibility": null,
            "width": null
          }
        },
        "5104345a2a04489ea02b7320be767a49": {
          "model_module": "@jupyter-widgets/controls",
          "model_name": "ProgressStyleModel",
          "model_module_version": "1.5.0",
          "state": {
            "_model_module": "@jupyter-widgets/controls",
            "_model_module_version": "1.5.0",
            "_model_name": "ProgressStyleModel",
            "_view_count": null,
            "_view_module": "@jupyter-widgets/base",
            "_view_module_version": "1.2.0",
            "_view_name": "StyleView",
            "bar_color": null,
            "description_width": ""
          }
        },
        "88143dca337f4f298fd784945e5f3d9e": {
          "model_module": "@jupyter-widgets/controls",
          "model_name": "VBoxModel",
          "model_module_version": "1.5.0",
          "state": {
            "_dom_classes": [],
            "_model_module": "@jupyter-widgets/controls",
            "_model_module_version": "1.5.0",
            "_model_name": "VBoxModel",
            "_view_count": null,
            "_view_module": "@jupyter-widgets/controls",
            "_view_module_version": "1.5.0",
            "_view_name": "VBoxView",
            "box_style": "",
            "children": [
              "IPY_MODEL_c942c61eb33c45a58dc8e923de527959",
              "IPY_MODEL_67bec66b1a2c4cc19d16cd8e9aa7c798"
            ],
            "layout": "IPY_MODEL_cb28b2b7c73e41f3b15bf30c3d57dded"
          }
        },
        "c942c61eb33c45a58dc8e923de527959": {
          "model_module": "@jupyter-widgets/controls",
          "model_name": "LabelModel",
          "model_module_version": "1.5.0",
          "state": {
            "_dom_classes": [],
            "_model_module": "@jupyter-widgets/controls",
            "_model_module_version": "1.5.0",
            "_model_name": "LabelModel",
            "_view_count": null,
            "_view_module": "@jupyter-widgets/controls",
            "_view_module_version": "1.5.0",
            "_view_name": "LabelView",
            "description": "",
            "description_tooltip": null,
            "layout": "IPY_MODEL_7bbe3bdb10094d94bd4d66b15c330eeb",
            "placeholder": "​",
            "style": "IPY_MODEL_04410d2104ff45749c46a1b82584c18b",
            "value": "276.691 MB of 276.691 MB uploaded (0.000 MB deduped)\r"
          }
        },
        "67bec66b1a2c4cc19d16cd8e9aa7c798": {
          "model_module": "@jupyter-widgets/controls",
          "model_name": "FloatProgressModel",
          "model_module_version": "1.5.0",
          "state": {
            "_dom_classes": [],
            "_model_module": "@jupyter-widgets/controls",
            "_model_module_version": "1.5.0",
            "_model_name": "FloatProgressModel",
            "_view_count": null,
            "_view_module": "@jupyter-widgets/controls",
            "_view_module_version": "1.5.0",
            "_view_name": "ProgressView",
            "bar_style": "",
            "description": "",
            "description_tooltip": null,
            "layout": "IPY_MODEL_a167bc12a4f4423dab8a38af194daf48",
            "max": 1,
            "min": 0,
            "orientation": "horizontal",
            "style": "IPY_MODEL_32fadb70ccd24afea960d6dead07d600",
            "value": 1
          }
        },
        "cb28b2b7c73e41f3b15bf30c3d57dded": {
          "model_module": "@jupyter-widgets/base",
          "model_name": "LayoutModel",
          "model_module_version": "1.2.0",
          "state": {
            "_model_module": "@jupyter-widgets/base",
            "_model_module_version": "1.2.0",
            "_model_name": "LayoutModel",
            "_view_count": null,
            "_view_module": "@jupyter-widgets/base",
            "_view_module_version": "1.2.0",
            "_view_name": "LayoutView",
            "align_content": null,
            "align_items": null,
            "align_self": null,
            "border": null,
            "bottom": null,
            "display": null,
            "flex": null,
            "flex_flow": null,
            "grid_area": null,
            "grid_auto_columns": null,
            "grid_auto_flow": null,
            "grid_auto_rows": null,
            "grid_column": null,
            "grid_gap": null,
            "grid_row": null,
            "grid_template_areas": null,
            "grid_template_columns": null,
            "grid_template_rows": null,
            "height": null,
            "justify_content": null,
            "justify_items": null,
            "left": null,
            "margin": null,
            "max_height": null,
            "max_width": null,
            "min_height": null,
            "min_width": null,
            "object_fit": null,
            "object_position": null,
            "order": null,
            "overflow": null,
            "overflow_x": null,
            "overflow_y": null,
            "padding": null,
            "right": null,
            "top": null,
            "visibility": null,
            "width": null
          }
        },
        "7bbe3bdb10094d94bd4d66b15c330eeb": {
          "model_module": "@jupyter-widgets/base",
          "model_name": "LayoutModel",
          "model_module_version": "1.2.0",
          "state": {
            "_model_module": "@jupyter-widgets/base",
            "_model_module_version": "1.2.0",
            "_model_name": "LayoutModel",
            "_view_count": null,
            "_view_module": "@jupyter-widgets/base",
            "_view_module_version": "1.2.0",
            "_view_name": "LayoutView",
            "align_content": null,
            "align_items": null,
            "align_self": null,
            "border": null,
            "bottom": null,
            "display": null,
            "flex": null,
            "flex_flow": null,
            "grid_area": null,
            "grid_auto_columns": null,
            "grid_auto_flow": null,
            "grid_auto_rows": null,
            "grid_column": null,
            "grid_gap": null,
            "grid_row": null,
            "grid_template_areas": null,
            "grid_template_columns": null,
            "grid_template_rows": null,
            "height": null,
            "justify_content": null,
            "justify_items": null,
            "left": null,
            "margin": null,
            "max_height": null,
            "max_width": null,
            "min_height": null,
            "min_width": null,
            "object_fit": null,
            "object_position": null,
            "order": null,
            "overflow": null,
            "overflow_x": null,
            "overflow_y": null,
            "padding": null,
            "right": null,
            "top": null,
            "visibility": null,
            "width": null
          }
        },
        "04410d2104ff45749c46a1b82584c18b": {
          "model_module": "@jupyter-widgets/controls",
          "model_name": "DescriptionStyleModel",
          "model_module_version": "1.5.0",
          "state": {
            "_model_module": "@jupyter-widgets/controls",
            "_model_module_version": "1.5.0",
            "_model_name": "DescriptionStyleModel",
            "_view_count": null,
            "_view_module": "@jupyter-widgets/base",
            "_view_module_version": "1.2.0",
            "_view_name": "StyleView",
            "description_width": ""
          }
        },
        "a167bc12a4f4423dab8a38af194daf48": {
          "model_module": "@jupyter-widgets/base",
          "model_name": "LayoutModel",
          "model_module_version": "1.2.0",
          "state": {
            "_model_module": "@jupyter-widgets/base",
            "_model_module_version": "1.2.0",
            "_model_name": "LayoutModel",
            "_view_count": null,
            "_view_module": "@jupyter-widgets/base",
            "_view_module_version": "1.2.0",
            "_view_name": "LayoutView",
            "align_content": null,
            "align_items": null,
            "align_self": null,
            "border": null,
            "bottom": null,
            "display": null,
            "flex": null,
            "flex_flow": null,
            "grid_area": null,
            "grid_auto_columns": null,
            "grid_auto_flow": null,
            "grid_auto_rows": null,
            "grid_column": null,
            "grid_gap": null,
            "grid_row": null,
            "grid_template_areas": null,
            "grid_template_columns": null,
            "grid_template_rows": null,
            "height": null,
            "justify_content": null,
            "justify_items": null,
            "left": null,
            "margin": null,
            "max_height": null,
            "max_width": null,
            "min_height": null,
            "min_width": null,
            "object_fit": null,
            "object_position": null,
            "order": null,
            "overflow": null,
            "overflow_x": null,
            "overflow_y": null,
            "padding": null,
            "right": null,
            "top": null,
            "visibility": null,
            "width": null
          }
        },
        "32fadb70ccd24afea960d6dead07d600": {
          "model_module": "@jupyter-widgets/controls",
          "model_name": "ProgressStyleModel",
          "model_module_version": "1.5.0",
          "state": {
            "_model_module": "@jupyter-widgets/controls",
            "_model_module_version": "1.5.0",
            "_model_name": "ProgressStyleModel",
            "_view_count": null,
            "_view_module": "@jupyter-widgets/base",
            "_view_module_version": "1.2.0",
            "_view_name": "StyleView",
            "bar_color": null,
            "description_width": ""
          }
        },
        "e24da78d9b3e4e118b53dde7c30958a8": {
          "model_module": "@jupyter-widgets/controls",
          "model_name": "VBoxModel",
          "model_module_version": "1.5.0",
          "state": {
            "_dom_classes": [],
            "_model_module": "@jupyter-widgets/controls",
            "_model_module_version": "1.5.0",
            "_model_name": "VBoxModel",
            "_view_count": null,
            "_view_module": "@jupyter-widgets/controls",
            "_view_module_version": "1.5.0",
            "_view_name": "VBoxView",
            "box_style": "",
            "children": [
              "IPY_MODEL_6dee3245c0534a2ea63955189d5292ec",
              "IPY_MODEL_93952e0ac707493b956ca6e74271b070"
            ],
            "layout": "IPY_MODEL_ecd47d24ff88454cb6846b44142ea365"
          }
        },
        "6dee3245c0534a2ea63955189d5292ec": {
          "model_module": "@jupyter-widgets/controls",
          "model_name": "LabelModel",
          "model_module_version": "1.5.0",
          "state": {
            "_dom_classes": [],
            "_model_module": "@jupyter-widgets/controls",
            "_model_module_version": "1.5.0",
            "_model_name": "LabelModel",
            "_view_count": null,
            "_view_module": "@jupyter-widgets/controls",
            "_view_module_version": "1.5.0",
            "_view_name": "LabelView",
            "description": "",
            "description_tooltip": null,
            "layout": "IPY_MODEL_0d46edfb1c9947d89e6d5cff0c918bbc",
            "placeholder": "​",
            "style": "IPY_MODEL_2f93186182c841c1b4f6ef497de81a66",
            "value": "276.694 MB of 276.694 MB uploaded (0.000 MB deduped)\r"
          }
        },
        "93952e0ac707493b956ca6e74271b070": {
          "model_module": "@jupyter-widgets/controls",
          "model_name": "FloatProgressModel",
          "model_module_version": "1.5.0",
          "state": {
            "_dom_classes": [],
            "_model_module": "@jupyter-widgets/controls",
            "_model_module_version": "1.5.0",
            "_model_name": "FloatProgressModel",
            "_view_count": null,
            "_view_module": "@jupyter-widgets/controls",
            "_view_module_version": "1.5.0",
            "_view_name": "ProgressView",
            "bar_style": "",
            "description": "",
            "description_tooltip": null,
            "layout": "IPY_MODEL_db1fe78bb9c2462a832eaad0126fe51e",
            "max": 1,
            "min": 0,
            "orientation": "horizontal",
            "style": "IPY_MODEL_dbe222cd58844a4a9f7dd277e9aceae6",
            "value": 1
          }
        },
        "ecd47d24ff88454cb6846b44142ea365": {
          "model_module": "@jupyter-widgets/base",
          "model_name": "LayoutModel",
          "model_module_version": "1.2.0",
          "state": {
            "_model_module": "@jupyter-widgets/base",
            "_model_module_version": "1.2.0",
            "_model_name": "LayoutModel",
            "_view_count": null,
            "_view_module": "@jupyter-widgets/base",
            "_view_module_version": "1.2.0",
            "_view_name": "LayoutView",
            "align_content": null,
            "align_items": null,
            "align_self": null,
            "border": null,
            "bottom": null,
            "display": null,
            "flex": null,
            "flex_flow": null,
            "grid_area": null,
            "grid_auto_columns": null,
            "grid_auto_flow": null,
            "grid_auto_rows": null,
            "grid_column": null,
            "grid_gap": null,
            "grid_row": null,
            "grid_template_areas": null,
            "grid_template_columns": null,
            "grid_template_rows": null,
            "height": null,
            "justify_content": null,
            "justify_items": null,
            "left": null,
            "margin": null,
            "max_height": null,
            "max_width": null,
            "min_height": null,
            "min_width": null,
            "object_fit": null,
            "object_position": null,
            "order": null,
            "overflow": null,
            "overflow_x": null,
            "overflow_y": null,
            "padding": null,
            "right": null,
            "top": null,
            "visibility": null,
            "width": null
          }
        },
        "0d46edfb1c9947d89e6d5cff0c918bbc": {
          "model_module": "@jupyter-widgets/base",
          "model_name": "LayoutModel",
          "model_module_version": "1.2.0",
          "state": {
            "_model_module": "@jupyter-widgets/base",
            "_model_module_version": "1.2.0",
            "_model_name": "LayoutModel",
            "_view_count": null,
            "_view_module": "@jupyter-widgets/base",
            "_view_module_version": "1.2.0",
            "_view_name": "LayoutView",
            "align_content": null,
            "align_items": null,
            "align_self": null,
            "border": null,
            "bottom": null,
            "display": null,
            "flex": null,
            "flex_flow": null,
            "grid_area": null,
            "grid_auto_columns": null,
            "grid_auto_flow": null,
            "grid_auto_rows": null,
            "grid_column": null,
            "grid_gap": null,
            "grid_row": null,
            "grid_template_areas": null,
            "grid_template_columns": null,
            "grid_template_rows": null,
            "height": null,
            "justify_content": null,
            "justify_items": null,
            "left": null,
            "margin": null,
            "max_height": null,
            "max_width": null,
            "min_height": null,
            "min_width": null,
            "object_fit": null,
            "object_position": null,
            "order": null,
            "overflow": null,
            "overflow_x": null,
            "overflow_y": null,
            "padding": null,
            "right": null,
            "top": null,
            "visibility": null,
            "width": null
          }
        },
        "2f93186182c841c1b4f6ef497de81a66": {
          "model_module": "@jupyter-widgets/controls",
          "model_name": "DescriptionStyleModel",
          "model_module_version": "1.5.0",
          "state": {
            "_model_module": "@jupyter-widgets/controls",
            "_model_module_version": "1.5.0",
            "_model_name": "DescriptionStyleModel",
            "_view_count": null,
            "_view_module": "@jupyter-widgets/base",
            "_view_module_version": "1.2.0",
            "_view_name": "StyleView",
            "description_width": ""
          }
        },
        "db1fe78bb9c2462a832eaad0126fe51e": {
          "model_module": "@jupyter-widgets/base",
          "model_name": "LayoutModel",
          "model_module_version": "1.2.0",
          "state": {
            "_model_module": "@jupyter-widgets/base",
            "_model_module_version": "1.2.0",
            "_model_name": "LayoutModel",
            "_view_count": null,
            "_view_module": "@jupyter-widgets/base",
            "_view_module_version": "1.2.0",
            "_view_name": "LayoutView",
            "align_content": null,
            "align_items": null,
            "align_self": null,
            "border": null,
            "bottom": null,
            "display": null,
            "flex": null,
            "flex_flow": null,
            "grid_area": null,
            "grid_auto_columns": null,
            "grid_auto_flow": null,
            "grid_auto_rows": null,
            "grid_column": null,
            "grid_gap": null,
            "grid_row": null,
            "grid_template_areas": null,
            "grid_template_columns": null,
            "grid_template_rows": null,
            "height": null,
            "justify_content": null,
            "justify_items": null,
            "left": null,
            "margin": null,
            "max_height": null,
            "max_width": null,
            "min_height": null,
            "min_width": null,
            "object_fit": null,
            "object_position": null,
            "order": null,
            "overflow": null,
            "overflow_x": null,
            "overflow_y": null,
            "padding": null,
            "right": null,
            "top": null,
            "visibility": null,
            "width": null
          }
        },
        "dbe222cd58844a4a9f7dd277e9aceae6": {
          "model_module": "@jupyter-widgets/controls",
          "model_name": "ProgressStyleModel",
          "model_module_version": "1.5.0",
          "state": {
            "_model_module": "@jupyter-widgets/controls",
            "_model_module_version": "1.5.0",
            "_model_name": "ProgressStyleModel",
            "_view_count": null,
            "_view_module": "@jupyter-widgets/base",
            "_view_module_version": "1.2.0",
            "_view_name": "StyleView",
            "bar_color": null,
            "description_width": ""
          }
        },
        "7391abf2c2ab4e24931e7d231f66e821": {
          "model_module": "@jupyter-widgets/controls",
          "model_name": "VBoxModel",
          "model_module_version": "1.5.0",
          "state": {
            "_dom_classes": [],
            "_model_module": "@jupyter-widgets/controls",
            "_model_module_version": "1.5.0",
            "_model_name": "VBoxModel",
            "_view_count": null,
            "_view_module": "@jupyter-widgets/controls",
            "_view_module_version": "1.5.0",
            "_view_name": "VBoxView",
            "box_style": "",
            "children": [
              "IPY_MODEL_99fd321c96ab4340b3ab671dfc70501a",
              "IPY_MODEL_00c8e29de923409eabf73f4b4bcdecd7"
            ],
            "layout": "IPY_MODEL_edf5e353a4e04b3cbf94bb8a375f7c00"
          }
        },
        "99fd321c96ab4340b3ab671dfc70501a": {
          "model_module": "@jupyter-widgets/controls",
          "model_name": "LabelModel",
          "model_module_version": "1.5.0",
          "state": {
            "_dom_classes": [],
            "_model_module": "@jupyter-widgets/controls",
            "_model_module_version": "1.5.0",
            "_model_name": "LabelModel",
            "_view_count": null,
            "_view_module": "@jupyter-widgets/controls",
            "_view_module_version": "1.5.0",
            "_view_name": "LabelView",
            "description": "",
            "description_tooltip": null,
            "layout": "IPY_MODEL_ebe8a2a9c99f4fbe89603302c4608e6d",
            "placeholder": "​",
            "style": "IPY_MODEL_1e26f7c976b749d2b11c0ea4ff44e7e4",
            "value": "287.539 MB of 287.539 MB uploaded (10.253 MB deduped)\r"
          }
        },
        "00c8e29de923409eabf73f4b4bcdecd7": {
          "model_module": "@jupyter-widgets/controls",
          "model_name": "FloatProgressModel",
          "model_module_version": "1.5.0",
          "state": {
            "_dom_classes": [],
            "_model_module": "@jupyter-widgets/controls",
            "_model_module_version": "1.5.0",
            "_model_name": "FloatProgressModel",
            "_view_count": null,
            "_view_module": "@jupyter-widgets/controls",
            "_view_module_version": "1.5.0",
            "_view_name": "ProgressView",
            "bar_style": "",
            "description": "",
            "description_tooltip": null,
            "layout": "IPY_MODEL_f64a2fec9e484f1d9a3036cbb275d545",
            "max": 1,
            "min": 0,
            "orientation": "horizontal",
            "style": "IPY_MODEL_5eabe621b9a54badb1914620cf3d8953",
            "value": 1
          }
        },
        "edf5e353a4e04b3cbf94bb8a375f7c00": {
          "model_module": "@jupyter-widgets/base",
          "model_name": "LayoutModel",
          "model_module_version": "1.2.0",
          "state": {
            "_model_module": "@jupyter-widgets/base",
            "_model_module_version": "1.2.0",
            "_model_name": "LayoutModel",
            "_view_count": null,
            "_view_module": "@jupyter-widgets/base",
            "_view_module_version": "1.2.0",
            "_view_name": "LayoutView",
            "align_content": null,
            "align_items": null,
            "align_self": null,
            "border": null,
            "bottom": null,
            "display": null,
            "flex": null,
            "flex_flow": null,
            "grid_area": null,
            "grid_auto_columns": null,
            "grid_auto_flow": null,
            "grid_auto_rows": null,
            "grid_column": null,
            "grid_gap": null,
            "grid_row": null,
            "grid_template_areas": null,
            "grid_template_columns": null,
            "grid_template_rows": null,
            "height": null,
            "justify_content": null,
            "justify_items": null,
            "left": null,
            "margin": null,
            "max_height": null,
            "max_width": null,
            "min_height": null,
            "min_width": null,
            "object_fit": null,
            "object_position": null,
            "order": null,
            "overflow": null,
            "overflow_x": null,
            "overflow_y": null,
            "padding": null,
            "right": null,
            "top": null,
            "visibility": null,
            "width": null
          }
        },
        "ebe8a2a9c99f4fbe89603302c4608e6d": {
          "model_module": "@jupyter-widgets/base",
          "model_name": "LayoutModel",
          "model_module_version": "1.2.0",
          "state": {
            "_model_module": "@jupyter-widgets/base",
            "_model_module_version": "1.2.0",
            "_model_name": "LayoutModel",
            "_view_count": null,
            "_view_module": "@jupyter-widgets/base",
            "_view_module_version": "1.2.0",
            "_view_name": "LayoutView",
            "align_content": null,
            "align_items": null,
            "align_self": null,
            "border": null,
            "bottom": null,
            "display": null,
            "flex": null,
            "flex_flow": null,
            "grid_area": null,
            "grid_auto_columns": null,
            "grid_auto_flow": null,
            "grid_auto_rows": null,
            "grid_column": null,
            "grid_gap": null,
            "grid_row": null,
            "grid_template_areas": null,
            "grid_template_columns": null,
            "grid_template_rows": null,
            "height": null,
            "justify_content": null,
            "justify_items": null,
            "left": null,
            "margin": null,
            "max_height": null,
            "max_width": null,
            "min_height": null,
            "min_width": null,
            "object_fit": null,
            "object_position": null,
            "order": null,
            "overflow": null,
            "overflow_x": null,
            "overflow_y": null,
            "padding": null,
            "right": null,
            "top": null,
            "visibility": null,
            "width": null
          }
        },
        "1e26f7c976b749d2b11c0ea4ff44e7e4": {
          "model_module": "@jupyter-widgets/controls",
          "model_name": "DescriptionStyleModel",
          "model_module_version": "1.5.0",
          "state": {
            "_model_module": "@jupyter-widgets/controls",
            "_model_module_version": "1.5.0",
            "_model_name": "DescriptionStyleModel",
            "_view_count": null,
            "_view_module": "@jupyter-widgets/base",
            "_view_module_version": "1.2.0",
            "_view_name": "StyleView",
            "description_width": ""
          }
        },
        "f64a2fec9e484f1d9a3036cbb275d545": {
          "model_module": "@jupyter-widgets/base",
          "model_name": "LayoutModel",
          "model_module_version": "1.2.0",
          "state": {
            "_model_module": "@jupyter-widgets/base",
            "_model_module_version": "1.2.0",
            "_model_name": "LayoutModel",
            "_view_count": null,
            "_view_module": "@jupyter-widgets/base",
            "_view_module_version": "1.2.0",
            "_view_name": "LayoutView",
            "align_content": null,
            "align_items": null,
            "align_self": null,
            "border": null,
            "bottom": null,
            "display": null,
            "flex": null,
            "flex_flow": null,
            "grid_area": null,
            "grid_auto_columns": null,
            "grid_auto_flow": null,
            "grid_auto_rows": null,
            "grid_column": null,
            "grid_gap": null,
            "grid_row": null,
            "grid_template_areas": null,
            "grid_template_columns": null,
            "grid_template_rows": null,
            "height": null,
            "justify_content": null,
            "justify_items": null,
            "left": null,
            "margin": null,
            "max_height": null,
            "max_width": null,
            "min_height": null,
            "min_width": null,
            "object_fit": null,
            "object_position": null,
            "order": null,
            "overflow": null,
            "overflow_x": null,
            "overflow_y": null,
            "padding": null,
            "right": null,
            "top": null,
            "visibility": null,
            "width": null
          }
        },
        "5eabe621b9a54badb1914620cf3d8953": {
          "model_module": "@jupyter-widgets/controls",
          "model_name": "ProgressStyleModel",
          "model_module_version": "1.5.0",
          "state": {
            "_model_module": "@jupyter-widgets/controls",
            "_model_module_version": "1.5.0",
            "_model_name": "ProgressStyleModel",
            "_view_count": null,
            "_view_module": "@jupyter-widgets/base",
            "_view_module_version": "1.2.0",
            "_view_name": "StyleView",
            "bar_color": null,
            "description_width": ""
          }
        },
        "4abb6bc1dd2f47da90264a788af38f66": {
          "model_module": "@jupyter-widgets/controls",
          "model_name": "VBoxModel",
          "model_module_version": "1.5.0",
          "state": {
            "_dom_classes": [],
            "_model_module": "@jupyter-widgets/controls",
            "_model_module_version": "1.5.0",
            "_model_name": "VBoxModel",
            "_view_count": null,
            "_view_module": "@jupyter-widgets/controls",
            "_view_module_version": "1.5.0",
            "_view_name": "VBoxView",
            "box_style": "",
            "children": [
              "IPY_MODEL_22c13f68595a45fea0d0797eaefea065",
              "IPY_MODEL_832ba875e63540b993e4e70fe52730cf"
            ],
            "layout": "IPY_MODEL_5e06571fa41e43c5983da02efa944092"
          }
        },
        "22c13f68595a45fea0d0797eaefea065": {
          "model_module": "@jupyter-widgets/controls",
          "model_name": "LabelModel",
          "model_module_version": "1.5.0",
          "state": {
            "_dom_classes": [],
            "_model_module": "@jupyter-widgets/controls",
            "_model_module_version": "1.5.0",
            "_model_name": "LabelModel",
            "_view_count": null,
            "_view_module": "@jupyter-widgets/controls",
            "_view_module_version": "1.5.0",
            "_view_name": "LabelView",
            "description": "",
            "description_tooltip": null,
            "layout": "IPY_MODEL_81b9588ec93c4245bd452ee8a7a3eaf1",
            "placeholder": "​",
            "style": "IPY_MODEL_37a91a15cfc847db808fd9cc10377ff2",
            "value": "319.568 MB of 319.568 MB uploaded (10.253 MB deduped)\r"
          }
        },
        "832ba875e63540b993e4e70fe52730cf": {
          "model_module": "@jupyter-widgets/controls",
          "model_name": "FloatProgressModel",
          "model_module_version": "1.5.0",
          "state": {
            "_dom_classes": [],
            "_model_module": "@jupyter-widgets/controls",
            "_model_module_version": "1.5.0",
            "_model_name": "FloatProgressModel",
            "_view_count": null,
            "_view_module": "@jupyter-widgets/controls",
            "_view_module_version": "1.5.0",
            "_view_name": "ProgressView",
            "bar_style": "",
            "description": "",
            "description_tooltip": null,
            "layout": "IPY_MODEL_bae1053ef09d49e4b460013d00c60c37",
            "max": 1,
            "min": 0,
            "orientation": "horizontal",
            "style": "IPY_MODEL_8a95375e58584b909c3d49f2c1c38e63",
            "value": 1
          }
        },
        "5e06571fa41e43c5983da02efa944092": {
          "model_module": "@jupyter-widgets/base",
          "model_name": "LayoutModel",
          "model_module_version": "1.2.0",
          "state": {
            "_model_module": "@jupyter-widgets/base",
            "_model_module_version": "1.2.0",
            "_model_name": "LayoutModel",
            "_view_count": null,
            "_view_module": "@jupyter-widgets/base",
            "_view_module_version": "1.2.0",
            "_view_name": "LayoutView",
            "align_content": null,
            "align_items": null,
            "align_self": null,
            "border": null,
            "bottom": null,
            "display": null,
            "flex": null,
            "flex_flow": null,
            "grid_area": null,
            "grid_auto_columns": null,
            "grid_auto_flow": null,
            "grid_auto_rows": null,
            "grid_column": null,
            "grid_gap": null,
            "grid_row": null,
            "grid_template_areas": null,
            "grid_template_columns": null,
            "grid_template_rows": null,
            "height": null,
            "justify_content": null,
            "justify_items": null,
            "left": null,
            "margin": null,
            "max_height": null,
            "max_width": null,
            "min_height": null,
            "min_width": null,
            "object_fit": null,
            "object_position": null,
            "order": null,
            "overflow": null,
            "overflow_x": null,
            "overflow_y": null,
            "padding": null,
            "right": null,
            "top": null,
            "visibility": null,
            "width": null
          }
        },
        "81b9588ec93c4245bd452ee8a7a3eaf1": {
          "model_module": "@jupyter-widgets/base",
          "model_name": "LayoutModel",
          "model_module_version": "1.2.0",
          "state": {
            "_model_module": "@jupyter-widgets/base",
            "_model_module_version": "1.2.0",
            "_model_name": "LayoutModel",
            "_view_count": null,
            "_view_module": "@jupyter-widgets/base",
            "_view_module_version": "1.2.0",
            "_view_name": "LayoutView",
            "align_content": null,
            "align_items": null,
            "align_self": null,
            "border": null,
            "bottom": null,
            "display": null,
            "flex": null,
            "flex_flow": null,
            "grid_area": null,
            "grid_auto_columns": null,
            "grid_auto_flow": null,
            "grid_auto_rows": null,
            "grid_column": null,
            "grid_gap": null,
            "grid_row": null,
            "grid_template_areas": null,
            "grid_template_columns": null,
            "grid_template_rows": null,
            "height": null,
            "justify_content": null,
            "justify_items": null,
            "left": null,
            "margin": null,
            "max_height": null,
            "max_width": null,
            "min_height": null,
            "min_width": null,
            "object_fit": null,
            "object_position": null,
            "order": null,
            "overflow": null,
            "overflow_x": null,
            "overflow_y": null,
            "padding": null,
            "right": null,
            "top": null,
            "visibility": null,
            "width": null
          }
        },
        "37a91a15cfc847db808fd9cc10377ff2": {
          "model_module": "@jupyter-widgets/controls",
          "model_name": "DescriptionStyleModel",
          "model_module_version": "1.5.0",
          "state": {
            "_model_module": "@jupyter-widgets/controls",
            "_model_module_version": "1.5.0",
            "_model_name": "DescriptionStyleModel",
            "_view_count": null,
            "_view_module": "@jupyter-widgets/base",
            "_view_module_version": "1.2.0",
            "_view_name": "StyleView",
            "description_width": ""
          }
        },
        "bae1053ef09d49e4b460013d00c60c37": {
          "model_module": "@jupyter-widgets/base",
          "model_name": "LayoutModel",
          "model_module_version": "1.2.0",
          "state": {
            "_model_module": "@jupyter-widgets/base",
            "_model_module_version": "1.2.0",
            "_model_name": "LayoutModel",
            "_view_count": null,
            "_view_module": "@jupyter-widgets/base",
            "_view_module_version": "1.2.0",
            "_view_name": "LayoutView",
            "align_content": null,
            "align_items": null,
            "align_self": null,
            "border": null,
            "bottom": null,
            "display": null,
            "flex": null,
            "flex_flow": null,
            "grid_area": null,
            "grid_auto_columns": null,
            "grid_auto_flow": null,
            "grid_auto_rows": null,
            "grid_column": null,
            "grid_gap": null,
            "grid_row": null,
            "grid_template_areas": null,
            "grid_template_columns": null,
            "grid_template_rows": null,
            "height": null,
            "justify_content": null,
            "justify_items": null,
            "left": null,
            "margin": null,
            "max_height": null,
            "max_width": null,
            "min_height": null,
            "min_width": null,
            "object_fit": null,
            "object_position": null,
            "order": null,
            "overflow": null,
            "overflow_x": null,
            "overflow_y": null,
            "padding": null,
            "right": null,
            "top": null,
            "visibility": null,
            "width": null
          }
        },
        "8a95375e58584b909c3d49f2c1c38e63": {
          "model_module": "@jupyter-widgets/controls",
          "model_name": "ProgressStyleModel",
          "model_module_version": "1.5.0",
          "state": {
            "_model_module": "@jupyter-widgets/controls",
            "_model_module_version": "1.5.0",
            "_model_name": "ProgressStyleModel",
            "_view_count": null,
            "_view_module": "@jupyter-widgets/base",
            "_view_module_version": "1.2.0",
            "_view_name": "StyleView",
            "bar_color": null,
            "description_width": ""
          }
        },
        "6e0cc352334b45889d4f38303672de46": {
          "model_module": "@jupyter-widgets/controls",
          "model_name": "VBoxModel",
          "model_module_version": "1.5.0",
          "state": {
            "_dom_classes": [],
            "_model_module": "@jupyter-widgets/controls",
            "_model_module_version": "1.5.0",
            "_model_name": "VBoxModel",
            "_view_count": null,
            "_view_module": "@jupyter-widgets/controls",
            "_view_module_version": "1.5.0",
            "_view_name": "VBoxView",
            "box_style": "",
            "children": [
              "IPY_MODEL_733777ed1cfe4660af136a8dc75204b5",
              "IPY_MODEL_e4e6b6ee29b545cf887429884032d26f"
            ],
            "layout": "IPY_MODEL_1a1e00174b724cec8a609034187322c2"
          }
        },
        "733777ed1cfe4660af136a8dc75204b5": {
          "model_module": "@jupyter-widgets/controls",
          "model_name": "LabelModel",
          "model_module_version": "1.5.0",
          "state": {
            "_dom_classes": [],
            "_model_module": "@jupyter-widgets/controls",
            "_model_module_version": "1.5.0",
            "_model_name": "LabelModel",
            "_view_count": null,
            "_view_module": "@jupyter-widgets/controls",
            "_view_module_version": "1.5.0",
            "_view_name": "LabelView",
            "description": "",
            "description_tooltip": null,
            "layout": "IPY_MODEL_d8670dceec9c40b1b0fb77a94959c8ee",
            "placeholder": "​",
            "style": "IPY_MODEL_7fe71447e426405aac9d0f555b86f382",
            "value": "277.353 MB of 277.353 MB uploaded (0.000 MB deduped)\r"
          }
        },
        "e4e6b6ee29b545cf887429884032d26f": {
          "model_module": "@jupyter-widgets/controls",
          "model_name": "FloatProgressModel",
          "model_module_version": "1.5.0",
          "state": {
            "_dom_classes": [],
            "_model_module": "@jupyter-widgets/controls",
            "_model_module_version": "1.5.0",
            "_model_name": "FloatProgressModel",
            "_view_count": null,
            "_view_module": "@jupyter-widgets/controls",
            "_view_module_version": "1.5.0",
            "_view_name": "ProgressView",
            "bar_style": "",
            "description": "",
            "description_tooltip": null,
            "layout": "IPY_MODEL_b57855a38fdd42e6b41ef54fc3ffaeda",
            "max": 1,
            "min": 0,
            "orientation": "horizontal",
            "style": "IPY_MODEL_536ccc30552a4bc6bdbfbc80ee92459f",
            "value": 1
          }
        },
        "1a1e00174b724cec8a609034187322c2": {
          "model_module": "@jupyter-widgets/base",
          "model_name": "LayoutModel",
          "model_module_version": "1.2.0",
          "state": {
            "_model_module": "@jupyter-widgets/base",
            "_model_module_version": "1.2.0",
            "_model_name": "LayoutModel",
            "_view_count": null,
            "_view_module": "@jupyter-widgets/base",
            "_view_module_version": "1.2.0",
            "_view_name": "LayoutView",
            "align_content": null,
            "align_items": null,
            "align_self": null,
            "border": null,
            "bottom": null,
            "display": null,
            "flex": null,
            "flex_flow": null,
            "grid_area": null,
            "grid_auto_columns": null,
            "grid_auto_flow": null,
            "grid_auto_rows": null,
            "grid_column": null,
            "grid_gap": null,
            "grid_row": null,
            "grid_template_areas": null,
            "grid_template_columns": null,
            "grid_template_rows": null,
            "height": null,
            "justify_content": null,
            "justify_items": null,
            "left": null,
            "margin": null,
            "max_height": null,
            "max_width": null,
            "min_height": null,
            "min_width": null,
            "object_fit": null,
            "object_position": null,
            "order": null,
            "overflow": null,
            "overflow_x": null,
            "overflow_y": null,
            "padding": null,
            "right": null,
            "top": null,
            "visibility": null,
            "width": null
          }
        },
        "d8670dceec9c40b1b0fb77a94959c8ee": {
          "model_module": "@jupyter-widgets/base",
          "model_name": "LayoutModel",
          "model_module_version": "1.2.0",
          "state": {
            "_model_module": "@jupyter-widgets/base",
            "_model_module_version": "1.2.0",
            "_model_name": "LayoutModel",
            "_view_count": null,
            "_view_module": "@jupyter-widgets/base",
            "_view_module_version": "1.2.0",
            "_view_name": "LayoutView",
            "align_content": null,
            "align_items": null,
            "align_self": null,
            "border": null,
            "bottom": null,
            "display": null,
            "flex": null,
            "flex_flow": null,
            "grid_area": null,
            "grid_auto_columns": null,
            "grid_auto_flow": null,
            "grid_auto_rows": null,
            "grid_column": null,
            "grid_gap": null,
            "grid_row": null,
            "grid_template_areas": null,
            "grid_template_columns": null,
            "grid_template_rows": null,
            "height": null,
            "justify_content": null,
            "justify_items": null,
            "left": null,
            "margin": null,
            "max_height": null,
            "max_width": null,
            "min_height": null,
            "min_width": null,
            "object_fit": null,
            "object_position": null,
            "order": null,
            "overflow": null,
            "overflow_x": null,
            "overflow_y": null,
            "padding": null,
            "right": null,
            "top": null,
            "visibility": null,
            "width": null
          }
        },
        "7fe71447e426405aac9d0f555b86f382": {
          "model_module": "@jupyter-widgets/controls",
          "model_name": "DescriptionStyleModel",
          "model_module_version": "1.5.0",
          "state": {
            "_model_module": "@jupyter-widgets/controls",
            "_model_module_version": "1.5.0",
            "_model_name": "DescriptionStyleModel",
            "_view_count": null,
            "_view_module": "@jupyter-widgets/base",
            "_view_module_version": "1.2.0",
            "_view_name": "StyleView",
            "description_width": ""
          }
        },
        "b57855a38fdd42e6b41ef54fc3ffaeda": {
          "model_module": "@jupyter-widgets/base",
          "model_name": "LayoutModel",
          "model_module_version": "1.2.0",
          "state": {
            "_model_module": "@jupyter-widgets/base",
            "_model_module_version": "1.2.0",
            "_model_name": "LayoutModel",
            "_view_count": null,
            "_view_module": "@jupyter-widgets/base",
            "_view_module_version": "1.2.0",
            "_view_name": "LayoutView",
            "align_content": null,
            "align_items": null,
            "align_self": null,
            "border": null,
            "bottom": null,
            "display": null,
            "flex": null,
            "flex_flow": null,
            "grid_area": null,
            "grid_auto_columns": null,
            "grid_auto_flow": null,
            "grid_auto_rows": null,
            "grid_column": null,
            "grid_gap": null,
            "grid_row": null,
            "grid_template_areas": null,
            "grid_template_columns": null,
            "grid_template_rows": null,
            "height": null,
            "justify_content": null,
            "justify_items": null,
            "left": null,
            "margin": null,
            "max_height": null,
            "max_width": null,
            "min_height": null,
            "min_width": null,
            "object_fit": null,
            "object_position": null,
            "order": null,
            "overflow": null,
            "overflow_x": null,
            "overflow_y": null,
            "padding": null,
            "right": null,
            "top": null,
            "visibility": null,
            "width": null
          }
        },
        "536ccc30552a4bc6bdbfbc80ee92459f": {
          "model_module": "@jupyter-widgets/controls",
          "model_name": "ProgressStyleModel",
          "model_module_version": "1.5.0",
          "state": {
            "_model_module": "@jupyter-widgets/controls",
            "_model_module_version": "1.5.0",
            "_model_name": "ProgressStyleModel",
            "_view_count": null,
            "_view_module": "@jupyter-widgets/base",
            "_view_module_version": "1.2.0",
            "_view_name": "StyleView",
            "bar_color": null,
            "description_width": ""
          }
        },
        "fec9f7bd670147079f829bcf7378ecbc": {
          "model_module": "@jupyter-widgets/controls",
          "model_name": "VBoxModel",
          "model_module_version": "1.5.0",
          "state": {
            "_dom_classes": [],
            "_model_module": "@jupyter-widgets/controls",
            "_model_module_version": "1.5.0",
            "_model_name": "VBoxModel",
            "_view_count": null,
            "_view_module": "@jupyter-widgets/controls",
            "_view_module_version": "1.5.0",
            "_view_name": "VBoxView",
            "box_style": "",
            "children": [
              "IPY_MODEL_6295bc597c914baeb729f1379ecd8b42",
              "IPY_MODEL_b0c6c2f7e1cc416cab38864ef180e06c"
            ],
            "layout": "IPY_MODEL_7912703155be4836a23fa8c31a517ebe"
          }
        },
        "6295bc597c914baeb729f1379ecd8b42": {
          "model_module": "@jupyter-widgets/controls",
          "model_name": "LabelModel",
          "model_module_version": "1.5.0",
          "state": {
            "_dom_classes": [],
            "_model_module": "@jupyter-widgets/controls",
            "_model_module_version": "1.5.0",
            "_model_name": "LabelModel",
            "_view_count": null,
            "_view_module": "@jupyter-widgets/controls",
            "_view_module_version": "1.5.0",
            "_view_name": "LabelView",
            "description": "",
            "description_tooltip": null,
            "layout": "IPY_MODEL_11e653fb27d548c4a5d105cb527cfe34",
            "placeholder": "​",
            "style": "IPY_MODEL_9e12289917f24cbc9d5d2f70b58cb143",
            "value": "287.507 MB of 287.507 MB uploaded (10.253 MB deduped)\r"
          }
        },
        "b0c6c2f7e1cc416cab38864ef180e06c": {
          "model_module": "@jupyter-widgets/controls",
          "model_name": "FloatProgressModel",
          "model_module_version": "1.5.0",
          "state": {
            "_dom_classes": [],
            "_model_module": "@jupyter-widgets/controls",
            "_model_module_version": "1.5.0",
            "_model_name": "FloatProgressModel",
            "_view_count": null,
            "_view_module": "@jupyter-widgets/controls",
            "_view_module_version": "1.5.0",
            "_view_name": "ProgressView",
            "bar_style": "",
            "description": "",
            "description_tooltip": null,
            "layout": "IPY_MODEL_c855376023d047c1b0893812ca97c600",
            "max": 1,
            "min": 0,
            "orientation": "horizontal",
            "style": "IPY_MODEL_3af1bde3b44e422ab6f6d03b59057e90",
            "value": 1
          }
        },
        "7912703155be4836a23fa8c31a517ebe": {
          "model_module": "@jupyter-widgets/base",
          "model_name": "LayoutModel",
          "model_module_version": "1.2.0",
          "state": {
            "_model_module": "@jupyter-widgets/base",
            "_model_module_version": "1.2.0",
            "_model_name": "LayoutModel",
            "_view_count": null,
            "_view_module": "@jupyter-widgets/base",
            "_view_module_version": "1.2.0",
            "_view_name": "LayoutView",
            "align_content": null,
            "align_items": null,
            "align_self": null,
            "border": null,
            "bottom": null,
            "display": null,
            "flex": null,
            "flex_flow": null,
            "grid_area": null,
            "grid_auto_columns": null,
            "grid_auto_flow": null,
            "grid_auto_rows": null,
            "grid_column": null,
            "grid_gap": null,
            "grid_row": null,
            "grid_template_areas": null,
            "grid_template_columns": null,
            "grid_template_rows": null,
            "height": null,
            "justify_content": null,
            "justify_items": null,
            "left": null,
            "margin": null,
            "max_height": null,
            "max_width": null,
            "min_height": null,
            "min_width": null,
            "object_fit": null,
            "object_position": null,
            "order": null,
            "overflow": null,
            "overflow_x": null,
            "overflow_y": null,
            "padding": null,
            "right": null,
            "top": null,
            "visibility": null,
            "width": null
          }
        },
        "11e653fb27d548c4a5d105cb527cfe34": {
          "model_module": "@jupyter-widgets/base",
          "model_name": "LayoutModel",
          "model_module_version": "1.2.0",
          "state": {
            "_model_module": "@jupyter-widgets/base",
            "_model_module_version": "1.2.0",
            "_model_name": "LayoutModel",
            "_view_count": null,
            "_view_module": "@jupyter-widgets/base",
            "_view_module_version": "1.2.0",
            "_view_name": "LayoutView",
            "align_content": null,
            "align_items": null,
            "align_self": null,
            "border": null,
            "bottom": null,
            "display": null,
            "flex": null,
            "flex_flow": null,
            "grid_area": null,
            "grid_auto_columns": null,
            "grid_auto_flow": null,
            "grid_auto_rows": null,
            "grid_column": null,
            "grid_gap": null,
            "grid_row": null,
            "grid_template_areas": null,
            "grid_template_columns": null,
            "grid_template_rows": null,
            "height": null,
            "justify_content": null,
            "justify_items": null,
            "left": null,
            "margin": null,
            "max_height": null,
            "max_width": null,
            "min_height": null,
            "min_width": null,
            "object_fit": null,
            "object_position": null,
            "order": null,
            "overflow": null,
            "overflow_x": null,
            "overflow_y": null,
            "padding": null,
            "right": null,
            "top": null,
            "visibility": null,
            "width": null
          }
        },
        "9e12289917f24cbc9d5d2f70b58cb143": {
          "model_module": "@jupyter-widgets/controls",
          "model_name": "DescriptionStyleModel",
          "model_module_version": "1.5.0",
          "state": {
            "_model_module": "@jupyter-widgets/controls",
            "_model_module_version": "1.5.0",
            "_model_name": "DescriptionStyleModel",
            "_view_count": null,
            "_view_module": "@jupyter-widgets/base",
            "_view_module_version": "1.2.0",
            "_view_name": "StyleView",
            "description_width": ""
          }
        },
        "c855376023d047c1b0893812ca97c600": {
          "model_module": "@jupyter-widgets/base",
          "model_name": "LayoutModel",
          "model_module_version": "1.2.0",
          "state": {
            "_model_module": "@jupyter-widgets/base",
            "_model_module_version": "1.2.0",
            "_model_name": "LayoutModel",
            "_view_count": null,
            "_view_module": "@jupyter-widgets/base",
            "_view_module_version": "1.2.0",
            "_view_name": "LayoutView",
            "align_content": null,
            "align_items": null,
            "align_self": null,
            "border": null,
            "bottom": null,
            "display": null,
            "flex": null,
            "flex_flow": null,
            "grid_area": null,
            "grid_auto_columns": null,
            "grid_auto_flow": null,
            "grid_auto_rows": null,
            "grid_column": null,
            "grid_gap": null,
            "grid_row": null,
            "grid_template_areas": null,
            "grid_template_columns": null,
            "grid_template_rows": null,
            "height": null,
            "justify_content": null,
            "justify_items": null,
            "left": null,
            "margin": null,
            "max_height": null,
            "max_width": null,
            "min_height": null,
            "min_width": null,
            "object_fit": null,
            "object_position": null,
            "order": null,
            "overflow": null,
            "overflow_x": null,
            "overflow_y": null,
            "padding": null,
            "right": null,
            "top": null,
            "visibility": null,
            "width": null
          }
        },
        "3af1bde3b44e422ab6f6d03b59057e90": {
          "model_module": "@jupyter-widgets/controls",
          "model_name": "ProgressStyleModel",
          "model_module_version": "1.5.0",
          "state": {
            "_model_module": "@jupyter-widgets/controls",
            "_model_module_version": "1.5.0",
            "_model_name": "ProgressStyleModel",
            "_view_count": null,
            "_view_module": "@jupyter-widgets/base",
            "_view_module_version": "1.2.0",
            "_view_name": "StyleView",
            "bar_color": null,
            "description_width": ""
          }
        },
        "ddebb73731de48eaae762bb29fc94e4f": {
          "model_module": "@jupyter-widgets/controls",
          "model_name": "VBoxModel",
          "model_module_version": "1.5.0",
          "state": {
            "_dom_classes": [],
            "_model_module": "@jupyter-widgets/controls",
            "_model_module_version": "1.5.0",
            "_model_name": "VBoxModel",
            "_view_count": null,
            "_view_module": "@jupyter-widgets/controls",
            "_view_module_version": "1.5.0",
            "_view_name": "VBoxView",
            "box_style": "",
            "children": [
              "IPY_MODEL_d646572549b946c09e31263d6ee43f70",
              "IPY_MODEL_7252c8b07a604d089524489f86aca2b7"
            ],
            "layout": "IPY_MODEL_1b2e028418eb4887aca489fead11e17a"
          }
        },
        "d646572549b946c09e31263d6ee43f70": {
          "model_module": "@jupyter-widgets/controls",
          "model_name": "LabelModel",
          "model_module_version": "1.5.0",
          "state": {
            "_dom_classes": [],
            "_model_module": "@jupyter-widgets/controls",
            "_model_module_version": "1.5.0",
            "_model_name": "LabelModel",
            "_view_count": null,
            "_view_module": "@jupyter-widgets/controls",
            "_view_module_version": "1.5.0",
            "_view_name": "LabelView",
            "description": "",
            "description_tooltip": null,
            "layout": "IPY_MODEL_6ea9ce8845864c6993651171cec1047b",
            "placeholder": "​",
            "style": "IPY_MODEL_640248d3efca4aa6afb3c48f8829eec8",
            "value": "277.255 MB of 277.255 MB uploaded (0.000 MB deduped)\r"
          }
        },
        "7252c8b07a604d089524489f86aca2b7": {
          "model_module": "@jupyter-widgets/controls",
          "model_name": "FloatProgressModel",
          "model_module_version": "1.5.0",
          "state": {
            "_dom_classes": [],
            "_model_module": "@jupyter-widgets/controls",
            "_model_module_version": "1.5.0",
            "_model_name": "FloatProgressModel",
            "_view_count": null,
            "_view_module": "@jupyter-widgets/controls",
            "_view_module_version": "1.5.0",
            "_view_name": "ProgressView",
            "bar_style": "",
            "description": "",
            "description_tooltip": null,
            "layout": "IPY_MODEL_73caaf85be2e492e8d4a4dcd6a471ba0",
            "max": 1,
            "min": 0,
            "orientation": "horizontal",
            "style": "IPY_MODEL_8a50718bfe4044a09c85da2153a390c5",
            "value": 1
          }
        },
        "1b2e028418eb4887aca489fead11e17a": {
          "model_module": "@jupyter-widgets/base",
          "model_name": "LayoutModel",
          "model_module_version": "1.2.0",
          "state": {
            "_model_module": "@jupyter-widgets/base",
            "_model_module_version": "1.2.0",
            "_model_name": "LayoutModel",
            "_view_count": null,
            "_view_module": "@jupyter-widgets/base",
            "_view_module_version": "1.2.0",
            "_view_name": "LayoutView",
            "align_content": null,
            "align_items": null,
            "align_self": null,
            "border": null,
            "bottom": null,
            "display": null,
            "flex": null,
            "flex_flow": null,
            "grid_area": null,
            "grid_auto_columns": null,
            "grid_auto_flow": null,
            "grid_auto_rows": null,
            "grid_column": null,
            "grid_gap": null,
            "grid_row": null,
            "grid_template_areas": null,
            "grid_template_columns": null,
            "grid_template_rows": null,
            "height": null,
            "justify_content": null,
            "justify_items": null,
            "left": null,
            "margin": null,
            "max_height": null,
            "max_width": null,
            "min_height": null,
            "min_width": null,
            "object_fit": null,
            "object_position": null,
            "order": null,
            "overflow": null,
            "overflow_x": null,
            "overflow_y": null,
            "padding": null,
            "right": null,
            "top": null,
            "visibility": null,
            "width": null
          }
        },
        "6ea9ce8845864c6993651171cec1047b": {
          "model_module": "@jupyter-widgets/base",
          "model_name": "LayoutModel",
          "model_module_version": "1.2.0",
          "state": {
            "_model_module": "@jupyter-widgets/base",
            "_model_module_version": "1.2.0",
            "_model_name": "LayoutModel",
            "_view_count": null,
            "_view_module": "@jupyter-widgets/base",
            "_view_module_version": "1.2.0",
            "_view_name": "LayoutView",
            "align_content": null,
            "align_items": null,
            "align_self": null,
            "border": null,
            "bottom": null,
            "display": null,
            "flex": null,
            "flex_flow": null,
            "grid_area": null,
            "grid_auto_columns": null,
            "grid_auto_flow": null,
            "grid_auto_rows": null,
            "grid_column": null,
            "grid_gap": null,
            "grid_row": null,
            "grid_template_areas": null,
            "grid_template_columns": null,
            "grid_template_rows": null,
            "height": null,
            "justify_content": null,
            "justify_items": null,
            "left": null,
            "margin": null,
            "max_height": null,
            "max_width": null,
            "min_height": null,
            "min_width": null,
            "object_fit": null,
            "object_position": null,
            "order": null,
            "overflow": null,
            "overflow_x": null,
            "overflow_y": null,
            "padding": null,
            "right": null,
            "top": null,
            "visibility": null,
            "width": null
          }
        },
        "640248d3efca4aa6afb3c48f8829eec8": {
          "model_module": "@jupyter-widgets/controls",
          "model_name": "DescriptionStyleModel",
          "model_module_version": "1.5.0",
          "state": {
            "_model_module": "@jupyter-widgets/controls",
            "_model_module_version": "1.5.0",
            "_model_name": "DescriptionStyleModel",
            "_view_count": null,
            "_view_module": "@jupyter-widgets/base",
            "_view_module_version": "1.2.0",
            "_view_name": "StyleView",
            "description_width": ""
          }
        },
        "73caaf85be2e492e8d4a4dcd6a471ba0": {
          "model_module": "@jupyter-widgets/base",
          "model_name": "LayoutModel",
          "model_module_version": "1.2.0",
          "state": {
            "_model_module": "@jupyter-widgets/base",
            "_model_module_version": "1.2.0",
            "_model_name": "LayoutModel",
            "_view_count": null,
            "_view_module": "@jupyter-widgets/base",
            "_view_module_version": "1.2.0",
            "_view_name": "LayoutView",
            "align_content": null,
            "align_items": null,
            "align_self": null,
            "border": null,
            "bottom": null,
            "display": null,
            "flex": null,
            "flex_flow": null,
            "grid_area": null,
            "grid_auto_columns": null,
            "grid_auto_flow": null,
            "grid_auto_rows": null,
            "grid_column": null,
            "grid_gap": null,
            "grid_row": null,
            "grid_template_areas": null,
            "grid_template_columns": null,
            "grid_template_rows": null,
            "height": null,
            "justify_content": null,
            "justify_items": null,
            "left": null,
            "margin": null,
            "max_height": null,
            "max_width": null,
            "min_height": null,
            "min_width": null,
            "object_fit": null,
            "object_position": null,
            "order": null,
            "overflow": null,
            "overflow_x": null,
            "overflow_y": null,
            "padding": null,
            "right": null,
            "top": null,
            "visibility": null,
            "width": null
          }
        },
        "8a50718bfe4044a09c85da2153a390c5": {
          "model_module": "@jupyter-widgets/controls",
          "model_name": "ProgressStyleModel",
          "model_module_version": "1.5.0",
          "state": {
            "_model_module": "@jupyter-widgets/controls",
            "_model_module_version": "1.5.0",
            "_model_name": "ProgressStyleModel",
            "_view_count": null,
            "_view_module": "@jupyter-widgets/base",
            "_view_module_version": "1.2.0",
            "_view_name": "StyleView",
            "bar_color": null,
            "description_width": ""
          }
        },
        "a8d57efc06674b0695285facc08b9e30": {
          "model_module": "@jupyter-widgets/controls",
          "model_name": "VBoxModel",
          "model_module_version": "1.5.0",
          "state": {
            "_dom_classes": [],
            "_model_module": "@jupyter-widgets/controls",
            "_model_module_version": "1.5.0",
            "_model_name": "VBoxModel",
            "_view_count": null,
            "_view_module": "@jupyter-widgets/controls",
            "_view_module_version": "1.5.0",
            "_view_name": "VBoxView",
            "box_style": "",
            "children": [
              "IPY_MODEL_900883317f7541d1956b90204831e4ec",
              "IPY_MODEL_a6c49485c8e34ce78f0c70f8d37a2c1e"
            ],
            "layout": "IPY_MODEL_9817ed206e6b4f0ab084bc010dd3257c"
          }
        },
        "900883317f7541d1956b90204831e4ec": {
          "model_module": "@jupyter-widgets/controls",
          "model_name": "LabelModel",
          "model_module_version": "1.5.0",
          "state": {
            "_dom_classes": [],
            "_model_module": "@jupyter-widgets/controls",
            "_model_module_version": "1.5.0",
            "_model_name": "LabelModel",
            "_view_count": null,
            "_view_module": "@jupyter-widgets/controls",
            "_view_module_version": "1.5.0",
            "_view_name": "LabelView",
            "description": "",
            "description_tooltip": null,
            "layout": "IPY_MODEL_da9573acdd7d4024bf89ce0946e10f16",
            "placeholder": "​",
            "style": "IPY_MODEL_6bb5e32dd57a4be195696dd1c453f28b",
            "value": "277.256 MB of 277.256 MB uploaded (0.000 MB deduped)\r"
          }
        },
        "a6c49485c8e34ce78f0c70f8d37a2c1e": {
          "model_module": "@jupyter-widgets/controls",
          "model_name": "FloatProgressModel",
          "model_module_version": "1.5.0",
          "state": {
            "_dom_classes": [],
            "_model_module": "@jupyter-widgets/controls",
            "_model_module_version": "1.5.0",
            "_model_name": "FloatProgressModel",
            "_view_count": null,
            "_view_module": "@jupyter-widgets/controls",
            "_view_module_version": "1.5.0",
            "_view_name": "ProgressView",
            "bar_style": "",
            "description": "",
            "description_tooltip": null,
            "layout": "IPY_MODEL_7670a5eecf144384b06f9f6db01b500b",
            "max": 1,
            "min": 0,
            "orientation": "horizontal",
            "style": "IPY_MODEL_2b1f53c57c45487487904a458b9ae10e",
            "value": 1
          }
        },
        "9817ed206e6b4f0ab084bc010dd3257c": {
          "model_module": "@jupyter-widgets/base",
          "model_name": "LayoutModel",
          "model_module_version": "1.2.0",
          "state": {
            "_model_module": "@jupyter-widgets/base",
            "_model_module_version": "1.2.0",
            "_model_name": "LayoutModel",
            "_view_count": null,
            "_view_module": "@jupyter-widgets/base",
            "_view_module_version": "1.2.0",
            "_view_name": "LayoutView",
            "align_content": null,
            "align_items": null,
            "align_self": null,
            "border": null,
            "bottom": null,
            "display": null,
            "flex": null,
            "flex_flow": null,
            "grid_area": null,
            "grid_auto_columns": null,
            "grid_auto_flow": null,
            "grid_auto_rows": null,
            "grid_column": null,
            "grid_gap": null,
            "grid_row": null,
            "grid_template_areas": null,
            "grid_template_columns": null,
            "grid_template_rows": null,
            "height": null,
            "justify_content": null,
            "justify_items": null,
            "left": null,
            "margin": null,
            "max_height": null,
            "max_width": null,
            "min_height": null,
            "min_width": null,
            "object_fit": null,
            "object_position": null,
            "order": null,
            "overflow": null,
            "overflow_x": null,
            "overflow_y": null,
            "padding": null,
            "right": null,
            "top": null,
            "visibility": null,
            "width": null
          }
        },
        "da9573acdd7d4024bf89ce0946e10f16": {
          "model_module": "@jupyter-widgets/base",
          "model_name": "LayoutModel",
          "model_module_version": "1.2.0",
          "state": {
            "_model_module": "@jupyter-widgets/base",
            "_model_module_version": "1.2.0",
            "_model_name": "LayoutModel",
            "_view_count": null,
            "_view_module": "@jupyter-widgets/base",
            "_view_module_version": "1.2.0",
            "_view_name": "LayoutView",
            "align_content": null,
            "align_items": null,
            "align_self": null,
            "border": null,
            "bottom": null,
            "display": null,
            "flex": null,
            "flex_flow": null,
            "grid_area": null,
            "grid_auto_columns": null,
            "grid_auto_flow": null,
            "grid_auto_rows": null,
            "grid_column": null,
            "grid_gap": null,
            "grid_row": null,
            "grid_template_areas": null,
            "grid_template_columns": null,
            "grid_template_rows": null,
            "height": null,
            "justify_content": null,
            "justify_items": null,
            "left": null,
            "margin": null,
            "max_height": null,
            "max_width": null,
            "min_height": null,
            "min_width": null,
            "object_fit": null,
            "object_position": null,
            "order": null,
            "overflow": null,
            "overflow_x": null,
            "overflow_y": null,
            "padding": null,
            "right": null,
            "top": null,
            "visibility": null,
            "width": null
          }
        },
        "6bb5e32dd57a4be195696dd1c453f28b": {
          "model_module": "@jupyter-widgets/controls",
          "model_name": "DescriptionStyleModel",
          "model_module_version": "1.5.0",
          "state": {
            "_model_module": "@jupyter-widgets/controls",
            "_model_module_version": "1.5.0",
            "_model_name": "DescriptionStyleModel",
            "_view_count": null,
            "_view_module": "@jupyter-widgets/base",
            "_view_module_version": "1.2.0",
            "_view_name": "StyleView",
            "description_width": ""
          }
        },
        "7670a5eecf144384b06f9f6db01b500b": {
          "model_module": "@jupyter-widgets/base",
          "model_name": "LayoutModel",
          "model_module_version": "1.2.0",
          "state": {
            "_model_module": "@jupyter-widgets/base",
            "_model_module_version": "1.2.0",
            "_model_name": "LayoutModel",
            "_view_count": null,
            "_view_module": "@jupyter-widgets/base",
            "_view_module_version": "1.2.0",
            "_view_name": "LayoutView",
            "align_content": null,
            "align_items": null,
            "align_self": null,
            "border": null,
            "bottom": null,
            "display": null,
            "flex": null,
            "flex_flow": null,
            "grid_area": null,
            "grid_auto_columns": null,
            "grid_auto_flow": null,
            "grid_auto_rows": null,
            "grid_column": null,
            "grid_gap": null,
            "grid_row": null,
            "grid_template_areas": null,
            "grid_template_columns": null,
            "grid_template_rows": null,
            "height": null,
            "justify_content": null,
            "justify_items": null,
            "left": null,
            "margin": null,
            "max_height": null,
            "max_width": null,
            "min_height": null,
            "min_width": null,
            "object_fit": null,
            "object_position": null,
            "order": null,
            "overflow": null,
            "overflow_x": null,
            "overflow_y": null,
            "padding": null,
            "right": null,
            "top": null,
            "visibility": null,
            "width": null
          }
        },
        "2b1f53c57c45487487904a458b9ae10e": {
          "model_module": "@jupyter-widgets/controls",
          "model_name": "ProgressStyleModel",
          "model_module_version": "1.5.0",
          "state": {
            "_model_module": "@jupyter-widgets/controls",
            "_model_module_version": "1.5.0",
            "_model_name": "ProgressStyleModel",
            "_view_count": null,
            "_view_module": "@jupyter-widgets/base",
            "_view_module_version": "1.2.0",
            "_view_name": "StyleView",
            "bar_color": null,
            "description_width": ""
          }
        },
        "0af6be1c02af4d27bde3dd94c693af7b": {
          "model_module": "@jupyter-widgets/controls",
          "model_name": "VBoxModel",
          "model_module_version": "1.5.0",
          "state": {
            "_dom_classes": [],
            "_model_module": "@jupyter-widgets/controls",
            "_model_module_version": "1.5.0",
            "_model_name": "VBoxModel",
            "_view_count": null,
            "_view_module": "@jupyter-widgets/controls",
            "_view_module_version": "1.5.0",
            "_view_name": "VBoxView",
            "box_style": "",
            "children": [
              "IPY_MODEL_b33507707c784bdda62c96d562e8e4ff",
              "IPY_MODEL_d8d1fcb63c86456f912516a5dea55eff"
            ],
            "layout": "IPY_MODEL_cef25b0411de4a138439ac7f70b003d1"
          }
        },
        "b33507707c784bdda62c96d562e8e4ff": {
          "model_module": "@jupyter-widgets/controls",
          "model_name": "LabelModel",
          "model_module_version": "1.5.0",
          "state": {
            "_dom_classes": [],
            "_model_module": "@jupyter-widgets/controls",
            "_model_module_version": "1.5.0",
            "_model_name": "LabelModel",
            "_view_count": null,
            "_view_module": "@jupyter-widgets/controls",
            "_view_module_version": "1.5.0",
            "_view_name": "LabelView",
            "description": "",
            "description_tooltip": null,
            "layout": "IPY_MODEL_a63ead841e714e79945c5e4a3340a52f",
            "placeholder": "​",
            "style": "IPY_MODEL_4778ea4817f14a7088848961395512ea",
            "value": "319.505 MB of 319.505 MB uploaded (10.253 MB deduped)\r"
          }
        },
        "d8d1fcb63c86456f912516a5dea55eff": {
          "model_module": "@jupyter-widgets/controls",
          "model_name": "FloatProgressModel",
          "model_module_version": "1.5.0",
          "state": {
            "_dom_classes": [],
            "_model_module": "@jupyter-widgets/controls",
            "_model_module_version": "1.5.0",
            "_model_name": "FloatProgressModel",
            "_view_count": null,
            "_view_module": "@jupyter-widgets/controls",
            "_view_module_version": "1.5.0",
            "_view_name": "ProgressView",
            "bar_style": "",
            "description": "",
            "description_tooltip": null,
            "layout": "IPY_MODEL_90d1e636eec045f99c4f3accc01827b6",
            "max": 1,
            "min": 0,
            "orientation": "horizontal",
            "style": "IPY_MODEL_fcd0f5b0743c41c8a099b997f003e9c5",
            "value": 1
          }
        },
        "cef25b0411de4a138439ac7f70b003d1": {
          "model_module": "@jupyter-widgets/base",
          "model_name": "LayoutModel",
          "model_module_version": "1.2.0",
          "state": {
            "_model_module": "@jupyter-widgets/base",
            "_model_module_version": "1.2.0",
            "_model_name": "LayoutModel",
            "_view_count": null,
            "_view_module": "@jupyter-widgets/base",
            "_view_module_version": "1.2.0",
            "_view_name": "LayoutView",
            "align_content": null,
            "align_items": null,
            "align_self": null,
            "border": null,
            "bottom": null,
            "display": null,
            "flex": null,
            "flex_flow": null,
            "grid_area": null,
            "grid_auto_columns": null,
            "grid_auto_flow": null,
            "grid_auto_rows": null,
            "grid_column": null,
            "grid_gap": null,
            "grid_row": null,
            "grid_template_areas": null,
            "grid_template_columns": null,
            "grid_template_rows": null,
            "height": null,
            "justify_content": null,
            "justify_items": null,
            "left": null,
            "margin": null,
            "max_height": null,
            "max_width": null,
            "min_height": null,
            "min_width": null,
            "object_fit": null,
            "object_position": null,
            "order": null,
            "overflow": null,
            "overflow_x": null,
            "overflow_y": null,
            "padding": null,
            "right": null,
            "top": null,
            "visibility": null,
            "width": null
          }
        },
        "a63ead841e714e79945c5e4a3340a52f": {
          "model_module": "@jupyter-widgets/base",
          "model_name": "LayoutModel",
          "model_module_version": "1.2.0",
          "state": {
            "_model_module": "@jupyter-widgets/base",
            "_model_module_version": "1.2.0",
            "_model_name": "LayoutModel",
            "_view_count": null,
            "_view_module": "@jupyter-widgets/base",
            "_view_module_version": "1.2.0",
            "_view_name": "LayoutView",
            "align_content": null,
            "align_items": null,
            "align_self": null,
            "border": null,
            "bottom": null,
            "display": null,
            "flex": null,
            "flex_flow": null,
            "grid_area": null,
            "grid_auto_columns": null,
            "grid_auto_flow": null,
            "grid_auto_rows": null,
            "grid_column": null,
            "grid_gap": null,
            "grid_row": null,
            "grid_template_areas": null,
            "grid_template_columns": null,
            "grid_template_rows": null,
            "height": null,
            "justify_content": null,
            "justify_items": null,
            "left": null,
            "margin": null,
            "max_height": null,
            "max_width": null,
            "min_height": null,
            "min_width": null,
            "object_fit": null,
            "object_position": null,
            "order": null,
            "overflow": null,
            "overflow_x": null,
            "overflow_y": null,
            "padding": null,
            "right": null,
            "top": null,
            "visibility": null,
            "width": null
          }
        },
        "4778ea4817f14a7088848961395512ea": {
          "model_module": "@jupyter-widgets/controls",
          "model_name": "DescriptionStyleModel",
          "model_module_version": "1.5.0",
          "state": {
            "_model_module": "@jupyter-widgets/controls",
            "_model_module_version": "1.5.0",
            "_model_name": "DescriptionStyleModel",
            "_view_count": null,
            "_view_module": "@jupyter-widgets/base",
            "_view_module_version": "1.2.0",
            "_view_name": "StyleView",
            "description_width": ""
          }
        },
        "90d1e636eec045f99c4f3accc01827b6": {
          "model_module": "@jupyter-widgets/base",
          "model_name": "LayoutModel",
          "model_module_version": "1.2.0",
          "state": {
            "_model_module": "@jupyter-widgets/base",
            "_model_module_version": "1.2.0",
            "_model_name": "LayoutModel",
            "_view_count": null,
            "_view_module": "@jupyter-widgets/base",
            "_view_module_version": "1.2.0",
            "_view_name": "LayoutView",
            "align_content": null,
            "align_items": null,
            "align_self": null,
            "border": null,
            "bottom": null,
            "display": null,
            "flex": null,
            "flex_flow": null,
            "grid_area": null,
            "grid_auto_columns": null,
            "grid_auto_flow": null,
            "grid_auto_rows": null,
            "grid_column": null,
            "grid_gap": null,
            "grid_row": null,
            "grid_template_areas": null,
            "grid_template_columns": null,
            "grid_template_rows": null,
            "height": null,
            "justify_content": null,
            "justify_items": null,
            "left": null,
            "margin": null,
            "max_height": null,
            "max_width": null,
            "min_height": null,
            "min_width": null,
            "object_fit": null,
            "object_position": null,
            "order": null,
            "overflow": null,
            "overflow_x": null,
            "overflow_y": null,
            "padding": null,
            "right": null,
            "top": null,
            "visibility": null,
            "width": null
          }
        },
        "fcd0f5b0743c41c8a099b997f003e9c5": {
          "model_module": "@jupyter-widgets/controls",
          "model_name": "ProgressStyleModel",
          "model_module_version": "1.5.0",
          "state": {
            "_model_module": "@jupyter-widgets/controls",
            "_model_module_version": "1.5.0",
            "_model_name": "ProgressStyleModel",
            "_view_count": null,
            "_view_module": "@jupyter-widgets/base",
            "_view_module_version": "1.2.0",
            "_view_name": "StyleView",
            "bar_color": null,
            "description_width": ""
          }
        },
        "c3b9aac2fd8a416da2062382e870e34e": {
          "model_module": "@jupyter-widgets/controls",
          "model_name": "VBoxModel",
          "model_module_version": "1.5.0",
          "state": {
            "_dom_classes": [],
            "_model_module": "@jupyter-widgets/controls",
            "_model_module_version": "1.5.0",
            "_model_name": "VBoxModel",
            "_view_count": null,
            "_view_module": "@jupyter-widgets/controls",
            "_view_module_version": "1.5.0",
            "_view_name": "VBoxView",
            "box_style": "",
            "children": [
              "IPY_MODEL_87317aa07f52468887da4cee248434c5",
              "IPY_MODEL_11cd7e172a0543de9e4a19672ff75b17"
            ],
            "layout": "IPY_MODEL_f899b59db35f4e1a8fecf5d7ead9c12d"
          }
        },
        "87317aa07f52468887da4cee248434c5": {
          "model_module": "@jupyter-widgets/controls",
          "model_name": "LabelModel",
          "model_module_version": "1.5.0",
          "state": {
            "_dom_classes": [],
            "_model_module": "@jupyter-widgets/controls",
            "_model_module_version": "1.5.0",
            "_model_name": "LabelModel",
            "_view_count": null,
            "_view_module": "@jupyter-widgets/controls",
            "_view_module_version": "1.5.0",
            "_view_name": "LabelView",
            "description": "",
            "description_tooltip": null,
            "layout": "IPY_MODEL_0f0173a96e5a44858321cff25d139175",
            "placeholder": "​",
            "style": "IPY_MODEL_c564590572a24987b7421c3325d99b0e",
            "value": "287.259 MB of 287.259 MB uploaded (10.253 MB deduped)\r"
          }
        },
        "11cd7e172a0543de9e4a19672ff75b17": {
          "model_module": "@jupyter-widgets/controls",
          "model_name": "FloatProgressModel",
          "model_module_version": "1.5.0",
          "state": {
            "_dom_classes": [],
            "_model_module": "@jupyter-widgets/controls",
            "_model_module_version": "1.5.0",
            "_model_name": "FloatProgressModel",
            "_view_count": null,
            "_view_module": "@jupyter-widgets/controls",
            "_view_module_version": "1.5.0",
            "_view_name": "ProgressView",
            "bar_style": "",
            "description": "",
            "description_tooltip": null,
            "layout": "IPY_MODEL_1cc3389bcdc84f0c8e4c1fd6cea093f2",
            "max": 1,
            "min": 0,
            "orientation": "horizontal",
            "style": "IPY_MODEL_dbf123c8c47f412fb74e15c09d4bb432",
            "value": 1
          }
        },
        "f899b59db35f4e1a8fecf5d7ead9c12d": {
          "model_module": "@jupyter-widgets/base",
          "model_name": "LayoutModel",
          "model_module_version": "1.2.0",
          "state": {
            "_model_module": "@jupyter-widgets/base",
            "_model_module_version": "1.2.0",
            "_model_name": "LayoutModel",
            "_view_count": null,
            "_view_module": "@jupyter-widgets/base",
            "_view_module_version": "1.2.0",
            "_view_name": "LayoutView",
            "align_content": null,
            "align_items": null,
            "align_self": null,
            "border": null,
            "bottom": null,
            "display": null,
            "flex": null,
            "flex_flow": null,
            "grid_area": null,
            "grid_auto_columns": null,
            "grid_auto_flow": null,
            "grid_auto_rows": null,
            "grid_column": null,
            "grid_gap": null,
            "grid_row": null,
            "grid_template_areas": null,
            "grid_template_columns": null,
            "grid_template_rows": null,
            "height": null,
            "justify_content": null,
            "justify_items": null,
            "left": null,
            "margin": null,
            "max_height": null,
            "max_width": null,
            "min_height": null,
            "min_width": null,
            "object_fit": null,
            "object_position": null,
            "order": null,
            "overflow": null,
            "overflow_x": null,
            "overflow_y": null,
            "padding": null,
            "right": null,
            "top": null,
            "visibility": null,
            "width": null
          }
        },
        "0f0173a96e5a44858321cff25d139175": {
          "model_module": "@jupyter-widgets/base",
          "model_name": "LayoutModel",
          "model_module_version": "1.2.0",
          "state": {
            "_model_module": "@jupyter-widgets/base",
            "_model_module_version": "1.2.0",
            "_model_name": "LayoutModel",
            "_view_count": null,
            "_view_module": "@jupyter-widgets/base",
            "_view_module_version": "1.2.0",
            "_view_name": "LayoutView",
            "align_content": null,
            "align_items": null,
            "align_self": null,
            "border": null,
            "bottom": null,
            "display": null,
            "flex": null,
            "flex_flow": null,
            "grid_area": null,
            "grid_auto_columns": null,
            "grid_auto_flow": null,
            "grid_auto_rows": null,
            "grid_column": null,
            "grid_gap": null,
            "grid_row": null,
            "grid_template_areas": null,
            "grid_template_columns": null,
            "grid_template_rows": null,
            "height": null,
            "justify_content": null,
            "justify_items": null,
            "left": null,
            "margin": null,
            "max_height": null,
            "max_width": null,
            "min_height": null,
            "min_width": null,
            "object_fit": null,
            "object_position": null,
            "order": null,
            "overflow": null,
            "overflow_x": null,
            "overflow_y": null,
            "padding": null,
            "right": null,
            "top": null,
            "visibility": null,
            "width": null
          }
        },
        "c564590572a24987b7421c3325d99b0e": {
          "model_module": "@jupyter-widgets/controls",
          "model_name": "DescriptionStyleModel",
          "model_module_version": "1.5.0",
          "state": {
            "_model_module": "@jupyter-widgets/controls",
            "_model_module_version": "1.5.0",
            "_model_name": "DescriptionStyleModel",
            "_view_count": null,
            "_view_module": "@jupyter-widgets/base",
            "_view_module_version": "1.2.0",
            "_view_name": "StyleView",
            "description_width": ""
          }
        },
        "1cc3389bcdc84f0c8e4c1fd6cea093f2": {
          "model_module": "@jupyter-widgets/base",
          "model_name": "LayoutModel",
          "model_module_version": "1.2.0",
          "state": {
            "_model_module": "@jupyter-widgets/base",
            "_model_module_version": "1.2.0",
            "_model_name": "LayoutModel",
            "_view_count": null,
            "_view_module": "@jupyter-widgets/base",
            "_view_module_version": "1.2.0",
            "_view_name": "LayoutView",
            "align_content": null,
            "align_items": null,
            "align_self": null,
            "border": null,
            "bottom": null,
            "display": null,
            "flex": null,
            "flex_flow": null,
            "grid_area": null,
            "grid_auto_columns": null,
            "grid_auto_flow": null,
            "grid_auto_rows": null,
            "grid_column": null,
            "grid_gap": null,
            "grid_row": null,
            "grid_template_areas": null,
            "grid_template_columns": null,
            "grid_template_rows": null,
            "height": null,
            "justify_content": null,
            "justify_items": null,
            "left": null,
            "margin": null,
            "max_height": null,
            "max_width": null,
            "min_height": null,
            "min_width": null,
            "object_fit": null,
            "object_position": null,
            "order": null,
            "overflow": null,
            "overflow_x": null,
            "overflow_y": null,
            "padding": null,
            "right": null,
            "top": null,
            "visibility": null,
            "width": null
          }
        },
        "dbf123c8c47f412fb74e15c09d4bb432": {
          "model_module": "@jupyter-widgets/controls",
          "model_name": "ProgressStyleModel",
          "model_module_version": "1.5.0",
          "state": {
            "_model_module": "@jupyter-widgets/controls",
            "_model_module_version": "1.5.0",
            "_model_name": "ProgressStyleModel",
            "_view_count": null,
            "_view_module": "@jupyter-widgets/base",
            "_view_module_version": "1.2.0",
            "_view_name": "StyleView",
            "bar_color": null,
            "description_width": ""
          }
        },
        "0a5c9d9241d04e4d9884561cf632875a": {
          "model_module": "@jupyter-widgets/controls",
          "model_name": "VBoxModel",
          "model_module_version": "1.5.0",
          "state": {
            "_dom_classes": [],
            "_model_module": "@jupyter-widgets/controls",
            "_model_module_version": "1.5.0",
            "_model_name": "VBoxModel",
            "_view_count": null,
            "_view_module": "@jupyter-widgets/controls",
            "_view_module_version": "1.5.0",
            "_view_name": "VBoxView",
            "box_style": "",
            "children": [
              "IPY_MODEL_bf0a0a1497a44d6e810139fa10db28f1",
              "IPY_MODEL_b0a8d76101ba4f15a00cc0bfd6640ba4"
            ],
            "layout": "IPY_MODEL_0514595ac7824551a6104abeacbec143"
          }
        },
        "bf0a0a1497a44d6e810139fa10db28f1": {
          "model_module": "@jupyter-widgets/controls",
          "model_name": "LabelModel",
          "model_module_version": "1.5.0",
          "state": {
            "_dom_classes": [],
            "_model_module": "@jupyter-widgets/controls",
            "_model_module_version": "1.5.0",
            "_model_name": "LabelModel",
            "_view_count": null,
            "_view_module": "@jupyter-widgets/controls",
            "_view_module_version": "1.5.0",
            "_view_name": "LabelView",
            "description": "",
            "description_tooltip": null,
            "layout": "IPY_MODEL_a660839129e0430a840983ee29847d77",
            "placeholder": "​",
            "style": "IPY_MODEL_bb21070107694206a1d3f03afc78a44c",
            "value": "277.610 MB of 277.610 MB uploaded (0.000 MB deduped)\r"
          }
        },
        "b0a8d76101ba4f15a00cc0bfd6640ba4": {
          "model_module": "@jupyter-widgets/controls",
          "model_name": "FloatProgressModel",
          "model_module_version": "1.5.0",
          "state": {
            "_dom_classes": [],
            "_model_module": "@jupyter-widgets/controls",
            "_model_module_version": "1.5.0",
            "_model_name": "FloatProgressModel",
            "_view_count": null,
            "_view_module": "@jupyter-widgets/controls",
            "_view_module_version": "1.5.0",
            "_view_name": "ProgressView",
            "bar_style": "",
            "description": "",
            "description_tooltip": null,
            "layout": "IPY_MODEL_13354a6ba52243b8ab13ddee8f936b9e",
            "max": 1,
            "min": 0,
            "orientation": "horizontal",
            "style": "IPY_MODEL_04648e3b8e8b4539b17ab64a2fd7fbc9",
            "value": 1
          }
        },
        "0514595ac7824551a6104abeacbec143": {
          "model_module": "@jupyter-widgets/base",
          "model_name": "LayoutModel",
          "model_module_version": "1.2.0",
          "state": {
            "_model_module": "@jupyter-widgets/base",
            "_model_module_version": "1.2.0",
            "_model_name": "LayoutModel",
            "_view_count": null,
            "_view_module": "@jupyter-widgets/base",
            "_view_module_version": "1.2.0",
            "_view_name": "LayoutView",
            "align_content": null,
            "align_items": null,
            "align_self": null,
            "border": null,
            "bottom": null,
            "display": null,
            "flex": null,
            "flex_flow": null,
            "grid_area": null,
            "grid_auto_columns": null,
            "grid_auto_flow": null,
            "grid_auto_rows": null,
            "grid_column": null,
            "grid_gap": null,
            "grid_row": null,
            "grid_template_areas": null,
            "grid_template_columns": null,
            "grid_template_rows": null,
            "height": null,
            "justify_content": null,
            "justify_items": null,
            "left": null,
            "margin": null,
            "max_height": null,
            "max_width": null,
            "min_height": null,
            "min_width": null,
            "object_fit": null,
            "object_position": null,
            "order": null,
            "overflow": null,
            "overflow_x": null,
            "overflow_y": null,
            "padding": null,
            "right": null,
            "top": null,
            "visibility": null,
            "width": null
          }
        },
        "a660839129e0430a840983ee29847d77": {
          "model_module": "@jupyter-widgets/base",
          "model_name": "LayoutModel",
          "model_module_version": "1.2.0",
          "state": {
            "_model_module": "@jupyter-widgets/base",
            "_model_module_version": "1.2.0",
            "_model_name": "LayoutModel",
            "_view_count": null,
            "_view_module": "@jupyter-widgets/base",
            "_view_module_version": "1.2.0",
            "_view_name": "LayoutView",
            "align_content": null,
            "align_items": null,
            "align_self": null,
            "border": null,
            "bottom": null,
            "display": null,
            "flex": null,
            "flex_flow": null,
            "grid_area": null,
            "grid_auto_columns": null,
            "grid_auto_flow": null,
            "grid_auto_rows": null,
            "grid_column": null,
            "grid_gap": null,
            "grid_row": null,
            "grid_template_areas": null,
            "grid_template_columns": null,
            "grid_template_rows": null,
            "height": null,
            "justify_content": null,
            "justify_items": null,
            "left": null,
            "margin": null,
            "max_height": null,
            "max_width": null,
            "min_height": null,
            "min_width": null,
            "object_fit": null,
            "object_position": null,
            "order": null,
            "overflow": null,
            "overflow_x": null,
            "overflow_y": null,
            "padding": null,
            "right": null,
            "top": null,
            "visibility": null,
            "width": null
          }
        },
        "bb21070107694206a1d3f03afc78a44c": {
          "model_module": "@jupyter-widgets/controls",
          "model_name": "DescriptionStyleModel",
          "model_module_version": "1.5.0",
          "state": {
            "_model_module": "@jupyter-widgets/controls",
            "_model_module_version": "1.5.0",
            "_model_name": "DescriptionStyleModel",
            "_view_count": null,
            "_view_module": "@jupyter-widgets/base",
            "_view_module_version": "1.2.0",
            "_view_name": "StyleView",
            "description_width": ""
          }
        },
        "13354a6ba52243b8ab13ddee8f936b9e": {
          "model_module": "@jupyter-widgets/base",
          "model_name": "LayoutModel",
          "model_module_version": "1.2.0",
          "state": {
            "_model_module": "@jupyter-widgets/base",
            "_model_module_version": "1.2.0",
            "_model_name": "LayoutModel",
            "_view_count": null,
            "_view_module": "@jupyter-widgets/base",
            "_view_module_version": "1.2.0",
            "_view_name": "LayoutView",
            "align_content": null,
            "align_items": null,
            "align_self": null,
            "border": null,
            "bottom": null,
            "display": null,
            "flex": null,
            "flex_flow": null,
            "grid_area": null,
            "grid_auto_columns": null,
            "grid_auto_flow": null,
            "grid_auto_rows": null,
            "grid_column": null,
            "grid_gap": null,
            "grid_row": null,
            "grid_template_areas": null,
            "grid_template_columns": null,
            "grid_template_rows": null,
            "height": null,
            "justify_content": null,
            "justify_items": null,
            "left": null,
            "margin": null,
            "max_height": null,
            "max_width": null,
            "min_height": null,
            "min_width": null,
            "object_fit": null,
            "object_position": null,
            "order": null,
            "overflow": null,
            "overflow_x": null,
            "overflow_y": null,
            "padding": null,
            "right": null,
            "top": null,
            "visibility": null,
            "width": null
          }
        },
        "04648e3b8e8b4539b17ab64a2fd7fbc9": {
          "model_module": "@jupyter-widgets/controls",
          "model_name": "ProgressStyleModel",
          "model_module_version": "1.5.0",
          "state": {
            "_model_module": "@jupyter-widgets/controls",
            "_model_module_version": "1.5.0",
            "_model_name": "ProgressStyleModel",
            "_view_count": null,
            "_view_module": "@jupyter-widgets/base",
            "_view_module_version": "1.2.0",
            "_view_name": "StyleView",
            "bar_color": null,
            "description_width": ""
          }
        },
        "4fc39911be5b42dab2a26aeed764af36": {
          "model_module": "@jupyter-widgets/controls",
          "model_name": "VBoxModel",
          "model_module_version": "1.5.0",
          "state": {
            "_dom_classes": [],
            "_model_module": "@jupyter-widgets/controls",
            "_model_module_version": "1.5.0",
            "_model_name": "VBoxModel",
            "_view_count": null,
            "_view_module": "@jupyter-widgets/controls",
            "_view_module_version": "1.5.0",
            "_view_name": "VBoxView",
            "box_style": "",
            "children": [
              "IPY_MODEL_bc33e7d249e94669a7a45f1f247b1f86",
              "IPY_MODEL_715d7d038667408aa7f7b35c6629855d"
            ],
            "layout": "IPY_MODEL_c093ea87db84429d830b7bd8f4411212"
          }
        },
        "bc33e7d249e94669a7a45f1f247b1f86": {
          "model_module": "@jupyter-widgets/controls",
          "model_name": "LabelModel",
          "model_module_version": "1.5.0",
          "state": {
            "_dom_classes": [],
            "_model_module": "@jupyter-widgets/controls",
            "_model_module_version": "1.5.0",
            "_model_name": "LabelModel",
            "_view_count": null,
            "_view_module": "@jupyter-widgets/controls",
            "_view_module_version": "1.5.0",
            "_view_name": "LabelView",
            "description": "",
            "description_tooltip": null,
            "layout": "IPY_MODEL_acde5c53f9584b62a1b3032188a950b3",
            "placeholder": "​",
            "style": "IPY_MODEL_bd9efcaeb18d4a0792e31f88322b8242",
            "value": "277.045 MB of 277.045 MB uploaded (0.000 MB deduped)\r"
          }
        },
        "715d7d038667408aa7f7b35c6629855d": {
          "model_module": "@jupyter-widgets/controls",
          "model_name": "FloatProgressModel",
          "model_module_version": "1.5.0",
          "state": {
            "_dom_classes": [],
            "_model_module": "@jupyter-widgets/controls",
            "_model_module_version": "1.5.0",
            "_model_name": "FloatProgressModel",
            "_view_count": null,
            "_view_module": "@jupyter-widgets/controls",
            "_view_module_version": "1.5.0",
            "_view_name": "ProgressView",
            "bar_style": "",
            "description": "",
            "description_tooltip": null,
            "layout": "IPY_MODEL_fc748e7eaa524364b97af5174c590596",
            "max": 1,
            "min": 0,
            "orientation": "horizontal",
            "style": "IPY_MODEL_4f92c279a64a454ba4fa7526e137813a",
            "value": 1
          }
        },
        "c093ea87db84429d830b7bd8f4411212": {
          "model_module": "@jupyter-widgets/base",
          "model_name": "LayoutModel",
          "model_module_version": "1.2.0",
          "state": {
            "_model_module": "@jupyter-widgets/base",
            "_model_module_version": "1.2.0",
            "_model_name": "LayoutModel",
            "_view_count": null,
            "_view_module": "@jupyter-widgets/base",
            "_view_module_version": "1.2.0",
            "_view_name": "LayoutView",
            "align_content": null,
            "align_items": null,
            "align_self": null,
            "border": null,
            "bottom": null,
            "display": null,
            "flex": null,
            "flex_flow": null,
            "grid_area": null,
            "grid_auto_columns": null,
            "grid_auto_flow": null,
            "grid_auto_rows": null,
            "grid_column": null,
            "grid_gap": null,
            "grid_row": null,
            "grid_template_areas": null,
            "grid_template_columns": null,
            "grid_template_rows": null,
            "height": null,
            "justify_content": null,
            "justify_items": null,
            "left": null,
            "margin": null,
            "max_height": null,
            "max_width": null,
            "min_height": null,
            "min_width": null,
            "object_fit": null,
            "object_position": null,
            "order": null,
            "overflow": null,
            "overflow_x": null,
            "overflow_y": null,
            "padding": null,
            "right": null,
            "top": null,
            "visibility": null,
            "width": null
          }
        },
        "acde5c53f9584b62a1b3032188a950b3": {
          "model_module": "@jupyter-widgets/base",
          "model_name": "LayoutModel",
          "model_module_version": "1.2.0",
          "state": {
            "_model_module": "@jupyter-widgets/base",
            "_model_module_version": "1.2.0",
            "_model_name": "LayoutModel",
            "_view_count": null,
            "_view_module": "@jupyter-widgets/base",
            "_view_module_version": "1.2.0",
            "_view_name": "LayoutView",
            "align_content": null,
            "align_items": null,
            "align_self": null,
            "border": null,
            "bottom": null,
            "display": null,
            "flex": null,
            "flex_flow": null,
            "grid_area": null,
            "grid_auto_columns": null,
            "grid_auto_flow": null,
            "grid_auto_rows": null,
            "grid_column": null,
            "grid_gap": null,
            "grid_row": null,
            "grid_template_areas": null,
            "grid_template_columns": null,
            "grid_template_rows": null,
            "height": null,
            "justify_content": null,
            "justify_items": null,
            "left": null,
            "margin": null,
            "max_height": null,
            "max_width": null,
            "min_height": null,
            "min_width": null,
            "object_fit": null,
            "object_position": null,
            "order": null,
            "overflow": null,
            "overflow_x": null,
            "overflow_y": null,
            "padding": null,
            "right": null,
            "top": null,
            "visibility": null,
            "width": null
          }
        },
        "bd9efcaeb18d4a0792e31f88322b8242": {
          "model_module": "@jupyter-widgets/controls",
          "model_name": "DescriptionStyleModel",
          "model_module_version": "1.5.0",
          "state": {
            "_model_module": "@jupyter-widgets/controls",
            "_model_module_version": "1.5.0",
            "_model_name": "DescriptionStyleModel",
            "_view_count": null,
            "_view_module": "@jupyter-widgets/base",
            "_view_module_version": "1.2.0",
            "_view_name": "StyleView",
            "description_width": ""
          }
        },
        "fc748e7eaa524364b97af5174c590596": {
          "model_module": "@jupyter-widgets/base",
          "model_name": "LayoutModel",
          "model_module_version": "1.2.0",
          "state": {
            "_model_module": "@jupyter-widgets/base",
            "_model_module_version": "1.2.0",
            "_model_name": "LayoutModel",
            "_view_count": null,
            "_view_module": "@jupyter-widgets/base",
            "_view_module_version": "1.2.0",
            "_view_name": "LayoutView",
            "align_content": null,
            "align_items": null,
            "align_self": null,
            "border": null,
            "bottom": null,
            "display": null,
            "flex": null,
            "flex_flow": null,
            "grid_area": null,
            "grid_auto_columns": null,
            "grid_auto_flow": null,
            "grid_auto_rows": null,
            "grid_column": null,
            "grid_gap": null,
            "grid_row": null,
            "grid_template_areas": null,
            "grid_template_columns": null,
            "grid_template_rows": null,
            "height": null,
            "justify_content": null,
            "justify_items": null,
            "left": null,
            "margin": null,
            "max_height": null,
            "max_width": null,
            "min_height": null,
            "min_width": null,
            "object_fit": null,
            "object_position": null,
            "order": null,
            "overflow": null,
            "overflow_x": null,
            "overflow_y": null,
            "padding": null,
            "right": null,
            "top": null,
            "visibility": null,
            "width": null
          }
        },
        "4f92c279a64a454ba4fa7526e137813a": {
          "model_module": "@jupyter-widgets/controls",
          "model_name": "ProgressStyleModel",
          "model_module_version": "1.5.0",
          "state": {
            "_model_module": "@jupyter-widgets/controls",
            "_model_module_version": "1.5.0",
            "_model_name": "ProgressStyleModel",
            "_view_count": null,
            "_view_module": "@jupyter-widgets/base",
            "_view_module_version": "1.2.0",
            "_view_name": "StyleView",
            "bar_color": null,
            "description_width": ""
          }
        },
        "020b2749f4b84dcb809bee740bac38e5": {
          "model_module": "@jupyter-widgets/controls",
          "model_name": "VBoxModel",
          "model_module_version": "1.5.0",
          "state": {
            "_dom_classes": [],
            "_model_module": "@jupyter-widgets/controls",
            "_model_module_version": "1.5.0",
            "_model_name": "VBoxModel",
            "_view_count": null,
            "_view_module": "@jupyter-widgets/controls",
            "_view_module_version": "1.5.0",
            "_view_name": "VBoxView",
            "box_style": "",
            "children": [
              "IPY_MODEL_2ae08f58a0554452ba7f9c72629bae6f",
              "IPY_MODEL_174ba5bc453645cc8385f3bae2c8de1b"
            ],
            "layout": "IPY_MODEL_17017ec518ea4108826af6848139a92a"
          }
        },
        "2ae08f58a0554452ba7f9c72629bae6f": {
          "model_module": "@jupyter-widgets/controls",
          "model_name": "LabelModel",
          "model_module_version": "1.5.0",
          "state": {
            "_dom_classes": [],
            "_model_module": "@jupyter-widgets/controls",
            "_model_module_version": "1.5.0",
            "_model_name": "LabelModel",
            "_view_count": null,
            "_view_module": "@jupyter-widgets/controls",
            "_view_module_version": "1.5.0",
            "_view_name": "LabelView",
            "description": "",
            "description_tooltip": null,
            "layout": "IPY_MODEL_df7d6ce9543f4b3dbd7f630af2093d94",
            "placeholder": "​",
            "style": "IPY_MODEL_b847ee35c48a48e8880827d473067b18",
            "value": "277.512 MB of 277.512 MB uploaded (0.000 MB deduped)\r"
          }
        },
        "174ba5bc453645cc8385f3bae2c8de1b": {
          "model_module": "@jupyter-widgets/controls",
          "model_name": "FloatProgressModel",
          "model_module_version": "1.5.0",
          "state": {
            "_dom_classes": [],
            "_model_module": "@jupyter-widgets/controls",
            "_model_module_version": "1.5.0",
            "_model_name": "FloatProgressModel",
            "_view_count": null,
            "_view_module": "@jupyter-widgets/controls",
            "_view_module_version": "1.5.0",
            "_view_name": "ProgressView",
            "bar_style": "",
            "description": "",
            "description_tooltip": null,
            "layout": "IPY_MODEL_5b24ef7f26f54b9c98ddc6f8c99d5e8a",
            "max": 1,
            "min": 0,
            "orientation": "horizontal",
            "style": "IPY_MODEL_6e85d8d9cc5a49fa8ae58b68deb43d4d",
            "value": 1
          }
        },
        "17017ec518ea4108826af6848139a92a": {
          "model_module": "@jupyter-widgets/base",
          "model_name": "LayoutModel",
          "model_module_version": "1.2.0",
          "state": {
            "_model_module": "@jupyter-widgets/base",
            "_model_module_version": "1.2.0",
            "_model_name": "LayoutModel",
            "_view_count": null,
            "_view_module": "@jupyter-widgets/base",
            "_view_module_version": "1.2.0",
            "_view_name": "LayoutView",
            "align_content": null,
            "align_items": null,
            "align_self": null,
            "border": null,
            "bottom": null,
            "display": null,
            "flex": null,
            "flex_flow": null,
            "grid_area": null,
            "grid_auto_columns": null,
            "grid_auto_flow": null,
            "grid_auto_rows": null,
            "grid_column": null,
            "grid_gap": null,
            "grid_row": null,
            "grid_template_areas": null,
            "grid_template_columns": null,
            "grid_template_rows": null,
            "height": null,
            "justify_content": null,
            "justify_items": null,
            "left": null,
            "margin": null,
            "max_height": null,
            "max_width": null,
            "min_height": null,
            "min_width": null,
            "object_fit": null,
            "object_position": null,
            "order": null,
            "overflow": null,
            "overflow_x": null,
            "overflow_y": null,
            "padding": null,
            "right": null,
            "top": null,
            "visibility": null,
            "width": null
          }
        },
        "df7d6ce9543f4b3dbd7f630af2093d94": {
          "model_module": "@jupyter-widgets/base",
          "model_name": "LayoutModel",
          "model_module_version": "1.2.0",
          "state": {
            "_model_module": "@jupyter-widgets/base",
            "_model_module_version": "1.2.0",
            "_model_name": "LayoutModel",
            "_view_count": null,
            "_view_module": "@jupyter-widgets/base",
            "_view_module_version": "1.2.0",
            "_view_name": "LayoutView",
            "align_content": null,
            "align_items": null,
            "align_self": null,
            "border": null,
            "bottom": null,
            "display": null,
            "flex": null,
            "flex_flow": null,
            "grid_area": null,
            "grid_auto_columns": null,
            "grid_auto_flow": null,
            "grid_auto_rows": null,
            "grid_column": null,
            "grid_gap": null,
            "grid_row": null,
            "grid_template_areas": null,
            "grid_template_columns": null,
            "grid_template_rows": null,
            "height": null,
            "justify_content": null,
            "justify_items": null,
            "left": null,
            "margin": null,
            "max_height": null,
            "max_width": null,
            "min_height": null,
            "min_width": null,
            "object_fit": null,
            "object_position": null,
            "order": null,
            "overflow": null,
            "overflow_x": null,
            "overflow_y": null,
            "padding": null,
            "right": null,
            "top": null,
            "visibility": null,
            "width": null
          }
        },
        "b847ee35c48a48e8880827d473067b18": {
          "model_module": "@jupyter-widgets/controls",
          "model_name": "DescriptionStyleModel",
          "model_module_version": "1.5.0",
          "state": {
            "_model_module": "@jupyter-widgets/controls",
            "_model_module_version": "1.5.0",
            "_model_name": "DescriptionStyleModel",
            "_view_count": null,
            "_view_module": "@jupyter-widgets/base",
            "_view_module_version": "1.2.0",
            "_view_name": "StyleView",
            "description_width": ""
          }
        },
        "5b24ef7f26f54b9c98ddc6f8c99d5e8a": {
          "model_module": "@jupyter-widgets/base",
          "model_name": "LayoutModel",
          "model_module_version": "1.2.0",
          "state": {
            "_model_module": "@jupyter-widgets/base",
            "_model_module_version": "1.2.0",
            "_model_name": "LayoutModel",
            "_view_count": null,
            "_view_module": "@jupyter-widgets/base",
            "_view_module_version": "1.2.0",
            "_view_name": "LayoutView",
            "align_content": null,
            "align_items": null,
            "align_self": null,
            "border": null,
            "bottom": null,
            "display": null,
            "flex": null,
            "flex_flow": null,
            "grid_area": null,
            "grid_auto_columns": null,
            "grid_auto_flow": null,
            "grid_auto_rows": null,
            "grid_column": null,
            "grid_gap": null,
            "grid_row": null,
            "grid_template_areas": null,
            "grid_template_columns": null,
            "grid_template_rows": null,
            "height": null,
            "justify_content": null,
            "justify_items": null,
            "left": null,
            "margin": null,
            "max_height": null,
            "max_width": null,
            "min_height": null,
            "min_width": null,
            "object_fit": null,
            "object_position": null,
            "order": null,
            "overflow": null,
            "overflow_x": null,
            "overflow_y": null,
            "padding": null,
            "right": null,
            "top": null,
            "visibility": null,
            "width": null
          }
        },
        "6e85d8d9cc5a49fa8ae58b68deb43d4d": {
          "model_module": "@jupyter-widgets/controls",
          "model_name": "ProgressStyleModel",
          "model_module_version": "1.5.0",
          "state": {
            "_model_module": "@jupyter-widgets/controls",
            "_model_module_version": "1.5.0",
            "_model_name": "ProgressStyleModel",
            "_view_count": null,
            "_view_module": "@jupyter-widgets/base",
            "_view_module_version": "1.2.0",
            "_view_name": "StyleView",
            "bar_color": null,
            "description_width": ""
          }
        },
        "f1a4e41f29bb49a48df3979745c60777": {
          "model_module": "@jupyter-widgets/controls",
          "model_name": "VBoxModel",
          "model_module_version": "1.5.0",
          "state": {
            "_dom_classes": [],
            "_model_module": "@jupyter-widgets/controls",
            "_model_module_version": "1.5.0",
            "_model_name": "VBoxModel",
            "_view_count": null,
            "_view_module": "@jupyter-widgets/controls",
            "_view_module_version": "1.5.0",
            "_view_name": "VBoxView",
            "box_style": "",
            "children": [
              "IPY_MODEL_2664dd8d4bce4e4491391109b02ea77f",
              "IPY_MODEL_4a302e91e5e240bf88e9880cbce208df"
            ],
            "layout": "IPY_MODEL_c5ffdbd7b58145ceadeeb72ad645c7ef"
          }
        },
        "2664dd8d4bce4e4491391109b02ea77f": {
          "model_module": "@jupyter-widgets/controls",
          "model_name": "LabelModel",
          "model_module_version": "1.5.0",
          "state": {
            "_dom_classes": [],
            "_model_module": "@jupyter-widgets/controls",
            "_model_module_version": "1.5.0",
            "_model_name": "LabelModel",
            "_view_count": null,
            "_view_module": "@jupyter-widgets/controls",
            "_view_module_version": "1.5.0",
            "_view_name": "LabelView",
            "description": "",
            "description_tooltip": null,
            "layout": "IPY_MODEL_71f22674fdd4421fb9d809b4b88fa727",
            "placeholder": "​",
            "style": "IPY_MODEL_93bee1c7ae1944238e74925ac41b0c78",
            "value": "319.630 MB of 319.630 MB uploaded (10.253 MB deduped)\r"
          }
        },
        "4a302e91e5e240bf88e9880cbce208df": {
          "model_module": "@jupyter-widgets/controls",
          "model_name": "FloatProgressModel",
          "model_module_version": "1.5.0",
          "state": {
            "_dom_classes": [],
            "_model_module": "@jupyter-widgets/controls",
            "_model_module_version": "1.5.0",
            "_model_name": "FloatProgressModel",
            "_view_count": null,
            "_view_module": "@jupyter-widgets/controls",
            "_view_module_version": "1.5.0",
            "_view_name": "ProgressView",
            "bar_style": "",
            "description": "",
            "description_tooltip": null,
            "layout": "IPY_MODEL_94042bff12474cda8bd9580c23c96b27",
            "max": 1,
            "min": 0,
            "orientation": "horizontal",
            "style": "IPY_MODEL_822ff2d5603a45589b17eecb16045366",
            "value": 1
          }
        },
        "c5ffdbd7b58145ceadeeb72ad645c7ef": {
          "model_module": "@jupyter-widgets/base",
          "model_name": "LayoutModel",
          "model_module_version": "1.2.0",
          "state": {
            "_model_module": "@jupyter-widgets/base",
            "_model_module_version": "1.2.0",
            "_model_name": "LayoutModel",
            "_view_count": null,
            "_view_module": "@jupyter-widgets/base",
            "_view_module_version": "1.2.0",
            "_view_name": "LayoutView",
            "align_content": null,
            "align_items": null,
            "align_self": null,
            "border": null,
            "bottom": null,
            "display": null,
            "flex": null,
            "flex_flow": null,
            "grid_area": null,
            "grid_auto_columns": null,
            "grid_auto_flow": null,
            "grid_auto_rows": null,
            "grid_column": null,
            "grid_gap": null,
            "grid_row": null,
            "grid_template_areas": null,
            "grid_template_columns": null,
            "grid_template_rows": null,
            "height": null,
            "justify_content": null,
            "justify_items": null,
            "left": null,
            "margin": null,
            "max_height": null,
            "max_width": null,
            "min_height": null,
            "min_width": null,
            "object_fit": null,
            "object_position": null,
            "order": null,
            "overflow": null,
            "overflow_x": null,
            "overflow_y": null,
            "padding": null,
            "right": null,
            "top": null,
            "visibility": null,
            "width": null
          }
        },
        "71f22674fdd4421fb9d809b4b88fa727": {
          "model_module": "@jupyter-widgets/base",
          "model_name": "LayoutModel",
          "model_module_version": "1.2.0",
          "state": {
            "_model_module": "@jupyter-widgets/base",
            "_model_module_version": "1.2.0",
            "_model_name": "LayoutModel",
            "_view_count": null,
            "_view_module": "@jupyter-widgets/base",
            "_view_module_version": "1.2.0",
            "_view_name": "LayoutView",
            "align_content": null,
            "align_items": null,
            "align_self": null,
            "border": null,
            "bottom": null,
            "display": null,
            "flex": null,
            "flex_flow": null,
            "grid_area": null,
            "grid_auto_columns": null,
            "grid_auto_flow": null,
            "grid_auto_rows": null,
            "grid_column": null,
            "grid_gap": null,
            "grid_row": null,
            "grid_template_areas": null,
            "grid_template_columns": null,
            "grid_template_rows": null,
            "height": null,
            "justify_content": null,
            "justify_items": null,
            "left": null,
            "margin": null,
            "max_height": null,
            "max_width": null,
            "min_height": null,
            "min_width": null,
            "object_fit": null,
            "object_position": null,
            "order": null,
            "overflow": null,
            "overflow_x": null,
            "overflow_y": null,
            "padding": null,
            "right": null,
            "top": null,
            "visibility": null,
            "width": null
          }
        },
        "93bee1c7ae1944238e74925ac41b0c78": {
          "model_module": "@jupyter-widgets/controls",
          "model_name": "DescriptionStyleModel",
          "model_module_version": "1.5.0",
          "state": {
            "_model_module": "@jupyter-widgets/controls",
            "_model_module_version": "1.5.0",
            "_model_name": "DescriptionStyleModel",
            "_view_count": null,
            "_view_module": "@jupyter-widgets/base",
            "_view_module_version": "1.2.0",
            "_view_name": "StyleView",
            "description_width": ""
          }
        },
        "94042bff12474cda8bd9580c23c96b27": {
          "model_module": "@jupyter-widgets/base",
          "model_name": "LayoutModel",
          "model_module_version": "1.2.0",
          "state": {
            "_model_module": "@jupyter-widgets/base",
            "_model_module_version": "1.2.0",
            "_model_name": "LayoutModel",
            "_view_count": null,
            "_view_module": "@jupyter-widgets/base",
            "_view_module_version": "1.2.0",
            "_view_name": "LayoutView",
            "align_content": null,
            "align_items": null,
            "align_self": null,
            "border": null,
            "bottom": null,
            "display": null,
            "flex": null,
            "flex_flow": null,
            "grid_area": null,
            "grid_auto_columns": null,
            "grid_auto_flow": null,
            "grid_auto_rows": null,
            "grid_column": null,
            "grid_gap": null,
            "grid_row": null,
            "grid_template_areas": null,
            "grid_template_columns": null,
            "grid_template_rows": null,
            "height": null,
            "justify_content": null,
            "justify_items": null,
            "left": null,
            "margin": null,
            "max_height": null,
            "max_width": null,
            "min_height": null,
            "min_width": null,
            "object_fit": null,
            "object_position": null,
            "order": null,
            "overflow": null,
            "overflow_x": null,
            "overflow_y": null,
            "padding": null,
            "right": null,
            "top": null,
            "visibility": null,
            "width": null
          }
        },
        "822ff2d5603a45589b17eecb16045366": {
          "model_module": "@jupyter-widgets/controls",
          "model_name": "ProgressStyleModel",
          "model_module_version": "1.5.0",
          "state": {
            "_model_module": "@jupyter-widgets/controls",
            "_model_module_version": "1.5.0",
            "_model_name": "ProgressStyleModel",
            "_view_count": null,
            "_view_module": "@jupyter-widgets/base",
            "_view_module_version": "1.2.0",
            "_view_name": "StyleView",
            "bar_color": null,
            "description_width": ""
          }
        },
        "0cb09dd2765b4ba8863b48f0b73a2779": {
          "model_module": "@jupyter-widgets/controls",
          "model_name": "VBoxModel",
          "model_module_version": "1.5.0",
          "state": {
            "_dom_classes": [],
            "_model_module": "@jupyter-widgets/controls",
            "_model_module_version": "1.5.0",
            "_model_name": "VBoxModel",
            "_view_count": null,
            "_view_module": "@jupyter-widgets/controls",
            "_view_module_version": "1.5.0",
            "_view_name": "VBoxView",
            "box_style": "",
            "children": [
              "IPY_MODEL_978b2300e0b34a599f6877167a606eb8",
              "IPY_MODEL_6e5fd6cb33144416b36ddcf31284bf12"
            ],
            "layout": "IPY_MODEL_c6eee08f26174ad69e6e14aa145f3050"
          }
        },
        "978b2300e0b34a599f6877167a606eb8": {
          "model_module": "@jupyter-widgets/controls",
          "model_name": "LabelModel",
          "model_module_version": "1.5.0",
          "state": {
            "_dom_classes": [],
            "_model_module": "@jupyter-widgets/controls",
            "_model_module_version": "1.5.0",
            "_model_name": "LabelModel",
            "_view_count": null,
            "_view_module": "@jupyter-widgets/controls",
            "_view_module_version": "1.5.0",
            "_view_name": "LabelView",
            "description": "",
            "description_tooltip": null,
            "layout": "IPY_MODEL_c2ca1b6415ea4cebb1da47c7d94cfdcf",
            "placeholder": "​",
            "style": "IPY_MODEL_23eebe3c62174324a7de6d77ddbf8dbe",
            "value": "287.749 MB of 287.749 MB uploaded (10.253 MB deduped)\r"
          }
        },
        "6e5fd6cb33144416b36ddcf31284bf12": {
          "model_module": "@jupyter-widgets/controls",
          "model_name": "FloatProgressModel",
          "model_module_version": "1.5.0",
          "state": {
            "_dom_classes": [],
            "_model_module": "@jupyter-widgets/controls",
            "_model_module_version": "1.5.0",
            "_model_name": "FloatProgressModel",
            "_view_count": null,
            "_view_module": "@jupyter-widgets/controls",
            "_view_module_version": "1.5.0",
            "_view_name": "ProgressView",
            "bar_style": "",
            "description": "",
            "description_tooltip": null,
            "layout": "IPY_MODEL_bcd0f3a2c9d349b6abc2c09c9c3da555",
            "max": 1,
            "min": 0,
            "orientation": "horizontal",
            "style": "IPY_MODEL_33af79fcc0414236a06f6268d00a9bac",
            "value": 1
          }
        },
        "c6eee08f26174ad69e6e14aa145f3050": {
          "model_module": "@jupyter-widgets/base",
          "model_name": "LayoutModel",
          "model_module_version": "1.2.0",
          "state": {
            "_model_module": "@jupyter-widgets/base",
            "_model_module_version": "1.2.0",
            "_model_name": "LayoutModel",
            "_view_count": null,
            "_view_module": "@jupyter-widgets/base",
            "_view_module_version": "1.2.0",
            "_view_name": "LayoutView",
            "align_content": null,
            "align_items": null,
            "align_self": null,
            "border": null,
            "bottom": null,
            "display": null,
            "flex": null,
            "flex_flow": null,
            "grid_area": null,
            "grid_auto_columns": null,
            "grid_auto_flow": null,
            "grid_auto_rows": null,
            "grid_column": null,
            "grid_gap": null,
            "grid_row": null,
            "grid_template_areas": null,
            "grid_template_columns": null,
            "grid_template_rows": null,
            "height": null,
            "justify_content": null,
            "justify_items": null,
            "left": null,
            "margin": null,
            "max_height": null,
            "max_width": null,
            "min_height": null,
            "min_width": null,
            "object_fit": null,
            "object_position": null,
            "order": null,
            "overflow": null,
            "overflow_x": null,
            "overflow_y": null,
            "padding": null,
            "right": null,
            "top": null,
            "visibility": null,
            "width": null
          }
        },
        "c2ca1b6415ea4cebb1da47c7d94cfdcf": {
          "model_module": "@jupyter-widgets/base",
          "model_name": "LayoutModel",
          "model_module_version": "1.2.0",
          "state": {
            "_model_module": "@jupyter-widgets/base",
            "_model_module_version": "1.2.0",
            "_model_name": "LayoutModel",
            "_view_count": null,
            "_view_module": "@jupyter-widgets/base",
            "_view_module_version": "1.2.0",
            "_view_name": "LayoutView",
            "align_content": null,
            "align_items": null,
            "align_self": null,
            "border": null,
            "bottom": null,
            "display": null,
            "flex": null,
            "flex_flow": null,
            "grid_area": null,
            "grid_auto_columns": null,
            "grid_auto_flow": null,
            "grid_auto_rows": null,
            "grid_column": null,
            "grid_gap": null,
            "grid_row": null,
            "grid_template_areas": null,
            "grid_template_columns": null,
            "grid_template_rows": null,
            "height": null,
            "justify_content": null,
            "justify_items": null,
            "left": null,
            "margin": null,
            "max_height": null,
            "max_width": null,
            "min_height": null,
            "min_width": null,
            "object_fit": null,
            "object_position": null,
            "order": null,
            "overflow": null,
            "overflow_x": null,
            "overflow_y": null,
            "padding": null,
            "right": null,
            "top": null,
            "visibility": null,
            "width": null
          }
        },
        "23eebe3c62174324a7de6d77ddbf8dbe": {
          "model_module": "@jupyter-widgets/controls",
          "model_name": "DescriptionStyleModel",
          "model_module_version": "1.5.0",
          "state": {
            "_model_module": "@jupyter-widgets/controls",
            "_model_module_version": "1.5.0",
            "_model_name": "DescriptionStyleModel",
            "_view_count": null,
            "_view_module": "@jupyter-widgets/base",
            "_view_module_version": "1.2.0",
            "_view_name": "StyleView",
            "description_width": ""
          }
        },
        "bcd0f3a2c9d349b6abc2c09c9c3da555": {
          "model_module": "@jupyter-widgets/base",
          "model_name": "LayoutModel",
          "model_module_version": "1.2.0",
          "state": {
            "_model_module": "@jupyter-widgets/base",
            "_model_module_version": "1.2.0",
            "_model_name": "LayoutModel",
            "_view_count": null,
            "_view_module": "@jupyter-widgets/base",
            "_view_module_version": "1.2.0",
            "_view_name": "LayoutView",
            "align_content": null,
            "align_items": null,
            "align_self": null,
            "border": null,
            "bottom": null,
            "display": null,
            "flex": null,
            "flex_flow": null,
            "grid_area": null,
            "grid_auto_columns": null,
            "grid_auto_flow": null,
            "grid_auto_rows": null,
            "grid_column": null,
            "grid_gap": null,
            "grid_row": null,
            "grid_template_areas": null,
            "grid_template_columns": null,
            "grid_template_rows": null,
            "height": null,
            "justify_content": null,
            "justify_items": null,
            "left": null,
            "margin": null,
            "max_height": null,
            "max_width": null,
            "min_height": null,
            "min_width": null,
            "object_fit": null,
            "object_position": null,
            "order": null,
            "overflow": null,
            "overflow_x": null,
            "overflow_y": null,
            "padding": null,
            "right": null,
            "top": null,
            "visibility": null,
            "width": null
          }
        },
        "33af79fcc0414236a06f6268d00a9bac": {
          "model_module": "@jupyter-widgets/controls",
          "model_name": "ProgressStyleModel",
          "model_module_version": "1.5.0",
          "state": {
            "_model_module": "@jupyter-widgets/controls",
            "_model_module_version": "1.5.0",
            "_model_name": "ProgressStyleModel",
            "_view_count": null,
            "_view_module": "@jupyter-widgets/base",
            "_view_module_version": "1.2.0",
            "_view_name": "StyleView",
            "bar_color": null,
            "description_width": ""
          }
        },
        "36ba07811abc43c0a69362bd78452170": {
          "model_module": "@jupyter-widgets/controls",
          "model_name": "VBoxModel",
          "model_module_version": "1.5.0",
          "state": {
            "_dom_classes": [],
            "_model_module": "@jupyter-widgets/controls",
            "_model_module_version": "1.5.0",
            "_model_name": "VBoxModel",
            "_view_count": null,
            "_view_module": "@jupyter-widgets/controls",
            "_view_module_version": "1.5.0",
            "_view_name": "VBoxView",
            "box_style": "",
            "children": [
              "IPY_MODEL_61be67fe7bae4bf19ff4204e99674489",
              "IPY_MODEL_ef2555b18a994a7f8374f5577e68868e"
            ],
            "layout": "IPY_MODEL_33a5139cd7b643728592b7a1a6d5cc37"
          }
        },
        "61be67fe7bae4bf19ff4204e99674489": {
          "model_module": "@jupyter-widgets/controls",
          "model_name": "LabelModel",
          "model_module_version": "1.5.0",
          "state": {
            "_dom_classes": [],
            "_model_module": "@jupyter-widgets/controls",
            "_model_module_version": "1.5.0",
            "_model_name": "LabelModel",
            "_view_count": null,
            "_view_module": "@jupyter-widgets/controls",
            "_view_module_version": "1.5.0",
            "_view_name": "LabelView",
            "description": "",
            "description_tooltip": null,
            "layout": "IPY_MODEL_020d138533b0445db11c134eb2a970e1",
            "placeholder": "​",
            "style": "IPY_MODEL_2c9b1ad2472d4738aae081f8c653d6ea",
            "value": "319.415 MB of 319.415 MB uploaded (10.253 MB deduped)\r"
          }
        },
        "ef2555b18a994a7f8374f5577e68868e": {
          "model_module": "@jupyter-widgets/controls",
          "model_name": "FloatProgressModel",
          "model_module_version": "1.5.0",
          "state": {
            "_dom_classes": [],
            "_model_module": "@jupyter-widgets/controls",
            "_model_module_version": "1.5.0",
            "_model_name": "FloatProgressModel",
            "_view_count": null,
            "_view_module": "@jupyter-widgets/controls",
            "_view_module_version": "1.5.0",
            "_view_name": "ProgressView",
            "bar_style": "",
            "description": "",
            "description_tooltip": null,
            "layout": "IPY_MODEL_2514715f98f3427ca36319362b62f2c7",
            "max": 1,
            "min": 0,
            "orientation": "horizontal",
            "style": "IPY_MODEL_28c1188c0fa14f5785712f26908a70a9",
            "value": 1
          }
        },
        "33a5139cd7b643728592b7a1a6d5cc37": {
          "model_module": "@jupyter-widgets/base",
          "model_name": "LayoutModel",
          "model_module_version": "1.2.0",
          "state": {
            "_model_module": "@jupyter-widgets/base",
            "_model_module_version": "1.2.0",
            "_model_name": "LayoutModel",
            "_view_count": null,
            "_view_module": "@jupyter-widgets/base",
            "_view_module_version": "1.2.0",
            "_view_name": "LayoutView",
            "align_content": null,
            "align_items": null,
            "align_self": null,
            "border": null,
            "bottom": null,
            "display": null,
            "flex": null,
            "flex_flow": null,
            "grid_area": null,
            "grid_auto_columns": null,
            "grid_auto_flow": null,
            "grid_auto_rows": null,
            "grid_column": null,
            "grid_gap": null,
            "grid_row": null,
            "grid_template_areas": null,
            "grid_template_columns": null,
            "grid_template_rows": null,
            "height": null,
            "justify_content": null,
            "justify_items": null,
            "left": null,
            "margin": null,
            "max_height": null,
            "max_width": null,
            "min_height": null,
            "min_width": null,
            "object_fit": null,
            "object_position": null,
            "order": null,
            "overflow": null,
            "overflow_x": null,
            "overflow_y": null,
            "padding": null,
            "right": null,
            "top": null,
            "visibility": null,
            "width": null
          }
        },
        "020d138533b0445db11c134eb2a970e1": {
          "model_module": "@jupyter-widgets/base",
          "model_name": "LayoutModel",
          "model_module_version": "1.2.0",
          "state": {
            "_model_module": "@jupyter-widgets/base",
            "_model_module_version": "1.2.0",
            "_model_name": "LayoutModel",
            "_view_count": null,
            "_view_module": "@jupyter-widgets/base",
            "_view_module_version": "1.2.0",
            "_view_name": "LayoutView",
            "align_content": null,
            "align_items": null,
            "align_self": null,
            "border": null,
            "bottom": null,
            "display": null,
            "flex": null,
            "flex_flow": null,
            "grid_area": null,
            "grid_auto_columns": null,
            "grid_auto_flow": null,
            "grid_auto_rows": null,
            "grid_column": null,
            "grid_gap": null,
            "grid_row": null,
            "grid_template_areas": null,
            "grid_template_columns": null,
            "grid_template_rows": null,
            "height": null,
            "justify_content": null,
            "justify_items": null,
            "left": null,
            "margin": null,
            "max_height": null,
            "max_width": null,
            "min_height": null,
            "min_width": null,
            "object_fit": null,
            "object_position": null,
            "order": null,
            "overflow": null,
            "overflow_x": null,
            "overflow_y": null,
            "padding": null,
            "right": null,
            "top": null,
            "visibility": null,
            "width": null
          }
        },
        "2c9b1ad2472d4738aae081f8c653d6ea": {
          "model_module": "@jupyter-widgets/controls",
          "model_name": "DescriptionStyleModel",
          "model_module_version": "1.5.0",
          "state": {
            "_model_module": "@jupyter-widgets/controls",
            "_model_module_version": "1.5.0",
            "_model_name": "DescriptionStyleModel",
            "_view_count": null,
            "_view_module": "@jupyter-widgets/base",
            "_view_module_version": "1.2.0",
            "_view_name": "StyleView",
            "description_width": ""
          }
        },
        "2514715f98f3427ca36319362b62f2c7": {
          "model_module": "@jupyter-widgets/base",
          "model_name": "LayoutModel",
          "model_module_version": "1.2.0",
          "state": {
            "_model_module": "@jupyter-widgets/base",
            "_model_module_version": "1.2.0",
            "_model_name": "LayoutModel",
            "_view_count": null,
            "_view_module": "@jupyter-widgets/base",
            "_view_module_version": "1.2.0",
            "_view_name": "LayoutView",
            "align_content": null,
            "align_items": null,
            "align_self": null,
            "border": null,
            "bottom": null,
            "display": null,
            "flex": null,
            "flex_flow": null,
            "grid_area": null,
            "grid_auto_columns": null,
            "grid_auto_flow": null,
            "grid_auto_rows": null,
            "grid_column": null,
            "grid_gap": null,
            "grid_row": null,
            "grid_template_areas": null,
            "grid_template_columns": null,
            "grid_template_rows": null,
            "height": null,
            "justify_content": null,
            "justify_items": null,
            "left": null,
            "margin": null,
            "max_height": null,
            "max_width": null,
            "min_height": null,
            "min_width": null,
            "object_fit": null,
            "object_position": null,
            "order": null,
            "overflow": null,
            "overflow_x": null,
            "overflow_y": null,
            "padding": null,
            "right": null,
            "top": null,
            "visibility": null,
            "width": null
          }
        },
        "28c1188c0fa14f5785712f26908a70a9": {
          "model_module": "@jupyter-widgets/controls",
          "model_name": "ProgressStyleModel",
          "model_module_version": "1.5.0",
          "state": {
            "_model_module": "@jupyter-widgets/controls",
            "_model_module_version": "1.5.0",
            "_model_name": "ProgressStyleModel",
            "_view_count": null,
            "_view_module": "@jupyter-widgets/base",
            "_view_module_version": "1.2.0",
            "_view_name": "StyleView",
            "bar_color": null,
            "description_width": ""
          }
        }
      }
    }
  },
  "nbformat": 4,
  "nbformat_minor": 0
}